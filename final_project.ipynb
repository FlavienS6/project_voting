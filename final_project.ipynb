{
 "cells": [
  {
   "cell_type": "code",
   "execution_count": 18,
   "id": "7054bcfb-47c6-46ee-9a44-f1d31165bb68",
   "metadata": {
    "tags": []
   },
   "outputs": [
    {
     "name": "stdout",
     "output_type": "stream",
     "text": [
      "   Unnamed: 0  year     state state_po county_name  county_fips        office  \\\n",
      "0       11161  2000  VIRGINIA       VA    ACCOMACK        51001  US PRESIDENT   \n",
      "1       11162  2000  VIRGINIA       VA    ACCOMACK        51001  US PRESIDENT   \n",
      "2       11163  2000  VIRGINIA       VA    ACCOMACK        51001  US PRESIDENT   \n",
      "3       11164  2000  VIRGINIA       VA    ACCOMACK        51001  US PRESIDENT   \n",
      "4       11165  2000  VIRGINIA       VA   ALBEMARLE        51003  US PRESIDENT   \n",
      "\n",
      "        candidate       party  candidatevotes  totalvotes   version   mode  \n",
      "0         AL GORE    DEMOCRAT            5092       11925  20220315  TOTAL  \n",
      "1  GEORGE W. BUSH  REPUBLICAN            6352       11925  20220315  TOTAL  \n",
      "2     RALPH NADER       GREEN             220       11925  20220315  TOTAL  \n",
      "3           OTHER       OTHER             261       11925  20220315  TOTAL  \n",
      "4         AL GORE    DEMOCRAT           16255       36846  20220315  TOTAL  \n",
      "Unnamed: 0        0\n",
      "year              0\n",
      "state             0\n",
      "state_po          0\n",
      "county_name       0\n",
      "county_fips       0\n",
      "office            0\n",
      "candidate         0\n",
      "party             0\n",
      "candidatevotes    0\n",
      "totalvotes        0\n",
      "version           0\n",
      "mode              0\n",
      "dtype: int64\n"
     ]
    }
   ],
   "source": [
    "import numpy as np\n",
    "import pandas as pd\n",
    "\n",
    "df = pd.read_csv(\"data/voting_VA.csv\")\n",
    "\n",
    "print(df.head())\n",
    "print(df.isnull().sum())"
   ]
  },
  {
   "cell_type": "code",
   "execution_count": 19,
   "id": "a20499d6-3341-4658-a7b7-ff49bc3dfc47",
   "metadata": {
    "tags": []
   },
   "outputs": [
    {
     "name": "stdout",
     "output_type": "stream",
     "text": [
      "['VIRGINIA']\n",
      "['VA']\n",
      "['US PRESIDENT']\n",
      "['TOTAL' 'ABSENTEE' 'ELECTION DAY' 'PROVISIONAL']\n"
     ]
    }
   ],
   "source": [
    "# Remove the 'Unnamed: 0' column\n",
    "df.drop('Unnamed: 0', axis=1, inplace=True)\n",
    "\n",
    "# Check unique values for certain columns to ensure consistency\n",
    "print(df['state'].unique())  # Should only contain \"VIRGINIA\"\n",
    "print(df['state_po'].unique())  # Should only contain \"VA\"\n",
    "print(df['office'].unique())  # Should only contain \"US PRESIDENT\"\n",
    "print(df['mode'].unique())  # Check if any action is needed"
   ]
  },
  {
   "cell_type": "code",
   "execution_count": 20,
   "id": "874afb6e-c5ee-43a6-b1ee-6e93e0283868",
   "metadata": {
    "tags": []
   },
   "outputs": [
    {
     "data": {
      "text/plain": [
       "0    TOTAL\n",
       "1    TOTAL\n",
       "2    TOTAL\n",
       "3    TOTAL\n",
       "4    TOTAL\n",
       "Name: mode, dtype: object"
      ]
     },
     "execution_count": 20,
     "metadata": {},
     "output_type": "execute_result"
    }
   ],
   "source": [
    "df['mode'].head()"
   ]
  },
  {
   "cell_type": "code",
   "execution_count": 21,
   "id": "e1d67170-3ebd-4533-aac7-da775ef97aa0",
   "metadata": {
    "tags": []
   },
   "outputs": [
    {
     "data": {
      "text/plain": [
       "0    TOTAL\n",
       "1    TOTAL\n",
       "2    TOTAL\n",
       "3    TOTAL\n",
       "4    TOTAL\n",
       "Name: mode, dtype: category\n",
       "Categories (4, object): ['ABSENTEE', 'ELECTION DAY', 'PROVISIONAL', 'TOTAL']"
      ]
     },
     "execution_count": 21,
     "metadata": {},
     "output_type": "execute_result"
    }
   ],
   "source": [
    "# If we're interested in overall voting results without differentiating between the modes:\n",
    "# df_total = df[df['mode'] == 'TOTAL']\n",
    "# df_total.to_csv(\"data/clean_total_voting_VA.csv\", index=False) \n",
    "\n",
    "# Otherwise, we can keep all of the modes of voting and use them as features\n",
    "# in our models\n",
    "df['mode'] = df['mode'].astype('category')\n",
    "df['mode'].head()"
   ]
  },
  {
   "cell_type": "code",
   "execution_count": 22,
   "id": "99ff999a-78c2-45d6-91ed-41206bb48c30",
   "metadata": {
    "tags": []
   },
   "outputs": [
    {
     "data": {
      "text/html": [
       "<div>\n",
       "<style scoped>\n",
       "    .dataframe tbody tr th:only-of-type {\n",
       "        vertical-align: middle;\n",
       "    }\n",
       "\n",
       "    .dataframe tbody tr th {\n",
       "        vertical-align: top;\n",
       "    }\n",
       "\n",
       "    .dataframe thead th {\n",
       "        text-align: right;\n",
       "    }\n",
       "</style>\n",
       "<table border=\"1\" class=\"dataframe\">\n",
       "  <thead>\n",
       "    <tr style=\"text-align: right;\">\n",
       "      <th></th>\n",
       "      <th>year</th>\n",
       "      <th>county_name</th>\n",
       "      <th>county_fips</th>\n",
       "      <th>candidate</th>\n",
       "      <th>party</th>\n",
       "      <th>candidatevotes</th>\n",
       "      <th>totalvotes</th>\n",
       "    </tr>\n",
       "  </thead>\n",
       "  <tbody>\n",
       "    <tr>\n",
       "      <th>0</th>\n",
       "      <td>2000</td>\n",
       "      <td>ACCOMACK</td>\n",
       "      <td>51001</td>\n",
       "      <td>AL GORE</td>\n",
       "      <td>DEMOCRAT</td>\n",
       "      <td>5092</td>\n",
       "      <td>11925</td>\n",
       "    </tr>\n",
       "    <tr>\n",
       "      <th>1</th>\n",
       "      <td>2000</td>\n",
       "      <td>ACCOMACK</td>\n",
       "      <td>51001</td>\n",
       "      <td>GEORGE W. BUSH</td>\n",
       "      <td>REPUBLICAN</td>\n",
       "      <td>6352</td>\n",
       "      <td>11925</td>\n",
       "    </tr>\n",
       "    <tr>\n",
       "      <th>2</th>\n",
       "      <td>2000</td>\n",
       "      <td>ACCOMACK</td>\n",
       "      <td>51001</td>\n",
       "      <td>OTHER</td>\n",
       "      <td>OTHER</td>\n",
       "      <td>261</td>\n",
       "      <td>11925</td>\n",
       "    </tr>\n",
       "    <tr>\n",
       "      <th>3</th>\n",
       "      <td>2000</td>\n",
       "      <td>ACCOMACK</td>\n",
       "      <td>51001</td>\n",
       "      <td>RALPH NADER</td>\n",
       "      <td>GREEN</td>\n",
       "      <td>220</td>\n",
       "      <td>11925</td>\n",
       "    </tr>\n",
       "    <tr>\n",
       "      <th>4</th>\n",
       "      <td>2000</td>\n",
       "      <td>ALBEMARLE</td>\n",
       "      <td>51003</td>\n",
       "      <td>AL GORE</td>\n",
       "      <td>DEMOCRAT</td>\n",
       "      <td>16255</td>\n",
       "      <td>36846</td>\n",
       "    </tr>\n",
       "  </tbody>\n",
       "</table>\n",
       "</div>"
      ],
      "text/plain": [
       "   year county_name  county_fips       candidate       party  candidatevotes  \\\n",
       "0  2000    ACCOMACK        51001         AL GORE    DEMOCRAT            5092   \n",
       "1  2000    ACCOMACK        51001  GEORGE W. BUSH  REPUBLICAN            6352   \n",
       "2  2000    ACCOMACK        51001           OTHER       OTHER             261   \n",
       "3  2000    ACCOMACK        51001     RALPH NADER       GREEN             220   \n",
       "4  2000   ALBEMARLE        51003         AL GORE    DEMOCRAT           16255   \n",
       "\n",
       "   totalvotes  \n",
       "0       11925  \n",
       "1       11925  \n",
       "2       11925  \n",
       "3       11925  \n",
       "4       36846  "
      ]
     },
     "execution_count": 22,
     "metadata": {},
     "output_type": "execute_result"
    }
   ],
   "source": [
    "# Provides a dataframe where the modes aggregates all individual records across different voting modes \n",
    "# into a single record per candidate per county per election year. \n",
    "\n",
    "df_aggregated = df.groupby(['year', 'county_name', 'county_fips', 'candidate', 'party']).agg({\n",
    "    'candidatevotes': 'sum',\n",
    "    'totalvotes': 'max'  # Assuming totalvotes is the same across all modes, otherwise sum might be needed\n",
    "}).reset_index()\n",
    "\n",
    "df_aggregated.head()"
   ]
  },
  {
   "cell_type": "code",
   "execution_count": 23,
   "id": "df1ee438-4ca1-4831-9bb3-9c4534dd87bc",
   "metadata": {
    "tags": []
   },
   "outputs": [
    {
     "name": "stdout",
     "output_type": "stream",
     "text": [
      "           County  Population2022   FIPS  District                   N1  \\\n",
      "0        Accomack           33191  51001         2       Northumberland   \n",
      "1       Albemarle          114534  51003         5  CharlottesvilleCity   \n",
      "2  AlexandriaCity          155525  51510         8              Fairfax   \n",
      "3       Alleghany           14835  51005         6                Craig   \n",
      "4          Amelia           13455  51007         5         PrinceEdward   \n",
      "\n",
      "           N2         N3             N4           N5        N6      N7  \\\n",
      "0   Lancaster  Middlesex        Mathews  Northampton       NaN     NaN   \n",
      "1      Nelson    Augusta     Rockingham       Greene    Orange  Louisa   \n",
      "2   Arlington        NaN            NaN          NaN       NaN     NaN   \n",
      "3        Bath  Botetourt  CovingtonCity   Rockbridge       NaN     NaN   \n",
      "4  Cumberland   Powhatan   Chesterfield    Dinwiddie  Nottoway     NaN   \n",
      "\n",
      "         N8          N9     N10  N11  N12  \n",
      "0       NaN         NaN     NaN  NaN  NaN  \n",
      "1  Fluvanna  Buckingham  Nelson  NaN  NaN  \n",
      "2       NaN         NaN     NaN  NaN  NaN  \n",
      "3       NaN         NaN     NaN  NaN  NaN  \n",
      "4       NaN         NaN     NaN  NaN  NaN  \n",
      "County              0\n",
      "Population2022      0\n",
      "FIPS                0\n",
      "District            0\n",
      "N1                  0\n",
      "N2                 14\n",
      "N3                 29\n",
      "N4                 34\n",
      "N5                 50\n",
      "N6                 74\n",
      "N7                100\n",
      "N8                116\n",
      "N9                123\n",
      "N10               129\n",
      "N11               132\n",
      "N12               132\n",
      "dtype: int64\n"
     ]
    }
   ],
   "source": [
    "# county_adjacencies.csv cleaning\n",
    "\n",
    "df2 = pd.read_csv(\"data/county_adjacencies.csv\")\n",
    "\n",
    "print(df2.head())\n",
    "print(df2.isnull().sum())"
   ]
  },
  {
   "cell_type": "code",
   "execution_count": 24,
   "id": "12b0d102-734c-4102-af95-9d5e4dffc1b9",
   "metadata": {
    "tags": []
   },
   "outputs": [
    {
     "name": "stdout",
     "output_type": "stream",
     "text": [
      "County            0\n",
      "Population2022    0\n",
      "FIPS              0\n",
      "District          0\n",
      "N1                0\n",
      "N2                0\n",
      "N3                0\n",
      "N4                0\n",
      "N5                0\n",
      "N6                0\n",
      "N7                0\n",
      "N8                0\n",
      "N9                0\n",
      "N10               0\n",
      "N11               0\n",
      "N12               0\n",
      "dtype: int64\n"
     ]
    }
   ],
   "source": [
    "# Lots of NaNs for the adjacent neighborhoods\n",
    "\n",
    "# Fill missing neighbor columns with \"None\"\n",
    "neighbor_columns = ['N2', 'N3', 'N4', 'N5', 'N6', 'N7', 'N8', 'N9', 'N10', 'N11', 'N12']\n",
    "df2[neighbor_columns] = df2[neighbor_columns].fillna(\"None\")\n",
    "\n",
    "print(df2.isnull().sum())"
   ]
  },
  {
   "cell_type": "code",
   "execution_count": 25,
   "id": "1e53c0fe-e081-48a7-b7ed-cc2bc7a0a7a9",
   "metadata": {
    "tags": []
   },
   "outputs": [],
   "source": [
    "# save this dataset as a csv\n",
    "# df2.to_csv(\"data/clean_county_adjacencies.csv\", index=False)"
   ]
  }
 ],
 "metadata": {
  "kernelspec": {
   "display_name": "Python 3 (ipykernel)",
   "language": "python",
   "name": "python3"
  },
  "language_info": {
   "codemirror_mode": {
    "name": "ipython",
    "version": 3
   },
   "file_extension": ".py",
   "mimetype": "text/x-python",
   "name": "python",
   "nbconvert_exporter": "python",
   "pygments_lexer": "ipython3",
   "version": "3.11.4"
  }
 },
 "nbformat": 4,
 "nbformat_minor": 5
}
