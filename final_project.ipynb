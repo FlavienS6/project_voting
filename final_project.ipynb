{
 "cells": [
  {
   "cell_type": "code",
   "execution_count": 1,
   "id": "7054bcfb-47c6-46ee-9a44-f1d31165bb68",
   "metadata": {
    "tags": []
   },
   "outputs": [
    {
     "name": "stdout",
     "output_type": "stream",
     "text": [
      "   Unnamed: 0  year     state state_po county_name  county_fips        office  \\\n",
      "0       11161  2000  VIRGINIA       VA    ACCOMACK        51001  US PRESIDENT   \n",
      "1       11162  2000  VIRGINIA       VA    ACCOMACK        51001  US PRESIDENT   \n",
      "2       11163  2000  VIRGINIA       VA    ACCOMACK        51001  US PRESIDENT   \n",
      "3       11164  2000  VIRGINIA       VA    ACCOMACK        51001  US PRESIDENT   \n",
      "4       11165  2000  VIRGINIA       VA   ALBEMARLE        51003  US PRESIDENT   \n",
      "\n",
      "        candidate       party  candidatevotes  totalvotes   version   mode  \n",
      "0         AL GORE    DEMOCRAT            5092       11925  20220315  TOTAL  \n",
      "1  GEORGE W. BUSH  REPUBLICAN            6352       11925  20220315  TOTAL  \n",
      "2     RALPH NADER       GREEN             220       11925  20220315  TOTAL  \n",
      "3           OTHER       OTHER             261       11925  20220315  TOTAL  \n",
      "4         AL GORE    DEMOCRAT           16255       36846  20220315  TOTAL  \n",
      "Unnamed: 0        0\n",
      "year              0\n",
      "state             0\n",
      "state_po          0\n",
      "county_name       0\n",
      "county_fips       0\n",
      "office            0\n",
      "candidate         0\n",
      "party             0\n",
      "candidatevotes    0\n",
      "totalvotes        0\n",
      "version           0\n",
      "mode              0\n",
      "dtype: int64\n"
     ]
    }
   ],
   "source": [
    "import numpy as np\n",
    "import pandas as pd\n",
    "\n",
    "df = pd.read_csv(\"data/voting_VA.csv\")\n",
    "\n",
    "print(df.head())\n",
    "print(df.isnull().sum())"
   ]
  },
  {
   "cell_type": "code",
   "execution_count": 2,
   "id": "a20499d6-3341-4658-a7b7-ff49bc3dfc47",
   "metadata": {
    "tags": []
   },
   "outputs": [
    {
     "name": "stdout",
     "output_type": "stream",
     "text": [
      "['VIRGINIA']\n",
      "['VA']\n",
      "['US PRESIDENT']\n",
      "['TOTAL' 'ABSENTEE' 'ELECTION DAY' 'PROVISIONAL']\n"
     ]
    }
   ],
   "source": [
    "# Remove the 'Unnamed: 0' column\n",
    "df.drop('Unnamed: 0', axis=1, inplace=True)\n",
    "\n",
    "# Check unique values for certain columns to ensure consistency\n",
    "print(df['state'].unique())  # Should only contain \"VIRGINIA\"\n",
    "print(df['state_po'].unique())  # Should only contain \"VA\"\n",
    "print(df['office'].unique())  # Should only contain \"US PRESIDENT\"\n",
    "print(df['mode'].unique())  # Check if any action is needed"
   ]
  },
  {
   "cell_type": "code",
   "execution_count": 3,
   "id": "874afb6e-c5ee-43a6-b1ee-6e93e0283868",
   "metadata": {
    "tags": []
   },
   "outputs": [
    {
     "data": {
      "text/plain": [
       "0    TOTAL\n",
       "1    TOTAL\n",
       "2    TOTAL\n",
       "3    TOTAL\n",
       "4    TOTAL\n",
       "Name: mode, dtype: object"
      ]
     },
     "execution_count": 3,
     "metadata": {},
     "output_type": "execute_result"
    }
   ],
   "source": [
    "df['mode'].head()"
   ]
  },
  {
   "cell_type": "code",
   "execution_count": 4,
   "id": "e1d67170-3ebd-4533-aac7-da775ef97aa0",
   "metadata": {
    "tags": []
   },
   "outputs": [
    {
     "data": {
      "text/plain": [
       "0    TOTAL\n",
       "1    TOTAL\n",
       "2    TOTAL\n",
       "3    TOTAL\n",
       "4    TOTAL\n",
       "Name: mode, dtype: category\n",
       "Categories (4, object): ['ABSENTEE', 'ELECTION DAY', 'PROVISIONAL', 'TOTAL']"
      ]
     },
     "execution_count": 4,
     "metadata": {},
     "output_type": "execute_result"
    }
   ],
   "source": [
    "# If we're interested in overall voting results without differentiating between the modes:\n",
    "# df_total = df[df['mode'] == 'TOTAL']\n",
    "# df_total.to_csv(\"data/clean_total_voting_VA.csv\", index=False) \n",
    "\n",
    "# Otherwise, we can keep all of the modes of voting and use them as features\n",
    "# in our models\n",
    "df['mode'] = df['mode'].astype('category')\n",
    "df['mode'].head()"
   ]
  },
  {
   "cell_type": "code",
   "execution_count": 5,
   "id": "99ff999a-78c2-45d6-91ed-41206bb48c30",
   "metadata": {
    "tags": []
   },
   "outputs": [
    {
     "data": {
      "text/html": [
       "<div>\n",
       "<style scoped>\n",
       "    .dataframe tbody tr th:only-of-type {\n",
       "        vertical-align: middle;\n",
       "    }\n",
       "\n",
       "    .dataframe tbody tr th {\n",
       "        vertical-align: top;\n",
       "    }\n",
       "\n",
       "    .dataframe thead th {\n",
       "        text-align: right;\n",
       "    }\n",
       "</style>\n",
       "<table border=\"1\" class=\"dataframe\">\n",
       "  <thead>\n",
       "    <tr style=\"text-align: right;\">\n",
       "      <th></th>\n",
       "      <th>year</th>\n",
       "      <th>county_name</th>\n",
       "      <th>county_fips</th>\n",
       "      <th>candidate</th>\n",
       "      <th>party</th>\n",
       "      <th>candidatevotes</th>\n",
       "      <th>totalvotes</th>\n",
       "    </tr>\n",
       "  </thead>\n",
       "  <tbody>\n",
       "    <tr>\n",
       "      <th>0</th>\n",
       "      <td>2000</td>\n",
       "      <td>ACCOMACK</td>\n",
       "      <td>51001</td>\n",
       "      <td>AL GORE</td>\n",
       "      <td>DEMOCRAT</td>\n",
       "      <td>5092</td>\n",
       "      <td>11925</td>\n",
       "    </tr>\n",
       "    <tr>\n",
       "      <th>1</th>\n",
       "      <td>2000</td>\n",
       "      <td>ACCOMACK</td>\n",
       "      <td>51001</td>\n",
       "      <td>GEORGE W. BUSH</td>\n",
       "      <td>REPUBLICAN</td>\n",
       "      <td>6352</td>\n",
       "      <td>11925</td>\n",
       "    </tr>\n",
       "    <tr>\n",
       "      <th>2</th>\n",
       "      <td>2000</td>\n",
       "      <td>ACCOMACK</td>\n",
       "      <td>51001</td>\n",
       "      <td>OTHER</td>\n",
       "      <td>OTHER</td>\n",
       "      <td>261</td>\n",
       "      <td>11925</td>\n",
       "    </tr>\n",
       "    <tr>\n",
       "      <th>3</th>\n",
       "      <td>2000</td>\n",
       "      <td>ACCOMACK</td>\n",
       "      <td>51001</td>\n",
       "      <td>RALPH NADER</td>\n",
       "      <td>GREEN</td>\n",
       "      <td>220</td>\n",
       "      <td>11925</td>\n",
       "    </tr>\n",
       "    <tr>\n",
       "      <th>4</th>\n",
       "      <td>2000</td>\n",
       "      <td>ALBEMARLE</td>\n",
       "      <td>51003</td>\n",
       "      <td>AL GORE</td>\n",
       "      <td>DEMOCRAT</td>\n",
       "      <td>16255</td>\n",
       "      <td>36846</td>\n",
       "    </tr>\n",
       "  </tbody>\n",
       "</table>\n",
       "</div>"
      ],
      "text/plain": [
       "   year county_name  county_fips       candidate       party  candidatevotes  \\\n",
       "0  2000    ACCOMACK        51001         AL GORE    DEMOCRAT            5092   \n",
       "1  2000    ACCOMACK        51001  GEORGE W. BUSH  REPUBLICAN            6352   \n",
       "2  2000    ACCOMACK        51001           OTHER       OTHER             261   \n",
       "3  2000    ACCOMACK        51001     RALPH NADER       GREEN             220   \n",
       "4  2000   ALBEMARLE        51003         AL GORE    DEMOCRAT           16255   \n",
       "\n",
       "   totalvotes  \n",
       "0       11925  \n",
       "1       11925  \n",
       "2       11925  \n",
       "3       11925  \n",
       "4       36846  "
      ]
     },
     "execution_count": 5,
     "metadata": {},
     "output_type": "execute_result"
    }
   ],
   "source": [
    "# Provides a dataframe where the modes aggregates all individual records across different voting modes \n",
    "# into a single record per candidate per county per election year. \n",
    "\n",
    "df_aggregated = df.groupby(['year', 'county_name', 'county_fips', 'candidate', 'party']).agg({\n",
    "    'candidatevotes': 'sum',\n",
    "    'totalvotes': 'max'  # Assuming totalvotes is the same across all modes, otherwise sum might be needed\n",
    "}).reset_index()\n",
    "\n",
    "df_aggregated.head()"
   ]
  },
  {
   "cell_type": "code",
   "execution_count": 6,
   "id": "61f88c43-1624-4b01-8857-642db8472e9f",
   "metadata": {
    "tags": []
   },
   "outputs": [
    {
     "data": {
      "text/html": [
       "<div>\n",
       "<style scoped>\n",
       "    .dataframe tbody tr th:only-of-type {\n",
       "        vertical-align: middle;\n",
       "    }\n",
       "\n",
       "    .dataframe tbody tr th {\n",
       "        vertical-align: top;\n",
       "    }\n",
       "\n",
       "    .dataframe thead th {\n",
       "        text-align: right;\n",
       "    }\n",
       "</style>\n",
       "<table border=\"1\" class=\"dataframe\">\n",
       "  <thead>\n",
       "    <tr style=\"text-align: right;\">\n",
       "      <th></th>\n",
       "      <th>year</th>\n",
       "      <th>county_name</th>\n",
       "      <th>county_fips</th>\n",
       "      <th>net_total</th>\n",
       "      <th>winner</th>\n",
       "    </tr>\n",
       "  </thead>\n",
       "  <tbody>\n",
       "    <tr>\n",
       "      <th>0</th>\n",
       "      <td>2000</td>\n",
       "      <td>ACCOMACK</td>\n",
       "      <td>51001</td>\n",
       "      <td>1260</td>\n",
       "      <td>REPUBLICAN</td>\n",
       "    </tr>\n",
       "    <tr>\n",
       "      <th>1</th>\n",
       "      <td>2000</td>\n",
       "      <td>ALBEMARLE</td>\n",
       "      <td>51003</td>\n",
       "      <td>2036</td>\n",
       "      <td>REPUBLICAN</td>\n",
       "    </tr>\n",
       "    <tr>\n",
       "      <th>2</th>\n",
       "      <td>2000</td>\n",
       "      <td>ALEXANDRIA</td>\n",
       "      <td>51510</td>\n",
       "      <td>-14590</td>\n",
       "      <td>DEMOCRAT</td>\n",
       "    </tr>\n",
       "    <tr>\n",
       "      <th>3</th>\n",
       "      <td>2000</td>\n",
       "      <td>ALLEGHANY</td>\n",
       "      <td>51005</td>\n",
       "      <td>594</td>\n",
       "      <td>REPUBLICAN</td>\n",
       "    </tr>\n",
       "    <tr>\n",
       "      <th>4</th>\n",
       "      <td>2000</td>\n",
       "      <td>AMELIA</td>\n",
       "      <td>51007</td>\n",
       "      <td>1193</td>\n",
       "      <td>REPUBLICAN</td>\n",
       "    </tr>\n",
       "  </tbody>\n",
       "</table>\n",
       "</div>"
      ],
      "text/plain": [
       "   year county_name  county_fips  net_total      winner\n",
       "0  2000    ACCOMACK        51001       1260  REPUBLICAN\n",
       "1  2000   ALBEMARLE        51003       2036  REPUBLICAN\n",
       "2  2000  ALEXANDRIA        51510     -14590    DEMOCRAT\n",
       "3  2000   ALLEGHANY        51005        594  REPUBLICAN\n",
       "4  2000      AMELIA        51007       1193  REPUBLICAN"
      ]
     },
     "execution_count": 6,
     "metadata": {},
     "output_type": "execute_result"
    }
   ],
   "source": [
    "import pandas as pd\n",
    "#removing candidates column (unimportant)\n",
    "df_real = df_aggregated.drop('candidate', axis=1)\n",
    "#removing third parties (also unimportant)\n",
    "df_real = df_real[~df_real['party'].isin(['OTHER', 'GREEN'])]\n",
    "#finding net total votes\n",
    "df_real['net_total'] = df_real.groupby(['year', 'county_name', 'county_fips', 'totalvotes'])['candidatevotes'].transform(lambda x: x.iloc[1] - x.iloc[0])\n",
    "\n",
    "# merging columns\n",
    "df_real = df_real.groupby(['year', 'county_name', 'county_fips', 'totalvotes', 'net_total']).agg({'party': ', '.join}).reset_index()\n",
    "df_real['winner'] = df_real['net_total'].apply(lambda x: 'REPUBLICAN' if x > 0 else 'DEMOCRAT')\n",
    "#dropping some more columns\n",
    "df_real = df_real.drop(['party', 'totalvotes'], axis=1)\n",
    "df_final = df_real[['year', 'county_name', 'county_fips','net_total', 'winner']]\n",
    "df_final.head()"
   ]
  },
  {
   "cell_type": "code",
   "execution_count": 7,
   "id": "cfa372fe-8fd6-4372-8df3-755e316175c0",
   "metadata": {
    "tags": []
   },
   "outputs": [
    {
     "name": "stdout",
     "output_type": "stream",
     "text": [
      "   year county_name county_fips  net_total      winner     AV0AA     B78AA  \\\n",
      "0  2000    ACCOMACK       51001       1260  REPUBLICAN   38305.0   38305.0   \n",
      "1  2004    ACCOMACK       51001      -2208    DEMOCRAT   38305.0   38305.0   \n",
      "2  2000   ALBEMARLE       51003       2036  REPUBLICAN   79236.0   79236.0   \n",
      "3  2004   ALBEMARLE       51003        899  REPUBLICAN   79236.0   79236.0   \n",
      "4  2000  ALEXANDRIA       51510     -14590    DEMOCRAT  128283.0  128283.0   \n",
      "\n",
      "     AV1AA    AV1AB    AT5AA  ...   A88AD    A88AE    AB2AA    BD5AA  \\\n",
      "0  18590.0  19715.0  36680.0  ...  3781.0   3195.0  34821.0  16309.0   \n",
      "1  18590.0  19715.0  36680.0  ...  3781.0   3195.0  34821.0  16309.0   \n",
      "2  38002.0  41234.0  73483.0  ...  5153.0  13401.0  63407.0  28852.0   \n",
      "3  38002.0  41234.0  73483.0  ...  5153.0  13401.0  63407.0  28852.0   \n",
      "4  61974.0  66309.0  95683.0  ...  6275.0  17685.0  67023.0  37645.0   \n",
      "\n",
      "      AX6AA    CL6AA    AX7AA     AX7AB  BV8AA   BV8AB  \n",
      "0   37715.0   6788.0   6788.0   30927.0  957.0  5291.0  \n",
      "1   37715.0   6788.0   6788.0   30927.0  957.0  5291.0  \n",
      "2   77661.0   5232.0   5232.0   72429.0  430.0  8756.0  \n",
      "3   77661.0   5232.0   5232.0   72429.0  430.0  8756.0  \n",
      "4  126409.0  11279.0  11279.0  115130.0  939.0  9547.0  \n",
      "\n",
      "[5 rows x 165 columns]\n"
     ]
    }
   ],
   "source": [
    "df_melt = pd.read_csv(\"data/df_melt.csv\")\n",
    "\n",
    "year_mapping = {\n",
    "    2000: 2000,\n",
    "    2004: 2000,\n",
    "    2008: 125,\n",
    "    2012: 125,\n",
    "    2016: 195,\n",
    "    2020: 195\n",
    "}\n",
    "df_final['melt_year'] = df_final['year'].map(year_mapping)\n",
    "\n",
    "# Convert columns to the same data type before merging\n",
    "df_final['melt_year'] = df_final['melt_year'].astype(str)\n",
    "df_final['county_fips'] = df_final['county_fips'].astype(str)\n",
    "df_melt['YEAR'] = df_melt['YEAR'].astype(str)\n",
    "df_melt['FIPS'] = df_melt['FIPS'].astype(str)\n",
    "\n",
    "merged_df = pd.merge(df_final, df_melt, left_on=['melt_year', 'county_fips'], right_on=['YEAR', 'FIPS'])\n",
    "\n",
    "columns_to_drop = ['YEAR', 'FIPS', 'melt_year']\n",
    "df_updated = merged_df.drop(columns=columns_to_drop)\n",
    "\n",
    "print(df_updated.head())"
   ]
  },
  {
   "cell_type": "code",
   "execution_count": 8,
   "id": "49e6f5dc-867d-4184-b39c-f87d95aa5511",
   "metadata": {
    "tags": []
   },
   "outputs": [],
   "source": [
    "df_updated = df_updated.drop(columns=['winner'])\n",
    "df_updated = pd.get_dummies(df_updated, columns=['county_name'])\n",
    "df_updated = df_updated.astype(float)\n"
   ]
  },
  {
   "cell_type": "code",
   "execution_count": null,
   "id": "059113a6-a68f-4d5c-a9dd-7377328c8439",
   "metadata": {
    "tags": []
   },
   "outputs": [
    {
     "name": "stdout",
     "output_type": "stream",
     "text": [
      "year                           0\n",
      "county_fips                    0\n",
      "net_total                      0\n",
      "AV0AA                          1\n",
      "B78AA                          1\n",
      "                              ..\n",
      "county_name_WINCHESTER         0\n",
      "county_name_WINCHESTER CITY    0\n",
      "county_name_WISE               0\n",
      "county_name_WYTHE              0\n",
      "county_name_YORK               0\n",
      "Length: 330, dtype: int64\n"
     ]
    },
    {
     "name": "stderr",
     "output_type": "stream",
     "text": [
      "/tmp/ipykernel_210037/2591003917.py:15: UserWarning: Tight layout not applied. tight_layout cannot make axes width small enough to accommodate all axes decorations\n",
      "  plt.tight_layout()  # Adjust subplots to fit into figure area.\n"
     ]
    }
   ],
   "source": [
    "# EDA\n",
    "\n",
    "import matplotlib.pyplot as plt\n",
    "import seaborn as sns\n",
    "from sklearn.preprocessing import MinMaxScaler\n",
    "\n",
    "df_eda = df_updated.copy(deep=True)\n",
    "\n",
    "\n",
    "# Check for missing values\n",
    "print(df_eda.isnull().sum())\n",
    "\n",
    "# Histograms for numeric data to understand distributions\n",
    "df_eda.hist(figsize=(12, 10), bins=20)\n",
    "plt.tight_layout()  # Adjust subplots to fit into figure area.\n",
    "plt.show()\n",
    "\n",
    "''' # Boxplots for numerical columns to visualize outliers\n",
    "numeric_cols = df_eda.select_dtypes(include=[np.number]).columns.tolist()\n",
    "fig, ax = plt.subplots(len(numeric_cols), 1, figsize=(10, len(numeric_cols)*4))\n",
    "for i, col in enumerate(numeric_cols):\n",
    "    sns.boxplot(x=col, data=df, ax=ax[i])\n",
    "    ax[i].set_title(f'Boxplot for {col}', fontsize=12)\n",
    "plt.tight_layout()\n",
    "plt.show()\n",
    "'''\n",
    "\n",
    "# Correlation matrix to explore potential relationships\n",
    "corr_matrix = df_eda.corr()\n",
    "plt.figure(figsize=(15, 12))\n",
    "sns.heatmap(corr_matrix, annot=True, cmap='coolwarm', fmt=\".2f\")\n",
    "plt.title('Correlation Matrix')\n",
    "plt.show()\n",
    "\n",
    "# Pairplot for selected features including the transformed net_total\n",
    "selected_features = [col for col in df_eda.columns if 'AV' in col][:5]  # example with AV columns\n",
    "sns.pairplot(df_eda[selected_features])\n",
    "plt.show()\n"
   ]
  },
  {
   "cell_type": "code",
   "execution_count": null,
   "id": "2291e1f7-f337-4969-ae15-96931bd0b11d",
   "metadata": {
    "tags": []
   },
   "outputs": [],
   "source": [
    "df_updated['net_total'] = np.arcsinh(df_updated['net_total'])\n",
    "scaler = MinMaxScaler()\n",
    "\n",
    "# Get the list of numeric columns excluding 'year' and 'county_fips'\n",
    "numeric_cols = df_updated.select_dtypes(include=[np.number]).columns.tolist()\n",
    "exclude_cols = ['year', 'county_fips']\n",
    "numeric_cols = [col for col in numeric_cols if col not in exclude_cols]\n",
    "\n",
    "df_updated[numeric_cols] = scaler.fit_transform(df_updated[numeric_cols])\n",
    "\n",
    "print(df_updated.head())\n",
    "\n",
    "df_2020 = df_updated[df_updated['year'] == 2020]\n",
    "df_total = df_updated[df_updated['year'] != 2020]\n",
    "df_2020.reset_index(drop=True, inplace=True)\n",
    "df_total.reset_index(drop=True, inplace=True)"
   ]
  },
  {
   "cell_type": "code",
   "execution_count": null,
   "id": "06182201-9f4f-4b1b-80d2-b13b2af00aeb",
   "metadata": {
    "tags": []
   },
   "outputs": [],
   "source": [
    "# Neural network time!\n",
    "import keras\n",
    "from keras.models import Sequential\n",
    "from keras.layers import Dense\n",
    "from sklearn.model_selection import train_test_split\n",
    "\n",
    "\n",
    "\n",
    "y = df_total['net_total'].astype(float)\n",
    "X = df_total.drop('net_total', axis=1).astype(float)\n",
    "\n",
    "X_train, X_test, y_train, y_test = train_test_split(X, y, test_size=0.2, random_state=100)\n",
    "\n",
    "net = Sequential()\n",
    "#Having 3 layers results in Loss: 218362592.0, Mean Absolute Error (MAE): 6693.912109375, Mean Squared Error (MSE): 218362592.0\n",
    "net.add(Dense(units=82, activation='relu', input_dim=X_train.shape[1]))\n",
    "#net.add(Dense(units=32, activation='relu'))\n",
    "net.add(Dense(units=1, activation='linear'))\n",
    "\n",
    "net.compile(loss='mean_squared_error', optimizer='adam', metrics=['mae', 'mse'])\n",
    "\n",
    "net.fit(X_train, y_train, epochs=25, verbose=1, batch_size=50)\n",
    "\n",
    "# use it to predict testing data\n",
    "evaluation = net.evaluate(X_test, y_test)\n",
    "\n",
    "# Extract the evaluation metrics\n",
    "loss = evaluation[0]\n",
    "mae = evaluation[1]\n",
    "mse = evaluation[2]\n",
    "print(\"Evaluation metrics:\")\n",
    "print(f\"Loss: {loss}\")\n",
    "print(f\"Mean Absolute Error (MAE): {mae}\")\n",
    "print(f\"Mean Squared Error (MSE): {mse}\")"
   ]
  },
  {
   "cell_type": "code",
   "execution_count": null,
   "id": "0ece0850-c42c-419b-9142-ed4dfb0cd25d",
   "metadata": {
    "tags": []
   },
   "outputs": [],
   "source": [
    "# Then use it to predict data from 2020 election since it's closest to current election\n",
    "test_2020 = df_2020.drop('net_total', axis=1)\n",
    "print(test_2020.head())\n",
    "predictions_2020 = net.predict(test_2020)\n",
    "\n",
    "# Sum all the predictions\n",
    "total_prediction = predictions_2020.sum()\n",
    "\n",
    "# Check if the total prediction is positive, negative, or zero\n",
    "if total_prediction > 0:\n",
    "    print(\"R wins by \"+ str(total_prediction))\n",
    "elif total_prediction < 0:\n",
    "    print(\"D wins by \"+ str(total_prediction))\n",
    "else:\n",
    "    print(\"Cannot make a prediction.\")"
   ]
  },
  {
   "cell_type": "code",
   "execution_count": null,
   "id": "2c937042-aa1d-4c7d-8aca-f552269654ac",
   "metadata": {
    "tags": []
   },
   "outputs": [],
   "source": [
    "#Then evaluate the actual accuracy of the prediction. \n",
    "evaluation_2020 = net.evaluate(df_2020.drop('net_total', axis=1), df_2020['net_total'])\n",
    "\n",
    "# Extract the evaluation metrics\n",
    "loss_2020 = evaluation_2020[0]\n",
    "mae_2020 = evaluation_2020[1]\n",
    "mse_2020 = evaluation_2020[2]\n",
    "print(\"Evaluation metrics on 2020 data:\")\n",
    "print(f\"Loss: {loss_2020}\")\n",
    "print(f\"Mean Absolute Error (MAE): {mae_2020}\")\n",
    "print(f\"Mean Squared Error (MSE): {mse_2020}\")\n"
   ]
  },
  {
   "cell_type": "code",
   "execution_count": null,
   "id": "ede995bd-09d9-4efe-98cc-b7554b73a88c",
   "metadata": {
    "tags": []
   },
   "outputs": [],
   "source": [
    "#Now for the linear regression:"
   ]
  },
  {
   "cell_type": "code",
   "execution_count": null,
   "id": "61319f9b-e36b-4150-b7c7-1ba7e41f7100",
   "metadata": {
    "tags": []
   },
   "outputs": [],
   "source": [
    "import pandas as pd\n",
    "df_lr = df_total.copy()\n",
    "print(df_lr.isna().sum())"
   ]
  },
  {
   "cell_type": "code",
   "execution_count": null,
   "id": "33ca97e8-0758-4b60-91dd-676807b9db52",
   "metadata": {
    "tags": []
   },
   "outputs": [],
   "source": [
    "import numpy as np\n",
    "import pandas as pd\n",
    "from sklearn.model_selection import train_test_split\n",
    "from sklearn.linear_model import LinearRegression\n",
    "from sklearn.metrics import mean_squared_error, r2_score\n",
    "from sklearn.impute import SimpleImputer\n",
    "\n",
    "print(df_lr.head())"
   ]
  },
  {
   "cell_type": "code",
   "execution_count": null,
   "id": "6a8a32ab-ed27-4669-b5a7-887fbc3a0d70",
   "metadata": {
    "tags": []
   },
   "outputs": [],
   "source": [
    "for column in df_lr.columns:\n",
    "    df_lr[f'missing_indicator_{column}'] = df_lr[column].isna().astype(int)\n",
    "df_lr.fillna(0, inplace=True)"
   ]
  },
  {
   "cell_type": "code",
   "execution_count": null,
   "id": "b5878c4d-a45e-4a59-b9aa-8ff51655e4f1",
   "metadata": {
    "tags": []
   },
   "outputs": [],
   "source": [
    "# Assuming df_total is prepared with necessary preprocessing\n",
    "y = df_lr['net_total'].astype(float)\n",
    "X = df_lr.drop('net_total', axis=1).astype(float)"
   ]
  },
  {
   "cell_type": "code",
   "execution_count": null,
   "id": "57bf8620-e398-440a-a152-c259dd56f28e",
   "metadata": {
    "tags": []
   },
   "outputs": [],
   "source": [
    "print(X.isna().sum())\n",
    "print(y.isna().sum())"
   ]
  },
  {
   "cell_type": "code",
   "execution_count": null,
   "id": "d810cc1c-a07e-4efc-a507-7f75e9ebbaaa",
   "metadata": {
    "tags": []
   },
   "outputs": [],
   "source": [
    "imputer = SimpleImputer(strategy='median')\n",
    "transformed_data = imputer.fit_transform(df_lr)\n",
    "df_lr = pd.DataFrame(transformed_data, columns=df_lr.columns)"
   ]
  },
  {
   "cell_type": "code",
   "execution_count": null,
   "id": "4f4a17cd-f4f3-4d27-8f4e-8755696fb77b",
   "metadata": {
    "tags": []
   },
   "outputs": [],
   "source": [
    "print(df_lr.head())"
   ]
  },
  {
   "cell_type": "code",
   "execution_count": null,
   "id": "53870edd-cdb2-4e38-8473-a28245feeb35",
   "metadata": {
    "tags": []
   },
   "outputs": [],
   "source": [
    "# Assuming df_total is prepared with necessary preprocessing\n",
    "y = df_lr[2].astype(float)\n",
    "X = df_lr.drop(2, axis=1).astype(float)"
   ]
  },
  {
   "cell_type": "code",
   "execution_count": null,
   "id": "2c1a7766-90bf-49c7-a490-f4cfbf22211d",
   "metadata": {
    "tags": []
   },
   "outputs": [],
   "source": [
    "print(df_lr.isna().sum())"
   ]
  },
  {
   "cell_type": "code",
   "execution_count": null,
   "id": "30fa11ae-fc68-4fdd-a479-b2e2bcbc2bf9",
   "metadata": {
    "tags": []
   },
   "outputs": [],
   "source": [
    "df_lr_cleaned = df_lr.dropna()"
   ]
  },
  {
   "cell_type": "code",
   "execution_count": null,
   "id": "043edf02-5d10-4f6b-a308-392bd049453c",
   "metadata": {
    "tags": []
   },
   "outputs": [],
   "source": [
    "print(df_lr.isna().sum())"
   ]
  },
  {
   "cell_type": "code",
   "execution_count": null,
   "id": "625c47e0-359b-4311-aabf-4b330a509cf2",
   "metadata": {
    "tags": []
   },
   "outputs": [],
   "source": [
    "# training and testing sets\n",
    "X_train, X_test, y_train, y_test = train_test_split(X, y, test_size=0.2, random_state=42)"
   ]
  },
  {
   "cell_type": "code",
   "execution_count": null,
   "id": "b5c6e95d-7781-482e-bd5a-603213c61d4f",
   "metadata": {
    "tags": []
   },
   "outputs": [],
   "source": [
    "# the lr model\n",
    "model = LinearRegression()"
   ]
  },
  {
   "cell_type": "code",
   "execution_count": null,
   "id": "b48ce1db-083c-45d8-8c98-45e7a3d84576",
   "metadata": {
    "tags": []
   },
   "outputs": [],
   "source": [
    "# fitting\n",
    "model.fit(X_train, y_train)"
   ]
  },
  {
   "cell_type": "code",
   "execution_count": null,
   "id": "ebd694f9-1ae9-4231-8601-b4b96361c991",
   "metadata": {
    "tags": []
   },
   "outputs": [],
   "source": [
    "y_pred = model.predict(X_test)"
   ]
  },
  {
   "cell_type": "code",
   "execution_count": null,
   "id": "c048f9cb-1614-44a3-a8f9-f6f0b2b48116",
   "metadata": {
    "tags": []
   },
   "outputs": [],
   "source": [
    "print(\"Model Prediction: \" , y_pred)"
   ]
  },
  {
   "cell_type": "code",
   "execution_count": null,
   "id": "01a96a82-7fb7-4114-929f-5a923e05384e",
   "metadata": {
    "tags": []
   },
   "outputs": [],
   "source": [
    "import matplotlib.pyplot as plt\n",
    "\n",
    "plt.figure(figsize=(10, 6))\n",
    "plt.scatter(y_test, y_pred, alpha=0.5)\n",
    "plt.plot([y.min(), y.max()], [y.min(), y.max()], 'k--', lw=4)  # Line for perfect predictions\n",
    "plt.xlabel('Actual')\n",
    "plt.ylabel('Predicted')\n",
    "plt.title('Actual vs. Predicted')\n",
    "plt.show()"
   ]
  },
  {
   "cell_type": "code",
   "execution_count": null,
   "id": "1f60c0b1-b098-4843-91db-02d383203005",
   "metadata": {
    "tags": []
   },
   "outputs": [],
   "source": [
    "# evaluating model accuracy\n",
    "mse = mean_squared_error(y_test, y_pred)\n",
    "r2 = r2_score(y_test, y_pred)\n",
    "\n",
    "print(f\"Mean Squared Error: {mse}\")\n",
    "print(f\"R^2 Score: {r2}\")"
   ]
  },
  {
   "cell_type": "code",
   "execution_count": null,
   "id": "e0dc3c5d-a93e-4fc6-b7a5-4b03c865bccf",
   "metadata": {
    "tags": []
   },
   "outputs": [],
   "source": [
    "residuals = y_test - y_pred\n",
    "plt.figure(figsize=(10, 6))\n",
    "plt.scatter(y_pred, residuals)\n",
    "plt.axhline(y=0, color='red', linestyle='--')\n",
    "plt.xlabel('Predicted')\n",
    "plt.ylabel('Residuals')\n",
    "plt.title('Residuals vs. Predicted')\n",
    "plt.show()"
   ]
  },
  {
   "cell_type": "code",
   "execution_count": null,
   "id": "fa8ba13e-5db6-4a92-8029-e040303422c0",
   "metadata": {
    "tags": []
   },
   "outputs": [],
   "source": [
    "#correlation matrix\n",
    "import seaborn as sns\n",
    "import matplotlib.pyplot as plt\n",
    "\n",
    "corr = df.corr()\n",
    "\n",
    "# Create a heatmap\n",
    "plt.figure(figsize=(10, 8))\n",
    "sns.heatmap(corr, annot=True, fmt=\".2f\", cmap='coolwarm')\n",
    "plt.title('Correlation Matrix')\n",
    "plt.show()"
   ]
  },
  {
   "cell_type": "markdown",
   "id": "306376c6-fa9c-40fe-9b12-0fc0b3304ed5",
   "metadata": {},
   "source": [
    "Clearlt very poor results. This tells us we  have issues with data, where there are too many irrelevant or noisy features. There is also a lack of data scaling and normalization."
   ]
  },
  {
   "cell_type": "code",
   "execution_count": null,
   "id": "190ee8bb-ea93-478d-9d2d-b4bd59d8b678",
   "metadata": {
    "tags": []
   },
   "outputs": [],
   "source": [
    "from sklearn.ensemble import RandomForestRegressor\n",
    "from sklearn.experimental import enable_iterative_imputer\n",
    "from sklearn.impute import IterativeImputer\n",
    "from sklearn.pipeline import Pipeline\n",
    "\n",
    "model = RandomForestRegressor()\n",
    "rf = model.fit(X_train,y_train)\n",
    "y_pred = rf.predict(X_test)\n",
    "mse = mean_squared_error(y_test, y_pred)\n",
    "r2 = r2_score(y_test, y_pred)\n",
    "print(\"Mean Squared Error (MSE):\", mse)\n",
    "print(\"R-squared (R^2) Score:\", r2)\n",
    "sns.scatterplot(x=y_test, y=y_hat_rf)\n",
    "\n",
    "pred2020 = rf.predict(df_2020.drop('net_total', axis=1))\n",
    "\n",
    "total_prediction = pred2020.sum()\n",
    "\n",
    "if total_prediction > 0:\n",
    "    print(\"R wins by \"+ str(total_prediction))\n",
    "elif total_prediction < 0:\n",
    "    print(\"D wins by \"+ str(total_prediction))\n",
    "else:\n",
    "    print(\"Cannot make a prediction.\")\n",
    "\n",
    "mse = mean_squared_error(y_test, y_pred)\n",
    "r2 = r2_score(y_test, y_pred)\n",
    "print(\"Mean Squared Error (MSE):\", mse)\n",
    "print(\"R-squared (R^2) Score:\", r2)\n",
    "sns.scatterplot(x=y_test, y=y_hat_rf)"
   ]
  }
 ],
 "metadata": {
  "kernelspec": {
   "display_name": "Tensorflow 2.13.0",
   "language": "python",
   "name": "tensorflow-2.13.0"
  },
  "language_info": {
   "codemirror_mode": {
    "name": "ipython",
    "version": 3
   },
   "file_extension": ".py",
   "mimetype": "text/x-python",
   "name": "python",
   "nbconvert_exporter": "python",
   "pygments_lexer": "ipython3",
   "version": "3.10.12"
  }
 },
 "nbformat": 4,
 "nbformat_minor": 5
}
