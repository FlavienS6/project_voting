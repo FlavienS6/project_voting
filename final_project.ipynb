{
 "cells": [
  {
   "cell_type": "code",
   "execution_count": 34,
   "id": "7054bcfb-47c6-46ee-9a44-f1d31165bb68",
   "metadata": {
    "tags": []
   },
   "outputs": [
    {
     "name": "stdout",
     "output_type": "stream",
     "text": [
      "   Unnamed: 0  year     state state_po county_name  county_fips        office  \\\n",
      "0       11161  2000  VIRGINIA       VA    ACCOMACK        51001  US PRESIDENT   \n",
      "1       11162  2000  VIRGINIA       VA    ACCOMACK        51001  US PRESIDENT   \n",
      "2       11163  2000  VIRGINIA       VA    ACCOMACK        51001  US PRESIDENT   \n",
      "3       11164  2000  VIRGINIA       VA    ACCOMACK        51001  US PRESIDENT   \n",
      "4       11165  2000  VIRGINIA       VA   ALBEMARLE        51003  US PRESIDENT   \n",
      "\n",
      "        candidate       party  candidatevotes  totalvotes   version   mode  \n",
      "0         AL GORE    DEMOCRAT            5092       11925  20220315  TOTAL  \n",
      "1  GEORGE W. BUSH  REPUBLICAN            6352       11925  20220315  TOTAL  \n",
      "2     RALPH NADER       GREEN             220       11925  20220315  TOTAL  \n",
      "3           OTHER       OTHER             261       11925  20220315  TOTAL  \n",
      "4         AL GORE    DEMOCRAT           16255       36846  20220315  TOTAL  \n",
      "Unnamed: 0        0\n",
      "year              0\n",
      "state             0\n",
      "state_po          0\n",
      "county_name       0\n",
      "county_fips       0\n",
      "office            0\n",
      "candidate         0\n",
      "party             0\n",
      "candidatevotes    0\n",
      "totalvotes        0\n",
      "version           0\n",
      "mode              0\n",
      "dtype: int64\n"
     ]
    }
   ],
   "source": [
    "import numpy as np\n",
    "import pandas as pd\n",
    "\n",
    "df = pd.read_csv(\"data/voting_VA.csv\")\n",
    "\n",
    "print(df.head())\n",
    "print(df.isnull().sum())"
   ]
  },
  {
   "cell_type": "code",
   "execution_count": 35,
   "id": "a20499d6-3341-4658-a7b7-ff49bc3dfc47",
   "metadata": {
    "tags": []
   },
   "outputs": [
    {
     "name": "stdout",
     "output_type": "stream",
     "text": [
      "['VIRGINIA']\n",
      "['VA']\n",
      "['US PRESIDENT']\n",
      "['TOTAL' 'ABSENTEE' 'ELECTION DAY' 'PROVISIONAL']\n"
     ]
    }
   ],
   "source": [
    "# Remove the 'Unnamed: 0' column\n",
    "df.drop('Unnamed: 0', axis=1, inplace=True)\n",
    "\n",
    "# Check unique values for certain columns to ensure consistency\n",
    "print(df['state'].unique())  # Should only contain \"VIRGINIA\"\n",
    "print(df['state_po'].unique())  # Should only contain \"VA\"\n",
    "print(df['office'].unique())  # Should only contain \"US PRESIDENT\"\n",
    "print(df['mode'].unique())  # Check if any action is needed"
   ]
  },
  {
   "cell_type": "code",
   "execution_count": 36,
   "id": "874afb6e-c5ee-43a6-b1ee-6e93e0283868",
   "metadata": {
    "tags": []
   },
   "outputs": [
    {
     "data": {
      "text/plain": [
       "0    TOTAL\n",
       "1    TOTAL\n",
       "2    TOTAL\n",
       "3    TOTAL\n",
       "4    TOTAL\n",
       "Name: mode, dtype: object"
      ]
     },
     "execution_count": 36,
     "metadata": {},
     "output_type": "execute_result"
    }
   ],
   "source": [
    "df['mode'].head()"
   ]
  },
  {
   "cell_type": "code",
   "execution_count": 37,
   "id": "e1d67170-3ebd-4533-aac7-da775ef97aa0",
   "metadata": {
    "tags": []
   },
   "outputs": [
    {
     "data": {
      "text/plain": [
       "0    TOTAL\n",
       "1    TOTAL\n",
       "2    TOTAL\n",
       "3    TOTAL\n",
       "4    TOTAL\n",
       "Name: mode, dtype: category\n",
       "Categories (4, object): ['ABSENTEE', 'ELECTION DAY', 'PROVISIONAL', 'TOTAL']"
      ]
     },
     "execution_count": 37,
     "metadata": {},
     "output_type": "execute_result"
    }
   ],
   "source": [
    "# If we're interested in overall voting results without differentiating between the modes:\n",
    "# df_total = df[df['mode'] == 'TOTAL']\n",
    "# df_total.to_csv(\"data/clean_total_voting_VA.csv\", index=False) \n",
    "\n",
    "# Otherwise, we can keep all of the modes of voting and use them as features\n",
    "# in our models\n",
    "df['mode'] = df['mode'].astype('category')\n",
    "df['mode'].head()"
   ]
  },
  {
   "cell_type": "code",
   "execution_count": 38,
   "id": "99ff999a-78c2-45d6-91ed-41206bb48c30",
   "metadata": {
    "tags": []
   },
   "outputs": [
    {
     "data": {
      "text/html": [
       "<div>\n",
       "<style scoped>\n",
       "    .dataframe tbody tr th:only-of-type {\n",
       "        vertical-align: middle;\n",
       "    }\n",
       "\n",
       "    .dataframe tbody tr th {\n",
       "        vertical-align: top;\n",
       "    }\n",
       "\n",
       "    .dataframe thead th {\n",
       "        text-align: right;\n",
       "    }\n",
       "</style>\n",
       "<table border=\"1\" class=\"dataframe\">\n",
       "  <thead>\n",
       "    <tr style=\"text-align: right;\">\n",
       "      <th></th>\n",
       "      <th>year</th>\n",
       "      <th>county_name</th>\n",
       "      <th>county_fips</th>\n",
       "      <th>candidate</th>\n",
       "      <th>party</th>\n",
       "      <th>candidatevotes</th>\n",
       "      <th>totalvotes</th>\n",
       "    </tr>\n",
       "  </thead>\n",
       "  <tbody>\n",
       "    <tr>\n",
       "      <th>0</th>\n",
       "      <td>2000</td>\n",
       "      <td>ACCOMACK</td>\n",
       "      <td>51001</td>\n",
       "      <td>AL GORE</td>\n",
       "      <td>DEMOCRAT</td>\n",
       "      <td>5092</td>\n",
       "      <td>11925</td>\n",
       "    </tr>\n",
       "    <tr>\n",
       "      <th>1</th>\n",
       "      <td>2000</td>\n",
       "      <td>ACCOMACK</td>\n",
       "      <td>51001</td>\n",
       "      <td>GEORGE W. BUSH</td>\n",
       "      <td>REPUBLICAN</td>\n",
       "      <td>6352</td>\n",
       "      <td>11925</td>\n",
       "    </tr>\n",
       "    <tr>\n",
       "      <th>2</th>\n",
       "      <td>2000</td>\n",
       "      <td>ACCOMACK</td>\n",
       "      <td>51001</td>\n",
       "      <td>OTHER</td>\n",
       "      <td>OTHER</td>\n",
       "      <td>261</td>\n",
       "      <td>11925</td>\n",
       "    </tr>\n",
       "    <tr>\n",
       "      <th>3</th>\n",
       "      <td>2000</td>\n",
       "      <td>ACCOMACK</td>\n",
       "      <td>51001</td>\n",
       "      <td>RALPH NADER</td>\n",
       "      <td>GREEN</td>\n",
       "      <td>220</td>\n",
       "      <td>11925</td>\n",
       "    </tr>\n",
       "    <tr>\n",
       "      <th>4</th>\n",
       "      <td>2000</td>\n",
       "      <td>ALBEMARLE</td>\n",
       "      <td>51003</td>\n",
       "      <td>AL GORE</td>\n",
       "      <td>DEMOCRAT</td>\n",
       "      <td>16255</td>\n",
       "      <td>36846</td>\n",
       "    </tr>\n",
       "  </tbody>\n",
       "</table>\n",
       "</div>"
      ],
      "text/plain": [
       "   year county_name  county_fips       candidate       party  candidatevotes  \\\n",
       "0  2000    ACCOMACK        51001         AL GORE    DEMOCRAT            5092   \n",
       "1  2000    ACCOMACK        51001  GEORGE W. BUSH  REPUBLICAN            6352   \n",
       "2  2000    ACCOMACK        51001           OTHER       OTHER             261   \n",
       "3  2000    ACCOMACK        51001     RALPH NADER       GREEN             220   \n",
       "4  2000   ALBEMARLE        51003         AL GORE    DEMOCRAT           16255   \n",
       "\n",
       "   totalvotes  \n",
       "0       11925  \n",
       "1       11925  \n",
       "2       11925  \n",
       "3       11925  \n",
       "4       36846  "
      ]
     },
     "execution_count": 38,
     "metadata": {},
     "output_type": "execute_result"
    }
   ],
   "source": [
    "# Provides a dataframe where the modes aggregates all individual records across different voting modes \n",
    "# into a single record per candidate per county per election year. \n",
    "\n",
    "df_aggregated = df.groupby(['year', 'county_name', 'county_fips', 'candidate', 'party']).agg({\n",
    "    'candidatevotes': 'sum',\n",
    "    'totalvotes': 'max'  # Assuming totalvotes is the same across all modes, otherwise sum might be needed\n",
    "}).reset_index()\n",
    "\n",
    "df_aggregated.head()"
   ]
  },
  {
   "cell_type": "code",
   "execution_count": 39,
   "id": "61f88c43-1624-4b01-8857-642db8472e9f",
   "metadata": {
    "tags": []
   },
   "outputs": [
    {
     "data": {
      "text/html": [
       "<div>\n",
       "<style scoped>\n",
       "    .dataframe tbody tr th:only-of-type {\n",
       "        vertical-align: middle;\n",
       "    }\n",
       "\n",
       "    .dataframe tbody tr th {\n",
       "        vertical-align: top;\n",
       "    }\n",
       "\n",
       "    .dataframe thead th {\n",
       "        text-align: right;\n",
       "    }\n",
       "</style>\n",
       "<table border=\"1\" class=\"dataframe\">\n",
       "  <thead>\n",
       "    <tr style=\"text-align: right;\">\n",
       "      <th></th>\n",
       "      <th>year</th>\n",
       "      <th>county_name</th>\n",
       "      <th>county_fips</th>\n",
       "      <th>net_total</th>\n",
       "      <th>winner</th>\n",
       "    </tr>\n",
       "  </thead>\n",
       "  <tbody>\n",
       "    <tr>\n",
       "      <th>0</th>\n",
       "      <td>2000</td>\n",
       "      <td>ACCOMACK</td>\n",
       "      <td>51001</td>\n",
       "      <td>1260</td>\n",
       "      <td>REPUBLICAN</td>\n",
       "    </tr>\n",
       "    <tr>\n",
       "      <th>1</th>\n",
       "      <td>2000</td>\n",
       "      <td>ALBEMARLE</td>\n",
       "      <td>51003</td>\n",
       "      <td>2036</td>\n",
       "      <td>REPUBLICAN</td>\n",
       "    </tr>\n",
       "    <tr>\n",
       "      <th>2</th>\n",
       "      <td>2000</td>\n",
       "      <td>ALEXANDRIA</td>\n",
       "      <td>51510</td>\n",
       "      <td>-14590</td>\n",
       "      <td>DEMOCRAT</td>\n",
       "    </tr>\n",
       "    <tr>\n",
       "      <th>3</th>\n",
       "      <td>2000</td>\n",
       "      <td>ALLEGHANY</td>\n",
       "      <td>51005</td>\n",
       "      <td>594</td>\n",
       "      <td>REPUBLICAN</td>\n",
       "    </tr>\n",
       "    <tr>\n",
       "      <th>4</th>\n",
       "      <td>2000</td>\n",
       "      <td>AMELIA</td>\n",
       "      <td>51007</td>\n",
       "      <td>1193</td>\n",
       "      <td>REPUBLICAN</td>\n",
       "    </tr>\n",
       "  </tbody>\n",
       "</table>\n",
       "</div>"
      ],
      "text/plain": [
       "   year county_name  county_fips  net_total      winner\n",
       "0  2000    ACCOMACK        51001       1260  REPUBLICAN\n",
       "1  2000   ALBEMARLE        51003       2036  REPUBLICAN\n",
       "2  2000  ALEXANDRIA        51510     -14590    DEMOCRAT\n",
       "3  2000   ALLEGHANY        51005        594  REPUBLICAN\n",
       "4  2000      AMELIA        51007       1193  REPUBLICAN"
      ]
     },
     "execution_count": 39,
     "metadata": {},
     "output_type": "execute_result"
    }
   ],
   "source": [
    "import pandas as pd\n",
    "#removing candidates column (unimportant)\n",
    "df_real = df_aggregated.drop('candidate', axis=1)\n",
    "#removing third parties (also unimportant)\n",
    "df_real = df_real[~df_real['party'].isin(['OTHER', 'GREEN'])]\n",
    "#finding net total votes\n",
    "df_real['net_total'] = df_real.groupby(['year', 'county_name', 'county_fips', 'totalvotes'])['candidatevotes'].transform(lambda x: x.iloc[1] - x.iloc[0])\n",
    "\n",
    "# merging columns\n",
    "df_real = df_real.groupby(['year', 'county_name', 'county_fips', 'totalvotes', 'net_total']).agg({'party': ', '.join}).reset_index()\n",
    "df_real['winner'] = df_real['net_total'].apply(lambda x: 'REPUBLICAN' if x > 0 else 'DEMOCRAT')\n",
    "#dropping some more columns\n",
    "df_real = df_real.drop(['party', 'totalvotes'], axis=1)\n",
    "df_final = df_real[['year', 'county_name', 'county_fips','net_total', 'winner']]\n",
    "df_final.head()"
   ]
  },
  {
   "cell_type": "code",
   "execution_count": 40,
   "id": "cfa372fe-8fd6-4372-8df3-755e316175c0",
   "metadata": {
    "tags": []
   },
   "outputs": [
    {
     "name": "stdout",
     "output_type": "stream",
     "text": [
      "   year county_name county_fips  net_total      winner     AV0AA     B78AA  \\\n",
      "0  2000    ACCOMACK       51001       1260  REPUBLICAN   38305.0   38305.0   \n",
      "1  2004    ACCOMACK       51001      -2208    DEMOCRAT   38305.0   38305.0   \n",
      "2  2000   ALBEMARLE       51003       2036  REPUBLICAN   79236.0   79236.0   \n",
      "3  2004   ALBEMARLE       51003        899  REPUBLICAN   79236.0   79236.0   \n",
      "4  2000  ALEXANDRIA       51510     -14590    DEMOCRAT  128283.0  128283.0   \n",
      "\n",
      "     AV1AA    AV1AB    AT5AA  ...   A88AD    A88AE    AB2AA    BD5AA  \\\n",
      "0  18590.0  19715.0  36680.0  ...  3781.0   3195.0  34821.0  16309.0   \n",
      "1  18590.0  19715.0  36680.0  ...  3781.0   3195.0  34821.0  16309.0   \n",
      "2  38002.0  41234.0  73483.0  ...  5153.0  13401.0  63407.0  28852.0   \n",
      "3  38002.0  41234.0  73483.0  ...  5153.0  13401.0  63407.0  28852.0   \n",
      "4  61974.0  66309.0  95683.0  ...  6275.0  17685.0  67023.0  37645.0   \n",
      "\n",
      "      AX6AA    CL6AA    AX7AA     AX7AB  BV8AA   BV8AB  \n",
      "0   37715.0   6788.0   6788.0   30927.0  957.0  5291.0  \n",
      "1   37715.0   6788.0   6788.0   30927.0  957.0  5291.0  \n",
      "2   77661.0   5232.0   5232.0   72429.0  430.0  8756.0  \n",
      "3   77661.0   5232.0   5232.0   72429.0  430.0  8756.0  \n",
      "4  126409.0  11279.0  11279.0  115130.0  939.0  9547.0  \n",
      "\n",
      "[5 rows x 165 columns]\n"
     ]
    }
   ],
   "source": [
    "df_melt = pd.read_csv(\"data/df_melt.csv\")\n",
    "\n",
    "year_mapping = {\n",
    "    2000: 2000,\n",
    "    2004: 2000,\n",
    "    2008: 125,\n",
    "    2012: 125,\n",
    "    2016: 195,\n",
    "    2020: 195\n",
    "}\n",
    "df_final['melt_year'] = df_final['year'].map(year_mapping)\n",
    "\n",
    "# Convert columns to the same data type before merging\n",
    "df_final['melt_year'] = df_final['melt_year'].astype(str)\n",
    "df_final['county_fips'] = df_final['county_fips'].astype(str)\n",
    "df_melt['YEAR'] = df_melt['YEAR'].astype(str)\n",
    "df_melt['FIPS'] = df_melt['FIPS'].astype(str)\n",
    "\n",
    "merged_df = pd.merge(df_final, df_melt, left_on=['melt_year', 'county_fips'], right_on=['YEAR', 'FIPS'])\n",
    "\n",
    "columns_to_drop = ['YEAR', 'FIPS', 'melt_year']\n",
    "df_updated = merged_df.drop(columns=columns_to_drop)\n",
    "\n",
    "print(df_updated.head())"
   ]
  },
  {
   "cell_type": "code",
   "execution_count": 41,
   "id": "49e6f5dc-867d-4184-b39c-f87d95aa5511",
   "metadata": {
    "tags": []
   },
   "outputs": [],
   "source": [
    "df_updated = df_updated.drop(columns=['winner'])\n",
    "df_updated = pd.get_dummies(df_updated, columns=['county_name'])\n",
    "df_updated = df_updated.astype(float)\n"
   ]
  },
  {
   "cell_type": "code",
   "execution_count": null,
   "id": "059113a6-a68f-4d5c-a9dd-7377328c8439",
   "metadata": {
    "tags": []
   },
   "outputs": [
    {
     "name": "stdout",
     "output_type": "stream",
     "text": [
      "year                           0\n",
      "county_fips                    0\n",
      "net_total                      0\n",
      "AV0AA                          1\n",
      "B78AA                          1\n",
      "                              ..\n",
      "county_name_WINCHESTER         0\n",
      "county_name_WINCHESTER CITY    0\n",
      "county_name_WISE               0\n",
      "county_name_WYTHE              0\n",
      "county_name_YORK               0\n",
      "Length: 330, dtype: int64\n"
     ]
    }
   ],
   "source": [
    "# EDA\n",
    "\n",
    "import matplotlib.pyplot as plt\n",
    "import seaborn as sns\n",
    "from sklearn.preprocessing import MinMaxScaler\n",
    "\n",
    "df_eda = df_updated.copy(deep=True)\n",
    "\n",
    "\n",
    "# Check for missing values\n",
    "print(df_eda.isnull().sum())\n",
    "\n",
    "# Histograms for numeric data to understand distributions\n",
    "df_eda.hist(figsize=(12, 10), bins=20)\n",
    "plt.tight_layout()  # Adjust subplots to fit into figure area.\n",
    "plt.show()\n",
    "\n",
    "''' # Boxplots for numerical columns to visualize outliers\n",
    "numeric_cols = df_eda.select_dtypes(include=[np.number]).columns.tolist()\n",
    "fig, ax = plt.subplots(len(numeric_cols), 1, figsize=(10, len(numeric_cols)*4))\n",
    "for i, col in enumerate(numeric_cols):\n",
    "    sns.boxplot(x=col, data=df, ax=ax[i])\n",
    "    ax[i].set_title(f'Boxplot for {col}', fontsize=12)\n",
    "plt.tight_layout()\n",
    "plt.show()\n",
    "'''\n",
    "\n",
    "# Correlation matrix to explore potential relationships\n",
    "corr_matrix = df_eda.corr()\n",
    "plt.figure(figsize=(15, 12))\n",
    "sns.heatmap(corr_matrix, annot=True, cmap='coolwarm', fmt=\".2f\")\n",
    "plt.title('Correlation Matrix')\n",
    "plt.show()\n",
    "\n",
    "# Pairplot for selected features including the transformed net_total\n",
    "selected_features = [col for col in df_eda.columns if 'AV' in col][:5]  # example with AV columns\n",
    "sns.pairplot(df_eda[selected_features])\n",
    "plt.show()\n"
   ]
  },
  {
   "cell_type": "code",
   "execution_count": null,
   "id": "2291e1f7-f337-4969-ae15-96931bd0b11d",
   "metadata": {
    "tags": []
   },
   "outputs": [],
   "source": [
    "#normalize net_total using inverse hyperbolic arcsin\n",
    "df_updated['net_total'] = np.arcsinh(df_updated['net_total'])\n",
    "#normalize the rest of the variables (they're all counts) except for 'year', 'net_total' and 'county_fips'\n",
    "scaler = MinMaxScaler()\n",
    "numeric_cols = df_updated.select_dtypes(include=[np.number]).columns.tolist()\n",
    "exclude_cols = ['year', 'county_fips', 'net_total']\n",
    "numeric_cols = [col for col in numeric_cols if col not in exclude_cols]\n",
    "df_updated[numeric_cols] = scaler.fit_transform(df_updated[numeric_cols])\n",
    "\n",
    "print(df_updated.head())\n",
    "\n",
    "df_2020 = df_updated[df_updated['year'] == 2020]\n",
    "df_total = df_updated[df_updated['year'] != 2020]\n",
    "df_2020.reset_index(drop=True, inplace=True)\n",
    "df_total.reset_index(drop=True, inplace=True)"
   ]
  },
  {
   "cell_type": "code",
   "execution_count": null,
   "id": "06182201-9f4f-4b1b-80d2-b13b2af00aeb",
   "metadata": {
    "tags": []
   },
   "outputs": [],
   "source": [
    "# Neural network time!\n",
    "import keras\n",
    "from keras.models import Sequential\n",
    "from keras.layers import Dense\n",
    "from sklearn.model_selection import train_test_split\n",
    "\n",
    "\n",
    "\n",
    "y = df_total['net_total'].astype(float)\n",
    "X = df_total.drop('net_total', axis=1).astype(float)\n",
    "\n",
    "X_train, X_test, y_train, y_test = train_test_split(X, y, test_size=0.2, random_state=100)\n",
    "\n",
    "net = Sequential()\n",
    "#Having 3 layers results in Loss: 218362592.0, Mean Absolute Error (MAE): 6693.912109375, Mean Squared Error (MSE): 218362592.0\n",
    "net.add(Dense(units=82, activation='relu', input_dim=X_train.shape[1]))\n",
    "#net.add(Dense(units=32, activation='relu'))\n",
    "net.add(Dense(units=1, activation='linear'))\n",
    "\n",
    "net.compile(loss='mean_squared_error', optimizer='adam', metrics=['mae', 'mse'])\n",
    "\n",
    "net.fit(X_train, y_train, epochs=25, verbose=1, batch_size=50)\n",
    "\n",
    "# use it to predict testing data\n",
    "evaluation = net.evaluate(X_test, y_test)\n",
    "\n",
    "# Extract the evaluation metrics\n",
    "loss = evaluation[0]\n",
    "mae = evaluation[1]\n",
    "mse = evaluation[2]\n",
    "print(\"Evaluation metrics:\")\n",
    "print(f\"Loss: {loss}\")\n",
    "print(f\"Mean Absolute Error (MAE): {mae}\")\n",
    "print(f\"Mean Squared Error (MSE): {mse}\")"
   ]
  },
  {
   "cell_type": "code",
   "execution_count": null,
   "id": "0ece0850-c42c-419b-9142-ed4dfb0cd25d",
   "metadata": {
    "tags": []
   },
   "outputs": [],
   "source": [
    "# Then use it to predict data from 2020 election since it's closest to current election\n",
    "test_2020 = df_2020.drop('net_total', axis=1)\n",
    "print(test_2020.head())\n",
    "predictions_2020 = net.predict(test_2020)\n",
    "\n",
    "# Sum all the predictions\n",
    "total_prediction = predictions_2020.sum()\n",
    "\n",
    "# Check if the total prediction is positive, negative, or zero\n",
    "if total_prediction > 0:\n",
    "    print(\"R wins by \"+ str(total_prediction))\n",
    "elif total_prediction < 0:\n",
    "    print(\"D wins by \"+ str(total_prediction))\n",
    "else:\n",
    "    print(\"Cannot make a prediction.\")"
   ]
  },
  {
   "cell_type": "code",
   "execution_count": null,
   "id": "2c937042-aa1d-4c7d-8aca-f552269654ac",
   "metadata": {
    "tags": []
   },
   "outputs": [],
   "source": [
    "#Then evaluate the actual accuracy of the prediction. \n",
    "evaluation_2020 = net.evaluate(df_2020.drop('net_total', axis=1), df_2020['net_total'])\n",
    "\n",
    "# Extract the evaluation metrics\n",
    "loss_2020 = evaluation_2020[0]\n",
    "mae_2020 = evaluation_2020[1]\n",
    "mse_2020 = evaluation_2020[2]\n",
    "print(\"Evaluation metrics on 2020 data:\")\n",
    "print(f\"Loss: {loss_2020}\")\n",
    "print(f\"Mean Absolute Error (MAE): {mae_2020}\")\n",
    "print(f\"Mean Squared Error (MSE): {mse_2020}\")\n"
   ]
  },
  {
   "cell_type": "code",
   "execution_count": null,
   "id": "ede995bd-09d9-4efe-98cc-b7554b73a88c",
   "metadata": {
    "tags": []
   },
   "outputs": [],
   "source": [
    "#Now for the linear regression:"
   ]
  },
  {
   "cell_type": "code",
<<<<<<< HEAD
   "execution_count": null,
=======
   "execution_count": 36,
>>>>>>> 5492643e5d2f80ab24282e8ebcc585af6ce17fae
   "id": "61319f9b-e36b-4150-b7c7-1ba7e41f7100",
   "metadata": {
    "tags": []
   },
   "outputs": [],
   "source": [
    "import pandas as pd\n",
    "df_lr = df_updated.copy()\n",
    "print(df_lr.isna().sum())"
   ]
  },
  {
   "cell_type": "code",
<<<<<<< HEAD
   "execution_count": null,
=======
   "execution_count": 37,
>>>>>>> 5492643e5d2f80ab24282e8ebcc585af6ce17fae
   "id": "33ca97e8-0758-4b60-91dd-676807b9db52",
   "metadata": {
    "tags": []
   },
   "outputs": [],
   "source": [
    "import numpy as np\n",
    "import pandas as pd\n",
    "from sklearn.model_selection import train_test_split\n",
    "from sklearn.linear_model import LinearRegression\n",
    "from sklearn.metrics import mean_squared_error, r2_score\n",
    "from sklearn.impute import SimpleImputer\n",
    "\n",
    "print(df_lr.head())"
   ]
  },
  {
   "cell_type": "code",
<<<<<<< HEAD
   "execution_count": null,
=======
   "execution_count": 38,
>>>>>>> 5492643e5d2f80ab24282e8ebcc585af6ce17fae
   "id": "6a8a32ab-ed27-4669-b5a7-887fbc3a0d70",
   "metadata": {
    "tags": []
   },
   "outputs": [],
   "source": [
    "for column in df_lr.columns:\n",
    "    df_lr[f'missing_indicator_{column}'] = df_lr[column].isna().astype(int)\n",
    "df_lr.fillna(0, inplace=True)"
   ]
  },
  {
   "cell_type": "code",
<<<<<<< HEAD
   "execution_count": null,
=======
   "execution_count": 39,
>>>>>>> 5492643e5d2f80ab24282e8ebcc585af6ce17fae
   "id": "b5878c4d-a45e-4a59-b9aa-8ff51655e4f1",
   "metadata": {
    "tags": []
   },
   "outputs": [],
   "source": [
    "# Assuming df_total is prepared with necessary preprocessing\n",
    "df_lr2020 = df_lr[df_updated['year'] == 2020]\n",
    "df_lrrest = df_lr[df_updated['year'] != 2020]\n",
    "df_lr2020.reset_index(drop=True, inplace=True)\n",
    "df_lrrest.reset_index(drop=True, inplace=True)\n",
    "\n",
    "y = df_lrrest['net_total'].astype(float)\n",
    "X = df_lrrest.drop('net_total', axis=1).astype(float)"
   ]
  },
  {
   "cell_type": "code",
<<<<<<< HEAD
   "execution_count": null,
=======
   "execution_count": 40,
>>>>>>> 5492643e5d2f80ab24282e8ebcc585af6ce17fae
   "id": "57bf8620-e398-440a-a152-c259dd56f28e",
   "metadata": {
    "tags": []
   },
   "outputs": [],
   "source": [
    "print(X.isna().sum())\n",
    "print(y.isna().sum())"
   ]
  },
  {
   "cell_type": "code",
<<<<<<< HEAD
   "execution_count": null,
=======
   "execution_count": 41,
>>>>>>> 5492643e5d2f80ab24282e8ebcc585af6ce17fae
   "id": "d810cc1c-a07e-4efc-a507-7f75e9ebbaaa",
   "metadata": {
    "tags": []
   },
   "outputs": [],
   "source": [
    "imputer = SimpleImputer(strategy='median')\n",
    "transformed_data = imputer.fit_transform(df_lr)\n",
    "df_lr = pd.DataFrame(transformed_data, columns=df_lr.columns)"
   ]
  },
  {
   "cell_type": "code",
<<<<<<< HEAD
   "execution_count": null,
=======
   "execution_count": 42,
>>>>>>> 5492643e5d2f80ab24282e8ebcc585af6ce17fae
   "id": "4f4a17cd-f4f3-4d27-8f4e-8755696fb77b",
   "metadata": {
    "tags": []
   },
   "outputs": [],
   "source": [
    "print(df_lr.head())"
   ]
  },
  {
   "cell_type": "code",
<<<<<<< HEAD
   "execution_count": null,
   "id": "53870edd-cdb2-4e38-8473-a28245feeb35",
   "metadata": {
    "tags": []
   },
   "outputs": [],
   "source": [
    "# Assuming df_total is prepared with necessary preprocessing\n",
    "#y = df_lr[2].astype(float)\n",
    "#X = df_lr.drop(2, axis=1).astype(float)"
   ]
  },
  {
   "cell_type": "code",
   "execution_count": 23,
   "id": "2c1a7766-90bf-49c7-a490-f4cfbf22211d",
   "metadata": {
    "tags": []
   },
   "outputs": [
    {
     "name": "stdout",
     "output_type": "stream",
     "text": [
      "year                                             0\n",
      "county_fips                                      0\n",
      "net_total                                        0\n",
      "AV0AA                                            0\n",
      "B78AA                                            0\n",
      "                                                ..\n",
      "missing_indicator_county_name_WINCHESTER         0\n",
      "missing_indicator_county_name_WINCHESTER CITY    0\n",
      "missing_indicator_county_name_WISE               0\n",
      "missing_indicator_county_name_WYTHE              0\n",
      "missing_indicator_county_name_YORK               0\n",
      "Length: 660, dtype: int64\n"
     ]
    }
   ],
   "source": [
    "print(df_lr.isna().sum())"
   ]
  },
  {
   "cell_type": "code",
   "execution_count": 24,
   "id": "30fa11ae-fc68-4fdd-a479-b2e2bcbc2bf9",
   "metadata": {
    "tags": []
   },
   "outputs": [],
   "source": [
    "df_lr_cleaned = df_lr.dropna()"
   ]
  },
  {
   "cell_type": "code",
   "execution_count": 25,
   "id": "043edf02-5d10-4f6b-a308-392bd049453c",
   "metadata": {
    "tags": []
   },
   "outputs": [
    {
     "name": "stdout",
     "output_type": "stream",
     "text": [
      "year                                             0\n",
      "county_fips                                      0\n",
      "net_total                                        0\n",
      "AV0AA                                            0\n",
      "B78AA                                            0\n",
      "                                                ..\n",
      "missing_indicator_county_name_WINCHESTER         0\n",
      "missing_indicator_county_name_WINCHESTER CITY    0\n",
      "missing_indicator_county_name_WISE               0\n",
      "missing_indicator_county_name_WYTHE              0\n",
      "missing_indicator_county_name_YORK               0\n",
      "Length: 660, dtype: int64\n"
     ]
    }
   ],
   "source": [
    "print(df_lr.isna().sum())"
   ]
  },
  {
   "cell_type": "code",
   "execution_count": 26,
=======
   "execution_count": 47,
>>>>>>> 5492643e5d2f80ab24282e8ebcc585af6ce17fae
   "id": "625c47e0-359b-4311-aabf-4b330a509cf2",
   "metadata": {
    "tags": []
   },
   "outputs": [],
   "source": [
    "# training and testing sets\n",
    "X_train, X_test, y_train, y_test = train_test_split(X, y, test_size=0.2, random_state=42)"
   ]
  },
  {
   "cell_type": "code",
   "execution_count": 48,
   "id": "b5c6e95d-7781-482e-bd5a-603213c61d4f",
   "metadata": {
    "tags": []
   },
   "outputs": [],
   "source": [
    "# the lr model\n",
    "model = LinearRegression()"
   ]
  },
  {
   "cell_type": "code",
<<<<<<< HEAD
   "execution_count": 31,
=======
   "execution_count": 49,
>>>>>>> 5492643e5d2f80ab24282e8ebcc585af6ce17fae
   "id": "b48ce1db-083c-45d8-8c98-45e7a3d84576",
   "metadata": {
    "tags": []
   },
   "outputs": [
    {
     "data": {
      "text/html": [
       "<style>#sk-container-id-2 {color: black;background-color: white;}#sk-container-id-2 pre{padding: 0;}#sk-container-id-2 div.sk-toggleable {background-color: white;}#sk-container-id-2 label.sk-toggleable__label {cursor: pointer;display: block;width: 100%;margin-bottom: 0;padding: 0.3em;box-sizing: border-box;text-align: center;}#sk-container-id-2 label.sk-toggleable__label-arrow:before {content: \"▸\";float: left;margin-right: 0.25em;color: #696969;}#sk-container-id-2 label.sk-toggleable__label-arrow:hover:before {color: black;}#sk-container-id-2 div.sk-estimator:hover label.sk-toggleable__label-arrow:before {color: black;}#sk-container-id-2 div.sk-toggleable__content {max-height: 0;max-width: 0;overflow: hidden;text-align: left;background-color: #f0f8ff;}#sk-container-id-2 div.sk-toggleable__content pre {margin: 0.2em;color: black;border-radius: 0.25em;background-color: #f0f8ff;}#sk-container-id-2 input.sk-toggleable__control:checked~div.sk-toggleable__content {max-height: 200px;max-width: 100%;overflow: auto;}#sk-container-id-2 input.sk-toggleable__control:checked~label.sk-toggleable__label-arrow:before {content: \"▾\";}#sk-container-id-2 div.sk-estimator input.sk-toggleable__control:checked~label.sk-toggleable__label {background-color: #d4ebff;}#sk-container-id-2 div.sk-label input.sk-toggleable__control:checked~label.sk-toggleable__label {background-color: #d4ebff;}#sk-container-id-2 input.sk-hidden--visually {border: 0;clip: rect(1px 1px 1px 1px);clip: rect(1px, 1px, 1px, 1px);height: 1px;margin: -1px;overflow: hidden;padding: 0;position: absolute;width: 1px;}#sk-container-id-2 div.sk-estimator {font-family: monospace;background-color: #f0f8ff;border: 1px dotted black;border-radius: 0.25em;box-sizing: border-box;margin-bottom: 0.5em;}#sk-container-id-2 div.sk-estimator:hover {background-color: #d4ebff;}#sk-container-id-2 div.sk-parallel-item::after {content: \"\";width: 100%;border-bottom: 1px solid gray;flex-grow: 1;}#sk-container-id-2 div.sk-label:hover label.sk-toggleable__label {background-color: #d4ebff;}#sk-container-id-2 div.sk-serial::before {content: \"\";position: absolute;border-left: 1px solid gray;box-sizing: border-box;top: 0;bottom: 0;left: 50%;z-index: 0;}#sk-container-id-2 div.sk-serial {display: flex;flex-direction: column;align-items: center;background-color: white;padding-right: 0.2em;padding-left: 0.2em;position: relative;}#sk-container-id-2 div.sk-item {position: relative;z-index: 1;}#sk-container-id-2 div.sk-parallel {display: flex;align-items: stretch;justify-content: center;background-color: white;position: relative;}#sk-container-id-2 div.sk-item::before, #sk-container-id-2 div.sk-parallel-item::before {content: \"\";position: absolute;border-left: 1px solid gray;box-sizing: border-box;top: 0;bottom: 0;left: 50%;z-index: -1;}#sk-container-id-2 div.sk-parallel-item {display: flex;flex-direction: column;z-index: 1;position: relative;background-color: white;}#sk-container-id-2 div.sk-parallel-item:first-child::after {align-self: flex-end;width: 50%;}#sk-container-id-2 div.sk-parallel-item:last-child::after {align-self: flex-start;width: 50%;}#sk-container-id-2 div.sk-parallel-item:only-child::after {width: 0;}#sk-container-id-2 div.sk-dashed-wrapped {border: 1px dashed gray;margin: 0 0.4em 0.5em 0.4em;box-sizing: border-box;padding-bottom: 0.4em;background-color: white;}#sk-container-id-2 div.sk-label label {font-family: monospace;font-weight: bold;display: inline-block;line-height: 1.2em;}#sk-container-id-2 div.sk-label-container {text-align: center;}#sk-container-id-2 div.sk-container {/* jupyter's `normalize.less` sets `[hidden] { display: none; }` but bootstrap.min.css set `[hidden] { display: none !important; }` so we also need the `!important` here to be able to override the default hidden behavior on the sphinx rendered scikit-learn.org. See: https://github.com/scikit-learn/scikit-learn/issues/21755 */display: inline-block !important;position: relative;}#sk-container-id-2 div.sk-text-repr-fallback {display: none;}</style><div id=\"sk-container-id-2\" class=\"sk-top-container\"><div class=\"sk-text-repr-fallback\"><pre>LinearRegression()</pre><b>In a Jupyter environment, please rerun this cell to show the HTML representation or trust the notebook. <br />On GitHub, the HTML representation is unable to render, please try loading this page with nbviewer.org.</b></div><div class=\"sk-container\" hidden><div class=\"sk-item\"><div class=\"sk-estimator sk-toggleable\"><input class=\"sk-toggleable__control sk-hidden--visually\" id=\"sk-estimator-id-2\" type=\"checkbox\" checked><label for=\"sk-estimator-id-2\" class=\"sk-toggleable__label sk-toggleable__label-arrow\">LinearRegression</label><div class=\"sk-toggleable__content\"><pre>LinearRegression()</pre></div></div></div></div></div>"
      ],
      "text/plain": [
       "LinearRegression()"
      ]
     },
<<<<<<< HEAD
     "execution_count": 31,
=======
     "execution_count": 49,
>>>>>>> 5492643e5d2f80ab24282e8ebcc585af6ce17fae
     "metadata": {},
     "output_type": "execute_result"
    }
   ],
   "source": [
    "# fitting\n",
    "model.fit(X_train, y_train)"
   ]
  },
  {
   "cell_type": "code",
<<<<<<< HEAD
   "execution_count": 32,
=======
   "execution_count": 50,
>>>>>>> 5492643e5d2f80ab24282e8ebcc585af6ce17fae
   "id": "ebd694f9-1ae9-4231-8601-b4b96361c991",
   "metadata": {
    "tags": []
   },
   "outputs": [],
   "source": [
    "y_pred = model.predict(X_test)"
   ]
  },
  {
   "cell_type": "code",
<<<<<<< HEAD
   "execution_count": 33,
=======
   "execution_count": 51,
>>>>>>> 5492643e5d2f80ab24282e8ebcc585af6ce17fae
   "id": "c048f9cb-1614-44a3-a8f9-f6f0b2b48116",
   "metadata": {
    "tags": []
   },
   "outputs": [
    {
     "name": "stdout",
     "output_type": "stream",
     "text": [
      "Model Prediction:  [-6.41180981e+00 -5.60970856e+00 -1.04289956e+01 -7.94127740e+00\n",
      " -2.55734718e-01 -6.44994672e+00  2.47668975e+01 -2.14087804e+00\n",
      "  6.51863627e+00  6.48997980e+00 -1.00059010e+01  5.88417278e+00\n",
      "  1.28445286e+01 -3.52378833e+00 -8.85672992e+00 -9.47288024e-01\n",
      "  2.75120683e-01 -1.22062260e+01 -1.31287837e+01 -2.02247797e+00\n",
      "  3.60552196e-01  4.68503125e+00 -1.62395937e+00  7.01227871e+00\n",
      "  4.13605204e-01  8.12202330e+00  1.39134170e+00 -2.56449837e+00\n",
      " -7.45179071e+00  4.33921949e+02 -3.92554378e+00 -5.61255748e+00\n",
      "  2.50787164e+00  3.50551920e+00  7.76574073e-01  3.93240801e-01\n",
      "  8.39299110e+00  1.23403182e+01  1.89174974e+00 -9.65678858e+00\n",
      " -1.62956245e+01  4.28046953e+01 -1.70243514e+01 -8.88367352e+00\n",
      " -4.03658900e+01 -1.60988844e+01 -4.83763889e-01 -6.61749579e+00\n",
      " -4.51272976e+00 -3.39650874e+00 -1.68219467e+01 -3.41432215e+00\n",
      "  4.29134099e+02 -1.06224334e+01  1.43010569e+01  7.53584770e+00\n",
      "  7.42833333e+00  6.35623249e+00  9.46749184e+00  1.72457880e+00\n",
      "  2.85882208e+01  2.48645852e+00  1.01113525e+01  2.38003704e+01\n",
      " -1.52168461e+01  4.74721699e+00  3.70390599e+00  7.98605355e+00\n",
      " -3.18427270e-01 -1.02092918e+01 -1.22365009e+01 -5.58035559e+00\n",
      "  4.72917772e+00  5.88331411e+00  6.34404056e+00  2.40891506e+00\n",
      "  9.62631358e+00  9.39194127e-01  1.22854511e+00 -3.34117999e+01\n",
      "  9.40551090e+00  4.63992782e+00  2.96709418e+00 -1.17991006e+00\n",
      "  7.01240379e+00 -1.74953872e+01  4.40440062e-01  3.12184750e+00\n",
      "  1.17212544e+00 -2.21709304e+00  1.86483175e+01 -1.28866163e+00\n",
      " -1.83459528e+02  7.65441516e+00 -4.06887948e+00 -8.71339422e+00\n",
      " -3.13079645e+00  7.07955011e+00  4.75925458e+01  6.98867412e+00\n",
      " -3.78394768e+00  1.71418542e+01  1.53999228e+00 -1.26149949e+01\n",
      " -1.25552951e+01  2.62450081e+00  1.43913706e+01 -1.58455521e+01\n",
      "  3.48072658e+00  5.14840264e+00 -4.73329343e+00  8.51809454e-01\n",
      "  1.99790471e+01  1.32238862e+01  8.66849788e+00 -5.42144134e+00\n",
      "  1.26406211e+00 -2.77518400e-01  9.16046878e-01 -3.63459573e+00\n",
      " -3.03701999e-01 -6.34433800e+00 -8.60506906e+00  1.57733379e+01\n",
      " -1.47044916e+01  6.48164925e+00 -5.68828821e+00  4.10440200e+00\n",
      "  1.00958437e+01 -9.78092541e+00  4.13605716e+00 -2.29048646e+01\n",
      "  1.68479390e+01  1.07158917e+00]\n"
     ]
    }
   ],
   "source": [
    "print(\"Model Prediction: \" , y_pred)"
   ]
  },
  {
   "cell_type": "code",
   "execution_count": 70,
   "id": "0e788102-5834-46c6-af6f-f7ab22c09a59",
   "metadata": {
    "tags": []
   },
   "outputs": [
    {
     "name": "stdout",
     "output_type": "stream",
     "text": [
      "Total Model Prediction: 56.79017486314709\n",
      "R wins by 56.79017486314709\n"
     ]
    }
   ],
   "source": [
    "#What prediction would be using all years to test. Just 2020 is done below. \n",
    "total_prediction = sum(y_pred)\n",
    "print(\"Total Model Prediction:\", total_prediction)\n",
    "\n",
    "if total_prediction > 0:\n",
    "    print(\"R wins by \"+ str(total_prediction))\n",
    "elif total_prediction < 0:\n",
    "    print(\"D wins by \"+ str(total_prediction))\n",
    "else:\n",
    "    print(\"Cannot make a prediction.\")"
   ]
  },
  {
   "cell_type": "code",
   "execution_count": 31,
   "id": "01a96a82-7fb7-4114-929f-5a923e05384e",
   "metadata": {
    "tags": []
   },
   "outputs": [
    {
     "data": {
      "image/png": "iVBORw0KGgoAAAANSUhEUgAAA14AAAIjCAYAAAATE8pZAAAAOXRFWHRTb2Z0d2FyZQBNYXRwbG90bGliIHZlcnNpb24zLjguMCwgaHR0cHM6Ly9tYXRwbG90bGliLm9yZy81sbWrAAAACXBIWXMAAA9hAAAPYQGoP6dpAABzUElEQVR4nO3deXxU9b3/8feZfTJJJgSSsO+4oKgVFNG6U6Jib61L1apFa723XrTurd7bunSzP62tbW8t7a0XvK3WpVVvtValuFVF3IoVLAgIBglZIMlMMvuZc35/DJkSspCEHLK9no/HPCRnTuZ8ZybOmff5fr+fr2Hbti0AAAAAgGNc/d0AAAAAABjqCF4AAAAA4DCCFwAAAAA4jOAFAAAAAA4jeAEAAACAwwheAAAAAOAwghcAAAAAOIzgBQAAAAAOI3gBAAAAgMMIXgCAQckwDN1+++393YwB6fbbb5dhGG22TZ48WZdeemn/NKgDHbURAIYyghcAQPfdd58Mw9DcuXN7/RjV1dW6/fbbtXr16r5r2CBlGEb+5nK5NHbsWC1YsEAvvfRSfzetR3hPAaDvePq7AQCA/vfggw9q8uTJevPNN7Vx40ZNnz69x49RXV2tO+64Q5MnT9YRRxzR940cZD7zmc/oS1/6kmzb1ubNm3XffffplFNO0Z/+9Cedfvrp+70969evl8vVs+utvKcA0Hfo8QKAYW7z5s16/fXX9aMf/UhlZWV68MEH+7tJQ8IBBxygiy++WJdccoluvfVWLV++XLZt69577+30d5LJpCzLcqQ9fr9fXq/XkccGAOwdwQsAhrkHH3xQI0aM0MKFC3Xuued2Gryampp03XXXafLkyfL7/Ro/fry+9KUvaceOHXrppZd01FFHSZIuu+yy/DC7ZcuWSep8ftFJJ52kk046Kf9zOp3WrbfeqtmzZyscDisUCun444/Xiy++2OPnVVtbK4/HozvuuKPdfevXr5dhGPqv//ovSVImk9Edd9yhGTNmKBAIaOTIkfr0pz+t5cuX9/i4nZk1a5ZGjRqlzZs3S5JeeuklGYahhx9+WN/85jc1btw4FRQUKBqNSpJWrVql0047TeFwWAUFBTrxxBP12muvtXvcV199VUcddZQCgYCmTZumX/7ylx0ev6P3YF/eUyfaCABDGUMNAWCYe/DBB3X22WfL5/Ppwgsv1C9+8Qu99dZb+S/dktTS0qLjjz9e//jHP/TlL39ZRx55pHbs2KE//vGP+uSTT3TwwQfr29/+tm699Vb967/+q44//nhJ0rHHHtujtkSjUf3617/WhRdeqCuuuELNzc26//77VVlZqTfffLNHw90qKip04okn6tFHH9Vtt93W5r5HHnlEbrdb5513nqRcoYc777xTX/nKV3T00UcrGo3q7bff1rvvvqvPfOYzPXoOnWlsbFRjY2O7YZzf+c535PP5dOONNyqVSsnn8+mFF17Q6aefrtmzZ+u2226Ty+XS0qVLdcopp+ivf/2rjj76aEnS+++/rwULFqisrEy33367TNPUbbfdpoqKir22Z1/f0/3RRgAYUmwAwLD19ttv25Ls5cuX27Zt25Zl2ePHj7evueaaNvvdeuuttiT78ccfb/cYlmXZtm3bb731li3JXrp0abt9Jk2aZC9atKjd9hNPPNE+8cQT8z+bpmmnUqk2+zQ2NtoVFRX2l7/85TbbJdm33XZbl8/vl7/8pS3Jfv/999tsnzlzpn3KKafkfz788MPthQsXdvlYPSHJvvzyy+36+nq7rq7OXrVqlX3qqafakux77rnHtm3bfvHFF21J9tSpU+14PJ7/Xcuy7BkzZtiVlZX519a2bTsej9tTpkyxP/OZz+S3nXXWWXYgELA//vjj/LYPPvjAdrvd9p6n+D3fg315T51qIwAMZQw1BIBh7MEHH1RFRYVOPvlkSblqfOeff74efvhhZbPZ/H5/+MMfdPjhh+vzn/98u8foy5LgbrdbPp9PkmRZlhoaGmSapubMmaN33323x4939tlny+Px6JFHHslvW7NmjT744AOdf/75+W0lJSVau3atNmzYsO9PYpf7779fZWVlKi8v19y5c/Xaa6/p+uuv17XXXttmv0WLFikYDOZ/Xr16tTZs2KAvfvGL2rlzp3bs2KEdO3YoFovp1FNP1SuvvCLLspTNZvXcc8/prLPO0sSJE/O/f/DBB6uysnKv7duX93R/tREAhhKGGgLAMJXNZvXwww/r5JNPzs87kqS5c+fqnnvu0YoVK7RgwQJJ0qZNm3TOOefsl3Y98MADuueee7Ru3TplMpn89ilTpvT4sUaNGqVTTz1Vjz76qL7zne9Iyg0z9Hg8Ovvss/P7ffvb39bnPvc5HXDAATr00EN12mmn6ZJLLtFhhx3W6+fxuc99TldddZUMw1BRUZEOOeQQhUKhdvvt+bxaw9+iRYs6fexIJKJUKqVEIqEZM2a0u//AAw/UM88802X79uU93V9tBIChhOAFAMPUCy+8oO3bt+vhhx/Www8/3O7+Bx98MB+89lVnPSjZbFZutzv/829/+1tdeumlOuuss3TTTTepvLxcbrdbd955pzZt2tSrY19wwQW67LLLtHr1ah1xxBF69NFHdeqpp2rUqFH5fU444QRt2rRJ//d//6fnn39ev/71r/XjH/9YS5Ys0Ve+8pVeHXf8+PGaP3/+XvfbvbdLUr6q4d13393pnLbCwkKlUqletasvDIY2AsBAQ/ACgGHqwQcfVHl5uX7+85+3u+/xxx/XE088oSVLligYDGratGlas2ZNl4/X1fC0ESNGqKmpqd32jz/+WFOnTs3//Pvf/15Tp07V448/3ubx9iyO0RNnnXWW/u3f/i0/3PDDDz/ULbfc0m6/0tJSXXbZZbrsssvU0tKiE044Qbfffnuvg1dvTZs2TZJUXFzcZXArKytTMBjscHjk+vXru3Wc3r6n+6uNADCUMMcLAIahRCKhxx9/XGeeeabOPffcdrerrrpKzc3N+uMf/yhJOuecc/Tee+/piSeeaPdYtm1LUn4YXUcBa9q0aXrjjTeUTqfz255++mlt3bq1zX6tvV+tjynlSpavXLmy18+1pKRElZWVevTRR/Xwww/L5/PprLPOarPPzp072/xcWFio6dOnt+mxiUQiWrdunSKRSK/b0h2zZ8/WtGnT9MMf/lAtLS3t7q+vr5eUe60qKyv15JNPqqqqKn//P/7xDz333HN7Pc6+vKf7q40AMJTQ4wUAw9Af//hHNTc361/+5V86vP+YY47JL6Z8/vnn66abbtLvf/97nXfeefryl7+s2bNnq6GhQX/84x+1ZMkSHX744Zo2bZpKSkq0ZMkSFRUVKRQKae7cuZoyZYq+8pWv6Pe//71OO+00feELX9CmTZv029/+Nt9z0urMM8/U448/rs9//vNauHChNm/erCVLlmjmzJkdfsHvrvPPP18XX3yx7rvvPlVWVqqkpKTN/TNnztRJJ52k2bNnq7S0VG+//bZ+//vf66qrrsrv88QTT+iyyy7T0qVLO1yTrK+4XC79+te/1umnn65DDjlEl112mcaNG6dt27bpxRdfVHFxsZ566ilJ0h133KFnn31Wxx9/vP793/9dpmnqZz/7mQ455BD9/e9/7/I4+/qe7o82AsCQ0s9VFQEA/eCzn/2sHQgE7Fgs1uk+l156qe31eu0dO3bYtm3bO3futK+66ip73Lhxts/ns8ePH28vWrQof79t2/b//d//2TNnzrQ9Hk+7MuT33HOPPW7cONvv99vHHXec/fbbb7crJ29Zlv3973/fnjRpku33++1PfepT9tNPP20vWrTInjRpUpv2qRvl5FtFo1E7GAzakuzf/va37e7/7ne/ax999NF2SUmJHQwG7YMOOsj+3ve+Z6fT6fw+S5cu7bRc/p4k2YsXL+5yn9Zy8o899liH9//tb3+zzz77bHvkyJG23++3J02aZH/hC1+wV6xY0Wa/l19+2Z49e7bt8/nsqVOn2kuWLLFvu+22vZaTt+19f0/7uo0AMJQZtr3beA4AAAAAQJ9jjhcAAAAAOIzgBQAAAAAOI3gBAAAAgMMIXgAAAADgMIIXAAAAADiM4AUAAAAADmMB5R6yLEvV1dUqKiqSYRj93RwAAAAA/cS2bTU3N2vs2LFyubru0yJ49VB1dbUmTJjQ380AAAAAMEBs3bpV48eP73IfglcPFRUVScq9uMXFxf3cGgAAAAD9JRqNasKECfmM0BWCVw+1Di8sLi4meAEAAADo1hQkimsAAAAAgMMIXgAAAADgMIIXAAAAADiM4AUAAAAADiN4AQAAAIDDCF4AAAAA4DCCFwAAAAA4jOAFAAAAAA4jeAEAAACAwwheAAAAAOAwghcAAAAAOIzgBQAAAAAOI3gBAAAAgMM8/d0AAAAAYCCzLFvbmhKKpU2FfB6NKwnK5TL6u1kYZAheAAAAQCc21jXruTW12lTfoqSZVcDj1rSyQlUeWqHp5UX93TwMIgQvAAAAoAMb65q19LUtaoilNSYcUIEvqHja1JrqiKojCV123GTCF7qN4AUAAADswbJsPbemVg2xtGaUF8owckMLiwJeFfo92lDXoufX1mrqqMJBM+yQIZP9i+AFAAAA7GFbU0Kb6ls0JhzIh65WhmFoTDigjXUt2taU0ITSgn5qZfcxZLL/UdUQAAAA2EMsbSppZlXg67ifIuhzK2VmFUub+7llPdc6ZHJNdUQlBV5NHVWokgKv1lRHtPS1LdpY19zfTRwWCF4AAADAHkI+jwIet+KdBKtEOiu/x61QJ8FsoNhzyGRRwCu3y1BRwKsZ5YVqiKX1/NpaWZbd300d8gheAAAAwB7GlQQ1raxQ2yNJ2XbbUGLbtrZHkppeXqhxJcF+amH39GTIJJxF8AIAAAD24HIZqjy0QqUhnzbUtag5mZFpWWpOZrShrkWlIZ8WHFIx4ItTDKUhk4MdwQsAAADowPTyIl123GQdOjaspnhGW3bE1BTPaNa48KApJT9UhkwOBbzCAAAAQCemlxdp6kmFg7YMe+uQyTXVERX6PW2GG7YOmZw1Ljzgh0wOBQQvAAAAoAsulzEoSsZ3pHXIZHUkoQ11ubleQZ9biXRW2yPJQTNkcihgqCEAAAAwhA2FIZNDAT1eAAAAwBA32IdMDgUELwAAAGAYGMxDJocChhoCAAAAgMMIXgAAAADgMIIXAAAAADiM4AUAAAAADiN4AQAAAIDDCF4AAAAA4DCCFwAAAAA4jOAFAAAAAA4jeAEAAACAwwZt8PrBD34gwzB07bXX5rclk0ktXrxYI0eOVGFhoc455xzV1ta2+b2qqiotXLhQBQUFKi8v10033STTNPdz6wEAAAAMJ4MyeL311lv65S9/qcMOO6zN9uuuu05PPfWUHnvsMb388suqrq7W2Wefnb8/m81q4cKFSqfTev311/XAAw9o2bJluvXWW/f3UwAAAAAwjAy64NXS0qKLLrpI//3f/60RI0bkt0ciEd1///360Y9+pFNOOUWzZ8/W0qVL9frrr+uNN96QJD3//PP64IMP9Nvf/lZHHHGETj/9dH3nO9/Rz3/+c6XT6f56SgAAAACGuEEXvBYvXqyFCxdq/vz5bba/8847ymQybbYfdNBBmjhxolauXClJWrlypWbNmqWKior8PpWVlYpGo1q7dm2Hx0ulUopGo21uAAAAANATnv5uQE88/PDDevfdd/XWW2+1u6+mpkY+n08lJSVttldUVKimpia/z+6hq/X+1vs6cuedd+qOO+7og9YDAAAAGK4GTY/X1q1bdc011+jBBx9UIBDYb8e95ZZbFIlE8retW7fut2MDAAAAGBoGTfB65513VFdXpyOPPFIej0cej0cvv/yyfvrTn8rj8aiiokLpdFpNTU1tfq+2tlajR4+WJI0ePbpdlcPWn1v32ZPf71dxcXGbGwAAAAD0xKAJXqeeeqref/99rV69On+bM2eOLrroovy/vV6vVqxYkf+d9evXq6qqSvPmzZMkzZs3T++//77q6ury+yxfvlzFxcWaOXPmfn9OAAAAAIaHQTPHq6ioSIceemibbaFQSCNHjsxvv/zyy3X99dertLRUxcXFuvrqqzVv3jwdc8wxkqQFCxZo5syZuuSSS3TXXXeppqZG3/zmN7V48WL5/f79/pwAAAAADA+DJnh1x49//GO5XC6dc845SqVSqqys1H333Ze/3+126+mnn9aVV16pefPmKRQKadGiRfr2t7/dj60GAAAAMNQZtm3b/d2IwSQajSocDisSiTDfCwAAABjGepINBs0cLwAAAAAYrAheAAAAAOAwghcAAAAAOIzgBQAAAAAOI3gBAAAAgMMIXgAAAADgMIIXAAAAADiM4AUAAAAADiN4AQAAAIDDCF4AAAAA4DCCFwAAAAA4jOAFAAAAAA4jeAEAAACAwwheAAAAAOAwghcAAAAAOIzgBQAAAAAOI3gBAAAAgMMIXgAAAADgMIIXAAAAADiM4AUAAAAADiN4AQAAAIDDCF4AAAAA4DCCFwAAAAA4jOAFAAAAAA4jeAEAAACAwwheAAAAAOAwghcAAAAAOIzgBQAAAAAOI3gBAAAAgMMIXgAAAADgMIIXAAAAADiM4AUAAAAADiN4AQAAAIDDCF4AAAAA4DCCFwAAAAA4jOAFAAAAAA4jeAEAAACAwwheAAAAAOAwghcAAAAAOIzgBQAAAAAOI3gBAAAAgMMIXgAAAADgMIIXAAAAADiM4AUAAAAADiN4AQAAAIDDCF4AAAAA4DCCFwAAAAA4jOAFAAAAAA4jeAEAAACAwwheAAAAAOAwghcAAAAAOIzgBQAAAAAOI3gBAAAAgMMIXgAAAADgMIIXAAAAADiM4AUAAAAADiN4AQAAAIDDBk3w+sUvfqHDDjtMxcXFKi4u1rx58/TnP/85f38ymdTixYs1cuRIFRYW6pxzzlFtbW2bx6iqqtLChQtVUFCg8vJy3XTTTTJNc38/FQAAAADDzKAJXuPHj9cPfvADvfPOO3r77bd1yimn6HOf+5zWrl0rSbruuuv01FNP6bHHHtPLL7+s6upqnX322fnfz2azWrhwodLptF5//XU98MADWrZsmW699db+ekoAAAAAhgnDtm27vxvRW6Wlpbr77rt17rnnqqysTA899JDOPfdcSdK6det08MEHa+XKlTrmmGP05z//WWeeeaaqq6tVUVEhSVqyZIm+8Y1vqL6+Xj6fr1vHjEajCofDikQiKi4uduy5AQAAABjYepINBk2P1+6y2awefvhhxWIxzZs3T++8844ymYzmz5+f3+eggw7SxIkTtXLlSknSypUrNWvWrHzokqTKykpFo9F8r1lHUqmUotFomxsAAAAA9MSgCl7vv/++CgsL5ff79dWvflVPPPGEZs6cqZqaGvl8PpWUlLTZv6KiQjU1NZKkmpqaNqGr9f7W+zpz5513KhwO528TJkzo2ycFAAAAYMgbVMHrwAMP1OrVq7Vq1SpdeeWVWrRokT744ANHj3nLLbcoEonkb1u3bnX0eAAAAACGHk9/N6AnfD6fpk+fLkmaPXu23nrrLf3kJz/R+eefr3Q6raampja9XrW1tRo9erQkafTo0XrzzTfbPF5r1cPWfTri9/vl9/v7+JkAAAAAGE4GVY/XnizLUiqV0uzZs+X1erVixYr8fevXr1dVVZXmzZsnSZo3b57ef/991dXV5fdZvny5iouLNXPmzP3edgAAAADDx6Dp8brlllt0+umna+LEiWpubtZDDz2kl156Sc8995zC4bAuv/xyXX/99SotLVVxcbGuvvpqzZs3T8ccc4wkacGCBZo5c6YuueQS3XXXXaqpqdE3v/lNLV68mB4tAAAAAI4aNMGrrq5OX/rSl7R9+3aFw2Eddthheu655/SZz3xGkvTjH/9YLpdL55xzjlKplCorK3Xfffflf9/tduvpp5/WlVdeqXnz5ikUCmnRokX69re/3V9PCQAAAMAwMajX8eoPrOMFAAAAQBoG63gBAAAAwGBC8AIAAAAAhxG8AAAAAMBhBC8AAAAAcBjBCwAAAAAcRvACAAAAAIcRvAAAAADAYQQvAAAAAHAYwQsAAAAAHEbwAgAAAACHEbwAAAAAwGEELwAAAABwGMELAAAAABxG8AIAAAAAhxG8AAAAAMBhBC8AAAAAcBjBCwAAAAAcRvACAAAAAIcRvAAAAADAYQQvAAAAAHAYwQsAAAAAHEbwAgAAAACHEbwAAAAAwGEELwAAAABwGMELAAAAABxG8AIAAAAAhxG8AAAAAMBhBC8AAAAAcBjBCwAAAAAcRvACAAAAAIcRvAAAAADAYQQvAAAAAHAYwQsAAAAAHEbwAgAAAACHEbwAAAAAwGEELwAAAABwGMELAAAAABxG8AIAAAAAhxG8AAAAAMBhBC8AAAAAcBjBCwAAAAAcRvACAAAAAIcRvAAAAADAYQQvAAAAAHAYwQsAAAAAHEbwAgAAAACHEbwAAAAAwGEELwAAAABwGMELAAAAABxG8AIAAAAAhxG8AAAAAMBhBC8AAAAAcBjBCwAAAAAcRvACAAAAAIcRvAAAAADAYQQvAAAAAHAYwQsAAAAAHDZogtedd96po446SkVFRSovL9dZZ52l9evXt9knmUxq8eLFGjlypAoLC3XOOeeotra2zT5VVVVauHChCgoKVF5erptuukmmae7PpwIAAABgmBk0wevll1/W4sWL9cYbb2j58uXKZDJasGCBYrFYfp/rrrtOTz31lB577DG9/PLLqq6u1tlnn52/P5vNauHChUqn03r99df1wAMPaNmyZbr11lv74ykBAAAAGCYM27bt/m5Eb9TX16u8vFwvv/yyTjjhBEUiEZWVlemhhx7SueeeK0lat26dDj74YK1cuVLHHHOM/vznP+vMM89UdXW1KioqJElLlizRN77xDdXX18vn8+31uNFoVOFwWJFIRMXFxY4+RwAAAAADV0+ywaDp8dpTJBKRJJWWlkqS3nnnHWUyGc2fPz+/z0EHHaSJEydq5cqVkqSVK1dq1qxZ+dAlSZWVlYpGo1q7dm2Hx0mlUopGo21uAAAAANATgzJ4WZala6+9Vscdd5wOPfRQSVJNTY18Pp9KSkra7FtRUaGampr8PruHrtb7W+/ryJ133qlwOJy/TZgwoY+fDQAAAIChblAGr8WLF2vNmjV6+OGHHT/WLbfcokgkkr9t3brV8WMCAAAAGFo8/d2Anrrqqqv09NNP65VXXtH48ePz20ePHq10Oq2mpqY2vV61tbUaPXp0fp8333yzzeO1Vj1s3WdPfr9ffr+/j58FAAAAgOFk0PR42batq666Sk888YReeOEFTZkypc39s2fPltfr1YoVK/Lb1q9fr6qqKs2bN0+SNG/ePL3//vuqq6vL77N8+XIVFxdr5syZ++eJAAAAABh2Bk2P1+LFi/XQQw/p//7v/1RUVJSfkxUOhxUMBhUOh3X55Zfr+uuvV2lpqYqLi3X11Vdr3rx5OuaYYyRJCxYs0MyZM3XJJZforrvuUk1Njb75zW9q8eLF9GoBAAAAcMygKSdvGEaH25cuXapLL71UUm4B5RtuuEG/+93vlEqlVFlZqfvuu6/NMMKPP/5YV155pV566SWFQiEtWrRIP/jBD+TxdC+DUk4eAAAAgNSzbDBogtdAQfACAAAAIA2TdbwAAAAAYLAgeAEAAACAwwheAAAAAOAwghcAAAAAOIzgBQAAAAAOI3gBAAAAgMMIXgAAAADgMIIXAAAAADiM4AUAAAAADiN4AQAAAIDDCF4AAAAA4DCCFwAAAAA4jOAFAAAAAA4jeAEAAACAwwheAAAAAOAwT3d3jEaj3X7Q4uLiXjUGAAAAAIaibgevkpISGYbRrX2z2WyvGwQAAAAAQ023g9eLL76Y//eWLVt0880369JLL9W8efMkSStXrtQDDzygO++8s+9bCQAAAACDmGHbtt3TXzr11FP1la98RRdeeGGb7Q899JB+9atf6aWXXuqr9g040WhU4XBYkUiEIZUAAADAMNaTbNCr4horV67UnDlz2m2fM2eO3nzzzd48JAAAAAAMWb0KXhMmTNB///d/t9v+61//WhMmTNjnRgEAAADAUNLtOV67+/GPf6xzzjlHf/7znzV37lxJ0ptvvqkNGzboD3/4Q582EAAAAAAGu171eJ1xxhn68MMP9dnPflYNDQ1qaGjQZz/7WX344Yc644wz+rqNAAAAADCo9aq4xnBGcQ0AAAAA0n4oriFJf/3rX3XxxRfr2GOP1bZt2yRJv/nNb/Tqq6/29iEBAAAAYEjqVfD6wx/+oMrKSgWDQb377rtKpVKSpEgkou9///t92kAAAAAAGOx6Fby++93vasmSJfrv//5veb3e/PbjjjtO7777bp81DgAAAACGgl4Fr/Xr1+uEE05otz0cDqupqWlf2wQAAAAAQ0qvgtfo0aO1cePGdttfffVVTZ06dZ8bBQAAAABDSa+C1xVXXKFrrrlGq1atkmEYqq6u1oMPPqgbb7xRV155ZV+3EQAAAAAGtV4toHzzzTfLsiydeuqpisfjOuGEE+T3+3XjjTfq6quv7us2AgAAAMCgtk/reKXTaW3cuFEtLS2aOXOmCgsL+7JtAxLreAEAAACQ9sM6Xl/+8pfV3Nwsn8+nmTNn6uijj1ZhYaFisZi+/OUv96rRAAAAADBU9Sp4PfDAA0okEu22JxIJ/e///u8+NwoAAAAAhpIezfGKRqOybVu2bau5uVmBQCB/Xzab1TPPPKPy8vI+byQAAAAADGY9Cl4lJSUyDEOGYeiAAw5od79hGLrjjjv6rHEAAAAAMBT0KHi9+OKLsm1bp5xyiv7whz+otLQ0f5/P59OkSZM0duzYPm8kAAAAAAxmPQpeJ554oiRp8+bNmjhxogzDcKRRAAAAADCU9Kq4xgsvvKDf//737bY/9thjeuCBB/a5UQAAAAAwlPQqeN15550aNWpUu+3l5eX6/ve/v8+NAgAAAIChpFfBq6qqSlOmTGm3fdKkSaqqqtrnRgEAAADAUNKr4FVeXq6///3v7ba/9957Gjly5D43CgAAAACGkl4FrwsvvFBf+9rX9OKLLyqbzSqbzeqFF17QNddcowsuuKCv2wgAAAAAg1qPqhq2+s53vqMtW7bo1FNPlceTewjLsvSlL32JOV4AAAAAsAfDtm27t7/84Ycf6r333lMwGNSsWbM0adKkvmzbgBSNRhUOhxWJRFRcXNzfzQEAAADQT3qSDXrV49XqgAMO0AEHHLAvDwEAAAAAQ163g9f111+v73znOwqFQrr++uu73PdHP/rRPjcMAAAAAIaKbgevv/3tb8pkMvl/d8YwjH1vFQAAAAAMIfs0x2s4Yo4XAAAAAKln2aBX5eQBAAAAAN3X7aGGZ599drcf9PHHH+9VYwAAAABgKOp2j1c4HM7fiouLtWLFCr399tv5+9955x2tWLFC4XDYkYYCAAAAwGDV7R6vpUuX5v/9jW98Q1/4whe0ZMkSud1uSVI2m9W///u/M+8JAAAAAPbQq+IaZWVlevXVV3XggQe22b5+/Xode+yx2rlzZ581cKChuAYAAAAAaT8U1zBNU+vWrWu3fd26dbIsqzcPCQAAAABDVreHGu7usssu0+WXX65Nmzbp6KOPliStWrVKP/jBD3TZZZf1aQMBAAAAYLDrVfD64Q9/qNGjR+uee+7R9u3bJUljxozRTTfdpBtuuKFPGwgAAAAAg12vhhq6XC59/etf17Zt29TU1KSmpiZt27ZNX//61/PFNpzwyiuv6LOf/azGjh0rwzD05JNPtrnftm3deuutGjNmjILBoObPn68NGza02aehoUEXXXSRiouLVVJSossvv1wtLS2OtRkAAAAAer2Asmma+stf/qLf/e53MgxDklRdXe1oiInFYjr88MP185//vMP777rrLv30pz/VkiVLtGrVKoVCIVVWViqZTOb3ueiii7R27VotX75cTz/9tF555RX967/+q2NtBgAAAIBeVTX8+OOPddppp6mqqkqpVEoffvihpk6dqmuuuUapVEpLlixxoq1tGIahJ554QmeddZakXG/X2LFjdcMNN+jGG2+UJEUiEVVUVGjZsmW64IIL9I9//EMzZ87UW2+9pTlz5kiSnn32WZ1xxhn65JNPNHbs2L0el6qGAAAAAKT9UNXwmmuu0Zw5c9TY2KhgMJjf/vnPf14rVqzozUPus82bN6umpkbz58/PbwuHw5o7d65WrlwpSVq5cqVKSkryoUuS5s+fL5fLpVWrVnX4uKlUStFotM0NAAAAAHqiV8U1/vrXv+r111+Xz+drs33y5Mnatm1bnzSsp2pqaiRJFRUVbbZXVFTk76upqVF5eXmb+z0ej0pLS/P77OnOO+/UHXfc4UCLAQAAAAwXverxsixL2Wy23fZPPvlERUVF+9yogeSWW25RJBLJ37Zu3drfTQIAAAAwyPQqeC1YsED33ntv/mfDMNTS0qLbbrtNZ5xxRl+1rUdGjx4tSaqtrW2zvba2Nn/f6NGjVVdX1+Z+0zTV0NCQ32dPfr9fxcXFbW4AAAAA0BO9Cl4//OEP9dprr2nmzJlKJpP64he/mB9m+P/+3//r6zZ2y5QpUzR69Og2c8yi0ahWrVqlefPmSZLmzZunpqYmvfPOO/l9XnjhBVmWpblz5+73NgMAAAAYHno1x2vChAl677339Mgjj+i9995TS0uLLr/8cl100UVtim30tZaWFm3cuDH/8+bNm7V69WqVlpZq4sSJuvbaa/Xd735XM2bM0JQpU/Stb31LY8eOzVc+PPjgg3Xaaafpiiuu0JIlS5TJZHTVVVfpggsu6FZFQwAAAADojR6Xk89kMjrooIP09NNP6+CDD3aqXR166aWXdPLJJ7fbvmjRIi1btky2beu2227Tr371KzU1NenTn/607rvvPh1wwAH5fRsaGnTVVVfpqaeeksvl0jnnnKOf/vSnKiws7FYbKCcPAAAAQOpZNujVOl7jxo3TX/7yl/0evAYCghcAAAAAaT+s47V48WL9v//3/2SaZq8aCAAAAADDSa/meL311ltasWKFnn/+ec2aNUuhUKjN/Y8//nifNA4AAAAAhoJeBa+SkhKdc845fd0WAAAAABiSehS8LMvS3XffrQ8//FDpdFqnnHKKbr/9dkcrGQIAAADAYNejOV7f+9739B//8R8qLCzUuHHj9NOf/lSLFy92qm0AAAAAMCT0KHj97//+r+677z4999xzevLJJ/XUU0/pwQcflGVZTrUPAAAAAAa9HgWvqqoqnXHGGfmf58+fL8MwVF1d3ecNAwAAAIChokfByzRNBQKBNtu8Xq8ymUyfNgoAAAAAhpIeFdewbVuXXnqp/H5/flsymdRXv/rVNiXlKScPAAAAAP/Uo+C1aNGidtsuvvjiPmsMAAAAAAxFPQpeS5cudaodAAAAADBk9WiOFwAAAACg5wheAAAAAOAwghcAAAAAOIzgBQAAAAAOI3gBAAAAgMMIXgAAAADgMIIXAAAAADiM4AUAAAAADiN4AQAAAIDDCF4AAAAA4DCCFwAAAAA4jOAFAAAAAA4jeAEAAACAwzz93QAAXbMsW9uaEoqlTYV8Ho0rCcrlMvq7WQAAAOgBghcwgG2sa9Zza2q1qb5FSTOrgMetaWWFqjy0QtPLi/q7eQAAAOgmghcwQG2sa9bS17aoIZbWmHBABb6g4mlTa6ojqo4kdNlxkwlfAAAAgwRzvIAByLJsPbemVg2xtGaUF6oo4JXbZago4NWM8kLtbEnr0be36oPtEW1tiMuy7P5uMgAAALpAjxcwAG1rSmhTfYvGhAMyjLbzuRrjadU3J7W2OqIPa5tVWuBn+CEAAMAAR48XMADF0qaSZlYFvrbXRhpiKa3e2qSmeFpul6HRxUGVFHi1pjqipa9t0ca65n5qMQAAALpC8AIGoJDPo4DHrXjazG+zbVub6mJKpLMqDHgV8LoV9Lrzww8bYmk9v7aWYYcAAAADEMELGIDGlQQ1raxQ2yNJ2XYuSDUnTTXE0wr53YqlTJWGfCoK5HrEDMPQmHBAG+tatK0p0Z9NBwAAQAcIXsAA5HIZqjy0QqUhnzbUtag5mVEik1UiY6olmVXQ59G0ssI287+CPrdSZlax3XrJAAAAMDAQvIABanp5kS47brIOHRtWUzyj2mhSliWVhLw6YkKJSkO+Nvsn0ln5PW6FfNTMAQAAGGj4hgYMYNPLizT1pEJta0qoOZnRk3+rVlVDTCMKvG32s21b2yNJzRoX1riSYD+1FgAAAJ0heAEDnMtlaEJpgSTJ53Fp6WtbtKEuV2o+6HMrkc5qeySp0pBPCw6pkMtl7OURAQAAsL8RvIBBpHX44XNrarWpvkW10aT8HrdmjQtrwSGs4wUAGF4sy9a2poRiaVMhn0fjSoJcgMSARfACBpndhx9yogEADFcb65rzFyKTZlYBj1vTygpVeSgXIjEwEbyAQWj34YcAAAw3G+uatfS1LWqIpTUmHFCBL6h42tSa6oiqIwlddtxkwhcGHIIXAAAABg3LsvXcmlo1xNKaUf7PpVWKAl4V+j3aUNei59fWauqowm6NBmG4IvYXghfQh/jwBgDAWduaEtpUnysytft6lpJkGIbGhAPaWNeibU2JvY4OYbgi9ieCF9BH+PAGAMB5sbSppJlVga/j5VOCPrdqo0nF0maXj8NwRexvLKAM9IHWD+811RGVFHg1dVShSgq8WlMd0dLXtmhjXXN/NxEAgCEh5PMo4HEr3kmwSqSz8nvcCvk671/Yc7hiUcArt8tQUcCrGeWF2tmS0mNvf6IPqiPa2hCXZdlOPR0MI/R4Afuor8eaAwCAzo0rCWpaWaHWVEdU6Pe0GW5o27a2R5KaNS6scSUd94hJXQ9XbIxnVN+c0trqqNbXNqu0wNfrESxMQcDuCF7Yb4bqh09fjjUHAABdc7kMVR5aoepIQhvqcuffoM+tRDqr7ZGkSkM+LTikosvvGJ0NV2yIpbV6a5PiKVNulzS6OKACn1trqiPa1pTQ6bNGq6zI363vMUxBwJ4IXtgvhvKHT1+NNQcAAN0zvbxIlx03Of/dojaalN/j1qxxYS04ZO/fLXYfrlgU8ErK9ZZtrGtRIm2qMOBWynQp6HWrKOBV2szqzc0NWr21SZNGBhX0err8HtPZ/LH3tzXpw7pmLZw1RgePKR4yF6HRPQQvOG6oT17t6MN7d90Zaw4AQH8YzKNRppcXaepJhb1qf0fDFZuTphrjaRX6PWpJmSovDqgo4FFDLKX3PokoZWaVtSwFPR5Ztq03t+zUtqa4vvzpKW2+x3Q2BSGTtRVJZPTxJxGt2x7VzDHFml5eNCQuQqN7+CYIRw2H+U99MdYcAIDe6m14GmijUXrzPFwuo1fD+DsarpjImEpmssqYWRX4PZpWFpIkbaqLKZHOqjDg0fampN7d2iiPy5DHZWh7JKmg163/XDgz39aOpiC0DmFMpE2VFHiVtWx53a4hcxEa3UPwgqOGw/ynvhhrDgBAb/Q2PA200Sj9EQL3HK7YGE8pa9kaWezXzDHFKg35FU1k1BBPy+M2VBNJKZ21FPS5Vej3KJO11RhL64V1dTrpoHIdP6NMUvspCLsPYSwN+WRLaoqn5fW4NCNc2OVF6MHcI4n2CF5w1HCZ/9TTseZ8kAIA9lVX4WlbU1xnzBqjUR0Ughhoo1H2fB5Bb0D1zSmt/GiHPqxt1uKTp+uA0W2H8vXVOXT34YrNqYyefHebqhoSGlHgkySls5bMrKV4OtcbNqLAq6Jdo1v8HkNlRT590pjQin/U6rhpo+RyGe2mIOSHMAa8MgxDaTMrt8sln9vV5UXogdYj2V2WZSmVSimdTre57bltbz+n02lde+21crmGzupXBC84ajjNf+ruWPPB+kHqJIIoAPRMV+EpbVp6c0uD3tvapIkjQwp6255nuhqNIkkhn1uvbqhXeZFfR08p1fgRBY59Ju/5PBrjaa3b3qyGeFqZbFYf1cf0nac/0H+eeZBCPq/+sT2qt7c0qr45qVTW6pNz6O7DFX1HubT0tS35ESxuw1DGtBRJmAp43SoN+du8ZqZlK+T3aHskmQ9Oe05BaA1v3oBHtm2rJfnP+WNS7iJ0TSSpTfUt+fNgImPqgdc/bheq/76143lle3rppZeUTCb3Ofi0bjvjjDP0ta99rcvX8Vvf+pbuvPNOZbPZXr0PHfn3f/93BQKBPnu8/jb4v+1iQBtM85/29uW/o/sltdvW1ZDJ7gztmDqqdxOFByuCKAD0XGfhqSGWzhWCyGSVspWfi/T+tn+eZ0zLViJjqjDr0Y6WlHxul4oCHjXG03r/k4i2NiYUS5naUNeisiK/jpk6Ul+cO7FXn8l7O7fu/jwa463zoHLzqYoCHsU8ptbVRHXdw++ppMCrbY0JmZatMeGADhxdrIC3+/OkumqLbdvKZrMaW+jW2YeE9fzfq/VRVb3iyZSSO5qUjMZUUuhWS9RW1MzIypryBgtllM9QWZFfbsPIj97ZfQrCq6+vVNU7K1TX2CJZpsxMRoad1Taf9J6VVdbMKJZIqiWR1GN2VlY2IztrKpNOK2tm5LJNZTMZmWZGWTMj27J0wV1/0PMjCrrskTzjjDOUSCR6/H51ZuLEiXvdxzCMPg1dkpROpwleQHcNlvlPe/vy39H9JUGvZEhN8Uy3AkN3hnY8tKpKpQU+fbQj1uMQ0tUJpa97lPrq8QbaHAMAw9tg6n3vaCh/61yiSCItM2upOWnqvU+aVODzaETQq1ja1PNra3XIuGJ9vDOhD2tbZEjyuF0KeF1qjKXVGM/Itm0FvC6NKvQpnjK1/INa1TWndO38GT36TO7s3HrS9LCKlFA6nda6bQ36ZNNGZUIe/eOTBjU0xxTySMmsKcvMKJ5MaUc0plrLlFuW3HZGXsNWTSql9+ysRgVdciurUUd/Vg+6XbrsuMlteugsy9YnjXG9unGHbr1qkXZ8slmWacrKZmRYpuysKTOT692xbbvL5/PRHj+XHjBHx171I40NByQZbUbvtE5BuO21p/XO079t91jV3X4V2ysNuvY6P97n8/Vp8Eqn03vdx+fz9dnxenLcwYTgBcft61obTp8IO19rI6IPa5t15KQSvVvVpFQmq7ElQRX4gqpuimv5P2olSUdNHqGpowr3Ghj2Vmgk6HXpxXV1mjiyQFNHhVRoeRRNZjotV7vnc3h2TY3e3xZRPG2qwOfRrHFhnXboaEnq0x6lvuqhGmhzDAAMb4Ot9711KH8slVGBR8qaGTU2J/TxJ9WKxpIy02l5C8MqGVUol0uqb0nJ7TL01w31WlcTlZm1lM1aMqv+pub6au2MxpVKp+SysjIsUx7DUtxtyTJNxZNJbbKyeuPXHk0I+5TJdD48bcKECfrLX/7S5YW1v770Fz3ynSv75HXYtOu/h5Udqh3uMlVHEjpsXIkqD62QJD20qkovr6/T9mhKW6uqlK6r6pPjSpJHlg4fH9bOWKbD0TvTy4u0YNY4PdRnR2w9blYpM9vl/Hi/39+nx+xOAOrrY0pSKpXq88fsTwQv7Be9XWvD6RNh52ttWIrE0/q4IXeVzOc2NHlUSGVFAbkMaXskJZ/HJdm2aqIpjR9RsNfA0FGVo+akqXTWktdtaFtTQolMVoV+j9bVtKgxnrti2Vm52t1fo3v/skEf1jQra9uSbEmGNtfH9NaWBhUFcmVr+6JHqS97qIZDxUsAg0OnF+A+aVTVjogunDNGE8L+XhcMsCxLV199dZdtqK6u1uLFi3v02MlUSmYm0+ljTj3rGgUmfUGGYchbYKgmklBtNKm0WaijJpfo79uieuOFP2jHP1Z263XaLumdvexjmmabc+v0spBaUlk1xtPyuV0qLfDqrZ3Jbh2vJ/wuW0GfSwVet9ZUR/TB9oh2tKS0ZUdM0WRGmawtw9W3X3v9Lks7Y5kuR+8EAn0fRuKJpIrKup4f39e9T90JQPR47R3BC/tNT9fa6M2X/J72jnW81kYqP8Y85HerOZnRiIJchaWWVFbTy0JqjKd3FQux1RBLqzlpqjjo7TIw7F5oJJO1tKkupoZ4WqZlybakhnhafk9u+EDWslUY8Mob6LxcbevzfWhVld7b2iSf21BR0Cuv26VM1lI0ntbqqiaVFPj0L4ePyVcFKvR7VFHk18b6Fj369lZ9fcFB8nj2XjGor3uohkvFS2C46+xz2bIsGYbRYXGHf/6upb/+9a/dmvzf3Z/PPvtsXX755W3at+dn25O/+L5ee+ohZc1cqLlrH18Dj8ez1+CVSqX05JNP7uOR2gq6cq9xIp1VQyylpoSpeDqr7dGkfB63powKaXUfB4N0Oq1tTQltrGuWZVl6ecMOtSRNGbJlSYqns4pl+n4Ug53NyON2q6TAp7SZ1bNraxRNZGRaucuRkiR3337tTafTex2940QYqWuK6VNzCrucH9+b47pcLvn9fvl8vvyt9eexY8fu9fePOOIIXXXVVe1+t7s/d7RtzJgxPX4eAxnBCwNSb77k96Z3rDmZW5/D53HJtnOhpHWhxNKQT7G0KcuW/F63Qj63GmJpfbQjpoyZ3VWNyFAsleu1atVZYGgtNPLG5p1qjKWUzFgqDHjkdXsUiacVS2WUNl3yul0aE85NJE2blrK2reKAR/UtqTblaiXpk8a43vhop9yGNLLwn5WW/B63igJe1TSn1JzMqDllKhz0qSGWyge+RMbUxzvjkm3oC0eN32tPVV/3UA2EipeDaT4H0BOWZfWoctmoUaN05JFHdvmYf/3rX/XHP/6x21XQ0um0WhJJNTXHlUqlZZoZWWZGdjb3X9M0VV1d3eUXK9u2ddJJJ/Xpa3PQQQe1+bmzz7bW0NUXcr1AVpdlsZ34gu6WpUQ6q5poUpmsJduWXIZU6HervjmplpSp4lDfFi6IJ1P664Z6vVvVqKZERmbWls/jUtDrUtq0c2XZ7b7/nG1siWtGgVeZrKW3P25UczKjjLXHTu7255p9URp06asnTuvyvNH6vrrd7nyocHu8yhpuWYZHGdsll8cruTxye7277vfJMtxKWobk9qo8HNKocEhyuZW03Bo7btxe58f/+te/Vjqd7lHwcbvd+/R6nHjiiTrxxBP36TGGumEbvH7+85/r7rvvVk1NjQ4//HD97Gc/09FHH93fzcIuPf2S35vesY11zXryb9XaVNeiLTtaFPB6VOBzqzGeVjiY+3BOmblP7VQmq5DPrcKAR80JU7YMZbK5YX2ta3G06iwwuFyGPjOzQs9/UKP6lrRGFwfyvVMp05bf45Zp2cpYthKZrBpjGSUyWVm7TfbdsEew+WhHTJF4RiOLfPnXybZtpU1L8UxWLsNQysyqMZ5R1rL/WS3K75HH5VVDLK13qhrUksrstTTt3nqoAl6XGuMpramOSNJeQ0x/V7wcbPM5MDAlk0nt2LGjz0o2p9NpXXfddZoyZUqXx62srNTWrVs7fayeVhY799xz9dhjj3W5zzvvvKMf/vCHPXrcvdnbMCK32y2XyyXL2vMbdO/tOWSqo882t7dvv6BLUiaT6XIOjCPDtFJJ7YyllDKzMiR5d52rPC6XCoMeNcTSimf7NgRFWhK65/n1ak6a8rgNhQNe2ZJi6aySGUsBr0st9r59wW/H5VZzPK3YrvN+JJFRuoP/BfxjDpDh8cpwe2W4PLl/uzxyeTwK+P0qLQ6pLBxSImuosCCgeTMqNG5kcadhpaSkRJK0tSHe6QW8008/XaZp5kPN7t9XRhcH9MH2iNZvb1bGslXgc2tMOCjJ1s6WdG7KgWUr4HGpKBzQpJEhHTlxRLfmx5988sl99eqiDw3L4PXII4/o+uuv15IlSzR37lzde++9qqys1Pr161VeXt7fzYNyJ8JEJtuu1G3rl/Pde5X27B2TlJ87VVHkV0001WHv2NLXtmhnS0rlRX41xTPyewzVN6cUSWTkcRmqT2UVTWZk2ba2RxJKZrIqKfDKMKSQ36PmZEaybVWEg/m1OPYWGII+t8qK/PK4DMXSWcVSpmxbKinwyuWSaiJJxVMZVZtZWbbk87jkMgzFU1m5XFLVzrj+sT3apkfJNiRDuefVOpwkkbFygS5jSbLVnMyoPppSIp1V0OfWjpa0WlKmTMtSIObS2x83djqHrFVXPVQNsbQ+qI6orjmlR97aquUFte1CTEe9S/1V8XJjXbP+59Ut2tYUV2mBT6NCfrldBtUUB4BsNtthOBk1apSKi4u7/N0//elP+uSTT7o1HK072w866CA98cQTXR7zmWee0TnnnNOXL4HOO++8vQavDRs2aPPmzX12zP6av5FI7H2uj9/vd7Q6W0efbR5v3z/XVCrVZfByojBBIpXedU5zqdDv3jW0M3dRsdAvhfxupbJdDzU3XB4Z7lxI8ezqkXG5vbJdud4aw+3N3e/2yHB7ZXsDaornegttSVnbltftks9tKJ62lclachWOVNn8r2j0iGL5/T4Zbo8iKVtx01BpcYFimdzcKLfHq1hGilu54/h9HllG7qZdx5XbI5fhys+HTrUZW9jWiJMu7XC7321oRMincNCrY6eNUlEgN7Jm/Lhwlz1aG+ua9YuXNnV5AW/3Xs6ORvOMLQlqfU2z3EZusebaaCJ/QTbo82hkyKekmVU46FXI79H8meWcnwaxYRm8fvSjH+mKK67QZZddJklasmSJ/vSnP+l//ud/dPPNN/dz6yBJO5pT+nhnTB/WNsswclfnSgt8mloektflyl8FKvC6260BsvvcKY/LpZDPrXerrHxP0e4ffAdUFKmsKKDVW5sUS5kq9Hu0oyWpqoa4PC6XAl63Kgq8aoznSuy2pEyVFPg0ptivD7bnTt6ji/3K2rYSKXOvgSGWNuXzuHTM1JGqbkpq044WtSRNtSQzymQtWbatWMpS0CcVBTyybCmZseT3ujWiwKvmpKl3Pm7U/INzjz9lVEglAa92tqR29TiZsmxbfo9LXpdLyUxWWcvQR/UtMgxDfo9LtdGU0mZWtgyFg14VBbxqimc6nEO2u856qBpiaf2tqlH1LSmNHxHUIWOKlchk24QYqfPKivtS8bI3WufFvb2lQYaR613N/32VFWhnLD0kqym2rlHTmx6Y3X92u9264oorujzWRx99pK9//eu96gHqrGfjN7/5jS6++OIuj3v33Xfr5Zdf7vVrtKfufBF2Ioz0Rwjqr1LRn+yM6qC97ON0WeyOPts8nr7v8drba+zz+TRp0qQOe1dqW0wlsoaKQ0F5vD55vF65Pblbc0YaPaJQR08rl9/vV3NG+tsnzUpmDY2cfLB2Fnh3LeKb61GZMiqkzTtiqonkFiAuOu5CVXz6PFmGSynLrZJQQCm5lbYMGW5v7st/oU/JjKW0aem46SNVVhjQk6u3aWdLSi6X5DZcCvrcucWBU6Yypi0Zkmxb0aSpcCA3B9olKZ2x5CsoUuGx52jSqJAKfB6lMlllGuIqkFRa4JU3YarAt2sUSDwtmZZMWzIMySV1GKxsSVkrN+Ijm7Vk7La9Ky4jd1E0F3aySmetbg2f781Im45G8xT4PCoO5opgxVKmGuMZedyGSgt8Kg355fe6ZMVtHVBRpMZ4Rn/5oE7Ty4qG1PlpOBl2wSudTuudd97RLbfckt/mcrk0f/58rVzZvqpPKpVqcxKMRqP7pZ3D2ca6Zj3z/naZli0za6usyCdz1zocm+pbFPS5lMxYKg359cfV1TpgTJGSZlbJjEvvb4vkF170uj3KZC01xdOqb0nle4r2/OArDfl0xIQSbaxrUUMsJduWMqatkmKPKopyvTAFPo92tiS1M5ZRS9JU0OvWgpkVspVbx2vLjlibwDB1VGGHQw9ar6xujyS0sT6mRDpXlMPrNpQ2LTXG0kqbtmzLVjJjyWUYCvlz668kMlmNKQmoLprMnwhSGUtBn1ubd8ZkZnOnF7/HkMswZFm2PK5cmfqmuCnbthXyuZXKZOVyGfK5XRoZ8ivgdausyNAnjYl2c8h219GabAGvSx9UR1TfklJZoU8zxxTL43apyO3Kz8X73aoqJTKWGuOdn5yuPGnafptr9fqmHXpxXZ1s21ZJyJcf7lnXnFRzKqMZ5YU9rqbYuvZLV0UCMpmM3njjjX0OPrv/fNFFF+nCCy/ssm3/9m//pgceeEDp9N7XqOmOESNG7DV4tbS06A9/+MM+H2t3/REM+iuMDKfnGontPVD19ri7Dwnb/d97jmzp6LNt7IxDdNQZFyhluRQKBOTz+RTPSuUlhfLumqPTeqtPWJpaHtZnPzVRgYC/04IBI0aM6LK9gUBAW7Zsabf9450xff9P/1DQ59aIAl+b0R9Sbq5yUzyjf/vMAfnPrNah1H//pEn11RGls7YqigOaVhZSaSh3QWHVRw1qSZnyFJZqRFFAAZ9btdGUSov9OqCiKB9YSoJefVjbrLpoUgU+t3wet+pacvPD/B6XWtJZGUY2VyhKUjZry+WSTCsXaFrDkIxccDIMqcDvUday1doXZO7ap8DnUn1LetfaYh4ZhiRDsnb76PK4JDObC0wypNYp1oZyj2FIMm3J7ZKszju/dv1Obph80OtWPJOVZOSnDnQ2X7t1XbDfrqzSJ41xHTYunO/V6moeumXZ2lTfovqWpAr9Htm2LcPIHa/A51HAkztvfrwzNxJjZMgnv9eldDZ3EdnvcWtM2E2130Fu2AWvHTt2KJvNqqKios32iooKrVu3rt3+d955p+6444791bxhr7U3qjGe0dGTS/XeJxE1xXPDJOJpU7F0VinTrXEjgjqwolBrt0e1oa5FqUxW6yPJfFGM3YtM2AGpvjmV7ynqaDx/acinoyaPUHVTQtGkqUgiI6/LkMslWXbuJBLweTTW61F5kV9fPGaS5kwqlaR2geGjHS2dDj2YOqpQU0eF9Me/Vytr2RrZpq25D92UmZbH41JZkV8Bj0uGkSvgEfR5dEBFkaKJjGJpUxvrmrXs9S1yuwwVBTxqjOW+OKVMKWVmdoUrQz6PS4lMVol0dtfz9ijk86g05FPQlxtzblq2Qn6PtkeSXX6g77kmW2M8pbrmXE/XzDHF+RO6lAsho4v9WvlRg8qKfDp8fEmnRVK+emJhp8e0bVumaXa712T06NE69NBDO/37+ssHddq+7i3ZW99TdTYra9dEf8vMKJFK6W+y5LZNvXGfV151v0BBNBpVUVEXc+RiMZ1wwgmd3t8bc+bM2es+2Wy2T9dB6c4XdCeGTA2nMDIYnmtnoab1Z7k8qm0x5ff75PcH5PZ65WkNK16vbMMjUy6NG13RxRFzfvOb38iyrG5XQfP7/XK73V1eCNnTnp9t/slH6tPTj9L08kLNGh/WE+9uU0mBt8NCQK3B5/BjD+jzL8Mb65r12zc+1vvVEQW9bnndLo0o8Gl6eaFKQ7n3o6OA0LqEy9bGuJa+tlmbd8TyAcG2bdU3p1Xo98jvMTQi5NenJpZItvTGRzsVT5mqa05pzqQRMgxD0URGjfGM/F53bgi826WmeDpfrMPe1bnlMnIhJyPJ2JV2bFsKeFwqL/bL58mdx3c05/7W/F63mlNZZSxbLcmMXMpVPEybuYuOWxsTsu3c53ZrP3jWluys8j+7dh1bygVoy5bcrtzge0OSy5VrS7aD9OVxSS7DUNCbG12StWyVhnz5qQMdzdfOB9ptTVrzSUQBn1tp027zfnQ2D701CG+qj6m6KamKooCmlYc0osCn0gKfPmmKK5YylbEsRZOmEhlLAY9Lbrexa8kaj7K2TbXfQW7YBa+euuWWW3T99dfnf45Go5owYUI/tmho2703qijg3dUT1awNdS1KZCz5PS553IYOKC/UhNKQbNvWh7UtiiYyqm5KqLzY365IQyxltukp6myukmEY8nvd8nkMlRf5VRryKZ7O5q4IulyqKA5o0sgCRRMZFQe9+atYu59ouzP04IiJJfrDu5/kimBkrXyPS0syN4wxN/7eVjZrK25lc9UWAx5NHRVSwONSyuNW0OvWA69vyQ+Xc+26jOhS7kSTNm0ZtuRxu5Q2LVmWJWtXT1642K3y4n8Oc7BtWy1JU6UBKRnZqQ83faTEDp/S6bSSyZS27WxWNJ6QyzJV7DNkmhmVJlNKNzYrWx9RZmOdMgVu/e2djLKZjLJmRqaZ+/enzvySIglbB1YUtvsS1Hpy+v6/f0E/UVJ21uw01PTEpZdeqqVLl3b697U9klB62zptXt71kpY9XWKzO8OI+lp3AlVfh6D+mgvUH8+1P0KmYRjKdLEuU6t58+Zp5MiRfVayedSoUXs95nnnnadzzz23W6HGsmz94qVNWlMdaVOZVsp95myoa9GscWEdfei0vR63srJyr/v0hc7Wm/ywrrlflr5oPZ980hhX0OtWyO+Wy3DlqxEeMaFEpSFflwWdJo0M6eJjJmnpa1u0sT6mMeFAvoc/a1kKF/h02PiwwkGfbNvWiJBPWxsSqm6Mq7okoLHhoNJZS5lsVrINVYQDKgp4FE268oEo/84ahtySPIadryboNqSMZcvtyg11jyakkpBP4YBHIb8nvxxL0OdRYdZWfXNKranJ6zIk21Zij9HHrRnKtqXW+hlBr0ujwwFZtjS+JKC3tjTuCmG5HV222lU4DAc8kuFSMm3KklQc8GjmmCIZhtHhfO3dz+8FXrcCvtzF0j3fD6nt38Tuvze2JKBIIqPtkaRqowk1pzI6YkKJRhX59MH2iOLprDyGIZ879xo0JXKBd9SuqsWJlOl4tV84a9i9c6NGjZLb7VZtbW2b7bW1tRo9enS7/f1+vyNXbweagVJWe8/eqNKQTwdWFKk2mtLIkF9+j6F42lSBP/enm5uYGlBTIi3DkFqS2dxCkbuFmT17ig4oL+q0mp7XZShj2hpT4texU0eqJZUb791a3KMlZeaG93nd7YYSSmqzYGQ0kVF9U7NcdlajvVmt+Wi7/mtHtRbMnqHxI4LKZG01JTKKpUy5XS6VFwc0tSykjbUtevevy1XgSag5nlIimZKVTWvtrt6ZsUVe3fiMR69/WCPLzMhjWLLMjFriyV29N2auXHM2919lTfnHTFfFmdfLtKRtkaQCPo+KAt7dXiO3omtf1O9/cZv+tw/fz/FHnybZZR1eJZZyJ6edn3ykbS2RPjtmV1+WY2lTLpdUVNC35ZP3dlxp6PQC9VdZ7L54rm63u0e9Jt0ptjR58mT98Ic/3Ofgky8z3c1yzj/72c+6tV9f6kmp6Y6G7+2v4jn7oqP1Jvtj6Yvd5yIfNi6sjGmrrjmp0pBbpSGfGmJpbapvUUmwZK8VYPfszatvSSqZzmrCyALNKC/Mj1RojKeVSGfVnMoomclq1aadGjeiQOECrxJpS0VBr6aV5UJ0oc8rt8tQ1rTkdv2zR8kwDHncLmUsSy5DCnjd8ntdSmWyaoilFfR6dMpBZTr/qIkK+txqTuWG74e8Ht37l/V6YX29XDLkNnYNmbclw7DV0Sjp1k0elzS2JCDJUEWxXy6XofKigBKZrOIZU9ncKEd5Xa09Z4Y8u9qczGSUMW25DEOFfo+ydq4Hc8+/0T2LYjQnTXndbhmG2rwfIwpG5NdN83vcKvC69dR729sU05hRUaRYOqt42lQ0kdGG2mals5bcLpdKClxKZ+1cb5fX1ogCr1yGoR0tKU0qDTpe7RfOG3bBy+fzafbs2VqxYoXOOussSbn1TlasWKGrrrqqfxvXT/qrrHZHYa+jE1zGsuUypOJgbs6Wx+2Wx8iVyc2aGWVTKVktDSq1Uko3p1Vfl1Qmk5ZhZVXolYoKPaqqzyjaktBf4u9rlc9Q046oqre2SHMWtPlCUBNNqazIrwJvLpDF6z7Wc7/5mcxMWtlMRs3xpNzK6vHbTcUTSZmZXMBx2aaUzSieTOXalMnItjou5/ze4rsUnHGMDqwo1MFjitsEO8MwFC8x9fSLv9WG6g0d/n5v6pi5AkVyGYa8LltZS6qNJJVI506MI0I+HTy6SKvW9XF5X0mNLTGVlI2Vu5MvV4l0Vu4+rh7W1Rf0kM+joNejEYV9f9Lqj7LY/TUUbm9lsQOBgCZMmNDj8NHV9uOOO26v7brrrrt02223dRhqvF7vPq9R05ExY8bohhtu6PPHHQr2/MK/P4rnOKE/lr7YffSHy+XStPKQmlMZNcTSKgx4VOD3qDaa1N+3RTR+RMFeQ+zuvXmb6lv0uzerNDYcVPGupVMaYqn8ciOjQj5FEqYMl6EtO2MKRN0aHfbLZRjKWpaiiYwylqVwQa6w067pW8pmbVlGbsiex5ULsR6PS1NGFSroc2tMOKBTD67ocB7x1ob4rmVVXMot1CKZWVu2cud/j0vKZJW/r5Wh3NDHtGkr6HfL48qdS6eUhTSuJKh1Nc1qjKWUsWx5XYaCfo+ylqVPGhIyJJUVBlTo90iGFIln9NrGHTqgoqhdyfY954YXBTwqLfDtCsM+FQb+2XtXFPDk/yZsqV0xjd3nldc1J7V5R1wulzR5VIEOHl2sWCo3SiZtWiop8MqW0aP3GgPbsAteknT99ddr0aJFmjNnjo4++mjde++9isVi+SqHw0lvqvKkUim9/fbbPS4GsPu2HZGYquqjamqJK5NJ67BTPq8Fp5+pz8ysaHeC87ld8rhdeuP+21X93iuys6ae6yTU7M3Tu/177PgJ+o9/Oa/NF4LDxod13pzxemFdnTbUtSizc6fee+XZfXiF2yvwWEpnLb2xuUFHTixReVEgH7ps21Y8bcnv9ynWh8e0s5ld4ceQlbWUNC35s1n53IYi8bTe2tIorwPlk0cG3JoxdaS2R5LtJoS3fmEJ+P19+ly7GpLW+gXqLaPvP/q6G4KSyb2Xz96Tx+PpMIyUlpbu9XfnzZunr371q73ugenoZ+9e1jgaOXKkqqp6Olhz3zEMfODpbPjeYPri2B+9d+1Hf/h1xISSfNXeTDa3JtbUUYW66JiJ3Qqxrb1540qCWrstqjXVkfx8pk11MSXSWY0o8KoxntGMikIdWFGkdNbShtoWZS1LO2JpbW2sU6Hfo6KARx6XSyUFPsVSufUmTcuWbeWGz4eDPpUWeHXFCdN08Njivb7vsbQpS5YCXne+Mm9r+IqnszJkKyNbbkMaFfLJtG2lMpaSmaxSpiXTsjVhRFBHThyRn5MX9Ll1/IxR+eVlfO5cSf3XNu5QYcCjeVNGqrTQn38NoomMNta3aGpZSP96/FR5PK427dv9/TAMo00YLvDnqiI2xtOqif7zbyKRyXY4TLV1XnljPK211RG5XYaOnjxSHrdLIwv9Kgx4dnuvzR6/1xi4hmXwOv/881VfX69bb71VNTU1OuKII/Tss8+2K7gxGDz77LN65ZVXelyyufXWEI0pmUrLzpq5nhozo7ufWaMZ5YUdVuWRpPr6en3605/u0+dxwOFH58PeKQeV73GCy5WEj6fSsjJ9VyTAMjOdVtObNLJAz62p1WtVXa9v0htZM6MCr0vbGjN6+cN6lRf5VV4U0NiSQG4em9fV970UVm4Mu2XZsi3Jdktelyu/mKYMyeVA+eTPHDRSx86dqKWvben0C0txKKCdfXjMrgJQ6xeoP4X+OdTQ5fHI7cmtI+P1+hQuDKqgg8pke/u5q8IarR555BG5XK4eDUXzer1dDuvbm7POOivfuw/0h46G7w02+7v3rqPRH6Uhv0ZM9qk5aeaGBWayuuy4yZo4MtSjx94zSBb6PdoRS8nncakxnlHQ59H08iKFC3JD6KLJjJqTpg4bH1ZTPKP6llSuFL1pqTjg1fyDKpS2LMXTWdm2rXDQq+2RpI6ePFKfO2JctwJpyOdRyJdbpyqeziqdteXzuORx53q4UqYtW1LA41ZpoV+FfrcyWVvxjKmdLWnNmzpS18yfofEjcn9nf98ayc8vbO3Vk6RIPK2aaEoTSgs0aVSozcXAcIFPB1QUaUdzWtujyTZ/s529H61huLY5qeSuIlaHTyjJ/01sbYh3Oky1dVpEWWFAMqREJquiXefkvnqvMfAMy+AlSVddddWQGFr4wgsv6O677+7Tx1y1qV4Hjh3R6RoWTgxd8iibD3vra5q16NhJWr62TpvqW5QysxoR8qkgEFBDHx4zkUppW1Oiw6twrVdpZ3h36nd9eExJ2lrfrDFTshpT4lckbsq0bG3ZGVNtNKmTDyrXMdNG6vG+7n2yTLklpXfV5C0r8GjulNJcMZFdVwFf3N73HwdlIc9ev7BsP+F4TZ86pds9MF6vV/GsIbk9KgwGVR4OKRDw5/fZ2wWU6eVFuuc/r1Hl587XlsaU0llLfo9b08sLHR/+9C//8i+OPTYAZ+3P3rvOhje2DnOriSZ1+PiSfNDoqd0/l9+talA0kVE46FV5cUDTynIV+mzb1sa6FplZWwW+XE/MARVFak6aSplZbahrUdq01BBPa2xJUBXFgfxFtfEjClR56N57AVunHDQnM5pYWqCPdrTktydNS1nLkmXnytQbyi3GXNecVHMyV1rfsqTJo0KydpVmbz1eZz2UG+tb5HEZOrCiqE2BqdZeMbdhKJnJtiuU0tn7URryq2SSV3/fFtGUUSFddtwUTRhRkG9Hd4apHjY+NyRxbXXUkfcaA8uwDV5DhRMhqK6pRYmsoUPHFStltv8AcuKYZibTpgTrZw8f2643KvJ8hX7/Vt8dMxZP6sfLP+x0PpvLZWhiWbjvDrhLKp3OndQkGTJ0yNiwQv7cQtAjQz4dVFHUrWF/Lk9uEU25PDLcHhkerwyXR6bhluHyyHDnyjYbbo+84QqZdm6CsmFI4ZBfY0uCbU4CMw44QJ/+4jWaM7VMf6+OqbAgoMKCgNye3Jo1Hp9PHo9XKctQImvoS5+eroll4S6Ho7U+fldfWP7nf/6n269d63zE2l3zEZs9bhWUFeq4Hs5HPHhcqQ4cM2JQD38CsP/tr967/TG8sfVz+e2PR+iXL3+k0pBXY8L/PC+09rb4va58GXnDMHb1IHkV8LpV1RDXxNKQdrSketwLuOf88tYy8pmsLb/HUFnAl1sKJWNJyhXxKPDl5nE1p0xFk6YqigNtimft/tw6uuB3yNiwAl63At7cfM+GWCo/pM+0cuXx/R6XdjSnpN3qrXX2fsRTpj7aEVOh36NTD65oE7q6+z5WHpo70PZIclAVokHvELwGOSdCUInfUEva1Ie1zZo4oqBdpSYnjpk1c+WTdy/BuucJrizct13sdtZUSYG3y/lswWBQY8eOzVUb8/gUSdvy+bzy+fy71qXxyTJcas5Ipu2WabgVDPhlya2MXLJcHvm8PgUCAXm9HsWzLo0+4DAZhqG0mZXH7coNtwvmTmKb6mOyJS264Q598MkOTSsPy+PbFXy8Prk8Hm1uSGtcaUgp01JjPKPRxX6ZVu6K3daGuDbUtcjrzl21S2dzE5Nd+YCVW1R5zyEWkjR2wkQddsYluuKU6XrxH/VdloGeMy6syhOm9ehEsK9fWHozH9HJ9gCAk/bH8EaXy9CcSaV6a2Kj1lS3rS6bzloys5Zs21ZFOJifC9Uq6HPL73HprE+NVVHA26OLWJ19nqdMS1JSpmUrmsxVPPS4Dfncbvm9btm28j1Tckkhvzu/zMqe31U6uuA3pjigX77y0a7iFVm990lEiXRWhQGPPC636pvTcrtsPfP+do0OB9q8xnu+HxvrWrSjJSXJkG1LT7y7TX/fGml3Ibe77+NQKESDvSN4DXJOlKi2sqZCBR5tb0pqzqTSdpWa9iV4GYaR76nJ3XKhIhAqlNR1Wd7jjz9e2Wy2VyWbPR6vnllbr48jaU0p+2eY6WqVeUmaNGmStm3blntdOliXxrZtvb2lUbXRRH4isNfjUmmBV2nT0padcRmGNL2sULXNKcXSpkaPCuXXziovDuRPZq2hM5HJ6qLPzPnnSan4n1e/PokkVRYu0EXHTJKk/Id0ysy9bnMml+4ap59WLJXNhS/TkmXbylq2fG5DI0I+lRe2L6fe+toX+b0Drgz0nqV8O1uIec/3DwAGs/0xvLGzXpm0mVU8nVVx0KNpZe0v1uXPGQFvjy5idfV5/qkJJfqwtkUTSnM9WU/8rVpjwwFta0qorjmlQr9Hlm3LbRiyJSXTWX20I6a5U0Z2WFWyowtslYdWaFtTQm9ublDKzKqsKHfxsimeW6Pz8PFh7YylOzyntL4fr2/aoYferJJhSFNHhRTye7u8ENid93EoFKLB3hG8BrndQ1DrGjXdCSIZ26WtkbSCgYCiaVu24ZHP75PX65NpuJVKZuRxG5o9aUS7/+ndbrceffTRXi3a6XK5u1xUs6uyvBdeeKEuvPDCXr1OWxviembnhzp8qrfDCa6dzWfbXUcnJzNrq7Y5KdOSioNeTRkV0uYdMTXGMyoMeFQR9qumKaktDXEVB3LHjqdzYSjo8+TXRJHahs4JpQXduvrV2dW8Nzbv1IhgrsJS0rRkSCop8KghZsrvzc3p2t2er73LZQyoq297lvLdXXffPwAYjPZH73xHvTI+t0vTynMXRUcUtL3gui9l9Lv6PJekooBbH9XHdUBFscJBj0aHgwr63GpJmYqlTBUGPPK6XUqZWTUlMpq6a35udwPK9PIinT5rtFZvbVLWzq2n6dm1lmbr/Dafx9XlOeW9rRHZtnT4+JJuXwjszvvISIyhj+A1yC1evDhfKrona9RsbYjrx8s/VElBbhHd1jHOWcuS5XKpxJ+buHrwmOJ2v2sYhs4777xet7k/elP2LAW7p92HOHal/UKUKSUyWU0cUaAZFUUqDfkUDnq1sa5FjfG0spYU8Lk1fkRQIwp82tqYUFM8o0kjCzS9vCi/yn1HJ7HuXP3q7GpedSShnS1pjS8tyC1yuWso4rgRud/dWB/b62s/kK6+9dX7BwDoWEef+Yl0Vg+s7LwqbW/O1519njfE0tpY16KdsZSiiYwSmaya4hkFvW5NKA21KacfS5mybGlkyKcvHt3zEutlRX5NGhlUWWFAWdtus5am1PU5hQuB2BcEr0Gut8P+dq+0M6O8UHN2lS1NZy15XYZqoikdNt6Z1dH7Y1HNjkrB7q6rIY4dtb/NQpSrqjS2JKDiYO69aF2fI18GNp3VzWccJI/LpX9sj+pP729XKpOV123ItKwuT2K9ufq15+sbT5v5NcoWHJKr+Nfd136gXH3ry/cPANCxjj7z+/p83dHneUMsvWsBZ1M+j0vhoFfjSgLa0ZzSW1saVeDzaGThP0usp8ystjUldPTkkTp22qhetSHo9cjjNjQi0P57VFfnFC4EYl/wLWWY6mjYXIHfLSOdq6wzstDZeTz7uzelOyVdezJkouOFKL0dl4GdUKJJpaH870wtCzkeOvf2+g6Unqzu6uv3DwDQPX19vt7z81ySNta1KJE28ws4lxcHNCYclN/j0ssf7tCbWxp03LSRKvB7ZBhSYzzT7ZL13WlDT84pXAjEvuCvYhjrj56n3e3P3hSnSvP25nH3V+js6vUdKD1Z3bU/SisDADrWl+eM9gs4u7WzzQLO7nwxj5GFAR01eYTW1TSruikpj9vok+8p+3JO4UIg9oVh27bd340YTKLRqMLhsCKRiIqL289/GoxaFzAcLL0f+2L3dUNaKwH2xcK5Tj0u2uJ1BoChofXz/N2qRq2tjigc9GpkoV/TykIqDf2zYrNpWdpcH9MXjpqg0eFAn35P6e05Zc9y+HuGtp4ub4LBrSfZgODVQ0MxeA03TgXN4RRg+xOvMwAMDZZl6+2PG/TLlzdpZMiv0R0UrGhOZtQUz+i6zxzgyEiN3p5TuBCIVj3JBgw1xLDj1DC7wTZ8b7DidQaAoWHPBZxH73H//hi619tzykCq/IvBg+AFAACAfjHQ5/B21SPGhUD0FMELAAAA/aa/i311ZvfhhEkzq4DHrWllhao8lOGE6B2CFwAAAPrVQBu6t2cBjQJfUPG0qTXVEVVHEhTQQK8QvAAAANDvBsrQPcuy9dyaWjXE0ppRXpgv+FEU8KrQ79GGuhY9v7ZWU0cVMqcLPeLq7wYA2D8sy9bWhrjW1US1tSEuy6KgKQAAe9rWlNCm+tx8sz2rLBqGoTHhgDbWtWhbU6KfWojBih4vYBhgnDoAAN0TS5tKmlkV+DqupBj0uVUbTSqWNvdzyzDYEbyAIY5x6gAAdF/I51HA41Y8baoo4G13fyKdW7cr5ONrNHqGoYbAELbnOPWigFdul6GigFczygvVEEvr+bW1DDsEAGCXcSVBTSsr1PZIUrbd9vzYurbY9PJCx9YWw9BF8AKGMMapAwDQM61ri5WGfNpQ16LmZEamZak5mdGGupZ+X1sMgxfBCxjC/jlOvePhEEGfWykzyzh1AAB207q22KFjw2qKZ7RlR0xN8YxmjQszRB+9xuBUYAhjnDoAAL0z0NYWw+DHty1gCGsdp76mOqJCv6fNcMPWceqzxoUZpw4AQAcGytpiGBoYaggMYYxTBwAAGBgIXsAQxzh1AACA/sdQQ2AYYJw6AABA/yJ4AcME49QBAAD6D0MNAQAAAMBhBC8AAAAAcBjBCwAAAAAcRvACAAAAAIcRvAAAAADAYQQvAAAAAHAYwQsAAAAAHEbwAgAAAACHEbwAAAAAwGEELwAAAABwGMELAAAAABxG8AIAAAAAhxG8AAAAAMBhBC8AAAAAcBjBCwAAAAAcRvACAAAAAIcRvAAAAADAYQQvAAAAAHAYwQsAAAAAHEbwAgAAAACHEbwAAAAAwGEELwAAAABwGMELAAAAABxG8AIAAAAAhxG8AAAAAMBhBC8AAAAAcBjBCwAAAAAcRvACAAAAAIcRvAAAAADAYQQvAAAAAHDYoAle3/ve93TssceqoKBAJSUlHe5TVVWlhQsXqqCgQOXl5brppptkmmabfV566SUdeeSR8vv9mj59upYtW+Z84wEAAAAMa4MmeKXTaZ133nm68sorO7w/m81q4cKFSqfTev311/XAAw9o2bJluvXWW/P7bN68WQsXLtTJJ5+s1atX69prr9VXvvIVPffcc/vraQAAAAAYhgzbtu3+bkRPLFu2TNdee62amprabP/zn/+sM888U9XV1aqoqJAkLVmyRN/4xjdUX18vn8+nb3zjG/rTn/6kNWvW5H/vggsuUFNTk5599tluHT8ajSocDisSiai4uLjPnhcAAACAwaUn2WDQ9HjtzcqVKzVr1qx86JKkyspKRaNRrV27Nr/P/Pnz2/xeZWWlVq5c2enjplIpRaPRNjcAAAAA6IkhE7xqamrahC5J+Z9ramq63CcajSqRSHT4uHfeeafC4XD+NmHCBAdaDwAAAGAo69fgdfPNN8swjC5v69at688m6pZbblEkEsnftm7d2q/tAQAAADD4ePrz4DfccIMuvfTSLveZOnVqtx5r9OjRevPNN9tsq62tzd/X+t/WbbvvU1xcrGAw2OHj+v1++f3+brUBAAAAADrSr8GrrKxMZWVlffJY8+bN0/e+9z3V1dWpvLxckrR8+XIVFxdr5syZ+X2eeeaZNr+3fPlyzZs3r0/aAAAAAAAdGTRzvKqqqrR69WpVVVUpm81q9erVWr16tVpaWiRJCxYs0MyZM3XJJZfovffe03PPPadvfvObWrx4cb7H6qtf/ao++ugjff3rX9e6det033336dFHH9V1113Xn08NAAAAwBA3aMrJX3rppXrggQfabX/xxRd10kknSZI+/vhjXXnllXrppZcUCoW0aNEi/eAHP5DH88+OvZdeeknXXXedPvjgA40fP17f+ta39jrccXeUkwcAAAAg9SwbDJrgNVAQvAAAAABIw3QdLwAAAAAYqAheAAAAAOAwghcAAAAAOIzgBQAAAAAOI3gBAAAAgMMIXgAAAADgMIIXAAAAADiM4AUAAAAADiN4AQAAAIDDCF4AAAAA4DCCFwAAAAA4jOAFAAAAAA4jeAEAAACAwwheAAAAAOAwghcAAAAAOIzgBQAAAAAOI3gBAAAAgMMIXgAAAADgMIIXAAAAADiM4AUAAAAADiN4AQAAAIDDCF4AAAAA4DCCFwAAAAA4jOAFAAAAAA4jeAEAAACAwwheAAAAAOAwghcAAAAAOIzgBQAAAAAOI3gBAAAAgMMIXgAAAADgMIIXAAAAADiM4AUAAAAADiN4AQAAAIDDCF4AAAAA4DCCFwAAAAA4jOAFAAAAAA4jeAEAAACAwwheAAAAAOAwghcAAAAAOIzgBQAAAAAOI3gBAAAAgMMIXgAAAADgMIIXAAAAADiM4AUAAAAADiN4AQAAAIDDPP3dAAAAAAD7h2XZ2taUUCxtKuTzaFxJUC6X0d/NGhYIXgAAAMAwsLGuWc+tqdWm+hYlzawCHremlRWq8tAKTS8v6u/mDXkELwAAAGCI21jXrKWvbVFDLK0x4YAKfEHF06bWVEdUHUnosuMmE74cxhwvAAAAYAizLFvPralVQyytGeWFKgp45XYZKgp4NaO8UA2xtJ5fWyvLsvu7qUMawQsAAAAYwrY1JbSpvkVjwgEZRtv5XIZhaEw4oI11LdrWlOinFg4PBC8AAABgCIulTSXNrAp8Hc8yCvrcSplZxdLmfm7Z8ELwAgAAAIawkM+jgMeteCfBKpHOyu9xK9RJMEPfIHgBAAAAQ9i4kqCmlRVqeyQp2247j8u2bW2PJDW9vFDjSoL91MLhgeAFAAAADGEul6HKQytUGvJpQ12LmpMZmZal5mRGG+paVBryacEhFazn5TCCFwAAADDETS8v0mXHTdahY8Nqime0ZUdMTfGMZo0LU0p+P2EgJwAAADAMTC8v0tSTCrWtKaFY2lTI59G4kiA9XfsJwQsAAAAYJlwuQxNKC/q7GcPSoBhquGXLFl1++eWaMmWKgsGgpk2bpttuu03pdLrNfn//+991/PHHKxAIaMKECbrrrrvaPdZjjz2mgw46SIFAQLNmzdIzzzyzv54GAAAAgGFqUASvdevWybIs/fKXv9TatWv14x//WEuWLNF//Md/5PeJRqNasGCBJk2apHfeeUd33323br/9dv3qV7/K7/P666/rwgsv1OWXX66//e1vOuuss3TWWWdpzZo1/fG0AAAAAAwThr1nTclB4u6779YvfvELffTRR5KkX/ziF/rP//xP1dTUyOfzSZJuvvlmPfnkk1q3bp0k6fzzz1csFtPTTz+df5xjjjlGRxxxhJYsWdKt40ajUYXDYUUiERUXF/fxswIAAAAwWPQkGwyKHq+ORCIRlZaW5n9euXKlTjjhhHzokqTKykqtX79ejY2N+X3mz5/f5nEqKyu1cuXKTo+TSqUUjUbb3AAAAACgJwZl8Nq4caN+9rOf6d/+7d/y22pqalRRUdFmv9afa2pqutyn9f6O3HnnnQqHw/nbhAkT+uppAAAAABgm+jV43XzzzTIMo8tb6zDBVtu2bdNpp52m8847T1dccYXjbbzlllsUiUTyt61btzp+TAAAAABDS7+Wk7/hhht06aWXdrnP1KlT8/+urq7WySefrGOPPbZN0QxJGj16tGpra9tsa/159OjRXe7Ten9H/H6//H7/Xp8LAAAAAHSmX4NXWVmZysrKurXvtm3bdPLJJ2v27NlaunSpXK62nXXz5s3Tf/7nfyqTycjr9UqSli9frgMPPFAjRozI77NixQpde+21+d9bvny55s2b1zdPCAAAAAA6MCjmeG3btk0nnXSSJk6cqB/+8Ieqr69XTU1Nm7lZX/ziF+Xz+XT55Zdr7dq1euSRR/STn/xE119/fX6fa665Rs8++6zuuecerVu3TrfffrvefvttXXXVVf3xtAAAAAAME/3a49Vdy5cv18aNG7Vx40aNHz++zX2t1fDD4bCef/55LV68WLNnz9aoUaN066236l//9V/z+x577LF66KGH9M1vflP/8R//oRkzZujJJ5/UoYceul+fDwAAAIDhZdCu49VfWMcLAAAAgDRM1vECAAAAgMGC4AUAAAAADhsUc7wGktaRmdFotJ9bAgAAAKA/tWaC7szeInj1UHNzsyRpwoQJ/dwSAAAAAANBc3OzwuFwl/tQXKOHLMtSdXW1ioqKZBhGfzdn2ItGo5owYYK2bt1KsRPsFX8v6An+XtBd/K2gJ/h7GVps21Zzc7PGjh3bbp3hPdHj1UMul6tdSXv0v+LiYj680G38vaAn+HtBd/G3gp7g72Xo2FtPVyuKawAAAACAwwheAAAAAOAwghcGNb/fr9tuu01+v7+/m4JBgL8X9AR/L+gu/lbQE/y9DF8U1wAAAAAAh9HjBQAAAAAOI3gBAAAAgMMIXgAAAADgMIIXAAAAADiM4IVB63vf+56OPfZYFRQUqKSkpMN9qqqqtHDhQhUUFKi8vFw33XSTTNPcvw3FgDR58mQZhtHm9oMf/KC/m4UB4uc//7kmT56sQCCguXPn6s033+zvJmEAuv3229t9jhx00EH93SwMEK+88oo++9nPauzYsTIMQ08++WSb+23b1q233qoxY8YoGAxq/vz52rBhQ/80FvsFwQuDVjqd1nnnnacrr7yyw/uz2awWLlyodDqt119/XQ888ICWLVumW2+9dT+3FAPVt7/9bW3fvj1/u/rqq/u7SRgAHnnkEV1//fW67bbb9O677+rwww9XZWWl6urq+rtpGIAOOeSQNp8jr776an83CQNELBbT4Ycfrp///Ocd3n/XXXfppz/9qZYsWaJVq1YpFAqpsrJSyWRyP7cU+wvl5DHoLVu2TNdee62amprabP/zn/+sM888U9XV1aqoqJAkLVmyRN/4xjdUX18vn8/XD63FQDF58mRde+21uvbaa/u7KRhg5s6dq6OOOkr/9V//JUmyLEsTJkzQ1VdfrZtvvrmfW4eB5Pbbb9eTTz6p1atX93dTMMAZhqEnnnhCZ511lqRcb9fYsWN1ww036MYbb5QkRSIRVVRUaNmyZbrgggv6sbVwCj1eGLJWrlypWbNm5UOXJFVWVioajWrt2rX92DIMFD/4wQ80cuRIfepTn9Ldd9/NMFQonU7rnXfe0fz58/PbXC6X5s+fr5UrV/ZjyzBQbdiwQWPHjtXUqVN10UUXqaqqqr+bhEFg8+bNqqmpafNZEw6HNXfuXD5rhjBPfzcAcEpNTU2b0CUp/3NNTU1/NAkDyNe+9jUdeeSRKi0t1euvv65bbrlF27dv149+9KP+bhr60Y4dO5TNZjv87Fi3bl0/tQoD1dy5c7Vs2TIdeOCB2r59u+644w4df/zxWrNmjYqKivq7eRjAWr+HdPRZw3eUoYseLwwoN998c7uJynve+PKDzvTk7+f666/XSSedpMMOO0xf/epXdc899+hnP/uZUqlUPz8LAIPF6aefrvPOO0+HHXaYKisr9cwzz6ipqUmPPvpofzcNwABEjxcGlBtuuEGXXnppl/tMnTq1W481evTodpXIamtr8/dh6NmXv5+5c+fKNE1t2bJFBx54oAOtw2AwatQoud3u/GdFq9raWj43sFclJSU64IADtHHjxv5uCga41s+T2tpajRkzJr+9trZWRxxxRD+1Ck4jeGFAKSsrU1lZWZ881rx58/S9731PdXV1Ki8vlyQtX75cxcXFmjlzZp8cAwPLvvz9rF69Wi6XK/+3guHJ5/Np9uzZWrFiRX4SvGVZWrFiha666qr+bRwGvJaWFm3atEmXXHJJfzcFA9yUKVM0evRorVixIh+0otGoVq1a1Wm1Zgx+BC8MWlVVVWpoaFBVVZWy2Wy+qtT06dNVWFioBQsWaObMmbrkkkt01113qaamRt/85je1ePFi+f3+/m08+tXKlSu1atUqnXzyySoqKtLKlSt13XXX6eKLL9aIESP6u3noZ9dff70WLVqkOXPm6Oijj9a9996rWCymyy67rL+bhgHmxhtv1Gc/+1lNmjRJ1dXVuu222+R2u3XhhRf2d9MwALS0tLTp/dy8ebNWr16t0tJSTZw4Uddee62++93vasaMGZoyZYq+9a1vaezYsfmLPhiCbGCQWrRokS2p3e3FF1/M77Nlyxb79NNPt4PBoD1q1Cj7hhtusDOZTP81GgPCO++8Y8+dO9cOh8N2IBCwDz74YPv73/++nUwm+7tpGCB+9rOf2RMnTrR9Pp999NFH22+88UZ/NwkD0Pnnn2+PGTPG9vl89rhx4+zzzz/f3rhxY383CwPEiy++2OH3lEWLFtm2bduWZdnf+ta37IqKCtvv99unnnqqvX79+v5tNBzFOl4AAAAA4DCqGgIAAACAwwheAAAAAOAwghcAAAAAOIzgBQAAAAAOI3gBAAAAgMMIXgAAAADgMIIXAAAAADiM4AUAAAAADiN4AQDQzwzD0JNPPtnfzQAAOIjgBQAYVlauXCm3262FCxf26PcmT56se++915lGAQCGPIIXAGBYuf/++3X11VfrlVdeUXV1dX83BwAwTBC8AADDRktLix555BFdeeWVWrhwoZYtW9bm/qeeekpHHXWUAoGARo0apc9//vOSpJNOOkkff/yxrrvuOhmGIcMwJEm33367jjjiiDaPce+992ry5Mn5n9966y195jOf0ahRoxQOh3XiiSfq3XffdfJpAgAGIIIXAGDYePTRR3XQQQfpwAMP1MUXX6z/+Z//kW3bkqQ//elP+vznP68zzjhDf/vb37RixQodffTRkqTHH39c48eP17e//W1t375d27dv7/Yxm5ubtWjRIr366qt64403NGPGDJ1xxhlqbm525DkCAAYmT383AACA/eX+++/XxRdfLEk67bTTFIlE9PLLL+ukk07S9773PV1wwQW644478vsffvjhkqTS0lK53W4VFRVp9OjRPTrmKaec0ubnX/3qVyopKdHLL7+sM888cx+fEQBgsKDHCwAwLKxfv15vvvmmLrzwQkmSx+PR+eefr/vvv1+StHr1ap166ql9ftza2lpdccUVmjFjhsLhsIqLi9XS0qKqqqo+PxYAYOCixwsAMCzcf//9Mk1TY8eOzW+zbVt+v1//9V//pWAw2OPHdLlc+aGKrTKZTJufFy1apJ07d+onP/mJJk2aJL/fr3nz5imdTvfuiQAABiV6vAAAQ55pmvrf//1f3XPPPVq9enX+9t5772ns2LH63e9+p8MOO0wrVqzo9DF8Pp+y2WybbWVlZaqpqWkTvlavXt1mn9dee01f+9rXdMYZZ+iQQw6R3+/Xjh07+vT5AQAGPnq8AABD3tNPP63GxkZdfvnlCofDbe4755xzdP/99+vuu+/WqaeeqmnTpumCCy6QaZp65pln9I1vfENSbh2vV155RRdccIH8fr9GjRqlk046SfX19brrrrt07rnn6tlnn9Wf//xnFRcX5x9/xowZ+s1vfqM5c+YoGo3qpptu6lXvGgBgcKPHCwAw5N1///2aP39+u9Al5YLX22+/rdLSUj322GP64x//qCOOOEKnnHKK3nzzzfx+3/72t7VlyxZNmzZNZWVlkqSDDz5Y9913n37+85/r8MMP15tvvqkbb7yx3bEbGxt15JFH6pJLLtHXvvY1lZeXO/uEAQADjmHvOTgdAAAAANCn6PECAAAAAIcRvAAAAADAYQQvAAAAAHAYwQsAAAAAHEbwAgAAAACHEbwAAAAAwGEELwAAAABwGMELAAAAABxG8AIAAAAAhxG8AAAAAMBhBC8AAAAAcNj/B/o05z9dcAqSAAAAAElFTkSuQmCC",
      "text/plain": [
       "<Figure size 1000x600 with 1 Axes>"
      ]
     },
     "metadata": {},
     "output_type": "display_data"
    }
   ],
   "source": [
    "import matplotlib.pyplot as plt\n",
    "\n",
    "plt.figure(figsize=(10, 6))\n",
    "plt.scatter(y_test, y_pred, alpha=0.5)\n",
    "plt.plot([y.min(), y.max()], [y.min(), y.max()], 'k--', lw=4)  # Line for perfect predictions\n",
    "plt.xlabel('Actual')\n",
    "plt.ylabel('Predicted')\n",
    "plt.title('Actual vs. Predicted')\n",
    "plt.show()"
   ]
  },
  {
   "cell_type": "code",
   "execution_count": 32,
   "id": "1f60c0b1-b098-4843-91db-02d383203005",
   "metadata": {
    "tags": []
   },
   "outputs": [
    {
     "name": "stdout",
     "output_type": "stream",
     "text": [
      "Mean Squared Error: 3108.3692269161547\n",
      "R^2 Score: -45.74740814318062\n"
     ]
    }
   ],
   "source": [
    "# evaluating model accuracy\n",
    "mse = mean_squared_error(y_test, y_pred)\n",
    "r2 = r2_score(y_test, y_pred)\n",
    "\n",
    "print(f\"Mean Squared Error: {mse}\")\n",
    "print(f\"R^2 Score: {r2}\")"
   ]
  },
  {
   "cell_type": "code",
   "execution_count": 33,
   "id": "e0dc3c5d-a93e-4fc6-b7a5-4b03c865bccf",
   "metadata": {
    "tags": []
   },
   "outputs": [
    {
     "data": {
      "image/png": "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",
      "text/plain": [
       "<Figure size 1000x600 with 1 Axes>"
      ]
     },
     "metadata": {},
     "output_type": "display_data"
    }
   ],
   "source": [
    "residuals = y_test - y_pred\n",
    "plt.figure(figsize=(10, 6))\n",
    "plt.scatter(y_pred, residuals)\n",
    "plt.axhline(y=0, color='red', linestyle='--')\n",
    "plt.xlabel('Predicted')\n",
    "plt.ylabel('Residuals')\n",
    "plt.title('Residuals vs. Predicted')\n",
    "plt.show()"
   ]
  },
  {
   "cell_type": "code",
   "execution_count": 34,
   "id": "fa8ba13e-5db6-4a92-8029-e040303422c0",
   "metadata": {
    "tags": []
   },
   "outputs": [
    {
     "name": "stderr",
     "output_type": "stream",
     "text": [
      "/tmp/ipykernel_210711/650600978.py:5: FutureWarning: The default value of numeric_only in DataFrame.corr is deprecated. In a future version, it will default to False. Select only valid columns or specify the value of numeric_only to silence this warning.\n",
      "  corr = df.corr()\n",
      "/usr/local/lib/python3.10/dist-packages/seaborn/matrix.py:260: FutureWarning: Format strings passed to MaskedConstant are ignored, but in future may error or produce different behavior\n",
      "  annotation = (\"{:\" + self.fmt + \"}\").format(val)\n"
     ]
    },
    {
     "data": {
      "image/png": "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",
      "text/plain": [
       "<Figure size 1000x800 with 2 Axes>"
      ]
     },
     "metadata": {},
     "output_type": "display_data"
    }
   ],
   "source": [
    "#correlation matrix\n",
    "import seaborn as sns\n",
    "import matplotlib.pyplot as plt\n",
    "\n",
    "corr = df.corr()\n",
    "\n",
    "# Create a heatmap\n",
    "plt.figure(figsize=(10, 8))\n",
    "sns.heatmap(corr, annot=True, fmt=\".2f\", cmap='coolwarm')\n",
    "plt.title('Correlation Matrix')\n",
    "plt.show()"
   ]
  },
  {
   "cell_type": "markdown",
   "id": "306376c6-fa9c-40fe-9b12-0fc0b3304ed5",
   "metadata": {},
   "source": [
    "Clearlt very poor results. This tells us we  have issues with data, where there are too many irrelevant or noisy features. There is also a lack of data scaling and normalization."
   ]
  },
  {
   "cell_type": "code",
   "execution_count": 53,
   "id": "8748ea70-6e3f-4c64-ba38-35540e6fab85",
   "metadata": {
    "tags": []
   },
   "outputs": [
    {
     "name": "stdout",
     "output_type": "stream",
     "text": [
      "D wins by -1832.5561604320674\n"
     ]
    }
   ],
   "source": [
    "#predicting 2024 election with 2020 data, since we dont have 2024 data\n",
    "lrtest_2020 = df_lr2020.drop('net_total', axis=1)\n",
    "y_pred2020 = model.predict(lrtest_2020)\n",
    "total_prediction = y_pred2020.sum()\n",
    "# Check if the total prediction is positive, negative, or zero\n",
    "if total_prediction > 0:\n",
    "    print(\"R wins by \"+ str(total_prediction))\n",
    "elif total_prediction < 0:\n",
    "    print(\"D wins by \"+ str(total_prediction))\n",
    "else:\n",
    "    print(\"Cannot make a prediction.\")"
   ]
  },
  {
   "cell_type": "code",
   "execution_count": 56,
   "id": "190ee8bb-ea93-478d-9d2d-b4bd59d8b678",
   "metadata": {
    "tags": []
   },
   "outputs": [
    {
     "name": "stdout",
     "output_type": "stream",
     "text": [
      "Mean Squared Error (MSE): 27.921552951820022\n",
      "R-squared (R^2) Score: 0.5800819862300843\n"
     ]
    },
    {
     "data": {
      "text/plain": [
       "<Axes: xlabel='net_total'>"
      ]
     },
     "execution_count": 56,
     "metadata": {},
     "output_type": "execute_result"
    },
    {
     "data": {
      "image/png": "iVBORw0KGgoAAAANSUhEUgAAAi8AAAGxCAYAAACqUFbqAAAAOXRFWHRTb2Z0d2FyZQBNYXRwbG90bGliIHZlcnNpb24zLjguMCwgaHR0cHM6Ly9tYXRwbG90bGliLm9yZy81sbWrAAAACXBIWXMAAA9hAAAPYQGoP6dpAABF/klEQVR4nO3dfXyT9b3/8XdbmpZSWqA3lGqBQlHuoaggFBCFDW83OBzmcJvcqJtHkWnVHdiZgrgJKjInOp2PI7CzKbtTcecc5zlYFeVmOrGIeJQfrYUyaUGQNrSFhrb5/cESG5qkSZorua7k9Xw8+niYXNeVfmNJ8sn3+/l8vglOp9MpAAAAi0iM9gAAAACCQfACAAAsheAFAABYCsELAACwFIIXAABgKQQvAADAUgheAACApRC8AAAAS+kW7QGEW1tbmw4fPqyePXsqISEh2sMBAAABcDqdOnnypPLz85WY6H9uJeaCl8OHD6ugoCDawwAAACE4dOiQzj//fL/nxFzw0rNnT0lnn3xGRkaURwMAAAJht9tVUFDg/hz3J+aCF9dSUUZGBsELAAAWE0jKBwm7AADAUgheAACApRC8AAAASwk5eHn77bd13XXXKT8/XwkJCdq8ebPHcafTqfvvv1/9+vVT9+7dNWPGDO3fv7/Tx33qqac0cOBApaamasKECXrvvfdCHSIAAIhBIQcvjY2NGjNmjJ566imvxx955BE98cQTeuaZZ/Tuu++qR48emjlzpk6fPu3zMX//+9+rtLRUy5cv1wcffKAxY8Zo5syZOnr0aKjDBAAAMSbB6XQ6u/wgCQl6+eWXNWvWLElnZ13y8/N1991365577pEk1dfXq2/fvtq4caO+/e1ve32cCRMm6JJLLtGTTz4p6WzDuYKCAt1xxx1aunRpQGOx2+3KzMxUfX091UYAAFhEMJ/fhuS8VFVVqba2VjNmzHDfl5mZqQkTJmjnzp1er3E4HNq1a5fHNYmJiZoxY4bPaySpublZdrvd4wcAAMQuQ4KX2tpaSVLfvn097u/bt6/72LmOHTum1tbWoK6RpFWrVikzM9P9Q3ddAABim+WrjZYtW6b6+nr3z6FDh6I9JAAAYCBDgpe8vDxJ0pEjRzzuP3LkiPvYubKzs5WUlBTUNZKUkpLi7qZLV10AAGKfIcFLYWGh8vLyVFZW5r7Pbrfr3Xff1cSJE71eY7PZdNFFF3lc09bWprKyMp/XAAAQ6+qbHKo82qDy6hOq/KJB9U2OaA8p6kLe26ihoUEVFRXu21VVVdq9e7f69Omj/v37684779RPf/pTDRkyRIWFhbrvvvuUn5/vrkiSpOnTp2v27NlavHixJKm0tFTz58/XxRdfrPHjx+vxxx9XY2OjFi5cGPozBADAog7XndK/vrhH7+w/5r5v6pBsrZ4zWvm9uof0mPVNDh1rcMh++owyuicru4dNmWm2cA05IkIOXt5//31dfvnl7tulpaWSpPnz52vjxo360Y9+pMbGRn3/+99XXV2dJk+erNdee02pqanuayorK3Xs2Fd/kOuvv15ffPGF7r//ftXW1mrs2LF67bXXOiTxAgAQ6+qbHB0CF0l6e/8xLX1xj9bNKw466DAiGIqGsPR5MRP6vAAAYkHl0QZNX7vV5/Gy0ss0ODc94Merb3Jo8abyDsGQdDaACSUYCqeo93kBAABdYz99xu/xk50cP9exBofXwEU6O5tzrME6uTQELwAAmFBGarLf4z07OX6ucAdD0UTwAgCACWWn2zR1SLbXY1OHZCs7PbglnnAHQ9FE8AIAgAllptm0es7oDgHM1CHZenjO6KDzU8IdDEUTCbsAAJiYq7T55Okz6pmarOz00EubD9ed0tIX9+jtc6qNHp4zWv2iXG0UzOd3yKXSAADAeJlp4evDkt+ru9bNKw5bMBQtBC8AAMQYf43owhkMRQvBCwAAMSRWGtH5Q8IuAAAmFey+Rp115Y2VfZGYeQEAwIRCmUEJpBGd1ZeMJGZeAAAwnVBnUGKpEZ0/zLwAAGAywcygtE/O7W5L8vu4VmpE5w/BCwAAJhPoDMq5S0uLryjS5KIsbas43uEaqzWi84dlIwAATCaQVv7elpbWb6vSgpJCTS7K8jg/1K68ZsXMCwAAJuNq5f+2l6Uj1wyKt6WlJkerlmwq16LJhfrJNcN1+kyrZRvR+cPMCwAAJhPIvka+lpaaHK168o0KnT7TqrH9e2twbnpMBS4SMy8AAJhSZ638O1tayuie7LfTrpURvAAAYFL+Wvn7W1r62rBc2ZIStXhTeUx22mXZCAAAC/K3tLTiGyO07OWPYrbTLjMvAABEgBFLOL6WlmK90y7BCwAABjNys0RvS0ufHWv0e43VO+2ybAQAgIGisVliIH1irIzgBQAAAwWyhBNurmReb2Kh0y7BCwAABorGZomB9ImxMnJeAADogs4ScaO1hNNZnxgrI3gBACBENXWn9Nb/+0K5PVPU3NKmE01n9F7Vl5p2QY76/SMRN5BW/0bx1yfGygheAAAIQX2TQwe/bNJ/7Tms7e12cS4pylJhdg+l2ZLcwcPqOaO19MU9ev/gCS2aXKjigl6SpILeaVEavbURvAAAEIK6pjNa98Z+j8BFkvv2Q7NGuWc9XEs4J5rO6L7NH+nJNyrc58dK19tIImEXAIAQNDpaOgQuLtsrjqvR0dLh/vte2at3zrkmVrreRhLBCwAAIWh0tPo93nTO8aMnm/2WTB892Ry2scU6ghcAAELQq7v/KqHMdscP151S9ZdNfs+v/rJJh+tOhWVssY7gBQCAEGR0T9bkoiyvxyYXZSnjH8GLq8NuIFg+CgzBCwAAIWhsbtGCkkKVnBPAlBRlaUFJoRqbz+a8uDrslh+q63Bu+2vKD9UZ1nE31lBtBABACOpPndGSTeVaNLlQi0oK1dzSppRuiSo/VKclm8r1ws0TJEkn/jGTsn5blZ6YV6xEySNpt6QoSwtLCrVkU7kk62+aGAmGBi8DBw7UwYMHO9x/22236amnnupw/8aNG7Vw4UKP+1JSUnT69GnDxggAgEtn3XLby0hNVpOj1aPsub2eqcmqb3LI0dIm6WwC75JN5frd9y/VgpPNHYIdV4Kv1TdNjARDg5e//e1vam39Ktt67969+trXvqa5c+f6vCYjI0P79u1z305ISDByiAAASDqbVHvu7s/+erAE0jn3WINDOz47rpKiLG2vOK4mR6v+9/+OqLz6hNcy61jYNDESDA1ecnJyPG6vXr1agwcP1mWXXebzmoSEBOXl5Rk5LAAAPLiSas8tZXb1YFk3r7jDDExmmk0PzxntsT1AanKSjthP6/ILcpSZZtNnxxrdy0XS2f4vrtsJkra1C2BiZdPESIhYzovD4dBvf/tblZaW+p1NaWho0IABA9TW1qZx48bpoYce0ogRIyI1TABAHHIl1XrjSqL1FlQ4Jb26p0bvVHx17ZQh2Zo4KEv1TQ5ldk92Lxe1z43plpCghSWFWnbVMDW3tCmze9c3TQxmycvqIha8bN68WXV1dVqwYIHPcy688EKtX79eo0ePVn19vdasWaNJkybp448/1vnnn+/1mubmZjU3f9XYx263h3voAIAYZ+8kSdZbEq17tqbCM+h5Z/8x/dvmj3Tt6HxNKcrWjGG5ev2Tox1yY0qKslTcv7dmjz1Pg3PTuzT+YJe8rC5ipdLPPfecrrrqKuXn5/s8Z+LEibrxxhs1duxYXXbZZXrppZeUk5OjX/3qVz6vWbVqlTIzM90/BQUFRgwfABDDMjpJkvWWROtvtmZ7xXHl9kzRj1/+SPddO9xrOfXCkkKt31bV5eqizpa8YrFvTERmXg4ePKjXX39dL730UlDXJScnq7i4WBUV3jO5JWnZsmUqLS1137bb7QQwAICgBJJ86+Janjne6ND6BZfog+oTWr+tqsN2AM0tbXp7/zGdOtOq4v69vZZTNzlau1xdFOqSl5VFJHjZsGGDcnNzdc011wR1XWtrqz766CNdffXVPs9JSUlRSkpKV4cIAIhjmWk2rZ4zWktf3OMRwJybROtteaakKEtP3TBOH/69TqPOy3Qn7man25RmS1JTc6v2HKrzWlLtCowCzVfxdl5Dc/BLXlZnePDS1tamDRs2aP78+erWzfPX3XjjjTrvvPO0atUqSdLKlSt16aWXqqioSHV1dXr00Ud18OBB3XzzzUYPEwAQ5/J7dde6ecU61uDQydNn1DPVM4n23OWZNFuSFk0u1Lj+vZVmS9L4wj7aUXncPQszpShLT8wrVq+0ZJ+B0SNzRqvR0RpQvoqvvJaV3xx5NkjysVFkLPaNMTx4ef3111VdXa1FixZ1OFZdXa3ExK/Sbk6cOKFbbrlFtbW16t27ty666CLt2LFDw4cPN3qYAAAoM813hU775Zk0W5KemFesDdurPGZUSv4RsCzZVK53Ko7LKemxb41V34xUr4GRJC3eVN5piba/vJb7X9mr+64drmUvfdRhzLHaNybB6XQ6oz2IcLLb7crMzFR9fb0yMjKiPRwAQIworz6h2b/cIUlafEWRz0ZzrioiV1BTVnqZz2qiyqMNmr52q8/f6bq2s/P+584p+tl/f+J1yaufRaqNgvn8Zm8jAIBpmal3SfuKpOKCXj63BdhecVyLSgrdt/3lnARaot3ZeaccrX6XvGINwQsAwJTM1rskO92mKUOy9c7+Y2r+x35FvrQ/7i/nJNAS7UDO87fkFWsi1ucFAIBAmbF3SWaaTQ9+c6RKirKU0s3/x6freGc5J64SbW/aXxvoefGC4AUAYDqB9C6Jht5pybp2dL5yeqZoyjmN51xKirJUfqiu072K6pvO9opZ/o0RmvKPwCTNlqTFVxTphZsn6IfTh+hYo+PsNgP/KOU+N4CJ1/2QWDYCAJhOKO36IyEzzabLLsjR8lf2an5Jodokj6TdKUOy9cA3zu7Hd8vkQp9BRfslMVfJ9e3TBiunZ6pW/HmvRz5N+6WyeMpr8YfgBQBgOqG064+U/F7dtWbuGB1vdGjFdSPU2uZUk6M14M0Vz10Sa3K0uoMVbxVM55ZNx2Owci6CFwCA6QTTrj8auhJE+FoS81fBFKtt/kNFzgsAwHRiOcfD15JYZxVMsdjmP1TMvAAATMnIHA+j+8f4e3xfS2KdVTDFYpv/UBG8AABMy4gcD6P7x3T2+L6WxMoP1WlyUZa2eenaa4alMjNh2QgAEDeM7h8TyOO7lsSmnLMk9n+H63XftSNUck4JdiwslYUbMy8AgLgRSP+YrgQJgT5+fq/uuu/a4Tr0ZZOaW9qU0i1R5Yfq9J1//6u+Pb6/FpUUqmdqsrJ62OK2HNofghcAgGUEmqvi67xw9I/xN4ZgHj8pIUE3/fr9DucEsqFjvCN4AQBYQqC5Kv7Oy+zetf4xnY0hmP40Zi8HNzNyXgAAphdorkpn5/VI6RbyHkGBjCGYPYhiuRzcaMy8AABML9Bcks7OazjdotVzRmvpi3s8ZjwCCRgCGcPg3PSgHp+W/6EheAEAmF6guSSBnDc4Nz2kgCHQMQQbkNDyP3gELwBgAUY3VTO7QHNJAj0vlIAhmHwWAhJjEbwAgMkZ3VTNCgJNbjUyCZYEW/MgYRcATMzopmpWEWhyq5FJsCTYmkeC0+l0RnsQ4WS325WZman6+nplZGREezgA0CWVRxs0fe1Wn8fjrReIa/mss1ySQM8zcgwITjCf3ywbAYCJhaOpWiwJNJfEyJwTb48d7zlJkUbwgojjRQ4ELpgkUUSHmXKS4uX9leAFEWWmFzlgBSSJmltnOUnr5hVHLHiIp/dXEnYRMSQeAsGLdpJofZNDlUcbVF59QpVfNFj6dWrEcwmkcV0kxNv7KzMviBijd3MFYlW0urDG0jd5o56LWXKS4u39lZkXRIxZXuSAFWWm2TQ4N11j+/fW4Nz0iMy4xMo3eSOfi1lykuLt/ZXgBRFjlhc5gM6ZZTkkHIx8LsFsxGikeHt/JXhBxJjlRQ6gc7H0Td7I5xLtnCSXeHt/JecFEeN6kYeymyuAyIqlb/JGP5dAcpKMLmGOt/dXghdEFNu/A9YQSyXakXgu/priRSrxOZ7eX9keAADg1eG6Uz6/yfezYLVRNJ5LfZNDizeVuwOXNFuSFk0uVHFBL0lS/z5pyu2ZEpMBRrCC+fwmeAEA+BRL+/hE47m035sqzZakJ+YVa8P2Km2vOO4+x6rl5+HG3kYAgLAwco+gSIvGc2mfLLxocmGHwEWKTjdeqzO02mjFihVKSEjw+Bk6dKjfa/74xz9q6NChSk1N1ahRo/Tqq68aOUQAAAzTPlm4uKBXh8DFxWrl59FmeKn0iBEjVFNT4/7Ztm2bz3N37NihefPm6aabblJ5eblmzZqlWbNmae/evUYPEwCAsGtfwtzc0ub3XCuVn0eb4cFLt27dlJeX5/7JzvZehy5Jv/jFL3TllVfq3nvv1bBhw/Tggw9q3LhxevLJJ40eJgAAYde+D0xKN/8fub5KtmNpf6lwMTznZf/+/crPz1dqaqomTpyoVatWqX///l7P3blzp0pLSz3umzlzpjZv3mz0MAEAMISrhLmu6YymDMn22u3XV8l2LO0vFU6GzrxMmDBBGzdu1Guvvaann35aVVVVmjJlik6ePOn1/NraWvXt29fjvr59+6q2ttbn72hubpbdbvf4AQDATDLTbBqQ3UMPB9GNN5b2lwo3Q2derrrqKvd/jx49WhMmTNCAAQP0hz/8QTfddFNYfseqVav0wAMPhOWxAABoL9ydcYNpJBdvO0UHI6Kl0r169dIFF1ygiooKr8fz8vJ05MgRj/uOHDmivLw8n4+5bNkyj6Umu92ugoKC8AwYAGAZ4Q40jFqyCbRkO5b2lwq3iG7M2NDQoMrKSvXr18/r8YkTJ6qsrMzjvi1btmjixIk+HzMlJUUZGRkePwCA+HK47pQWbyrX9LVbNfuXOzT9sa26Y1O5DtedCunxzLBkE0v7S4WbocHLPffco61bt+rAgQPasWOHZs+eraSkJM2bN0+SdOONN2rZsmXu83/4wx/qtdde02OPPaZPP/1UK1as0Pvvv6/FixcbOUwAgIUZEWgEsmRjtHjbKToYhgYvf//73zVv3jxdeOGF+ta3vqWsrCz99a9/VU5OjiSpurpaNTU17vMnTZqkF154Qc8++6zGjBmjP/3pT9q8ebNGjhxp5DABABZmRKBhhiWb9mXW7cXqTtHBMDTn5Xe/+53f42+99VaH++bOnau5c+caNCIAQKwxItAwy5JNPO0UHQz2NgIAWFpngUaqLUn1TcFV5riWbN4OoieLUWJpf6lwiWjCLgAA4eYvN6SkKEv/tacm6ORdlmzMLcHpdDqjPYhwCmZLbQBAbDhcd0pLX9zjMVNSUpSlhSWFWrKpXE2OVk0dkh30zs2u8muWbIwXzOc3y0YAAMtz5YbU1J/WZ8caldItUeWH6tyBixRaYzeWbMyJ4AUAYEnemtI1t7Tqtuc/8HlNV6uEwt0ID6EheAEAWI6v7rcrvzlSabYk92zLubpSJcQmieZBwi4AwFL8NaW7/5W9uu/a4V6v60qVkBk67uIrBC8AAEvprCnduP69wl4lZIaOu/gKy0YAAEs5tyldmi1JiyYXqrigl5pb2tTW5tSjc8eosblF9lPhqRIyQ8ddfIXgBQBgKe2b0qXZkvTEvGJt2F6lJ9+ocN/vykUZlJMe1GP7Ssg1S8ddnEXwAgCwlPbdbxdNLtSG7VXaXnHc4xxXLkowfV38JeSaqeMuyHkBAFhM++63xQW9OgQuLsHkonSWkCuJjrsmwswLAMByXE3p/t/RBr/nBZqLEkhC7uDcdDZJNAmCFwCAJWWm2dTHR+DgSuJNTU5SefWJThvKBZqQS8ddcyB4AQBYlrdclM6SeL01lPOVkBtsEGR2sdIhmI0ZAQCWdu6mjIuvKFJ59QmvuTC+Nmesb3Lojk3lPoOg9o9l1a66Zu8QHMznN8ELAMDy2u/+nJqcpCt/8Y7Pc8tKL9Pg3I4l1OEIgsyqvsmhxZvKveb1mOW5sKs0ACCutM9FKa8+4fdcX0m8riTg9kFQ+2Wn9t7ef0w19tPu3212gSQkW+F5uFAqDQCIKV1pKJeZZtPg3HSN7d9bp85439zR5bMvGnXHpnIdrjsV0jgjKdY6BBO8AABiiiuJ15tgGsp1FgSldEu0zMaMsdYhmOAFABBT2jexay/YhnL+gqCSoiyVH6qTZI2NGcMV0JkFCbsAANMIZylv+yTeUBvKnZvEK50NXBaWFGrJpnI1Oc4uLW2+bZLG9u8d0jgjxdtzcQV0/ag2ii6CFwCwJrOW8tY3OVRTf1qfHWtUSrdElR+q0/ptVe7ARfJdwWQ24QjojEK1EQDAUjrbWyiapbyu3/vQq59YfmPGWOkQTM4LACDqAinljaZw5dEgPJh5AQBEnRVKec/tA2O2ZZd4QvACAIg6q5Tyxsqyi9WxbISIqG9yqPJog8qrT6jyiwbT90QAEFmxVsoLYzHzAsOZtYIAgHm4ckp8lfIy24H2KJWGoaywGRgA84hUKW84+8kgPCiVhmnE2mZgAIwViZwSZoOtj5wXGMoKFQQA4kdn/WTIx7MGZl5gKKtUEACID2aYDWbJqusIXmAoVwWB1btSAogN0Z4NZskqPAxdNlq1apUuueQS9ezZU7m5uZo1a5b27dvn95qNGzcqISHB4yc1NdXIYcJAdKUEYCbRnA1mySp8DJ152bp1q26//XZdcsklamlp0Y9//GN9/etf1//93/+pR48ePq/LyMjwCHISEhKMHCYMRldKAGYRzdlgMyxZxQpDg5fXXnvN4/bGjRuVm5urXbt2aerUqT6vS0hIUF5enpFDQ4TRlRKAGUSzn0y0l6xiSURzXurr6yVJffr08XteQ0ODBgwYoLa2No0bN04PPfSQRowYEYkhAgBiXLRmgylgCJ+IBS9tbW268847VVJSopEjR/o878ILL9T69es1evRo1dfXa82aNZo0aZI+/vhjnX/++R3Ob25uVnNzs/u23W43ZPwAgNgRjdlgChjCJ2Iddv/lX/5Ff/nLX7Rt2zavQYgvZ86c0bBhwzRv3jw9+OCDHY6vWLFCDzzwQIf76bALADCbw3WnfC5Z9YvzaqNgOuxGJHhZvHixXnnlFb399tsqLCwM+vq5c+eqW7du2rRpU4dj3mZeCgoKCF4AAKYUqS0QrMY02wM4nU7dcccdevnll/XWW2+FFLi0trbqo48+0tVXX+31eEpKilJSUro6VABAnItU8zgKGLrO0ODl9ttv1wsvvKBXXnlFPXv2VG1trSQpMzNT3bufnR678cYbdd5552nVqlWSpJUrV+rSSy9VUVGR6urq9Oijj+rgwYO6+eabjRwqACCOGd08jq664WVo8PL0009LkqZNm+Zx/4YNG7RgwQJJUnV1tRITv+qVd+LECd1yyy2qra1V7969ddFFF2nHjh0aPny4kUMFAMSpzprHrZtX3KVAg6664RexhN1ICWbNDACAyqMNmr52q8/jZaWXaXBuekiPXd/k0OJN5V6b000dkt3lwCiWBPP5za7SAIC4ZmTzuEC66iJ4bMwIAIhrwTaPCyZ/Jda66pold4fgBQAQ14JpHhds/kosddU1U+4Oy0YAgLjm2u9o6pBsj/vP3e8olF2hXYGRN1bqqmu2HbGZeQEAxL1A9jsKZVfoaG4EGU5m2xGb4AUAAHXePC7U/JVobQQZTmbL3SF4AQAgAJ3lr2R0T/aZ0Gr1rrpmy90heAEAIAD+Enu/NixXtqTEDj1dYqUZndl2xCZhFwCAAPhL7F3xjRFa9vJHpkloDbdAk5ojhZkXRI1Z+gUAiE+hvAf5yl8xW0KrEcyUu0PwgqgwU78AAPGnK+9B3vJXPjvW6PcaXwmtVvsSZ5bcHZaNEHFm6xcAIL4Y8R4USkLr4bpTWrypXNPXbtXsX+7Q9Me26o5N5Tpcdyro3x9vCF4Qcez1ASCajHgPCrYZHV/iuobgBRHX1X4B9U0OVR5tUHn1CVV+0cCLHEBQjOhZEmxCK1/iuoacF0RcV/oFkCsDoKuM6lkSTEKr2Zq+WQ0zL4i4UPf6YJoVQDgYud9QZppNg3PTNbZ/bw3OTfeZ3Gq2pm9WQ/CCiAu1XwDTrADCwQw9S2Jlw8ZoYdkIURFKvwCmWQGES7R7lsTKho3RQvCCqAm2XwDTrADCKdo9S6IdQFkZwQssw2x7awBAV0U7gLIqcl5gGWZYpwYARB8zL7AUplkBAAQvsBymWQEgvrFsBAAALIXgBQAAWArBCwAAsBRyXgAACKP6JoeONThkP31GGd2Tld2DPL1wI3gBACBM2Dw2Mlg2AgAgDNg8NnIIXgAACAM2j40cghcAAMKAzWMjh5wXxCQS5oDYZObXNpvHRg7BC2IOCXNAbDL7a9usm8eaOeALVYLT6XRGexDhZLfblZmZqfr6emVkZER7OIiw+iaHFm8q97ruPHVIth785kh92eSImRcwEC86e22vm1dsitfz4bpTWvriHo8AxrV5bL8oBFhmD/jaC+bzm5kXxJTOEuYqvmjQTb9+X5J5X8AAOgokGdYMwYuZNo/trPop2IDPTDM4EUnYfeqppzRw4EClpqZqwoQJeu+99/ye/8c//lFDhw5VamqqRo0apVdffTUSw0QM6Cxhrrmlzf3flC8C1mGlZNjMNJsG56ZrbP/eGpybHrUP+HBWPx2uO6XFm8o1fe1Wzf7lDk1/bKvu2FSuw3WnwjXcoBgevPz+979XaWmpli9frg8++EBjxozRzJkzdfToUa/n79ixQ/PmzdNNN92k8vJyzZo1S7NmzdLevXuNHipiQGcJcyndPP/JU74IWAPJsMELV8Bnxv41hgcva9eu1S233KKFCxdq+PDheuaZZ5SWlqb169d7Pf8Xv/iFrrzySt17770aNmyYHnzwQY0bN05PPvmk0UNFFNU3OVR5tEHl1SdU+UVDyC8GV8KcNyVFWSo/VNfhfjN9YwPgnb/XdjSTYc0sXAGfGfvXGBq8OBwO7dq1SzNmzPjqFyYmasaMGdq5c6fXa3bu3OlxviTNnDnT5/nNzc2y2+0eP7CWcE5HZqbZtHrO6A5vciVFWVpYUqj126o6XMM3NsD8fL22XcmwZsh3MRt/Ad/koiylJgcWAphxyc7QhN1jx46ptbVVffv29bi/b9+++vTTT71eU1tb6/X82tpar+evWrVKDzzwQHgGjIgLd0KZ1DFhrkdKN71/8ISWbCpXk6PV41y+sQHWYaZkWCvITLPpodmjtPSlPdpWcdx9f0lRlhaUFGrFnz/WmrljOv3/Z8YlO8tXGy1btkylpaXu23a7XQUFBVEcEYJhVAVBZprnG1qPlG76y4DeXssXeeMDrOPc1zb8c7S2aWz/3lpYUqjmljaldEtU+aE695e5QN5jzdi/xtDgJTs7W0lJSTpy5IjH/UeOHFFeXp7Xa/Ly8oI6PyUlRSkpKeEZMCIuUtORfGMDEI/qT53Rk29U+DweyHusa8nOV/+aaLyPGhq82Gw2XXTRRSorK9OsWbMkSW1tbSorK9PixYu9XjNx4kSVlZXpzjvvdN+3ZcsWTZw40cihIoLa9wrobkvye244pyP5xgYg3oRrycdsXwANXzYqLS3V/PnzdfHFF2v8+PF6/PHH1djYqIULF0qSbrzxRp133nlatWqVJOmHP/yhLrvsMj322GO65ppr9Lvf/U7vv/++nn32WaOHigg4t9vj4iuKNLkoy2M91oV8FADomnAu+ZjpC6DhpdLXX3+91qxZo/vvv19jx47V7t279dprr7mTcqurq1VTU+M+f9KkSXrhhRf07LPPasyYMfrTn/6kzZs3a+TIkUYPFQbzlpy7fluVFpQUanJRlse55KMAQNfFapUWexshYiqPNmj62q0d7k+zJWnR5EJdO6qfTp9pjfp0JIDI62rreTO1rjcj1/8fMyz5+MLeRjAlX8m5TY5WPflGhWYMzdXY/r0jPCoA0dbVzQOttPlgtJhpySccIrK3ESCZs1cAgOjqauv5cFwfju7eiCxmXhAxZuwVACC6utrrqSvXm33GhqUw35h5QcTEauIYgNB1tddTqNebcbPB9sy2i7PZMPOCiDJbrwAA0dXV5eRQrzequ3c4GLFtSqwheEHExVriGIDQdXU5OdTrzbjZoMvxRofGFPTSgkkD1dzSptTkJH1QfULrt1VFPbAyC5aNAABR09Xl5FCvN3MBgVNSefUJ3fTr93Xb8x9o0ca/qbz6hJ6YV6w0W1JUAyuzYOYFABBVXV1ODuV6sxYQ1Dc5tOKVvdp+Ttdx1+1FkwupzBTBi2mRZQ4gnnR1OTnY68242aD0j1wcL9ulSGcDmNunFVGZKYIXUzJ7+R4AxAIzFhB0louTkpzIF1mR82I6Zi/fA4BYkplm0+DcdI3t31uDc9OjHhh0lovTqzuBi0TwYjqBlO8BAGKTKxfHG5p5foXgxWTMXL4HADAWzTwDQ86LyZi5fA8AYDwz5uKYDcGLyZi1fA8AEDk08/SPZSOTYcoQAAD/mHkxIaYMAQDwjeDFpJgyBADAO5aNAACApTDzAlNgOwQAQKAIXhB1bIcAAAgGy0aIKrZDAAAEi+AFUcV2CACAYBG8IKrYDgEAECyCF0QV2yEAAIJF8IKoYgdVAECwCF4QVWyHAAAIFqXSiDq2QwAABIPgBabAdggAgECxbAQAACyF4AUAAFgKwQsAALAUghcAAGApBC8AAMBSDAleDhw4oJtuukmFhYXq3r27Bg8erOXLl8vh8L9PzbRp05SQkODxc+uttxoxRAAAYFGGlEp/+umnamtr069+9SsVFRVp7969uuWWW9TY2Kg1a9b4vfaWW27RypUr3bfT0tKMGCIAALAoQ4KXK6+8UldeeaX79qBBg7Rv3z49/fTTnQYvaWlpysvLM2JYAAAgBkQs56W+vl59+vTp9Lznn39e2dnZGjlypJYtW6ampia/5zc3N8tut3v8AACA2BWRDrsVFRVat25dp7MuN9xwgwYMGKD8/Hzt2bNH//qv/6p9+/bppZde8nnNqlWr9MADD4R7yAAAwKQSnE6nM9CTly5dqocfftjvOZ988omGDh3qvv3555/rsssu07Rp0/Tv//7vQQ3ujTfe0PTp01VRUaHBgwd7Pae5uVnNzc3u23a7XQUFBaqvr1dGRkZQvw8AAESH3W5XZmZmQJ/fQQUvX3zxhY4fP+73nEGDBslmO7tHzeHDhzVt2jRdeuml2rhxoxITg1ulamxsVHp6ul577TXNnDkzoGuCefIAAMAcgvn8DmrZKCcnRzk5OQGd+/nnn+vyyy/XRRddpA0bNgQduEjS7t27JUn9+vUL+loAABCbDEnY/fzzzzVt2jT1799fa9as0RdffKHa2lrV1tZ6nDN06FC99957kqTKyko9+OCD2rVrlw4cOKA///nPuvHGGzV16lSNHj3aiGECAAALMiRhd8uWLaqoqFBFRYXOP/98j2OuVaozZ85o37597moim82m119/XY8//rgaGxtVUFCgOXPm6Cc/+YkRQwQAABYVVM6LFZDzAgCIpPomh441OGQ/fUYZ3ZOV3cOmzDRbtIdlOYblvAAAgK8crjulf31xj97Zf8x939Qh2Vo9Z7Tye3WP4shiGxszAgAQgvomR4fARZLe3n9MS1/co/om//v5IXQELwAAhOBYg6ND4OLy9v5jOtZA8GIUghcAAEJgP33G7/GTnRxH6AheAAAIQUZqst/jPTs5jtARvAAAEILsdJumDsn2emzqkGxlp1NxZBSCFwAAQpCZZtPqOaM7BDBTh2Tr4TmjKZc2EKXSAACEKL9Xd62bV6xjDQ6dPH1GPVOTlZ1OnxejEbwAANAFmWkEK5HGshEAALAUghcAAGApBC8AAMBSyHmB5bEpGgDEF4IXWBqbogFA/GHZCJbFpmgAEJ8IXmBZbIoGAPGJZSNEhBF5KWyKBsAb8uBiH8ELDGdUXgqbogE4F3lw8YFlIxjKyLwUs2yKVt/kUOXRBpVXn1DlFw3k2gBRQh5c/GDmBYYKJC8l1Olc16ZoS1/co7fP+ZYVqU3R+JYHmIeR7zcwF4IXGMrovJRoborW2be8dfOKeaMEIog8uPhB8AJDufJS0mxJWjS5UMUFvdTc0qbU5CR9UH1CGd27npcSrU3R+JYHmAt5cPGD4AWGyk636WvDcnX9+P7asL1KT75R4T42uShL3764IIqj6xq+5QHm4sqDe9vLl4pI5sHBeCTswlCZaTat+MYIbdhepe0Vxz2Obas4rh+//JFlk+j4lgeYiysP7txE/kjmwSEymHmBYVy9FppbWjsELi5WXl7hWx5gPtHMg0PkELzAEO2rcH75nXF+z7Xq8ooZqp0AdBStPDij0XzvKwQv8BCOF8e5VTgp3fyvTlp5eYVveQAigbYMnghe4NaVF0f7oKe7LUljCnpp18ETanK0qvxQnUqKsrwuHcXC8kqsfssDYA60ZeiI4AWSuvbi8Bb0lBRl6Yl5xVqyqVzrt1XpiXnFkuQRwAS6vMJUKYB4RluGjgheICn0F4cr6Nl18IQWX1Hk0celtv6UfnDZIP18y34t2VSuRZMLtaikUJndk9U7zRbQ8gpTpQDiHW0ZOiJ4gaTAXxznzoK0tTm16+AJPTGvuEMfl5KiLC2/doR+tfUzNTla9eQbFZo6JDvgKU6mSgGAtgzeELxAUmAvDm+zIM/Nv1iLJhd67eOyveK4Hvyvj7VocqE7cAmmCoepUgCgLYM3NKkL0BH7aX1aY9d7VV/q01q7jthPR3tIYdXZDs3pqd28zoJIUnFBL599XN6pOK6rR+aprPQyrZtXrH5BLPUwVQoANN/zhpmXAFQfb9Sylz/y+ICeXJSlh2aPUv+sHlEcWfh01rOksbnFa+BSfqhOxQW9/D62o6VNw/Mzgx4TU6UAcBZtGTwZNvMycOBAJSQkePysXr3a7zWnT5/W7bffrqysLKWnp2vOnDk6cuSIUUMMyBH76Q6Bi/RVa/tYmoFxvTjKSi/T5tsmecyW1J/yPsuxfluVcjNS/D5uqEFGZ7NB8ThVCiB+ZabZNDg3XWP799bg3PS4DVwkg5eNVq5cqZqaGvfPHXfc4ff8u+66S//5n/+pP/7xj9q6dasOHz6sf/qnfzJyiJ060ejwuSSyreK4TjRac1+e+iaHKo82qLz6hCq/aHDvL+TrxeFrFqTJ0aqyT45qigFBBlOlAABvDF026tmzp/Ly8gI6t76+Xs8995xeeOEFXXHFFZKkDRs2aNiwYfrrX/+qSy+91Mih+mQ/3dKl42YUSvmxv4Sxjz+v16rZo/Tjlz8Ke5t8pkoBAOcyNHhZvXq1HnzwQfXv31833HCD7rrrLnXr5v1X7tq1S2fOnNGMGTPc9w0dOlT9+/fXzp07fQYvzc3Nam5udt+22+1hfQ4Zqf7/F3V2/FzRbrgWavlxk6NVt11epFan02MmasqQbK385kj18xFkSFLl0YYuPV862AIA2jMseFmyZInGjRunPn36aMeOHVq2bJlqamq0du1ar+fX1tbKZrOpV69eHvf37dtXtbW1Pn/PqlWr9MADD4Rz6B5697BpclGWtnlZOppclKXePQL/UDVDw7VQyo/rmxz60T8a0bkazTW3tCmlW6KOnmxWmi1JUscgwwzPFwAQe4LKeVm6dGmHJNxzfz799FNJUmlpqaZNm6bRo0fr1ltv1WOPPaZ169Z5zJKEw7Jly1RfX+/+OXToUFgfv29Gqh6aPUqTi7I87ndVG/XNSA3ocTqb8XDlnBgtlPJjV8DT5GjV+m1VKj9Up5RuiWpuaVPfjFTVNXW8xizPFwAQe4Kaebn77ru1YMECv+cMGjTI6/0TJkxQS0uLDhw4oAsvvLDD8by8PDkcDtXV1XnMvhw5csRv3kxKSopSUvxXu3RV/6weeuxbY3Wi0SH76RZlpHZT7x62gAMXyTwN10IpP3YFPGm2JK+ddKf8I7el/WyKWZ4vACD2BBW85OTkKCcnJ6RftHv3biUmJio3N9fr8YsuukjJyckqKyvTnDlzJEn79u1TdXW1Jk6cGNLvDKe+GalBBSvnMkvDtVA6NboCHl+ddN/xki9jlucLAIg9hpRK79y5U48//rg+/PBDffbZZ3r++ed111136bvf/a569+4tSfr88881dOhQvffee5KkzMxM3XTTTSotLdWbb76pXbt2aeHChZo4cWLUKo3CySwN10IpP3YFPP466b69/5hq6k+7S6/7pNncuTDe9Ejp5rVUGwCAzhiSsJuSkqLf/e53WrFihZqbm1VYWKi77rpLpaWl7nPOnDmjffv2qampyX3fz3/+cyUmJmrOnDlqbm7WzJkz9ctf/tKIIUacmfam6Kz82FtF1Oo5o/VJjf9Krs+ONeq25z+QdPY5rV9wiRZt/JuaHK0e500Zkq33D57Qspc+ct9HIi8AIFAJTqfTGe1BhJPdbldmZqbq6+uVkZER7eF4OFx3ymf7/WD2/DGSrwqhh+eMVkNzi77287d9Xvvc/It106/fd9+eMiRbV4/q1yFIue3yIq9BTTA7TgMAYkswn98ELxHmmtUwY8O1+iaHFm8q95poO3VIth6dO0b3/vFDr7NHJUVZKu7f2yORV5K23DVViQkJ7ufbLTFBVz3xTofAxaWs9DINzk0PzxMCAFhGMJ/fbMwYYWZuuNZZhVBjc4vXzRtLirK0sKRQSzaVd7iusblFY/v3dt8urz7hM3CRSOQFAHSO4AVunVUI2U+d0aCcdI98mdTkJP3XRzVasqnca1BybiKyWRKXAQDWRfACt0ADi/azR/VNDu05VOc1cPGWiGymxGUAgDUZuqs0rMUVWHjjK7AItvSanaIBAF1Fwm6cO7csOrVbolb8+WNt+eSo+5xAKqKCTUSub3LoeKNDrW1OtbY51eRoUWaaLeIbVQIAzIGEXQTEV1n0Q7NHadnVw2Q/FXggEuxO2ZlpNjU6Wtm4EbCoUF73QLgw8xKnOiuLDrTfSqg7R4fr9wOIPHaMhxGC+fwm5yVOBbJxYme6snN0OH4/gMhjx3iYAcFLnArHxoldCUDYuBGwJr54wAwIXuJUOPqtdCUAod8LYE188YAZELzEqVDKos/VlQAkHL8fQOTxxQNmQLWRyXU1o9/X9a5+K742igzkd6SndtPkoixtqzje4djkoiylp/r+5+X6/ctf2asL+2WouKCXmlva1DstWf37pJGsC5gUjSZhBlQbmVhXM/oDub4rG0V+9kWDPjvWqA3bq7S9XQDj2utoUHYPDcrxv8ni379s0rKX9uiddtdTtQCY2+G6Uz6/+PjrBwX4w67SMRC8dLWUOBKlyOXVJ/Sdf39XiyYXumdOUrolqvxQndZvq9ILN0/w2JQxGmMEYIyufPEBvKFJXQwIJKPf3xtFV68PREZqspocrXryjQqvxztb+47EGAEYo/0eZ1ZAU73YQvBiUl3N6I9ERUBX176pWgAQCTTViz1UG5lUVzP6I1ER0NVNFqlaAGA0murFJmZeTKqrsxqRqgjI79Vd6+YVB70p47EGh1qdTk0Zku0z54WqBQBdxfJ0bCJ4MamuljKHoxQ6mLEG+njtp2/TbEl6Yl6xnE6nR7m1EWMEEJ9Yno5NBC8mFsqsRqjXRyKZ7dzp2yZHq5ZsKteiyYW6bVqRUpOTlNmdqgUA4ROO5WnX+2ND8xn1SrPJ0dKmhuYWEn+jiODF5Lqa0d/+etcL8LNjjR4vukgls3mbvnVVKz35RoXKSi/T4Fz/fWEAIBhdXUJ3vT/uOnhCT8wr1iP/s8+jrxWJv9FBwm6cOFx3Sos3lWv62q2a/csdmv7YVt2xqVyfn2jymcy2/JW9OmI/rcqjDSqvPqHKLxq6lNzG9C2ASOtKYUH72eJFkws7NOSUSPyNFmZe4oC/bPuDx5u8JrOl2ZJ0/fj+uucPu8PW/ZbqIgDREOoSfPvZ4uKCXj57WpH4G3nMvERJfZMjbDManfGXbV93yvtsh+tbxjth/JbBZowAoiUzzabBueka27+3BuemBxRotJ8tbm5p83suM8eRxcxLFEQix6R9Am5Kt0QtvqJI67dVqcnR6nFeSreO8WuaLUlfH95XxQW99J0JA5SanKQPqk+4rw/1W0YkK6AAoKvazxZ7e69sj5njyCJ4ibDOGiaFYz8fb8FRSVGWnphXrCWbyj0CmPJDdR69Vlzly4++9qnHrMu514f6LaOrFVRmQ8txIHa1T/YtP1SnkqKsDjkvEjPH0UDwEmFGN0zyFRy5XnCLJhd6rNvuq7Fr1exR+vHLH+ltP0lp517flW8ZVtsTxRdajgOxrf1s8fptVXpiXrEkdag2YuY48gheIszoiht/wdH2iuNaVFLovj11SLZWfnOk+rWbDWlu8b3Rout6vmVEZgYNQPS1ny1ubD6jh2aNkqO1TY3NLZafObYygpcIM7riprPgKLN7sjbfNqnDi841G1JefaLT38G3DFqOA/EkVmaLYwnBS4QZvedQZ8FR739k3Id6ff8+aerHkgg9awAgigheIszoipv01G564eYJqjt1pkOVUDg2dMztmdKl8cUKetYAQPQQvESBURU3/qqMfv9etVZ+c6SpNnS0skjt2g0A6CjB6XQ6oz2IcLLb7crMzFR9fb0yMjKiPZyIqW9yaPGmcq95GFOGZGvN3DHqm5Ea0OMcb3Sopc2pNqdTTc2tbJbow+G6Uz6DPJbWACA4wXx+GzLz8tZbb+nyyy/3euy9997TJZdc4vXYtGnTtHXrVo/7fvCDH+iZZ54J+xhjjb8E0nf2H1Njc0unPUn8lf4SuHQUaz1rAMAqDAleJk2apJqaGo/77rvvPpWVleniiy/2e+0tt9yilStXum+npaUZMcSY4y+BNM2WJKfUYWamfU+SQEt/acrmiSoEAIg8Q4IXm82mvLw89+0zZ87olVde0R133KGEhAS/16alpXlcG49CCRD8JZAumlyoFa/s9blPkWv2wF/p7/FGhxodrTRlAwBEXUQ2Zvzzn/+s48ePa+HChZ2e+/zzzys7O1sjR47UsmXL1NTU5Pf85uZm2e12jx8rO1x3Sos3lWv62q2a/csdmv7YVt2xqVyH6075vc7fpoeTBmV1CFxcXD1JOiv9bW1z+p2ZYTt4AECkRCR4ee655zRz5kydf/75fs+74YYb9Nvf/lZvvvmmli1bpt/85jf67ne/6/eaVatWKTMz0/1TUFAQzqFHVGdLN/4CBFeV0LkBzNQh2Z1uKHby9JlOS39b25ydNmUDACASglo2Wrp0qR5++GG/53zyyScaOnSo+/bf//53/c///I/+8Ic/dPr43//+993/PWrUKPXr10/Tp09XZWWlBg8e7PWaZcuWqbS01H3bbrdbNoDpatdWXwmknQUWrvP8lf42OVr8PgZN2QAAkRJU8HL33XdrwYIFfs8ZNGiQx+0NGzYoKytL3/jGN4Ie3IQJEyRJFRUVPoOXlJQUpaTERuO0cHRt9ZVA2llPks76u7TfidobmrIBACIlqOAlJydHOTk5AZ/vdDq1YcMG3XjjjUpODv7Dbffu3ZKkfv36BX2tFRnVtTXQxnP+Sn/rmxw0ZQMAmIKhHXbfeOMNVVVV6eabb+5w7PPPP9f06dP1H//xHxo/frwqKyv1wgsv6Oqrr1ZWVpb27Nmju+66S1OnTtXo0aONHKZpGNm1NdCeJL5mbrrSeZfyagBAOBkavDz33HOaNGmSRw6My5kzZ7Rv3z53NZHNZtPrr7+uxx9/XI2NjSooKNCcOXP0k5/8xMghmorRrfm72pMklKZs/hrfUV4NAAgF2wOYkGumwupdW/1tWTB1SLa78R0AAFHfHgBdEytdW7taPQUAgDcELzBMOKqnIoncHACwBoIXGMao6ikjkJsDANYRkQ67iE/+tiwwU3l1VzobAwAij+AFhvG3ZUE4qqfCJZDcHACAebBsBEOFUl4daVbLzQGAeEfwAsOZvXrKSrk5AACWjSyrvsmhyqMNKq8+ocovGsjL6AKr5OYAAM5i5sWCqIwJL6M7GwMAwosOuxZD11rjxEpnYwCwIjrsxjC61hrH7Lk5AICzyHmxGCpjAADxjuDFYqiMAQDEO4IXi6EyBgAQ7wheLMYqXWsBADAKCbsWZIWutQAAGIWZF4tzSlJCtEcBAEDkMPNiQTSpAwDEM2ZeLKa+ydEhcJHO9nhZ+uIetgkAAMQ8gheLCaRJHQAAsYzgxWJoUgcAiHcELxZDkzoAQLwjeLEYmtQBAOIdwYvF0KQOABDvKJW2IJrUAQDiGcGLRWWmEawAAOITy0YAAMBSCF4AAIClELwAAABLIXgBAACWQvACAAAsheAFAABYCsELAACwFIIXAABgKQQvAADAUgheAACApcTc9gBOp1OSZLfbozwSAAAQKNfntutz3J+YC15OnjwpSSooKIjySAAAQLBOnjypzMxMv+ckOAMJcSykra1Nhw8fVs+ePZWQkBDt4YSV3W5XQUGBDh06pIyMjGgPJ67xtzAP/hbmwd/CPKz4t3A6nTp58qTy8/OVmOg/qyXmZl4SExN1/vnnR3sYhsrIyLDMP8ZYx9/CPPhbmAd/C/Ow2t+isxkXFxJ2AQCApRC8AAAASyF4sZCUlBQtX75cKSkp0R5K3ONvYR78LcyDv4V5xPrfIuYSdgEAQGxj5gUAAFgKwQsAALAUghcAAGApBC8W8bOf/UyTJk1SWlqaevXq5fWc6upqXXPNNUpLS1Nubq7uvfdetbS0RHagcWjgwIFKSEjw+Fm9enW0hxUXnnrqKQ0cOFCpqamaMGGC3nvvvWgPKe6sWLGiw7//oUOHRntYceHtt9/Wddddp/z8fCUkJGjz5s0ex51Op+6//37169dP3bt314wZM7R///7oDDbMCF4swuFwaO7cufqXf/kXr8dbW1t1zTXXyOFwaMeOHfr1r3+tjRs36v7774/wSOPTypUrVVNT4/654447oj2kmPf73/9epaWlWr58uT744AONGTNGM2fO1NGjR6M9tLgzYsQIj3//27Zti/aQ4kJjY6PGjBmjp556yuvxRx55RE888YSeeeYZvfvuu+rRo4dmzpyp06dPR3ikBnDCUjZs2ODMzMzscP+rr77qTExMdNbW1rrve/rpp50ZGRnO5ubmCI4w/gwYMMD585//PNrDiDvjx4933n777e7bra2tzvz8fOeqVauiOKr4s3z5cueYMWOiPYy4J8n58ssvu2+3tbU58/LynI8++qj7vrq6OmdKSopz06ZNURhheDHzEiN27typUaNGqW/fvu77Zs6cKbvdro8//jiKI4sPq1evVlZWloqLi/Xoo4+yXGcwh8OhXbt2acaMGe77EhMTNWPGDO3cuTOKI4tP+/fvV35+vgYNGqTvfOc7qq6ujvaQ4l5VVZVqa2s9XiOZmZmaMGFCTLxGYm5vo3hVW1vrEbhIct+ura2NxpDixpIlSzRu3Dj16dNHO3bs0LJly1RTU6O1a9dGe2gx69ixY2ptbfX6b/7TTz+N0qji04QJE7Rx40ZdeOGFqqmp0QMPPKApU6Zo79696tmzZ7SHF7dc7/veXiOx8JnAzEsULV26tEOi27k/vBFHRzB/m9LSUk2bNk2jR4/Wrbfeqscee0zr1q1Tc3NzlJ8FYLyrrrpKc+fO1ejRozVz5ky9+uqrqqur0x/+8IdoDw0xjJmXKLr77ru1YMECv+cMGjQooMfKy8vrUGlx5MgR9zEEpyt/mwkTJqilpUUHDhzQhRdeaMDokJ2draSkJPe/cZcjR47w7z3KevXqpQsuuEAVFRXRHkpcc70Ojhw5on79+rnvP3LkiMaOHRulUYUPwUsU5eTkKCcnJyyPNXHiRP3sZz/T0aNHlZubK0nasmWLMjIyNHz48LD8jnjSlb/N7t27lZiY6P47IPxsNpsuuugilZWVadasWZKktrY2lZWVafHixdEdXJxraGhQZWWlvve970V7KHGtsLBQeXl5Kisrcwcrdrtd7777rs+qVSsheLGI6upqffnll6qurlZra6t2794tSSoqKlJ6erq+/vWva/jw4fre976nRx55RLW1tfrJT36i22+/PWY35jKDnTt36t1339Xll1+unj17aufOnbrrrrv03e9+V71794728GJaaWmp5s+fr4svvljjx4/X448/rsbGRi1cuDDaQ4sr99xzj6677joNGDBAhw8f1vLly5WUlKR58+ZFe2gxr6GhwWOGq6qqSrt371afPn3Uv39/3XnnnfrpT3+qIUOGqLCwUPfdd5/y8/PdAb+lRbvcCYGZP3++U1KHnzfffNN9zoEDB5xXXXWVs3v37s7s7Gzn3Xff7Txz5kz0Bh0Hdu3a5ZwwYYIzMzPTmZqa6hw2bJjzoYcecp4+fTraQ4sL69atc/bv399ps9mc48ePd/71r3+N9pDizvXXX+/s16+f02azOc877zzn9ddf76yoqIj2sOLCm2++6fVzYf78+U6n82y59H333efs27evMyUlxTl9+nTnvn37ojvoMGFXaQAAYClUGwEAAEsheAEAAJZC8AIAACyF4AUAAFgKwQsAALAUghcAAGApBC8AAMBSCF4AAIClELwAgB8DBw7U448/Hu1hAGiH4AVA1KxYsSLoHW4TEhK0efPmoH9XqNcBMB+CFwAAYCkELwBCNm3aNC1ZskQ/+tGP1KdPH+Xl5WnFihXu43V1dbr55puVk5OjjIwMXXHFFfrwww8lSRs3btQDDzygDz/8UAkJCUpISNDGjRv9/r6BAwdKkmbPnq2EhAT3bUl6+umnNXjwYNlsNl144YX6zW9+0+l1lZWV+uY3v6m+ffsqPT1dl1xyiV5//fWu/m8BYDCCFwBd8utf/1o9evTQu+++q0ceeUQrV67Uli1bJElz587V0aNH9Ze//EW7du3SuHHjNH36dH355Ze6/vrrdffdd2vEiBGqqalRTU2Nrr/+er+/629/+5skacOGDaqpqXHffvnll/XDH/5Qd999t/bu3asf/OAHWrhwod58802/1zU0NOjqq69WWVmZysvLdeWVV+q6665TdXW1If+vAIQHu0oDCNm0adPU2tqqd955x33f+PHjdcUVV+jaa6/VNddco6NHjyolJcV9vKioSD/60Y/0/e9/XytWrNDmzZu1e/fugH9nQkKCXn75Zc2aNct9X0lJiUaMGKFnn33Wfd+3vvUtNTY26r//+799XufNyJEjdeutt2rx4sWSzs7a3HnnnbrzzjsDHiMAYzHzAqBLRo8e7XG7X79+Onr0qD788EM1NDQoKytL6enp7p+qqipVVlaGdQyffPKJSkpKPO4rKSnRJ5984ve6hoYG3XPPPRo2bJh69eql9PR0ffLJJ8y8ACbXLdoDAGBtycnJHrcTEhLU1tamhoYG9evXT2+99VaHa3r16hWZwXXinnvu0ZYtW7RmzRoVFRWpe/fu+ud//mc5HI5oDw2AHwQvAAwxbtw41dbWqlu3bh6Jte3ZbDa1trYG9bjJyckdrhk2bJi2b9+u+fPnu+/bvn27hg8f7ve67du3a8GCBZo9e7akszMxBw4cCGo8ACKPZSMAhpgxY4YmTpyoWbNm6X//93914MAB7dixQ//2b/+m999/X9LZfJKqqirt3r1bx44dU3Nzc6ePO3DgQJWVlam2tlYnTpyQJN17773auHGjnn76ae3fv19r167VSy+9pHvuucfvdUOGDNFLL72k3bt368MPP9QNN9ygtrY2A/5vAAgnghcAhkhISNCrr76qqVOnauHChbrgggv07W9/WwcPHlTfvn0lSXPmzNGVV16pyy+/XDk5Odq0aVOnj/vYY49py5YtKigoUHFxsSRp1qxZ+sUvfqE1a9ZoxIgR+tWvfqUNGzZo2rRpfq9bu3atevfurUmTJum6667TzJkzNW7cuPD/zwAQVlQbAQAAS2HmBQAAWArBCwDTeP755z3Kqtv/jBgxItrDA2ASLBsBMI2TJ0/qyJEjXo8lJydrwIABER4RADMieAEAAJbCshEAALAUghcAAGApBC8AAMBSCF4AAIClELwAAABLIXgBAACWQvACAAAsheAFAABYyv8HJGtJ9DJysTEAAAAASUVORK5CYII=",
      "text/plain": [
       "<Figure size 640x480 with 1 Axes>"
      ]
     },
     "metadata": {},
     "output_type": "display_data"
    }
   ],
   "source": [
    "from sklearn.ensemble import RandomForestRegressor\n",
    "from sklearn.experimental import enable_iterative_imputer\n",
    "from sklearn.impute import IterativeImputer\n",
    "from sklearn.pipeline import Pipeline\n",
    "\n",
    "model = RandomForestRegressor()\n",
    "rf = model.fit(X_train,y_train)\n",
    "y_pred = rf.predict(X_test)\n",
    "mse = mean_squared_error(y_test, y_pred)\n",
    "r2 = r2_score(y_test, y_pred)\n",
    "\n",
    "print(\"Mean Squared Error (MSE):\", mse)\n",
    "print(\"R-squared (R^2) Score:\", r2)\n",
    "sns.scatterplot(x=y_test, y=y_pred)"
   ]
  },
  {
   "cell_type": "code",
   "execution_count": 58,
   "id": "5650e406-5c74-467d-b0fa-8a7cf96e6d9c",
   "metadata": {
    "tags": []
   },
   "outputs": [
    {
     "name": "stdout",
     "output_type": "stream",
     "text": [
      "D wins by -518.0519512093217\n"
     ]
    }
   ],
   "source": [
    "pred2020 = rf.predict(df_lr2020.drop('net_total', axis=1))\n",
    "total_prediction = pred2020.sum()\n",
    "if total_prediction > 0:\n",
    "    print(\"R wins by \"+ str(total_prediction))\n",
    "elif total_prediction < 0:\n",
    "    print(\"D wins by \"+ str(total_prediction))\n",
    "else:\n",
    "    print(\"Cannot make a prediction.\")"
   ]
  },
  {
   "cell_type": "code",
   "execution_count": null,
   "id": "79544ebe-5892-4362-95a7-d45760a299fa",
   "metadata": {},
   "outputs": [],
   "source": []
  }
 ],
 "metadata": {
  "kernelspec": {
   "display_name": "Tensorflow 2.13.0",
   "language": "python",
   "name": "tensorflow-2.13.0"
  },
  "language_info": {
   "codemirror_mode": {
    "name": "ipython",
    "version": 3
   },
   "file_extension": ".py",
   "mimetype": "text/x-python",
   "name": "python",
   "nbconvert_exporter": "python",
   "pygments_lexer": "ipython3",
   "version": "3.10.12"
  }
 },
 "nbformat": 4,
 "nbformat_minor": 5
}
