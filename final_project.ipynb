{
 "cells": [
  {
   "cell_type": "code",
   "execution_count": 1,
   "id": "7054bcfb-47c6-46ee-9a44-f1d31165bb68",
   "metadata": {
    "tags": []
   },
   "outputs": [
    {
     "name": "stdout",
     "output_type": "stream",
     "text": [
      "   Unnamed: 0  year     state state_po county_name  county_fips        office  \\\n",
      "0       11161  2000  VIRGINIA       VA    ACCOMACK        51001  US PRESIDENT   \n",
      "1       11162  2000  VIRGINIA       VA    ACCOMACK        51001  US PRESIDENT   \n",
      "2       11163  2000  VIRGINIA       VA    ACCOMACK        51001  US PRESIDENT   \n",
      "3       11164  2000  VIRGINIA       VA    ACCOMACK        51001  US PRESIDENT   \n",
      "4       11165  2000  VIRGINIA       VA   ALBEMARLE        51003  US PRESIDENT   \n",
      "\n",
      "        candidate       party  candidatevotes  totalvotes   version   mode  \n",
      "0         AL GORE    DEMOCRAT            5092       11925  20220315  TOTAL  \n",
      "1  GEORGE W. BUSH  REPUBLICAN            6352       11925  20220315  TOTAL  \n",
      "2     RALPH NADER       GREEN             220       11925  20220315  TOTAL  \n",
      "3           OTHER       OTHER             261       11925  20220315  TOTAL  \n",
      "4         AL GORE    DEMOCRAT           16255       36846  20220315  TOTAL  \n",
      "Unnamed: 0        0\n",
      "year              0\n",
      "state             0\n",
      "state_po          0\n",
      "county_name       0\n",
      "county_fips       0\n",
      "office            0\n",
      "candidate         0\n",
      "party             0\n",
      "candidatevotes    0\n",
      "totalvotes        0\n",
      "version           0\n",
      "mode              0\n",
      "dtype: int64\n"
     ]
    }
   ],
   "source": [
    "import numpy as np\n",
    "import pandas as pd\n",
    "\n",
    "df = pd.read_csv(\"data/voting_VA.csv\")\n",
    "\n",
    "print(df.head())\n",
    "print(df.isnull().sum())"
   ]
  },
  {
   "cell_type": "code",
   "execution_count": 2,
   "id": "a20499d6-3341-4658-a7b7-ff49bc3dfc47",
   "metadata": {
    "tags": []
   },
   "outputs": [
    {
     "name": "stdout",
     "output_type": "stream",
     "text": [
      "['VIRGINIA']\n",
      "['VA']\n",
      "['US PRESIDENT']\n",
      "['TOTAL' 'ABSENTEE' 'ELECTION DAY' 'PROVISIONAL']\n"
     ]
    }
   ],
   "source": [
    "# Remove the 'Unnamed: 0' column\n",
    "df.drop('Unnamed: 0', axis=1, inplace=True)\n",
    "\n",
    "# Check unique values for certain columns to ensure consistency\n",
    "print(df['state'].unique())  # Should only contain \"VIRGINIA\"\n",
    "print(df['state_po'].unique())  # Should only contain \"VA\"\n",
    "print(df['office'].unique())  # Should only contain \"US PRESIDENT\"\n",
    "print(df['mode'].unique())  # Check if any action is needed"
   ]
  },
  {
   "cell_type": "code",
   "execution_count": 3,
   "id": "874afb6e-c5ee-43a6-b1ee-6e93e0283868",
   "metadata": {
    "tags": []
   },
   "outputs": [
    {
     "data": {
      "text/plain": [
       "0    TOTAL\n",
       "1    TOTAL\n",
       "2    TOTAL\n",
       "3    TOTAL\n",
       "4    TOTAL\n",
       "Name: mode, dtype: object"
      ]
     },
     "execution_count": 3,
     "metadata": {},
     "output_type": "execute_result"
    }
   ],
   "source": [
    "df['mode'].head()"
   ]
  },
  {
   "cell_type": "code",
   "execution_count": 4,
   "id": "e1d67170-3ebd-4533-aac7-da775ef97aa0",
   "metadata": {
    "tags": []
   },
   "outputs": [
    {
     "data": {
      "text/plain": [
       "0    TOTAL\n",
       "1    TOTAL\n",
       "2    TOTAL\n",
       "3    TOTAL\n",
       "4    TOTAL\n",
       "Name: mode, dtype: category\n",
       "Categories (4, object): ['ABSENTEE', 'ELECTION DAY', 'PROVISIONAL', 'TOTAL']"
      ]
     },
     "execution_count": 4,
     "metadata": {},
     "output_type": "execute_result"
    }
   ],
   "source": [
    "# If we're interested in overall voting results without differentiating between the modes:\n",
    "# df_total = df[df['mode'] == 'TOTAL']\n",
    "# df_total.to_csv(\"data/clean_total_voting_VA.csv\", index=False) \n",
    "\n",
    "# Otherwise, we can keep all of the modes of voting and use them as features\n",
    "# in our models\n",
    "df['mode'] = df['mode'].astype('category')\n",
    "df['mode'].head()"
   ]
  },
  {
   "cell_type": "code",
   "execution_count": 5,
   "id": "99ff999a-78c2-45d6-91ed-41206bb48c30",
   "metadata": {
    "tags": []
   },
   "outputs": [
    {
     "data": {
      "text/html": [
       "<div>\n",
       "<style scoped>\n",
       "    .dataframe tbody tr th:only-of-type {\n",
       "        vertical-align: middle;\n",
       "    }\n",
       "\n",
       "    .dataframe tbody tr th {\n",
       "        vertical-align: top;\n",
       "    }\n",
       "\n",
       "    .dataframe thead th {\n",
       "        text-align: right;\n",
       "    }\n",
       "</style>\n",
       "<table border=\"1\" class=\"dataframe\">\n",
       "  <thead>\n",
       "    <tr style=\"text-align: right;\">\n",
       "      <th></th>\n",
       "      <th>year</th>\n",
       "      <th>county_name</th>\n",
       "      <th>county_fips</th>\n",
       "      <th>candidate</th>\n",
       "      <th>party</th>\n",
       "      <th>candidatevotes</th>\n",
       "      <th>totalvotes</th>\n",
       "    </tr>\n",
       "  </thead>\n",
       "  <tbody>\n",
       "    <tr>\n",
       "      <th>0</th>\n",
       "      <td>2000</td>\n",
       "      <td>ACCOMACK</td>\n",
       "      <td>51001</td>\n",
       "      <td>AL GORE</td>\n",
       "      <td>DEMOCRAT</td>\n",
       "      <td>5092</td>\n",
       "      <td>11925</td>\n",
       "    </tr>\n",
       "    <tr>\n",
       "      <th>1</th>\n",
       "      <td>2000</td>\n",
       "      <td>ACCOMACK</td>\n",
       "      <td>51001</td>\n",
       "      <td>GEORGE W. BUSH</td>\n",
       "      <td>REPUBLICAN</td>\n",
       "      <td>6352</td>\n",
       "      <td>11925</td>\n",
       "    </tr>\n",
       "    <tr>\n",
       "      <th>2</th>\n",
       "      <td>2000</td>\n",
       "      <td>ACCOMACK</td>\n",
       "      <td>51001</td>\n",
       "      <td>OTHER</td>\n",
       "      <td>OTHER</td>\n",
       "      <td>261</td>\n",
       "      <td>11925</td>\n",
       "    </tr>\n",
       "    <tr>\n",
       "      <th>3</th>\n",
       "      <td>2000</td>\n",
       "      <td>ACCOMACK</td>\n",
       "      <td>51001</td>\n",
       "      <td>RALPH NADER</td>\n",
       "      <td>GREEN</td>\n",
       "      <td>220</td>\n",
       "      <td>11925</td>\n",
       "    </tr>\n",
       "    <tr>\n",
       "      <th>4</th>\n",
       "      <td>2000</td>\n",
       "      <td>ALBEMARLE</td>\n",
       "      <td>51003</td>\n",
       "      <td>AL GORE</td>\n",
       "      <td>DEMOCRAT</td>\n",
       "      <td>16255</td>\n",
       "      <td>36846</td>\n",
       "    </tr>\n",
       "  </tbody>\n",
       "</table>\n",
       "</div>"
      ],
      "text/plain": [
       "   year county_name  county_fips       candidate       party  candidatevotes  \\\n",
       "0  2000    ACCOMACK        51001         AL GORE    DEMOCRAT            5092   \n",
       "1  2000    ACCOMACK        51001  GEORGE W. BUSH  REPUBLICAN            6352   \n",
       "2  2000    ACCOMACK        51001           OTHER       OTHER             261   \n",
       "3  2000    ACCOMACK        51001     RALPH NADER       GREEN             220   \n",
       "4  2000   ALBEMARLE        51003         AL GORE    DEMOCRAT           16255   \n",
       "\n",
       "   totalvotes  \n",
       "0       11925  \n",
       "1       11925  \n",
       "2       11925  \n",
       "3       11925  \n",
       "4       36846  "
      ]
     },
     "execution_count": 5,
     "metadata": {},
     "output_type": "execute_result"
    }
   ],
   "source": [
    "# Provides a dataframe where the modes aggregates all individual records across different voting modes \n",
    "# into a single record per candidate per county per election year. \n",
    "\n",
    "df_aggregated = df.groupby(['year', 'county_name', 'county_fips', 'candidate', 'party']).agg({\n",
    "    'candidatevotes': 'sum',\n",
    "    'totalvotes': 'max'  # Assuming totalvotes is the same across all modes, otherwise sum might be needed\n",
    "}).reset_index()\n",
    "\n",
    "df_aggregated.head()"
   ]
  },
  {
   "cell_type": "code",
   "execution_count": 16,
   "id": "61f88c43-1624-4b01-8857-642db8472e9f",
   "metadata": {
    "tags": []
   },
   "outputs": [
    {
     "data": {
      "text/html": [
       "<div>\n",
       "<style scoped>\n",
       "    .dataframe tbody tr th:only-of-type {\n",
       "        vertical-align: middle;\n",
       "    }\n",
       "\n",
       "    .dataframe tbody tr th {\n",
       "        vertical-align: top;\n",
       "    }\n",
       "\n",
       "    .dataframe thead th {\n",
       "        text-align: right;\n",
       "    }\n",
       "</style>\n",
       "<table border=\"1\" class=\"dataframe\">\n",
       "  <thead>\n",
       "    <tr style=\"text-align: right;\">\n",
       "      <th></th>\n",
       "      <th>year</th>\n",
       "      <th>county_name</th>\n",
       "      <th>county_fips</th>\n",
       "      <th>net_total</th>\n",
       "      <th>winner</th>\n",
       "    </tr>\n",
       "  </thead>\n",
       "  <tbody>\n",
       "    <tr>\n",
       "      <th>0</th>\n",
       "      <td>2000</td>\n",
       "      <td>ACCOMACK</td>\n",
       "      <td>51001</td>\n",
       "      <td>1260</td>\n",
       "      <td>REPUBLICAN</td>\n",
       "    </tr>\n",
       "    <tr>\n",
       "      <th>1</th>\n",
       "      <td>2000</td>\n",
       "      <td>ALBEMARLE</td>\n",
       "      <td>51003</td>\n",
       "      <td>2036</td>\n",
       "      <td>REPUBLICAN</td>\n",
       "    </tr>\n",
       "    <tr>\n",
       "      <th>2</th>\n",
       "      <td>2000</td>\n",
       "      <td>ALEXANDRIA</td>\n",
       "      <td>51510</td>\n",
       "      <td>-14590</td>\n",
       "      <td>DEMOCRAT</td>\n",
       "    </tr>\n",
       "    <tr>\n",
       "      <th>3</th>\n",
       "      <td>2000</td>\n",
       "      <td>ALLEGHANY</td>\n",
       "      <td>51005</td>\n",
       "      <td>594</td>\n",
       "      <td>REPUBLICAN</td>\n",
       "    </tr>\n",
       "    <tr>\n",
       "      <th>4</th>\n",
       "      <td>2000</td>\n",
       "      <td>AMELIA</td>\n",
       "      <td>51007</td>\n",
       "      <td>1193</td>\n",
       "      <td>REPUBLICAN</td>\n",
       "    </tr>\n",
       "  </tbody>\n",
       "</table>\n",
       "</div>"
      ],
      "text/plain": [
       "   year county_name  county_fips  net_total      winner\n",
       "0  2000    ACCOMACK        51001       1260  REPUBLICAN\n",
       "1  2000   ALBEMARLE        51003       2036  REPUBLICAN\n",
       "2  2000  ALEXANDRIA        51510     -14590    DEMOCRAT\n",
       "3  2000   ALLEGHANY        51005        594  REPUBLICAN\n",
       "4  2000      AMELIA        51007       1193  REPUBLICAN"
      ]
     },
     "execution_count": 16,
     "metadata": {},
     "output_type": "execute_result"
    }
   ],
   "source": [
    "import pandas as pd\n",
    "#removing candidates column (unimportant)\n",
    "df_real = df_aggregated.drop('candidate', axis=1)\n",
    "#removing third parties (also unimportant)\n",
    "df_real = df_real[~df_real['party'].isin(['OTHER', 'GREEN'])]\n",
    "#finding net total votes\n",
    "df_real['net_total'] = df_real.groupby(['year', 'county_name', 'county_fips', 'totalvotes'])['candidatevotes'].transform(lambda x: x.iloc[1] - x.iloc[0])\n",
    "\n",
    "# merging columns\n",
    "df_real = df_real.groupby(['year', 'county_name', 'county_fips', 'totalvotes', 'net_total']).agg({'party': ', '.join}).reset_index()\n",
    "df_real['winner'] = df_real['net_total'].apply(lambda x: 'REPUBLICAN' if x > 0 else 'DEMOCRAT')\n",
    "#dropping some more columns\n",
    "df_real = df_real.drop(['party', 'totalvotes'], axis=1)\n",
    "df_final = df_real[['year', 'county_name', 'county_fips','net_total', 'winner']]\n",
    "df_final.head()"
   ]
  },
  {
   "cell_type": "code",
   "execution_count": 34,
   "id": "cfa372fe-8fd6-4372-8df3-755e316175c0",
   "metadata": {
    "tags": []
   },
   "outputs": [
    {
     "name": "stdout",
     "output_type": "stream",
     "text": [
      "   year county_name county_fips  net_total      winner     AV0AA     B78AA  \\\n",
      "0  2000    ACCOMACK       51001       1260  REPUBLICAN   38305.0   38305.0   \n",
      "1  2004    ACCOMACK       51001      -2208    DEMOCRAT   38305.0   38305.0   \n",
      "2  2000   ALBEMARLE       51003       2036  REPUBLICAN   79236.0   79236.0   \n",
      "3  2004   ALBEMARLE       51003        899  REPUBLICAN   79236.0   79236.0   \n",
      "4  2000  ALEXANDRIA       51510     -14590    DEMOCRAT  128283.0  128283.0   \n",
      "\n",
      "     AV1AA    AV1AB    AT5AA  ...   A88AD    A88AE    AB2AA    BD5AA  \\\n",
      "0  18590.0  19715.0  36680.0  ...  3781.0   3195.0  34821.0  16309.0   \n",
      "1  18590.0  19715.0  36680.0  ...  3781.0   3195.0  34821.0  16309.0   \n",
      "2  38002.0  41234.0  73483.0  ...  5153.0  13401.0  63407.0  28852.0   \n",
      "3  38002.0  41234.0  73483.0  ...  5153.0  13401.0  63407.0  28852.0   \n",
      "4  61974.0  66309.0  95683.0  ...  6275.0  17685.0  67023.0  37645.0   \n",
      "\n",
      "      AX6AA    CL6AA    AX7AA     AX7AB  BV8AA   BV8AB  \n",
      "0   37715.0   6788.0   6788.0   30927.0  957.0  5291.0  \n",
      "1   37715.0   6788.0   6788.0   30927.0  957.0  5291.0  \n",
      "2   77661.0   5232.0   5232.0   72429.0  430.0  8756.0  \n",
      "3   77661.0   5232.0   5232.0   72429.0  430.0  8756.0  \n",
      "4  126409.0  11279.0  11279.0  115130.0  939.0  9547.0  \n",
      "\n",
      "[5 rows x 165 columns]\n"
     ]
    }
   ],
   "source": [
    "df_melt = pd.read_csv(\"data/df_melt.csv\")\n",
    "\n",
    "year_mapping = {\n",
    "    2000: 2000,\n",
    "    2004: 2000,\n",
    "    2008: 125,\n",
    "    2012: 125,\n",
    "    2016: 195,\n",
    "    2020: 195\n",
    "}\n",
    "df_final['melt_year'] = df_final['year'].map(year_mapping)\n",
    "\n",
    "# Convert columns to the same data type before merging\n",
    "df_final['melt_year'] = df_final['melt_year'].astype(str)\n",
    "df_final['county_fips'] = df_final['county_fips'].astype(str)\n",
    "df_melt['YEAR'] = df_melt['YEAR'].astype(str)\n",
    "df_melt['FIPS'] = df_melt['FIPS'].astype(str)\n",
    "\n",
    "merged_df = pd.merge(df_final, df_melt, left_on=['melt_year', 'county_fips'], right_on=['YEAR', 'FIPS'])\n",
    "\n",
    "columns_to_drop = ['YEAR', 'FIPS', 'melt_year']\n",
    "df_updated = merged_df.drop(columns=columns_to_drop)\n",
    "\n",
    "print(df_updated.head())"
   ]
  },
  {
   "cell_type": "code",
   "execution_count": 35,
   "id": "49e6f5dc-867d-4184-b39c-f87d95aa5511",
   "metadata": {},
   "outputs": [],
   "source": [
    "df_2020 = df_updated[df_updated['year'] == 2020]\n",
    "df_total = df_updated[df_updated['year'] != 2020]\n",
    "df_2020.reset_index(drop=True, inplace=True)\n",
    "df_total.reset_index(drop=True, inplace=True)"
   ]
  },
  {
   "cell_type": "code",
   "execution_count": 36,
   "id": "06182201-9f4f-4b1b-80d2-b13b2af00aeb",
   "metadata": {},
   "outputs": [
    {
     "ename": "ModuleNotFoundError",
     "evalue": "No module named 'keras'",
     "output_type": "error",
     "traceback": [
      "\u001b[0;31m---------------------------------------------------------------------------\u001b[0m",
      "\u001b[0;31mModuleNotFoundError\u001b[0m                       Traceback (most recent call last)",
      "Cell \u001b[0;32mIn[36], line 2\u001b[0m\n\u001b[1;32m      1\u001b[0m \u001b[38;5;66;03m# Neural network time!\u001b[39;00m\n\u001b[0;32m----> 2\u001b[0m \u001b[38;5;28;01mimport\u001b[39;00m \u001b[38;5;21;01mkeras\u001b[39;00m\n\u001b[1;32m      3\u001b[0m \u001b[38;5;28;01mfrom\u001b[39;00m \u001b[38;5;21;01mkeras\u001b[39;00m\u001b[38;5;21;01m.\u001b[39;00m\u001b[38;5;21;01mmodels\u001b[39;00m \u001b[38;5;28;01mimport\u001b[39;00m Sequential\n\u001b[1;32m      4\u001b[0m \u001b[38;5;28;01mfrom\u001b[39;00m \u001b[38;5;21;01mkeras\u001b[39;00m\u001b[38;5;21;01m.\u001b[39;00m\u001b[38;5;21;01mlayers\u001b[39;00m \u001b[38;5;28;01mimport\u001b[39;00m Dense\n",
      "\u001b[0;31mModuleNotFoundError\u001b[0m: No module named 'keras'"
     ]
    }
   ],
   "source": [
    "# Neural network time!\n",
    "import keras\n",
    "from keras.models import Sequential\n",
    "from keras.layers import Dense\n",
    "from sklearn.model_selection import train_test_split\n",
    "\n",
    "y = df_total['net_total']\n",
    "X = df_total.drop('net_total', axis=1)\n",
    "\n",
    "X_train, X_test, y_train, y_test = train_test_split(X, y, test_size=0.2, random_state=100)\n",
    "\n",
    "net = Sequential()\n",
    "net.add(Dense(units=64, activation='relu', input_dim=X_train.shape[1]))\n",
    "net.add(Dense(units=32, activation='relu'))\n",
    "net.add(Dense(units=1, activation='linear'))\n",
    "\n",
    "net.compile(loss='mean_squared_error', optimizer='adam', metrics=['mae', 'mse'])\n",
    "\n",
    "net.fit(X_train, y_train, epochs=25, verbose=1, batch_size=50)\n",
    "\n",
    "# use it to predict testing data\n",
    "evaluation = net.evaluate(X_test, y_test)\n",
    "\n",
    "# Extract the evaluation metrics\n",
    "loss = evaluation[0]\n",
    "mae = evaluation[1]\n",
    "mse = evaluation[2]\n",
    "print(\"Evaluation metrics:\")\n",
    "print(f\"Loss: {loss}\")\n",
    "print(f\"Mean Absolute Error (MAE): {mae}\")\n",
    "print(f\"Mean Squared Error (MSE): {mse}\")"
   ]
  },
  {
   "cell_type": "code",
   "execution_count": null,
   "id": "0ece0850-c42c-419b-9142-ed4dfb0cd25d",
   "metadata": {},
   "outputs": [],
   "source": [
    "# Then use it to predict data from 2020 election since it's closest to current election\n",
    "predictions_2020 = net.predict(df_2020.drop('net_total', axis=1))\n",
    "\n",
    "# Sum all the predictions\n",
    "total_prediction = predictions_2020.sum()\n",
    "\n",
    "# Check if the total prediction is positive, negative, or zero\n",
    "if total_prediction > 0:\n",
    "    print(\"R wins by \"+ str(total_prediction))\n",
    "elif total_prediction < 0:\n",
    "    print(\"D wins by \"+ str(total_prediction))\n",
    "else:\n",
    "    print(\"Cannot make a prediction.\")"
   ]
  },
  {
   "cell_type": "code",
   "execution_count": null,
   "id": "2c937042-aa1d-4c7d-8aca-f552269654ac",
   "metadata": {
    "tags": []
   },
   "outputs": [],
   "source": [
    "#Then evaluate the actual accuracy of the prediction. \n",
    "evaluation_2020 = net.evaluate(df_2020.drop('net_total', axis=1), df_2020['net_total'])\n",
    "\n",
    "# Extract the evaluation metrics\n",
    "loss_2020 = evaluation_2020[0]\n",
    "mae_2020 = evaluation_2020[1]\n",
    "mse_2020 = evaluation_2020[2]\n",
    "print(\"Evaluation metrics on 2020 data:\")\n",
    "print(f\"Loss: {loss_2020}\")\n",
    "print(f\"Mean Absolute Error (MAE): {mae_2020}\")\n",
    "print(f\"Mean Squared Error (MSE): {mse_2020}\")\n"
   ]
  },
  {
   "cell_type": "code",
   "execution_count": null,
   "id": "ede995bd-09d9-4efe-98cc-b7554b73a88c",
   "metadata": {
    "tags": []
   },
   "outputs": [],
   "source": [
    "#Now for the linear regression:"
   ]
  },
  {
   "cell_type": "code",
   "execution_count": null,
   "id": "33ca97e8-0758-4b60-91dd-676807b9db52",
   "metadata": {
    "tags": []
   },
   "outputs": [],
   "source": [
    "import numpy as np\n",
    "import pandas as pd\n",
    "from sklearn.model_selection import train_test_split\n",
    "from sklearn.linear_model import LinearRegression\n",
    "from sklearn.metrics import mean_squared_error, r2_score\n",
    "\n",
    "# Assuming df_total is prepared with necessary preprocessing\n",
    "X = df_total.drop(['net_total', 'winner'], axis=1)  # Features\n",
    "y = df_total['net_total']  # Target variable\n",
    "\n",
    "# training and testing sets\n",
    "X_train, X_test, y_train, y_test = train_test_split(X, y, test_size=0.2, random_state=42)\n",
    "\n",
    "# the lr model\n",
    "model = LinearRegression()\n",
    "\n",
    "# fitting\n",
    "model.fit(X_train, y_train)\n",
    "\n",
    "# predictions\n",
    "y_pred = model.predict(X_test)"
   ]
  },
  {
   "cell_type": "code",
   "execution_count": null,
   "id": "1f60c0b1-b098-4843-91db-02d383203005",
   "metadata": {
    "tags": []
   },
   "outputs": [],
   "source": [
    "# evaluating model accuracy\n",
    "mse = mean_squared_error(y_test, y_pred)\n",
    "r2 = r2_score(y_test, y_pred)\n",
    "\n",
    "print(f\"Mean Squared Error: {mse}\")\n",
    "print(f\"R^2 Score: {r2}\")"
   ]
  },
  {
   "cell_type": "code",
   "execution_count": null,
   "id": "e0dc3c5d-a93e-4fc6-b7a5-4b03c865bccf",
   "metadata": {
    "tags": []
   },
   "outputs": [],
   "source": [
    "#Visualization"
   ]
  },
  {
   "cell_type": "code",
   "execution_count": null,
   "id": "fa8ba13e-5db6-4a92-8029-e040303422c0",
   "metadata": {
    "tags": []
   },
   "outputs": [],
   "source": [
    "#correlation matrix\n",
    "import seaborn as sns\n",
    "import matplotlib.pyplot as plt\n",
    "\n",
    "corr = df.corr()\n",
    "\n",
    "# Create a heatmap\n",
    "plt.figure(figsize=(10, 8))\n",
    "sns.heatmap(corr, annot=True, fmt=\".2f\", cmap='coolwarm')\n",
    "plt.title('Correlation Matrix')\n",
    "plt.show()"
   ]
  },
  {
   "cell_type": "code",
   "execution_count": null,
   "id": "ff63c44a-d39e-44c5-80c9-c8f876c3c191",
   "metadata": {
    "tags": []
   },
   "outputs": [],
   "source": [
    "# Scatter plot with a regression line\n",
    "plt.figure(figsize=(8, 6))\n",
    "sns.regplot(x='feature_1', y='target_variable', data=df, scatter_kws={\"s\": 50}, line_kws={\"color\": \"red\"})\n",
    "plt.title('Feature vs Target with Regression Line')\n",
    "plt.xlabel('Feature 1')\n",
    "plt.ylabel('Target Variable')\n",
    "plt.show()"
   ]
  },
  {
   "cell_type": "code",
   "execution_count": null,
   "id": "a85e9111-aa77-42db-bf68-85ee1cec6642",
   "metadata": {},
   "outputs": [],
   "source": []
  }
 ],
 "metadata": {
  "kernelspec": {
   "display_name": "Python 3 (ipykernel)",
   "language": "python",
   "name": "python3"
  },
  "language_info": {
   "codemirror_mode": {
    "name": "ipython",
    "version": 3
   },
   "file_extension": ".py",
   "mimetype": "text/x-python",
   "name": "python",
   "nbconvert_exporter": "python",
   "pygments_lexer": "ipython3",
   "version": "3.11.4"
  }
 },
 "nbformat": 4,
 "nbformat_minor": 5
}
