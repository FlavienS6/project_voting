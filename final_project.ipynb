{
 "cells": [
  {
   "cell_type": "code",
   "execution_count": 88,
   "id": "7054bcfb-47c6-46ee-9a44-f1d31165bb68",
   "metadata": {
    "tags": []
   },
   "outputs": [
    {
     "name": "stdout",
     "output_type": "stream",
     "text": [
      "   Unnamed: 0  year     state state_po county_name  county_fips        office  \\\n",
      "0       11161  2000  VIRGINIA       VA    ACCOMACK        51001  US PRESIDENT   \n",
      "1       11162  2000  VIRGINIA       VA    ACCOMACK        51001  US PRESIDENT   \n",
      "2       11163  2000  VIRGINIA       VA    ACCOMACK        51001  US PRESIDENT   \n",
      "3       11164  2000  VIRGINIA       VA    ACCOMACK        51001  US PRESIDENT   \n",
      "4       11165  2000  VIRGINIA       VA   ALBEMARLE        51003  US PRESIDENT   \n",
      "\n",
      "        candidate       party  candidatevotes  totalvotes   version   mode  \n",
      "0         AL GORE    DEMOCRAT            5092       11925  20220315  TOTAL  \n",
      "1  GEORGE W. BUSH  REPUBLICAN            6352       11925  20220315  TOTAL  \n",
      "2     RALPH NADER       GREEN             220       11925  20220315  TOTAL  \n",
      "3           OTHER       OTHER             261       11925  20220315  TOTAL  \n",
      "4         AL GORE    DEMOCRAT           16255       36846  20220315  TOTAL  \n",
      "Unnamed: 0        0\n",
      "year              0\n",
      "state             0\n",
      "state_po          0\n",
      "county_name       0\n",
      "county_fips       0\n",
      "office            0\n",
      "candidate         0\n",
      "party             0\n",
      "candidatevotes    0\n",
      "totalvotes        0\n",
      "version           0\n",
      "mode              0\n",
      "dtype: int64\n"
     ]
    }
   ],
   "source": [
    "import numpy as np\n",
    "import pandas as pd\n",
    "\n",
    "df = pd.read_csv(\"data/voting_VA.csv\")\n",
    "\n",
    "print(df.head())\n",
    "print(df.isnull().sum())"
   ]
  },
  {
   "cell_type": "code",
   "execution_count": 89,
   "id": "a20499d6-3341-4658-a7b7-ff49bc3dfc47",
   "metadata": {
    "tags": []
   },
   "outputs": [
    {
     "name": "stdout",
     "output_type": "stream",
     "text": [
      "['VIRGINIA']\n",
      "['VA']\n",
      "['US PRESIDENT']\n",
      "['TOTAL' 'ABSENTEE' 'ELECTION DAY' 'PROVISIONAL']\n"
     ]
    }
   ],
   "source": [
    "# Remove the 'Unnamed: 0' column\n",
    "df.drop('Unnamed: 0', axis=1, inplace=True)\n",
    "\n",
    "# Check unique values for certain columns to ensure consistency\n",
    "print(df['state'].unique())  # Should only contain \"VIRGINIA\"\n",
    "print(df['state_po'].unique())  # Should only contain \"VA\"\n",
    "print(df['office'].unique())  # Should only contain \"US PRESIDENT\"\n",
    "print(df['mode'].unique())  # Check if any action is needed"
   ]
  },
  {
   "cell_type": "code",
   "execution_count": 90,
   "id": "874afb6e-c5ee-43a6-b1ee-6e93e0283868",
   "metadata": {
    "tags": []
   },
   "outputs": [
    {
     "data": {
      "text/plain": [
       "0    TOTAL\n",
       "1    TOTAL\n",
       "2    TOTAL\n",
       "3    TOTAL\n",
       "4    TOTAL\n",
       "Name: mode, dtype: object"
      ]
     },
     "execution_count": 90,
     "metadata": {},
     "output_type": "execute_result"
    }
   ],
   "source": [
    "df['mode'].head()"
   ]
  },
  {
   "cell_type": "code",
   "execution_count": 91,
   "id": "e1d67170-3ebd-4533-aac7-da775ef97aa0",
   "metadata": {
    "tags": []
   },
   "outputs": [
    {
     "data": {
      "text/plain": [
       "0    TOTAL\n",
       "1    TOTAL\n",
       "2    TOTAL\n",
       "3    TOTAL\n",
       "4    TOTAL\n",
       "Name: mode, dtype: category\n",
       "Categories (4, object): ['ABSENTEE', 'ELECTION DAY', 'PROVISIONAL', 'TOTAL']"
      ]
     },
     "execution_count": 91,
     "metadata": {},
     "output_type": "execute_result"
    }
   ],
   "source": [
    "# If we're interested in overall voting results without differentiating between the modes:\n",
    "# df_total = df[df['mode'] == 'TOTAL']\n",
    "# df_total.to_csv(\"data/clean_total_voting_VA.csv\", index=False) \n",
    "\n",
    "# Otherwise, we can keep all of the modes of voting and use them as features\n",
    "# in our models\n",
    "df['mode'] = df['mode'].astype('category')\n",
    "df['mode'].head()"
   ]
  },
  {
   "cell_type": "code",
   "execution_count": 92,
   "id": "99ff999a-78c2-45d6-91ed-41206bb48c30",
   "metadata": {
    "tags": []
   },
   "outputs": [
    {
     "data": {
      "text/html": [
       "<div>\n",
       "<style scoped>\n",
       "    .dataframe tbody tr th:only-of-type {\n",
       "        vertical-align: middle;\n",
       "    }\n",
       "\n",
       "    .dataframe tbody tr th {\n",
       "        vertical-align: top;\n",
       "    }\n",
       "\n",
       "    .dataframe thead th {\n",
       "        text-align: right;\n",
       "    }\n",
       "</style>\n",
       "<table border=\"1\" class=\"dataframe\">\n",
       "  <thead>\n",
       "    <tr style=\"text-align: right;\">\n",
       "      <th></th>\n",
       "      <th>year</th>\n",
       "      <th>county_name</th>\n",
       "      <th>county_fips</th>\n",
       "      <th>candidate</th>\n",
       "      <th>party</th>\n",
       "      <th>candidatevotes</th>\n",
       "      <th>totalvotes</th>\n",
       "    </tr>\n",
       "  </thead>\n",
       "  <tbody>\n",
       "    <tr>\n",
       "      <th>0</th>\n",
       "      <td>2000</td>\n",
       "      <td>ACCOMACK</td>\n",
       "      <td>51001</td>\n",
       "      <td>AL GORE</td>\n",
       "      <td>DEMOCRAT</td>\n",
       "      <td>5092</td>\n",
       "      <td>11925</td>\n",
       "    </tr>\n",
       "    <tr>\n",
       "      <th>1</th>\n",
       "      <td>2000</td>\n",
       "      <td>ACCOMACK</td>\n",
       "      <td>51001</td>\n",
       "      <td>GEORGE W. BUSH</td>\n",
       "      <td>REPUBLICAN</td>\n",
       "      <td>6352</td>\n",
       "      <td>11925</td>\n",
       "    </tr>\n",
       "    <tr>\n",
       "      <th>2</th>\n",
       "      <td>2000</td>\n",
       "      <td>ACCOMACK</td>\n",
       "      <td>51001</td>\n",
       "      <td>OTHER</td>\n",
       "      <td>OTHER</td>\n",
       "      <td>261</td>\n",
       "      <td>11925</td>\n",
       "    </tr>\n",
       "    <tr>\n",
       "      <th>3</th>\n",
       "      <td>2000</td>\n",
       "      <td>ACCOMACK</td>\n",
       "      <td>51001</td>\n",
       "      <td>RALPH NADER</td>\n",
       "      <td>GREEN</td>\n",
       "      <td>220</td>\n",
       "      <td>11925</td>\n",
       "    </tr>\n",
       "    <tr>\n",
       "      <th>4</th>\n",
       "      <td>2000</td>\n",
       "      <td>ALBEMARLE</td>\n",
       "      <td>51003</td>\n",
       "      <td>AL GORE</td>\n",
       "      <td>DEMOCRAT</td>\n",
       "      <td>16255</td>\n",
       "      <td>36846</td>\n",
       "    </tr>\n",
       "  </tbody>\n",
       "</table>\n",
       "</div>"
      ],
      "text/plain": [
       "   year county_name  county_fips       candidate       party  candidatevotes  \\\n",
       "0  2000    ACCOMACK        51001         AL GORE    DEMOCRAT            5092   \n",
       "1  2000    ACCOMACK        51001  GEORGE W. BUSH  REPUBLICAN            6352   \n",
       "2  2000    ACCOMACK        51001           OTHER       OTHER             261   \n",
       "3  2000    ACCOMACK        51001     RALPH NADER       GREEN             220   \n",
       "4  2000   ALBEMARLE        51003         AL GORE    DEMOCRAT           16255   \n",
       "\n",
       "   totalvotes  \n",
       "0       11925  \n",
       "1       11925  \n",
       "2       11925  \n",
       "3       11925  \n",
       "4       36846  "
      ]
     },
     "execution_count": 92,
     "metadata": {},
     "output_type": "execute_result"
    }
   ],
   "source": [
    "# Provides a dataframe where the modes aggregates all individual records across different voting modes \n",
    "# into a single record per candidate per county per election year. \n",
    "\n",
    "df_aggregated = df.groupby(['year', 'county_name', 'county_fips', 'candidate', 'party']).agg({\n",
    "    'candidatevotes': 'sum',\n",
    "    'totalvotes': 'max'  # Assuming totalvotes is the same across all modes, otherwise sum might be needed\n",
    "}).reset_index()\n",
    "\n",
    "df_aggregated.head()"
   ]
  },
  {
   "cell_type": "code",
   "execution_count": 93,
   "id": "61f88c43-1624-4b01-8857-642db8472e9f",
   "metadata": {
    "tags": []
   },
   "outputs": [
    {
     "data": {
      "text/html": [
       "<div>\n",
       "<style scoped>\n",
       "    .dataframe tbody tr th:only-of-type {\n",
       "        vertical-align: middle;\n",
       "    }\n",
       "\n",
       "    .dataframe tbody tr th {\n",
       "        vertical-align: top;\n",
       "    }\n",
       "\n",
       "    .dataframe thead th {\n",
       "        text-align: right;\n",
       "    }\n",
       "</style>\n",
       "<table border=\"1\" class=\"dataframe\">\n",
       "  <thead>\n",
       "    <tr style=\"text-align: right;\">\n",
       "      <th></th>\n",
       "      <th>year</th>\n",
       "      <th>county_name</th>\n",
       "      <th>county_fips</th>\n",
       "      <th>net_total</th>\n",
       "      <th>winner</th>\n",
       "    </tr>\n",
       "  </thead>\n",
       "  <tbody>\n",
       "    <tr>\n",
       "      <th>0</th>\n",
       "      <td>2000</td>\n",
       "      <td>ACCOMACK</td>\n",
       "      <td>51001</td>\n",
       "      <td>1260</td>\n",
       "      <td>REPUBLICAN</td>\n",
       "    </tr>\n",
       "    <tr>\n",
       "      <th>1</th>\n",
       "      <td>2000</td>\n",
       "      <td>ALBEMARLE</td>\n",
       "      <td>51003</td>\n",
       "      <td>2036</td>\n",
       "      <td>REPUBLICAN</td>\n",
       "    </tr>\n",
       "    <tr>\n",
       "      <th>2</th>\n",
       "      <td>2000</td>\n",
       "      <td>ALEXANDRIA</td>\n",
       "      <td>51510</td>\n",
       "      <td>-14590</td>\n",
       "      <td>DEMOCRAT</td>\n",
       "    </tr>\n",
       "    <tr>\n",
       "      <th>3</th>\n",
       "      <td>2000</td>\n",
       "      <td>ALLEGHANY</td>\n",
       "      <td>51005</td>\n",
       "      <td>594</td>\n",
       "      <td>REPUBLICAN</td>\n",
       "    </tr>\n",
       "    <tr>\n",
       "      <th>4</th>\n",
       "      <td>2000</td>\n",
       "      <td>AMELIA</td>\n",
       "      <td>51007</td>\n",
       "      <td>1193</td>\n",
       "      <td>REPUBLICAN</td>\n",
       "    </tr>\n",
       "  </tbody>\n",
       "</table>\n",
       "</div>"
      ],
      "text/plain": [
       "   year county_name  county_fips  net_total      winner\n",
       "0  2000    ACCOMACK        51001       1260  REPUBLICAN\n",
       "1  2000   ALBEMARLE        51003       2036  REPUBLICAN\n",
       "2  2000  ALEXANDRIA        51510     -14590    DEMOCRAT\n",
       "3  2000   ALLEGHANY        51005        594  REPUBLICAN\n",
       "4  2000      AMELIA        51007       1193  REPUBLICAN"
      ]
     },
     "execution_count": 93,
     "metadata": {},
     "output_type": "execute_result"
    }
   ],
   "source": [
    "import pandas as pd\n",
    "#removing candidates column (unimportant)\n",
    "df_real = df_aggregated.drop('candidate', axis=1)\n",
    "#removing third parties (also unimportant)\n",
    "df_real = df_real[~df_real['party'].isin(['OTHER', 'GREEN'])]\n",
    "#finding net total votes\n",
    "df_real['net_total'] = df_real.groupby(['year', 'county_name', 'county_fips', 'totalvotes'])['candidatevotes'].transform(lambda x: x.iloc[1] - x.iloc[0])\n",
    "\n",
    "# merging columns\n",
    "df_real = df_real.groupby(['year', 'county_name', 'county_fips', 'totalvotes', 'net_total']).agg({'party': ', '.join}).reset_index()\n",
    "df_real['winner'] = df_real['net_total'].apply(lambda x: 'REPUBLICAN' if x > 0 else 'DEMOCRAT')\n",
    "#dropping some more columns\n",
    "df_real = df_real.drop(['party', 'totalvotes'], axis=1)\n",
    "df_final = df_real[['year', 'county_name', 'county_fips','net_total', 'winner']]\n",
    "df_final.head()"
   ]
  },
  {
   "cell_type": "code",
   "execution_count": 94,
   "id": "cfa372fe-8fd6-4372-8df3-755e316175c0",
   "metadata": {
    "tags": []
   },
   "outputs": [
    {
     "name": "stdout",
     "output_type": "stream",
     "text": [
      "   year county_name county_fips  net_total      winner     AV0AA     B78AA  \\\n",
      "0  2000    ACCOMACK       51001       1260  REPUBLICAN   38305.0   38305.0   \n",
      "1  2004    ACCOMACK       51001      -2208    DEMOCRAT   38305.0   38305.0   \n",
      "2  2000   ALBEMARLE       51003       2036  REPUBLICAN   79236.0   79236.0   \n",
      "3  2004   ALBEMARLE       51003        899  REPUBLICAN   79236.0   79236.0   \n",
      "4  2000  ALEXANDRIA       51510     -14590    DEMOCRAT  128283.0  128283.0   \n",
      "\n",
      "     AV1AA    AV1AB    AT5AA  ...   A88AD    A88AE    AB2AA    BD5AA  \\\n",
      "0  18590.0  19715.0  36680.0  ...  3781.0   3195.0  34821.0  16309.0   \n",
      "1  18590.0  19715.0  36680.0  ...  3781.0   3195.0  34821.0  16309.0   \n",
      "2  38002.0  41234.0  73483.0  ...  5153.0  13401.0  63407.0  28852.0   \n",
      "3  38002.0  41234.0  73483.0  ...  5153.0  13401.0  63407.0  28852.0   \n",
      "4  61974.0  66309.0  95683.0  ...  6275.0  17685.0  67023.0  37645.0   \n",
      "\n",
      "      AX6AA    CL6AA    AX7AA     AX7AB  BV8AA   BV8AB  \n",
      "0   37715.0   6788.0   6788.0   30927.0  957.0  5291.0  \n",
      "1   37715.0   6788.0   6788.0   30927.0  957.0  5291.0  \n",
      "2   77661.0   5232.0   5232.0   72429.0  430.0  8756.0  \n",
      "3   77661.0   5232.0   5232.0   72429.0  430.0  8756.0  \n",
      "4  126409.0  11279.0  11279.0  115130.0  939.0  9547.0  \n",
      "\n",
      "[5 rows x 165 columns]\n"
     ]
    }
   ],
   "source": [
    "df_melt = pd.read_csv(\"data/df_melt.csv\")\n",
    "\n",
    "year_mapping = {\n",
    "    2000: 2000,\n",
    "    2004: 2000,\n",
    "    2008: 125,\n",
    "    2012: 125,\n",
    "    2016: 195,\n",
    "    2020: 195\n",
    "}\n",
    "df_final['melt_year'] = df_final['year'].map(year_mapping)\n",
    "\n",
    "# Convert columns to the same data type before merging\n",
    "df_final['melt_year'] = df_final['melt_year'].astype(str)\n",
    "df_final['county_fips'] = df_final['county_fips'].astype(str)\n",
    "df_melt['YEAR'] = df_melt['YEAR'].astype(str)\n",
    "df_melt['FIPS'] = df_melt['FIPS'].astype(str)\n",
    "\n",
    "merged_df = pd.merge(df_final, df_melt, left_on=['melt_year', 'county_fips'], right_on=['YEAR', 'FIPS'])\n",
    "\n",
    "columns_to_drop = ['YEAR', 'FIPS', 'melt_year']\n",
    "df_updated = merged_df.drop(columns=columns_to_drop)\n",
    "\n",
    "print(df_updated.head())"
   ]
  },
  {
   "cell_type": "code",
   "execution_count": 95,
   "id": "49e6f5dc-867d-4184-b39c-f87d95aa5511",
   "metadata": {
    "tags": []
   },
   "outputs": [],
   "source": [
    "df_updated = df_updated.drop(columns=['winner'])\n",
    "df_updated = pd.get_dummies(df_updated, columns=['county_name'])\n",
    "df_updated = df_updated.astype(float)\n",
    "df_2020 = df_updated[df_updated['year'] == 2020]\n",
    "df_total = df_updated[df_updated['year'] != 2020]\n",
    "df_2020.reset_index(drop=True, inplace=True)\n",
    "df_total.reset_index(drop=True, inplace=True)"
   ]
  },
  {
   "cell_type": "code",
   "execution_count": 96,
   "id": "06182201-9f4f-4b1b-80d2-b13b2af00aeb",
   "metadata": {
    "tags": []
   },
   "outputs": [
    {
     "name": "stdout",
     "output_type": "stream",
     "text": [
      "Epoch 1/25\n",
      "11/11 [==============================] - 0s 2ms/step - loss: 183180464.0000 - mae: 5454.5244 - mse: 183180464.0000\n",
      "Epoch 2/25\n",
      "11/11 [==============================] - 0s 1ms/step - loss: 183180464.0000 - mae: 5454.5244 - mse: 183180464.0000\n",
      "Epoch 3/25\n",
      "11/11 [==============================] - 0s 1ms/step - loss: 183180480.0000 - mae: 5454.5244 - mse: 183180480.0000\n",
      "Epoch 4/25\n",
      "11/11 [==============================] - 0s 1ms/step - loss: 183180480.0000 - mae: 5454.5244 - mse: 183180480.0000\n",
      "Epoch 5/25\n",
      "11/11 [==============================] - 0s 1ms/step - loss: 183180464.0000 - mae: 5454.5244 - mse: 183180464.0000\n",
      "Epoch 6/25\n",
      "11/11 [==============================] - 0s 1ms/step - loss: 183180480.0000 - mae: 5454.5244 - mse: 183180480.0000\n",
      "Epoch 7/25\n",
      "11/11 [==============================] - 0s 1ms/step - loss: 183180480.0000 - mae: 5454.5249 - mse: 183180480.0000\n",
      "Epoch 8/25\n",
      "11/11 [==============================] - 0s 2ms/step - loss: 183180464.0000 - mae: 5454.5244 - mse: 183180464.0000\n",
      "Epoch 9/25\n",
      "11/11 [==============================] - 0s 1ms/step - loss: 183180480.0000 - mae: 5454.5244 - mse: 183180480.0000\n",
      "Epoch 10/25\n",
      "11/11 [==============================] - 0s 1ms/step - loss: 183180464.0000 - mae: 5454.5249 - mse: 183180464.0000\n",
      "Epoch 11/25\n",
      "11/11 [==============================] - 0s 1ms/step - loss: 183180464.0000 - mae: 5454.5244 - mse: 183180464.0000\n",
      "Epoch 12/25\n",
      "11/11 [==============================] - 0s 1ms/step - loss: 183180464.0000 - mae: 5454.5249 - mse: 183180464.0000\n",
      "Epoch 13/25\n",
      "11/11 [==============================] - 0s 1ms/step - loss: 183180496.0000 - mae: 5454.5244 - mse: 183180496.0000\n",
      "Epoch 14/25\n",
      "11/11 [==============================] - 0s 1ms/step - loss: 183180464.0000 - mae: 5454.5249 - mse: 183180464.0000\n",
      "Epoch 15/25\n",
      "11/11 [==============================] - 0s 1ms/step - loss: 183180480.0000 - mae: 5454.5249 - mse: 183180480.0000\n",
      "Epoch 16/25\n",
      "11/11 [==============================] - 0s 1ms/step - loss: 183180480.0000 - mae: 5454.5249 - mse: 183180480.0000\n",
      "Epoch 17/25\n",
      "11/11 [==============================] - 0s 1ms/step - loss: 183180464.0000 - mae: 5454.5254 - mse: 183180464.0000\n",
      "Epoch 18/25\n",
      "11/11 [==============================] - 0s 1ms/step - loss: 183180464.0000 - mae: 5454.5249 - mse: 183180464.0000\n",
      "Epoch 19/25\n",
      "11/11 [==============================] - 0s 1ms/step - loss: 183180480.0000 - mae: 5454.5254 - mse: 183180480.0000\n",
      "Epoch 20/25\n",
      "11/11 [==============================] - 0s 1ms/step - loss: 183180464.0000 - mae: 5454.5254 - mse: 183180464.0000\n",
      "Epoch 21/25\n",
      "11/11 [==============================] - 0s 1ms/step - loss: 183180480.0000 - mae: 5454.5254 - mse: 183180480.0000\n",
      "Epoch 22/25\n",
      "11/11 [==============================] - 0s 1ms/step - loss: 183180496.0000 - mae: 5454.5259 - mse: 183180496.0000\n",
      "Epoch 23/25\n",
      "11/11 [==============================] - 0s 1ms/step - loss: 183180480.0000 - mae: 5454.5254 - mse: 183180480.0000\n",
      "Epoch 24/25\n",
      "11/11 [==============================] - 0s 1ms/step - loss: 183180464.0000 - mae: 5454.5254 - mse: 183180464.0000\n",
      "Epoch 25/25\n",
      "11/11 [==============================] - 0s 1ms/step - loss: 183180480.0000 - mae: 5454.5254 - mse: 183180480.0000\n",
      "5/5 [==============================] - 0s 3ms/step - loss: 218362560.0000 - mae: 6693.9126 - mse: 218362560.0000\n",
      "Evaluation metrics:\n",
      "Loss: 218362560.0\n",
      "Mean Absolute Error (MAE): 6693.91259765625\n",
      "Mean Squared Error (MSE): 218362560.0\n"
     ]
    }
   ],
   "source": [
    "# Neural network time!\n",
    "import keras\n",
    "from keras.models import Sequential\n",
    "from keras.layers import Dense\n",
    "from sklearn.model_selection import train_test_split\n",
    "\n",
    "y = df_total['net_total'].astype(float)\n",
    "X = df_total.drop('net_total', axis=1).astype(float)\n",
    "\n",
    "X_train, X_test, y_train, y_test = train_test_split(X, y, test_size=0.2, random_state=100)\n",
    "\n",
    "net = Sequential()\n",
    "#Having 3 layers results in Loss: 218362592.0, Mean Absolute Error (MAE): 6693.912109375, Mean Squared Error (MSE): 218362592.0\n",
    "net.add(Dense(units=82, activation='relu', input_dim=X_train.shape[1]))\n",
    "#net.add(Dense(units=32, activation='relu'))\n",
    "net.add(Dense(units=1, activation='linear'))\n",
    "\n",
    "net.compile(loss='mean_squared_error', optimizer='adam', metrics=['mae', 'mse'])\n",
    "\n",
    "net.fit(X_train, y_train, epochs=25, verbose=1, batch_size=50)\n",
    "\n",
    "# use it to predict testing data\n",
    "evaluation = net.evaluate(X_test, y_test)\n",
    "\n",
    "# Extract the evaluation metrics\n",
    "loss = evaluation[0]\n",
    "mae = evaluation[1]\n",
    "mse = evaluation[2]\n",
    "print(\"Evaluation metrics:\")\n",
    "print(f\"Loss: {loss}\")\n",
    "print(f\"Mean Absolute Error (MAE): {mae}\")\n",
    "print(f\"Mean Squared Error (MSE): {mse}\")"
   ]
  },
  {
   "cell_type": "code",
   "execution_count": 97,
   "id": "0ece0850-c42c-419b-9142-ed4dfb0cd25d",
   "metadata": {
    "tags": []
   },
   "outputs": [
    {
     "name": "stdout",
     "output_type": "stream",
     "text": [
      "5/5 [==============================] - 0s 2ms/step\n",
      "D wins by -3.6490345\n"
     ]
    }
   ],
   "source": [
    "# Then use it to predict data from 2020 election since it's closest to current election\n",
    "predictions_2020 = net.predict(df_2020.drop('net_total', axis=1))\n",
    "\n",
    "# Sum all the predictions\n",
    "total_prediction = predictions_2020.sum()\n",
    "\n",
    "# Check if the total prediction is positive, negative, or zero\n",
    "if total_prediction > 0:\n",
    "    print(\"R wins by \"+ str(total_prediction))\n",
    "elif total_prediction < 0:\n",
    "    print(\"D wins by \"+ str(total_prediction))\n",
    "else:\n",
    "    print(\"Cannot make a prediction.\")"
   ]
  },
  {
   "cell_type": "code",
   "execution_count": 98,
   "id": "2c937042-aa1d-4c7d-8aca-f552269654ac",
   "metadata": {
    "tags": []
   },
   "outputs": [
    {
     "name": "stdout",
     "output_type": "stream",
     "text": [
      "5/5 [==============================] - 0s 3ms/step - loss: 646245888.0000 - mae: 14268.1611 - mse: 646245888.0000\n",
      "Evaluation metrics on 2020 data:\n",
      "Loss: 646245888.0\n",
      "Mean Absolute Error (MAE): 14268.1611328125\n",
      "Mean Squared Error (MSE): 646245888.0\n"
     ]
    }
   ],
   "source": [
    "#Then evaluate the actual accuracy of the prediction. \n",
    "evaluation_2020 = net.evaluate(df_2020.drop('net_total', axis=1), df_2020['net_total'])\n",
    "\n",
    "# Extract the evaluation metrics\n",
    "loss_2020 = evaluation_2020[0]\n",
    "mae_2020 = evaluation_2020[1]\n",
    "mse_2020 = evaluation_2020[2]\n",
    "print(\"Evaluation metrics on 2020 data:\")\n",
    "print(f\"Loss: {loss_2020}\")\n",
    "print(f\"Mean Absolute Error (MAE): {mae_2020}\")\n",
    "print(f\"Mean Squared Error (MSE): {mse_2020}\")\n"
   ]
  },
  {
   "cell_type": "code",
   "execution_count": 99,
   "id": "795956b8-7687-4f08-b77a-731c071be2ae",
   "metadata": {
    "tags": []
   },
   "outputs": [
    {
     "ename": "ValueError",
     "evalue": "Input X contains NaN.\nRandomForestRegressor does not accept missing values encoded as NaN natively. For supervised learning, you might want to consider sklearn.ensemble.HistGradientBoostingClassifier and Regressor which accept missing values encoded as NaNs natively. Alternatively, it is possible to preprocess the data, for instance by using an imputer transformer in a pipeline or drop samples with missing values. See https://scikit-learn.org/stable/modules/impute.html You can find a list of all estimators that handle NaN values at the following page: https://scikit-learn.org/stable/modules/impute.html#estimators-that-handle-nan-values",
     "output_type": "error",
     "traceback": [
      "\u001b[0;31m---------------------------------------------------------------------------\u001b[0m",
      "\u001b[0;31mValueError\u001b[0m                                Traceback (most recent call last)",
      "Cell \u001b[0;32mIn[99], line 4\u001b[0m\n\u001b[1;32m      1\u001b[0m \u001b[38;5;28;01mfrom\u001b[39;00m \u001b[38;5;21;01msklearn\u001b[39;00m\u001b[38;5;21;01m.\u001b[39;00m\u001b[38;5;21;01mensemble\u001b[39;00m \u001b[38;5;28;01mimport\u001b[39;00m RandomForestRegressor\n\u001b[1;32m      3\u001b[0m model \u001b[38;5;241m=\u001b[39m RandomForestRegressor()\n\u001b[0;32m----> 4\u001b[0m rf \u001b[38;5;241m=\u001b[39m \u001b[43mmodel\u001b[49m\u001b[38;5;241;43m.\u001b[39;49m\u001b[43mfit\u001b[49m\u001b[43m(\u001b[49m\u001b[43mX_train\u001b[49m\u001b[43m,\u001b[49m\u001b[43my_train\u001b[49m\u001b[43m)\u001b[49m\n\u001b[1;32m      6\u001b[0m \u001b[38;5;66;03m# Make predictions:\u001b[39;00m\n\u001b[1;32m      7\u001b[0m y_hat_rf \u001b[38;5;241m=\u001b[39m rf\u001b[38;5;241m.\u001b[39mpredict(X_test) \u001b[38;5;66;03m# Model predictions\u001b[39;00m\n",
      "File \u001b[0;32m/usr/local/lib/python3.10/dist-packages/sklearn/ensemble/_forest.py:346\u001b[0m, in \u001b[0;36mBaseForest.fit\u001b[0;34m(self, X, y, sample_weight)\u001b[0m\n\u001b[1;32m    344\u001b[0m \u001b[38;5;28;01mif\u001b[39;00m issparse(y):\n\u001b[1;32m    345\u001b[0m     \u001b[38;5;28;01mraise\u001b[39;00m \u001b[38;5;167;01mValueError\u001b[39;00m(\u001b[38;5;124m\"\u001b[39m\u001b[38;5;124msparse multilabel-indicator for y is not supported.\u001b[39m\u001b[38;5;124m\"\u001b[39m)\n\u001b[0;32m--> 346\u001b[0m X, y \u001b[38;5;241m=\u001b[39m \u001b[38;5;28;43mself\u001b[39;49m\u001b[38;5;241;43m.\u001b[39;49m\u001b[43m_validate_data\u001b[49m\u001b[43m(\u001b[49m\n\u001b[1;32m    347\u001b[0m \u001b[43m    \u001b[49m\u001b[43mX\u001b[49m\u001b[43m,\u001b[49m\u001b[43m \u001b[49m\u001b[43my\u001b[49m\u001b[43m,\u001b[49m\u001b[43m \u001b[49m\u001b[43mmulti_output\u001b[49m\u001b[38;5;241;43m=\u001b[39;49m\u001b[38;5;28;43;01mTrue\u001b[39;49;00m\u001b[43m,\u001b[49m\u001b[43m \u001b[49m\u001b[43maccept_sparse\u001b[49m\u001b[38;5;241;43m=\u001b[39;49m\u001b[38;5;124;43m\"\u001b[39;49m\u001b[38;5;124;43mcsc\u001b[39;49m\u001b[38;5;124;43m\"\u001b[39;49m\u001b[43m,\u001b[49m\u001b[43m \u001b[49m\u001b[43mdtype\u001b[49m\u001b[38;5;241;43m=\u001b[39;49m\u001b[43mDTYPE\u001b[49m\n\u001b[1;32m    348\u001b[0m \u001b[43m\u001b[49m\u001b[43m)\u001b[49m\n\u001b[1;32m    349\u001b[0m \u001b[38;5;28;01mif\u001b[39;00m sample_weight \u001b[38;5;129;01mis\u001b[39;00m \u001b[38;5;129;01mnot\u001b[39;00m \u001b[38;5;28;01mNone\u001b[39;00m:\n\u001b[1;32m    350\u001b[0m     sample_weight \u001b[38;5;241m=\u001b[39m _check_sample_weight(sample_weight, X)\n",
      "File \u001b[0;32m/usr/local/lib/python3.10/dist-packages/sklearn/base.py:554\u001b[0m, in \u001b[0;36mBaseEstimator._validate_data\u001b[0;34m(self, X, y, reset, validate_separately, **check_params)\u001b[0m\n\u001b[1;32m    552\u001b[0m         y \u001b[38;5;241m=\u001b[39m check_array(y, input_name\u001b[38;5;241m=\u001b[39m\u001b[38;5;124m\"\u001b[39m\u001b[38;5;124my\u001b[39m\u001b[38;5;124m\"\u001b[39m, \u001b[38;5;241m*\u001b[39m\u001b[38;5;241m*\u001b[39mcheck_y_params)\n\u001b[1;32m    553\u001b[0m     \u001b[38;5;28;01melse\u001b[39;00m:\n\u001b[0;32m--> 554\u001b[0m         X, y \u001b[38;5;241m=\u001b[39m \u001b[43mcheck_X_y\u001b[49m\u001b[43m(\u001b[49m\u001b[43mX\u001b[49m\u001b[43m,\u001b[49m\u001b[43m \u001b[49m\u001b[43my\u001b[49m\u001b[43m,\u001b[49m\u001b[43m \u001b[49m\u001b[38;5;241;43m*\u001b[39;49m\u001b[38;5;241;43m*\u001b[39;49m\u001b[43mcheck_params\u001b[49m\u001b[43m)\u001b[49m\n\u001b[1;32m    555\u001b[0m     out \u001b[38;5;241m=\u001b[39m X, y\n\u001b[1;32m    557\u001b[0m \u001b[38;5;28;01mif\u001b[39;00m \u001b[38;5;129;01mnot\u001b[39;00m no_val_X \u001b[38;5;129;01mand\u001b[39;00m check_params\u001b[38;5;241m.\u001b[39mget(\u001b[38;5;124m\"\u001b[39m\u001b[38;5;124mensure_2d\u001b[39m\u001b[38;5;124m\"\u001b[39m, \u001b[38;5;28;01mTrue\u001b[39;00m):\n",
      "File \u001b[0;32m/usr/local/lib/python3.10/dist-packages/sklearn/utils/validation.py:1104\u001b[0m, in \u001b[0;36mcheck_X_y\u001b[0;34m(X, y, accept_sparse, accept_large_sparse, dtype, order, copy, force_all_finite, ensure_2d, allow_nd, multi_output, ensure_min_samples, ensure_min_features, y_numeric, estimator)\u001b[0m\n\u001b[1;32m   1099\u001b[0m         estimator_name \u001b[38;5;241m=\u001b[39m _check_estimator_name(estimator)\n\u001b[1;32m   1100\u001b[0m     \u001b[38;5;28;01mraise\u001b[39;00m \u001b[38;5;167;01mValueError\u001b[39;00m(\n\u001b[1;32m   1101\u001b[0m         \u001b[38;5;124mf\u001b[39m\u001b[38;5;124m\"\u001b[39m\u001b[38;5;132;01m{\u001b[39;00mestimator_name\u001b[38;5;132;01m}\u001b[39;00m\u001b[38;5;124m requires y to be passed, but the target y is None\u001b[39m\u001b[38;5;124m\"\u001b[39m\n\u001b[1;32m   1102\u001b[0m     )\n\u001b[0;32m-> 1104\u001b[0m X \u001b[38;5;241m=\u001b[39m \u001b[43mcheck_array\u001b[49m\u001b[43m(\u001b[49m\n\u001b[1;32m   1105\u001b[0m \u001b[43m    \u001b[49m\u001b[43mX\u001b[49m\u001b[43m,\u001b[49m\n\u001b[1;32m   1106\u001b[0m \u001b[43m    \u001b[49m\u001b[43maccept_sparse\u001b[49m\u001b[38;5;241;43m=\u001b[39;49m\u001b[43maccept_sparse\u001b[49m\u001b[43m,\u001b[49m\n\u001b[1;32m   1107\u001b[0m \u001b[43m    \u001b[49m\u001b[43maccept_large_sparse\u001b[49m\u001b[38;5;241;43m=\u001b[39;49m\u001b[43maccept_large_sparse\u001b[49m\u001b[43m,\u001b[49m\n\u001b[1;32m   1108\u001b[0m \u001b[43m    \u001b[49m\u001b[43mdtype\u001b[49m\u001b[38;5;241;43m=\u001b[39;49m\u001b[43mdtype\u001b[49m\u001b[43m,\u001b[49m\n\u001b[1;32m   1109\u001b[0m \u001b[43m    \u001b[49m\u001b[43morder\u001b[49m\u001b[38;5;241;43m=\u001b[39;49m\u001b[43morder\u001b[49m\u001b[43m,\u001b[49m\n\u001b[1;32m   1110\u001b[0m \u001b[43m    \u001b[49m\u001b[43mcopy\u001b[49m\u001b[38;5;241;43m=\u001b[39;49m\u001b[43mcopy\u001b[49m\u001b[43m,\u001b[49m\n\u001b[1;32m   1111\u001b[0m \u001b[43m    \u001b[49m\u001b[43mforce_all_finite\u001b[49m\u001b[38;5;241;43m=\u001b[39;49m\u001b[43mforce_all_finite\u001b[49m\u001b[43m,\u001b[49m\n\u001b[1;32m   1112\u001b[0m \u001b[43m    \u001b[49m\u001b[43mensure_2d\u001b[49m\u001b[38;5;241;43m=\u001b[39;49m\u001b[43mensure_2d\u001b[49m\u001b[43m,\u001b[49m\n\u001b[1;32m   1113\u001b[0m \u001b[43m    \u001b[49m\u001b[43mallow_nd\u001b[49m\u001b[38;5;241;43m=\u001b[39;49m\u001b[43mallow_nd\u001b[49m\u001b[43m,\u001b[49m\n\u001b[1;32m   1114\u001b[0m \u001b[43m    \u001b[49m\u001b[43mensure_min_samples\u001b[49m\u001b[38;5;241;43m=\u001b[39;49m\u001b[43mensure_min_samples\u001b[49m\u001b[43m,\u001b[49m\n\u001b[1;32m   1115\u001b[0m \u001b[43m    \u001b[49m\u001b[43mensure_min_features\u001b[49m\u001b[38;5;241;43m=\u001b[39;49m\u001b[43mensure_min_features\u001b[49m\u001b[43m,\u001b[49m\n\u001b[1;32m   1116\u001b[0m \u001b[43m    \u001b[49m\u001b[43mestimator\u001b[49m\u001b[38;5;241;43m=\u001b[39;49m\u001b[43mestimator\u001b[49m\u001b[43m,\u001b[49m\n\u001b[1;32m   1117\u001b[0m \u001b[43m    \u001b[49m\u001b[43minput_name\u001b[49m\u001b[38;5;241;43m=\u001b[39;49m\u001b[38;5;124;43m\"\u001b[39;49m\u001b[38;5;124;43mX\u001b[39;49m\u001b[38;5;124;43m\"\u001b[39;49m\u001b[43m,\u001b[49m\n\u001b[1;32m   1118\u001b[0m \u001b[43m\u001b[49m\u001b[43m)\u001b[49m\n\u001b[1;32m   1120\u001b[0m y \u001b[38;5;241m=\u001b[39m _check_y(y, multi_output\u001b[38;5;241m=\u001b[39mmulti_output, y_numeric\u001b[38;5;241m=\u001b[39my_numeric, estimator\u001b[38;5;241m=\u001b[39mestimator)\n\u001b[1;32m   1122\u001b[0m check_consistent_length(X, y)\n",
      "File \u001b[0;32m/usr/local/lib/python3.10/dist-packages/sklearn/utils/validation.py:919\u001b[0m, in \u001b[0;36mcheck_array\u001b[0;34m(array, accept_sparse, accept_large_sparse, dtype, order, copy, force_all_finite, ensure_2d, allow_nd, ensure_min_samples, ensure_min_features, estimator, input_name)\u001b[0m\n\u001b[1;32m    913\u001b[0m         \u001b[38;5;28;01mraise\u001b[39;00m \u001b[38;5;167;01mValueError\u001b[39;00m(\n\u001b[1;32m    914\u001b[0m             \u001b[38;5;124m\"\u001b[39m\u001b[38;5;124mFound array with dim \u001b[39m\u001b[38;5;132;01m%d\u001b[39;00m\u001b[38;5;124m. \u001b[39m\u001b[38;5;132;01m%s\u001b[39;00m\u001b[38;5;124m expected <= 2.\u001b[39m\u001b[38;5;124m\"\u001b[39m\n\u001b[1;32m    915\u001b[0m             \u001b[38;5;241m%\u001b[39m (array\u001b[38;5;241m.\u001b[39mndim, estimator_name)\n\u001b[1;32m    916\u001b[0m         )\n\u001b[1;32m    918\u001b[0m     \u001b[38;5;28;01mif\u001b[39;00m force_all_finite:\n\u001b[0;32m--> 919\u001b[0m         \u001b[43m_assert_all_finite\u001b[49m\u001b[43m(\u001b[49m\n\u001b[1;32m    920\u001b[0m \u001b[43m            \u001b[49m\u001b[43marray\u001b[49m\u001b[43m,\u001b[49m\n\u001b[1;32m    921\u001b[0m \u001b[43m            \u001b[49m\u001b[43minput_name\u001b[49m\u001b[38;5;241;43m=\u001b[39;49m\u001b[43minput_name\u001b[49m\u001b[43m,\u001b[49m\n\u001b[1;32m    922\u001b[0m \u001b[43m            \u001b[49m\u001b[43mestimator_name\u001b[49m\u001b[38;5;241;43m=\u001b[39;49m\u001b[43mestimator_name\u001b[49m\u001b[43m,\u001b[49m\n\u001b[1;32m    923\u001b[0m \u001b[43m            \u001b[49m\u001b[43mallow_nan\u001b[49m\u001b[38;5;241;43m=\u001b[39;49m\u001b[43mforce_all_finite\u001b[49m\u001b[43m \u001b[49m\u001b[38;5;241;43m==\u001b[39;49m\u001b[43m \u001b[49m\u001b[38;5;124;43m\"\u001b[39;49m\u001b[38;5;124;43mallow-nan\u001b[39;49m\u001b[38;5;124;43m\"\u001b[39;49m\u001b[43m,\u001b[49m\n\u001b[1;32m    924\u001b[0m \u001b[43m        \u001b[49m\u001b[43m)\u001b[49m\n\u001b[1;32m    926\u001b[0m \u001b[38;5;28;01mif\u001b[39;00m ensure_min_samples \u001b[38;5;241m>\u001b[39m \u001b[38;5;241m0\u001b[39m:\n\u001b[1;32m    927\u001b[0m     n_samples \u001b[38;5;241m=\u001b[39m _num_samples(array)\n",
      "File \u001b[0;32m/usr/local/lib/python3.10/dist-packages/sklearn/utils/validation.py:161\u001b[0m, in \u001b[0;36m_assert_all_finite\u001b[0;34m(X, allow_nan, msg_dtype, estimator_name, input_name)\u001b[0m\n\u001b[1;32m    144\u001b[0m \u001b[38;5;28;01mif\u001b[39;00m estimator_name \u001b[38;5;129;01mand\u001b[39;00m input_name \u001b[38;5;241m==\u001b[39m \u001b[38;5;124m\"\u001b[39m\u001b[38;5;124mX\u001b[39m\u001b[38;5;124m\"\u001b[39m \u001b[38;5;129;01mand\u001b[39;00m has_nan_error:\n\u001b[1;32m    145\u001b[0m     \u001b[38;5;66;03m# Improve the error message on how to handle missing values in\u001b[39;00m\n\u001b[1;32m    146\u001b[0m     \u001b[38;5;66;03m# scikit-learn.\u001b[39;00m\n\u001b[1;32m    147\u001b[0m     msg_err \u001b[38;5;241m+\u001b[39m\u001b[38;5;241m=\u001b[39m (\n\u001b[1;32m    148\u001b[0m         \u001b[38;5;124mf\u001b[39m\u001b[38;5;124m\"\u001b[39m\u001b[38;5;130;01m\\n\u001b[39;00m\u001b[38;5;132;01m{\u001b[39;00mestimator_name\u001b[38;5;132;01m}\u001b[39;00m\u001b[38;5;124m does not accept missing values\u001b[39m\u001b[38;5;124m\"\u001b[39m\n\u001b[1;32m    149\u001b[0m         \u001b[38;5;124m\"\u001b[39m\u001b[38;5;124m encoded as NaN natively. For supervised learning, you might want\u001b[39m\u001b[38;5;124m\"\u001b[39m\n\u001b[0;32m   (...)\u001b[0m\n\u001b[1;32m    159\u001b[0m         \u001b[38;5;124m\"\u001b[39m\u001b[38;5;124m#estimators-that-handle-nan-values\u001b[39m\u001b[38;5;124m\"\u001b[39m\n\u001b[1;32m    160\u001b[0m     )\n\u001b[0;32m--> 161\u001b[0m \u001b[38;5;28;01mraise\u001b[39;00m \u001b[38;5;167;01mValueError\u001b[39;00m(msg_err)\n",
      "\u001b[0;31mValueError\u001b[0m: Input X contains NaN.\nRandomForestRegressor does not accept missing values encoded as NaN natively. For supervised learning, you might want to consider sklearn.ensemble.HistGradientBoostingClassifier and Regressor which accept missing values encoded as NaNs natively. Alternatively, it is possible to preprocess the data, for instance by using an imputer transformer in a pipeline or drop samples with missing values. See https://scikit-learn.org/stable/modules/impute.html You can find a list of all estimators that handle NaN values at the following page: https://scikit-learn.org/stable/modules/impute.html#estimators-that-handle-nan-values"
     ]
    }
   ],
   "source": [
    "from sklearn.ensemble import RandomForestRegressor\n",
    "\n",
    "model = RandomForestRegressor()\n",
    "rf = model.fit(X_train,y_train)\n",
    "\n",
    "# Make predictions:\n",
    "y_hat_rf = rf.predict(X_test) # Model predictions"
   ]
  },
  {
   "cell_type": "code",
   "execution_count": 100,
   "id": "ede995bd-09d9-4efe-98cc-b7554b73a88c",
   "metadata": {
    "tags": []
   },
   "outputs": [],
   "source": [
    "#Now for the linear regression:"
   ]
  },
  {
   "cell_type": "code",
   "execution_count": 101,
   "id": "61319f9b-e36b-4150-b7c7-1ba7e41f7100",
   "metadata": {
    "tags": []
   },
   "outputs": [
    {
     "name": "stdout",
     "output_type": "stream",
     "text": [
      "year                           0\n",
      "county_fips                    0\n",
      "net_total                      0\n",
      "AV0AA                          1\n",
      "B78AA                          1\n",
      "                              ..\n",
      "county_name_WINCHESTER         0\n",
      "county_name_WINCHESTER CITY    0\n",
      "county_name_WISE               0\n",
      "county_name_WYTHE              0\n",
      "county_name_YORK               0\n",
      "Length: 330, dtype: int64\n"
     ]
    }
   ],
   "source": [
    "import pandas as pd\n",
    "df_lr = df_total.copy()\n",
    "print(df_lr.isna().sum())"
   ]
  },
  {
   "cell_type": "code",
   "execution_count": 102,
   "id": "33ca97e8-0758-4b60-91dd-676807b9db52",
   "metadata": {
    "tags": []
   },
   "outputs": [
    {
     "name": "stdout",
     "output_type": "stream",
     "text": [
      "     year  county_fips  net_total     AV0AA     B78AA    AV1AA    AV1AB  \\\n",
      "0  2000.0      51001.0     1260.0   38305.0   38305.0  18590.0  19715.0   \n",
      "1  2004.0      51001.0    -2208.0   38305.0   38305.0  18590.0  19715.0   \n",
      "2  2000.0      51003.0     2036.0   79236.0   79236.0  38002.0  41234.0   \n",
      "3  2004.0      51003.0      899.0   79236.0   79236.0  38002.0  41234.0   \n",
      "4  2000.0      51510.0   -14590.0  128283.0  128283.0  61974.0  66309.0   \n",
      "\n",
      "     AT5AA    AT5AB    AL8AA  ...  county_name_WAYNESBORO  \\\n",
      "0  36680.0   1625.0  22535.0  ...                     0.0   \n",
      "1  36680.0   1625.0  22535.0  ...                     0.0   \n",
      "2  73483.0   5753.0  39195.0  ...                     0.0   \n",
      "3  73483.0   5753.0  39195.0  ...                     0.0   \n",
      "4  95683.0  32600.0  27840.0  ...                     0.0   \n",
      "\n",
      "   county_name_WAYNESBORO CITY  county_name_WESTMORELAND  \\\n",
      "0                          0.0                       0.0   \n",
      "1                          0.0                       0.0   \n",
      "2                          0.0                       0.0   \n",
      "3                          0.0                       0.0   \n",
      "4                          0.0                       0.0   \n",
      "\n",
      "   county_name_WILLIAMSBURG  county_name_WILLIAMSBURG CITY  \\\n",
      "0                       0.0                            0.0   \n",
      "1                       0.0                            0.0   \n",
      "2                       0.0                            0.0   \n",
      "3                       0.0                            0.0   \n",
      "4                       0.0                            0.0   \n",
      "\n",
      "   county_name_WINCHESTER  county_name_WINCHESTER CITY  county_name_WISE  \\\n",
      "0                     0.0                          0.0               0.0   \n",
      "1                     0.0                          0.0               0.0   \n",
      "2                     0.0                          0.0               0.0   \n",
      "3                     0.0                          0.0               0.0   \n",
      "4                     0.0                          0.0               0.0   \n",
      "\n",
      "   county_name_WYTHE  county_name_YORK  \n",
      "0                0.0               0.0  \n",
      "1                0.0               0.0  \n",
      "2                0.0               0.0  \n",
      "3                0.0               0.0  \n",
      "4                0.0               0.0  \n",
      "\n",
      "[5 rows x 330 columns]\n"
     ]
    }
   ],
   "source": [
    "import numpy as np\n",
    "import pandas as pd\n",
    "from sklearn.model_selection import train_test_split\n",
    "from sklearn.linear_model import LinearRegression\n",
    "from sklearn.metrics import mean_squared_error, r2_score\n",
    "from sklearn.impute import SimpleImputer\n",
    "\n",
    "print(df_lr.head())"
   ]
  },
  {
   "cell_type": "code",
   "execution_count": 109,
   "id": "6a8a32ab-ed27-4669-b5a7-887fbc3a0d70",
   "metadata": {
    "tags": []
   },
   "outputs": [
    {
     "name": "stderr",
     "output_type": "stream",
     "text": [
      "/tmp/ipykernel_765707/1622902478.py:2: PerformanceWarning: DataFrame is highly fragmented.  This is usually the result of calling `frame.insert` many times, which has poor performance.  Consider joining all columns at once using pd.concat(axis=1) instead. To get a de-fragmented frame, use `newframe = frame.copy()`\n",
      "  df_lr[f'missing_indicator_{column}'] = df_lr[column].isna().astype(int)\n",
      "/tmp/ipykernel_765707/1622902478.py:2: PerformanceWarning: DataFrame is highly fragmented.  This is usually the result of calling `frame.insert` many times, which has poor performance.  Consider joining all columns at once using pd.concat(axis=1) instead. To get a de-fragmented frame, use `newframe = frame.copy()`\n",
      "  df_lr[f'missing_indicator_{column}'] = df_lr[column].isna().astype(int)\n",
      "/tmp/ipykernel_765707/1622902478.py:2: PerformanceWarning: DataFrame is highly fragmented.  This is usually the result of calling `frame.insert` many times, which has poor performance.  Consider joining all columns at once using pd.concat(axis=1) instead. To get a de-fragmented frame, use `newframe = frame.copy()`\n",
      "  df_lr[f'missing_indicator_{column}'] = df_lr[column].isna().astype(int)\n",
      "/tmp/ipykernel_765707/1622902478.py:2: PerformanceWarning: DataFrame is highly fragmented.  This is usually the result of calling `frame.insert` many times, which has poor performance.  Consider joining all columns at once using pd.concat(axis=1) instead. To get a de-fragmented frame, use `newframe = frame.copy()`\n",
      "  df_lr[f'missing_indicator_{column}'] = df_lr[column].isna().astype(int)\n",
      "/tmp/ipykernel_765707/1622902478.py:2: PerformanceWarning: DataFrame is highly fragmented.  This is usually the result of calling `frame.insert` many times, which has poor performance.  Consider joining all columns at once using pd.concat(axis=1) instead. To get a de-fragmented frame, use `newframe = frame.copy()`\n",
      "  df_lr[f'missing_indicator_{column}'] = df_lr[column].isna().astype(int)\n",
      "/tmp/ipykernel_765707/1622902478.py:2: PerformanceWarning: DataFrame is highly fragmented.  This is usually the result of calling `frame.insert` many times, which has poor performance.  Consider joining all columns at once using pd.concat(axis=1) instead. To get a de-fragmented frame, use `newframe = frame.copy()`\n",
      "  df_lr[f'missing_indicator_{column}'] = df_lr[column].isna().astype(int)\n",
      "/tmp/ipykernel_765707/1622902478.py:2: PerformanceWarning: DataFrame is highly fragmented.  This is usually the result of calling `frame.insert` many times, which has poor performance.  Consider joining all columns at once using pd.concat(axis=1) instead. To get a de-fragmented frame, use `newframe = frame.copy()`\n",
      "  df_lr[f'missing_indicator_{column}'] = df_lr[column].isna().astype(int)\n",
      "/tmp/ipykernel_765707/1622902478.py:2: PerformanceWarning: DataFrame is highly fragmented.  This is usually the result of calling `frame.insert` many times, which has poor performance.  Consider joining all columns at once using pd.concat(axis=1) instead. To get a de-fragmented frame, use `newframe = frame.copy()`\n",
      "  df_lr[f'missing_indicator_{column}'] = df_lr[column].isna().astype(int)\n",
      "/tmp/ipykernel_765707/1622902478.py:2: PerformanceWarning: DataFrame is highly fragmented.  This is usually the result of calling `frame.insert` many times, which has poor performance.  Consider joining all columns at once using pd.concat(axis=1) instead. To get a de-fragmented frame, use `newframe = frame.copy()`\n",
      "  df_lr[f'missing_indicator_{column}'] = df_lr[column].isna().astype(int)\n",
      "/tmp/ipykernel_765707/1622902478.py:2: PerformanceWarning: DataFrame is highly fragmented.  This is usually the result of calling `frame.insert` many times, which has poor performance.  Consider joining all columns at once using pd.concat(axis=1) instead. To get a de-fragmented frame, use `newframe = frame.copy()`\n",
      "  df_lr[f'missing_indicator_{column}'] = df_lr[column].isna().astype(int)\n",
      "/tmp/ipykernel_765707/1622902478.py:2: PerformanceWarning: DataFrame is highly fragmented.  This is usually the result of calling `frame.insert` many times, which has poor performance.  Consider joining all columns at once using pd.concat(axis=1) instead. To get a de-fragmented frame, use `newframe = frame.copy()`\n",
      "  df_lr[f'missing_indicator_{column}'] = df_lr[column].isna().astype(int)\n",
      "/tmp/ipykernel_765707/1622902478.py:2: PerformanceWarning: DataFrame is highly fragmented.  This is usually the result of calling `frame.insert` many times, which has poor performance.  Consider joining all columns at once using pd.concat(axis=1) instead. To get a de-fragmented frame, use `newframe = frame.copy()`\n",
      "  df_lr[f'missing_indicator_{column}'] = df_lr[column].isna().astype(int)\n",
      "/tmp/ipykernel_765707/1622902478.py:2: PerformanceWarning: DataFrame is highly fragmented.  This is usually the result of calling `frame.insert` many times, which has poor performance.  Consider joining all columns at once using pd.concat(axis=1) instead. To get a de-fragmented frame, use `newframe = frame.copy()`\n",
      "  df_lr[f'missing_indicator_{column}'] = df_lr[column].isna().astype(int)\n",
      "/tmp/ipykernel_765707/1622902478.py:2: PerformanceWarning: DataFrame is highly fragmented.  This is usually the result of calling `frame.insert` many times, which has poor performance.  Consider joining all columns at once using pd.concat(axis=1) instead. To get a de-fragmented frame, use `newframe = frame.copy()`\n",
      "  df_lr[f'missing_indicator_{column}'] = df_lr[column].isna().astype(int)\n",
      "/tmp/ipykernel_765707/1622902478.py:2: PerformanceWarning: DataFrame is highly fragmented.  This is usually the result of calling `frame.insert` many times, which has poor performance.  Consider joining all columns at once using pd.concat(axis=1) instead. To get a de-fragmented frame, use `newframe = frame.copy()`\n",
      "  df_lr[f'missing_indicator_{column}'] = df_lr[column].isna().astype(int)\n",
      "/tmp/ipykernel_765707/1622902478.py:2: PerformanceWarning: DataFrame is highly fragmented.  This is usually the result of calling `frame.insert` many times, which has poor performance.  Consider joining all columns at once using pd.concat(axis=1) instead. To get a de-fragmented frame, use `newframe = frame.copy()`\n",
      "  df_lr[f'missing_indicator_{column}'] = df_lr[column].isna().astype(int)\n",
      "/tmp/ipykernel_765707/1622902478.py:2: PerformanceWarning: DataFrame is highly fragmented.  This is usually the result of calling `frame.insert` many times, which has poor performance.  Consider joining all columns at once using pd.concat(axis=1) instead. To get a de-fragmented frame, use `newframe = frame.copy()`\n",
      "  df_lr[f'missing_indicator_{column}'] = df_lr[column].isna().astype(int)\n",
      "/tmp/ipykernel_765707/1622902478.py:2: PerformanceWarning: DataFrame is highly fragmented.  This is usually the result of calling `frame.insert` many times, which has poor performance.  Consider joining all columns at once using pd.concat(axis=1) instead. To get a de-fragmented frame, use `newframe = frame.copy()`\n",
      "  df_lr[f'missing_indicator_{column}'] = df_lr[column].isna().astype(int)\n",
      "/tmp/ipykernel_765707/1622902478.py:2: PerformanceWarning: DataFrame is highly fragmented.  This is usually the result of calling `frame.insert` many times, which has poor performance.  Consider joining all columns at once using pd.concat(axis=1) instead. To get a de-fragmented frame, use `newframe = frame.copy()`\n",
      "  df_lr[f'missing_indicator_{column}'] = df_lr[column].isna().astype(int)\n",
      "/tmp/ipykernel_765707/1622902478.py:2: PerformanceWarning: DataFrame is highly fragmented.  This is usually the result of calling `frame.insert` many times, which has poor performance.  Consider joining all columns at once using pd.concat(axis=1) instead. To get a de-fragmented frame, use `newframe = frame.copy()`\n",
      "  df_lr[f'missing_indicator_{column}'] = df_lr[column].isna().astype(int)\n",
      "/tmp/ipykernel_765707/1622902478.py:2: PerformanceWarning: DataFrame is highly fragmented.  This is usually the result of calling `frame.insert` many times, which has poor performance.  Consider joining all columns at once using pd.concat(axis=1) instead. To get a de-fragmented frame, use `newframe = frame.copy()`\n",
      "  df_lr[f'missing_indicator_{column}'] = df_lr[column].isna().astype(int)\n",
      "/tmp/ipykernel_765707/1622902478.py:2: PerformanceWarning: DataFrame is highly fragmented.  This is usually the result of calling `frame.insert` many times, which has poor performance.  Consider joining all columns at once using pd.concat(axis=1) instead. To get a de-fragmented frame, use `newframe = frame.copy()`\n",
      "  df_lr[f'missing_indicator_{column}'] = df_lr[column].isna().astype(int)\n",
      "/tmp/ipykernel_765707/1622902478.py:2: PerformanceWarning: DataFrame is highly fragmented.  This is usually the result of calling `frame.insert` many times, which has poor performance.  Consider joining all columns at once using pd.concat(axis=1) instead. To get a de-fragmented frame, use `newframe = frame.copy()`\n",
      "  df_lr[f'missing_indicator_{column}'] = df_lr[column].isna().astype(int)\n",
      "/tmp/ipykernel_765707/1622902478.py:2: PerformanceWarning: DataFrame is highly fragmented.  This is usually the result of calling `frame.insert` many times, which has poor performance.  Consider joining all columns at once using pd.concat(axis=1) instead. To get a de-fragmented frame, use `newframe = frame.copy()`\n",
      "  df_lr[f'missing_indicator_{column}'] = df_lr[column].isna().astype(int)\n",
      "/tmp/ipykernel_765707/1622902478.py:2: PerformanceWarning: DataFrame is highly fragmented.  This is usually the result of calling `frame.insert` many times, which has poor performance.  Consider joining all columns at once using pd.concat(axis=1) instead. To get a de-fragmented frame, use `newframe = frame.copy()`\n",
      "  df_lr[f'missing_indicator_{column}'] = df_lr[column].isna().astype(int)\n",
      "/tmp/ipykernel_765707/1622902478.py:2: PerformanceWarning: DataFrame is highly fragmented.  This is usually the result of calling `frame.insert` many times, which has poor performance.  Consider joining all columns at once using pd.concat(axis=1) instead. To get a de-fragmented frame, use `newframe = frame.copy()`\n",
      "  df_lr[f'missing_indicator_{column}'] = df_lr[column].isna().astype(int)\n",
      "/tmp/ipykernel_765707/1622902478.py:2: PerformanceWarning: DataFrame is highly fragmented.  This is usually the result of calling `frame.insert` many times, which has poor performance.  Consider joining all columns at once using pd.concat(axis=1) instead. To get a de-fragmented frame, use `newframe = frame.copy()`\n",
      "  df_lr[f'missing_indicator_{column}'] = df_lr[column].isna().astype(int)\n",
      "/tmp/ipykernel_765707/1622902478.py:2: PerformanceWarning: DataFrame is highly fragmented.  This is usually the result of calling `frame.insert` many times, which has poor performance.  Consider joining all columns at once using pd.concat(axis=1) instead. To get a de-fragmented frame, use `newframe = frame.copy()`\n",
      "  df_lr[f'missing_indicator_{column}'] = df_lr[column].isna().astype(int)\n",
      "/tmp/ipykernel_765707/1622902478.py:2: PerformanceWarning: DataFrame is highly fragmented.  This is usually the result of calling `frame.insert` many times, which has poor performance.  Consider joining all columns at once using pd.concat(axis=1) instead. To get a de-fragmented frame, use `newframe = frame.copy()`\n",
      "  df_lr[f'missing_indicator_{column}'] = df_lr[column].isna().astype(int)\n",
      "/tmp/ipykernel_765707/1622902478.py:2: PerformanceWarning: DataFrame is highly fragmented.  This is usually the result of calling `frame.insert` many times, which has poor performance.  Consider joining all columns at once using pd.concat(axis=1) instead. To get a de-fragmented frame, use `newframe = frame.copy()`\n",
      "  df_lr[f'missing_indicator_{column}'] = df_lr[column].isna().astype(int)\n",
      "/tmp/ipykernel_765707/1622902478.py:2: PerformanceWarning: DataFrame is highly fragmented.  This is usually the result of calling `frame.insert` many times, which has poor performance.  Consider joining all columns at once using pd.concat(axis=1) instead. To get a de-fragmented frame, use `newframe = frame.copy()`\n",
      "  df_lr[f'missing_indicator_{column}'] = df_lr[column].isna().astype(int)\n",
      "/tmp/ipykernel_765707/1622902478.py:2: PerformanceWarning: DataFrame is highly fragmented.  This is usually the result of calling `frame.insert` many times, which has poor performance.  Consider joining all columns at once using pd.concat(axis=1) instead. To get a de-fragmented frame, use `newframe = frame.copy()`\n",
      "  df_lr[f'missing_indicator_{column}'] = df_lr[column].isna().astype(int)\n",
      "/tmp/ipykernel_765707/1622902478.py:2: PerformanceWarning: DataFrame is highly fragmented.  This is usually the result of calling `frame.insert` many times, which has poor performance.  Consider joining all columns at once using pd.concat(axis=1) instead. To get a de-fragmented frame, use `newframe = frame.copy()`\n",
      "  df_lr[f'missing_indicator_{column}'] = df_lr[column].isna().astype(int)\n",
      "/tmp/ipykernel_765707/1622902478.py:2: PerformanceWarning: DataFrame is highly fragmented.  This is usually the result of calling `frame.insert` many times, which has poor performance.  Consider joining all columns at once using pd.concat(axis=1) instead. To get a de-fragmented frame, use `newframe = frame.copy()`\n",
      "  df_lr[f'missing_indicator_{column}'] = df_lr[column].isna().astype(int)\n",
      "/tmp/ipykernel_765707/1622902478.py:2: PerformanceWarning: DataFrame is highly fragmented.  This is usually the result of calling `frame.insert` many times, which has poor performance.  Consider joining all columns at once using pd.concat(axis=1) instead. To get a de-fragmented frame, use `newframe = frame.copy()`\n",
      "  df_lr[f'missing_indicator_{column}'] = df_lr[column].isna().astype(int)\n",
      "/tmp/ipykernel_765707/1622902478.py:2: PerformanceWarning: DataFrame is highly fragmented.  This is usually the result of calling `frame.insert` many times, which has poor performance.  Consider joining all columns at once using pd.concat(axis=1) instead. To get a de-fragmented frame, use `newframe = frame.copy()`\n",
      "  df_lr[f'missing_indicator_{column}'] = df_lr[column].isna().astype(int)\n",
      "/tmp/ipykernel_765707/1622902478.py:2: PerformanceWarning: DataFrame is highly fragmented.  This is usually the result of calling `frame.insert` many times, which has poor performance.  Consider joining all columns at once using pd.concat(axis=1) instead. To get a de-fragmented frame, use `newframe = frame.copy()`\n",
      "  df_lr[f'missing_indicator_{column}'] = df_lr[column].isna().astype(int)\n",
      "/tmp/ipykernel_765707/1622902478.py:2: PerformanceWarning: DataFrame is highly fragmented.  This is usually the result of calling `frame.insert` many times, which has poor performance.  Consider joining all columns at once using pd.concat(axis=1) instead. To get a de-fragmented frame, use `newframe = frame.copy()`\n",
      "  df_lr[f'missing_indicator_{column}'] = df_lr[column].isna().astype(int)\n",
      "/tmp/ipykernel_765707/1622902478.py:2: PerformanceWarning: DataFrame is highly fragmented.  This is usually the result of calling `frame.insert` many times, which has poor performance.  Consider joining all columns at once using pd.concat(axis=1) instead. To get a de-fragmented frame, use `newframe = frame.copy()`\n",
      "  df_lr[f'missing_indicator_{column}'] = df_lr[column].isna().astype(int)\n",
      "/tmp/ipykernel_765707/1622902478.py:2: PerformanceWarning: DataFrame is highly fragmented.  This is usually the result of calling `frame.insert` many times, which has poor performance.  Consider joining all columns at once using pd.concat(axis=1) instead. To get a de-fragmented frame, use `newframe = frame.copy()`\n",
      "  df_lr[f'missing_indicator_{column}'] = df_lr[column].isna().astype(int)\n",
      "/tmp/ipykernel_765707/1622902478.py:2: PerformanceWarning: DataFrame is highly fragmented.  This is usually the result of calling `frame.insert` many times, which has poor performance.  Consider joining all columns at once using pd.concat(axis=1) instead. To get a de-fragmented frame, use `newframe = frame.copy()`\n",
      "  df_lr[f'missing_indicator_{column}'] = df_lr[column].isna().astype(int)\n",
      "/tmp/ipykernel_765707/1622902478.py:2: PerformanceWarning: DataFrame is highly fragmented.  This is usually the result of calling `frame.insert` many times, which has poor performance.  Consider joining all columns at once using pd.concat(axis=1) instead. To get a de-fragmented frame, use `newframe = frame.copy()`\n",
      "  df_lr[f'missing_indicator_{column}'] = df_lr[column].isna().astype(int)\n",
      "/tmp/ipykernel_765707/1622902478.py:2: PerformanceWarning: DataFrame is highly fragmented.  This is usually the result of calling `frame.insert` many times, which has poor performance.  Consider joining all columns at once using pd.concat(axis=1) instead. To get a de-fragmented frame, use `newframe = frame.copy()`\n",
      "  df_lr[f'missing_indicator_{column}'] = df_lr[column].isna().astype(int)\n",
      "/tmp/ipykernel_765707/1622902478.py:2: PerformanceWarning: DataFrame is highly fragmented.  This is usually the result of calling `frame.insert` many times, which has poor performance.  Consider joining all columns at once using pd.concat(axis=1) instead. To get a de-fragmented frame, use `newframe = frame.copy()`\n",
      "  df_lr[f'missing_indicator_{column}'] = df_lr[column].isna().astype(int)\n",
      "/tmp/ipykernel_765707/1622902478.py:2: PerformanceWarning: DataFrame is highly fragmented.  This is usually the result of calling `frame.insert` many times, which has poor performance.  Consider joining all columns at once using pd.concat(axis=1) instead. To get a de-fragmented frame, use `newframe = frame.copy()`\n",
      "  df_lr[f'missing_indicator_{column}'] = df_lr[column].isna().astype(int)\n",
      "/tmp/ipykernel_765707/1622902478.py:2: PerformanceWarning: DataFrame is highly fragmented.  This is usually the result of calling `frame.insert` many times, which has poor performance.  Consider joining all columns at once using pd.concat(axis=1) instead. To get a de-fragmented frame, use `newframe = frame.copy()`\n",
      "  df_lr[f'missing_indicator_{column}'] = df_lr[column].isna().astype(int)\n",
      "/tmp/ipykernel_765707/1622902478.py:2: PerformanceWarning: DataFrame is highly fragmented.  This is usually the result of calling `frame.insert` many times, which has poor performance.  Consider joining all columns at once using pd.concat(axis=1) instead. To get a de-fragmented frame, use `newframe = frame.copy()`\n",
      "  df_lr[f'missing_indicator_{column}'] = df_lr[column].isna().astype(int)\n",
      "/tmp/ipykernel_765707/1622902478.py:2: PerformanceWarning: DataFrame is highly fragmented.  This is usually the result of calling `frame.insert` many times, which has poor performance.  Consider joining all columns at once using pd.concat(axis=1) instead. To get a de-fragmented frame, use `newframe = frame.copy()`\n",
      "  df_lr[f'missing_indicator_{column}'] = df_lr[column].isna().astype(int)\n",
      "/tmp/ipykernel_765707/1622902478.py:2: PerformanceWarning: DataFrame is highly fragmented.  This is usually the result of calling `frame.insert` many times, which has poor performance.  Consider joining all columns at once using pd.concat(axis=1) instead. To get a de-fragmented frame, use `newframe = frame.copy()`\n",
      "  df_lr[f'missing_indicator_{column}'] = df_lr[column].isna().astype(int)\n",
      "/tmp/ipykernel_765707/1622902478.py:2: PerformanceWarning: DataFrame is highly fragmented.  This is usually the result of calling `frame.insert` many times, which has poor performance.  Consider joining all columns at once using pd.concat(axis=1) instead. To get a de-fragmented frame, use `newframe = frame.copy()`\n",
      "  df_lr[f'missing_indicator_{column}'] = df_lr[column].isna().astype(int)\n",
      "/tmp/ipykernel_765707/1622902478.py:2: PerformanceWarning: DataFrame is highly fragmented.  This is usually the result of calling `frame.insert` many times, which has poor performance.  Consider joining all columns at once using pd.concat(axis=1) instead. To get a de-fragmented frame, use `newframe = frame.copy()`\n",
      "  df_lr[f'missing_indicator_{column}'] = df_lr[column].isna().astype(int)\n",
      "/tmp/ipykernel_765707/1622902478.py:2: PerformanceWarning: DataFrame is highly fragmented.  This is usually the result of calling `frame.insert` many times, which has poor performance.  Consider joining all columns at once using pd.concat(axis=1) instead. To get a de-fragmented frame, use `newframe = frame.copy()`\n",
      "  df_lr[f'missing_indicator_{column}'] = df_lr[column].isna().astype(int)\n",
      "/tmp/ipykernel_765707/1622902478.py:2: PerformanceWarning: DataFrame is highly fragmented.  This is usually the result of calling `frame.insert` many times, which has poor performance.  Consider joining all columns at once using pd.concat(axis=1) instead. To get a de-fragmented frame, use `newframe = frame.copy()`\n",
      "  df_lr[f'missing_indicator_{column}'] = df_lr[column].isna().astype(int)\n",
      "/tmp/ipykernel_765707/1622902478.py:2: PerformanceWarning: DataFrame is highly fragmented.  This is usually the result of calling `frame.insert` many times, which has poor performance.  Consider joining all columns at once using pd.concat(axis=1) instead. To get a de-fragmented frame, use `newframe = frame.copy()`\n",
      "  df_lr[f'missing_indicator_{column}'] = df_lr[column].isna().astype(int)\n",
      "/tmp/ipykernel_765707/1622902478.py:2: PerformanceWarning: DataFrame is highly fragmented.  This is usually the result of calling `frame.insert` many times, which has poor performance.  Consider joining all columns at once using pd.concat(axis=1) instead. To get a de-fragmented frame, use `newframe = frame.copy()`\n",
      "  df_lr[f'missing_indicator_{column}'] = df_lr[column].isna().astype(int)\n",
      "/tmp/ipykernel_765707/1622902478.py:2: PerformanceWarning: DataFrame is highly fragmented.  This is usually the result of calling `frame.insert` many times, which has poor performance.  Consider joining all columns at once using pd.concat(axis=1) instead. To get a de-fragmented frame, use `newframe = frame.copy()`\n",
      "  df_lr[f'missing_indicator_{column}'] = df_lr[column].isna().astype(int)\n",
      "/tmp/ipykernel_765707/1622902478.py:2: PerformanceWarning: DataFrame is highly fragmented.  This is usually the result of calling `frame.insert` many times, which has poor performance.  Consider joining all columns at once using pd.concat(axis=1) instead. To get a de-fragmented frame, use `newframe = frame.copy()`\n",
      "  df_lr[f'missing_indicator_{column}'] = df_lr[column].isna().astype(int)\n",
      "/tmp/ipykernel_765707/1622902478.py:2: PerformanceWarning: DataFrame is highly fragmented.  This is usually the result of calling `frame.insert` many times, which has poor performance.  Consider joining all columns at once using pd.concat(axis=1) instead. To get a de-fragmented frame, use `newframe = frame.copy()`\n",
      "  df_lr[f'missing_indicator_{column}'] = df_lr[column].isna().astype(int)\n",
      "/tmp/ipykernel_765707/1622902478.py:2: PerformanceWarning: DataFrame is highly fragmented.  This is usually the result of calling `frame.insert` many times, which has poor performance.  Consider joining all columns at once using pd.concat(axis=1) instead. To get a de-fragmented frame, use `newframe = frame.copy()`\n",
      "  df_lr[f'missing_indicator_{column}'] = df_lr[column].isna().astype(int)\n",
      "/tmp/ipykernel_765707/1622902478.py:2: PerformanceWarning: DataFrame is highly fragmented.  This is usually the result of calling `frame.insert` many times, which has poor performance.  Consider joining all columns at once using pd.concat(axis=1) instead. To get a de-fragmented frame, use `newframe = frame.copy()`\n",
      "  df_lr[f'missing_indicator_{column}'] = df_lr[column].isna().astype(int)\n",
      "/tmp/ipykernel_765707/1622902478.py:2: PerformanceWarning: DataFrame is highly fragmented.  This is usually the result of calling `frame.insert` many times, which has poor performance.  Consider joining all columns at once using pd.concat(axis=1) instead. To get a de-fragmented frame, use `newframe = frame.copy()`\n",
      "  df_lr[f'missing_indicator_{column}'] = df_lr[column].isna().astype(int)\n",
      "/tmp/ipykernel_765707/1622902478.py:2: PerformanceWarning: DataFrame is highly fragmented.  This is usually the result of calling `frame.insert` many times, which has poor performance.  Consider joining all columns at once using pd.concat(axis=1) instead. To get a de-fragmented frame, use `newframe = frame.copy()`\n",
      "  df_lr[f'missing_indicator_{column}'] = df_lr[column].isna().astype(int)\n",
      "/tmp/ipykernel_765707/1622902478.py:2: PerformanceWarning: DataFrame is highly fragmented.  This is usually the result of calling `frame.insert` many times, which has poor performance.  Consider joining all columns at once using pd.concat(axis=1) instead. To get a de-fragmented frame, use `newframe = frame.copy()`\n",
      "  df_lr[f'missing_indicator_{column}'] = df_lr[column].isna().astype(int)\n",
      "/tmp/ipykernel_765707/1622902478.py:2: PerformanceWarning: DataFrame is highly fragmented.  This is usually the result of calling `frame.insert` many times, which has poor performance.  Consider joining all columns at once using pd.concat(axis=1) instead. To get a de-fragmented frame, use `newframe = frame.copy()`\n",
      "  df_lr[f'missing_indicator_{column}'] = df_lr[column].isna().astype(int)\n",
      "/tmp/ipykernel_765707/1622902478.py:2: PerformanceWarning: DataFrame is highly fragmented.  This is usually the result of calling `frame.insert` many times, which has poor performance.  Consider joining all columns at once using pd.concat(axis=1) instead. To get a de-fragmented frame, use `newframe = frame.copy()`\n",
      "  df_lr[f'missing_indicator_{column}'] = df_lr[column].isna().astype(int)\n",
      "/tmp/ipykernel_765707/1622902478.py:2: PerformanceWarning: DataFrame is highly fragmented.  This is usually the result of calling `frame.insert` many times, which has poor performance.  Consider joining all columns at once using pd.concat(axis=1) instead. To get a de-fragmented frame, use `newframe = frame.copy()`\n",
      "  df_lr[f'missing_indicator_{column}'] = df_lr[column].isna().astype(int)\n",
      "/tmp/ipykernel_765707/1622902478.py:2: PerformanceWarning: DataFrame is highly fragmented.  This is usually the result of calling `frame.insert` many times, which has poor performance.  Consider joining all columns at once using pd.concat(axis=1) instead. To get a de-fragmented frame, use `newframe = frame.copy()`\n",
      "  df_lr[f'missing_indicator_{column}'] = df_lr[column].isna().astype(int)\n",
      "/tmp/ipykernel_765707/1622902478.py:2: PerformanceWarning: DataFrame is highly fragmented.  This is usually the result of calling `frame.insert` many times, which has poor performance.  Consider joining all columns at once using pd.concat(axis=1) instead. To get a de-fragmented frame, use `newframe = frame.copy()`\n",
      "  df_lr[f'missing_indicator_{column}'] = df_lr[column].isna().astype(int)\n",
      "/tmp/ipykernel_765707/1622902478.py:2: PerformanceWarning: DataFrame is highly fragmented.  This is usually the result of calling `frame.insert` many times, which has poor performance.  Consider joining all columns at once using pd.concat(axis=1) instead. To get a de-fragmented frame, use `newframe = frame.copy()`\n",
      "  df_lr[f'missing_indicator_{column}'] = df_lr[column].isna().astype(int)\n",
      "/tmp/ipykernel_765707/1622902478.py:2: PerformanceWarning: DataFrame is highly fragmented.  This is usually the result of calling `frame.insert` many times, which has poor performance.  Consider joining all columns at once using pd.concat(axis=1) instead. To get a de-fragmented frame, use `newframe = frame.copy()`\n",
      "  df_lr[f'missing_indicator_{column}'] = df_lr[column].isna().astype(int)\n",
      "/tmp/ipykernel_765707/1622902478.py:2: PerformanceWarning: DataFrame is highly fragmented.  This is usually the result of calling `frame.insert` many times, which has poor performance.  Consider joining all columns at once using pd.concat(axis=1) instead. To get a de-fragmented frame, use `newframe = frame.copy()`\n",
      "  df_lr[f'missing_indicator_{column}'] = df_lr[column].isna().astype(int)\n",
      "/tmp/ipykernel_765707/1622902478.py:2: PerformanceWarning: DataFrame is highly fragmented.  This is usually the result of calling `frame.insert` many times, which has poor performance.  Consider joining all columns at once using pd.concat(axis=1) instead. To get a de-fragmented frame, use `newframe = frame.copy()`\n",
      "  df_lr[f'missing_indicator_{column}'] = df_lr[column].isna().astype(int)\n",
      "/tmp/ipykernel_765707/1622902478.py:2: PerformanceWarning: DataFrame is highly fragmented.  This is usually the result of calling `frame.insert` many times, which has poor performance.  Consider joining all columns at once using pd.concat(axis=1) instead. To get a de-fragmented frame, use `newframe = frame.copy()`\n",
      "  df_lr[f'missing_indicator_{column}'] = df_lr[column].isna().astype(int)\n",
      "/tmp/ipykernel_765707/1622902478.py:2: PerformanceWarning: DataFrame is highly fragmented.  This is usually the result of calling `frame.insert` many times, which has poor performance.  Consider joining all columns at once using pd.concat(axis=1) instead. To get a de-fragmented frame, use `newframe = frame.copy()`\n",
      "  df_lr[f'missing_indicator_{column}'] = df_lr[column].isna().astype(int)\n",
      "/tmp/ipykernel_765707/1622902478.py:2: PerformanceWarning: DataFrame is highly fragmented.  This is usually the result of calling `frame.insert` many times, which has poor performance.  Consider joining all columns at once using pd.concat(axis=1) instead. To get a de-fragmented frame, use `newframe = frame.copy()`\n",
      "  df_lr[f'missing_indicator_{column}'] = df_lr[column].isna().astype(int)\n",
      "/tmp/ipykernel_765707/1622902478.py:2: PerformanceWarning: DataFrame is highly fragmented.  This is usually the result of calling `frame.insert` many times, which has poor performance.  Consider joining all columns at once using pd.concat(axis=1) instead. To get a de-fragmented frame, use `newframe = frame.copy()`\n",
      "  df_lr[f'missing_indicator_{column}'] = df_lr[column].isna().astype(int)\n",
      "/tmp/ipykernel_765707/1622902478.py:2: PerformanceWarning: DataFrame is highly fragmented.  This is usually the result of calling `frame.insert` many times, which has poor performance.  Consider joining all columns at once using pd.concat(axis=1) instead. To get a de-fragmented frame, use `newframe = frame.copy()`\n",
      "  df_lr[f'missing_indicator_{column}'] = df_lr[column].isna().astype(int)\n",
      "/tmp/ipykernel_765707/1622902478.py:2: PerformanceWarning: DataFrame is highly fragmented.  This is usually the result of calling `frame.insert` many times, which has poor performance.  Consider joining all columns at once using pd.concat(axis=1) instead. To get a de-fragmented frame, use `newframe = frame.copy()`\n",
      "  df_lr[f'missing_indicator_{column}'] = df_lr[column].isna().astype(int)\n",
      "/tmp/ipykernel_765707/1622902478.py:2: PerformanceWarning: DataFrame is highly fragmented.  This is usually the result of calling `frame.insert` many times, which has poor performance.  Consider joining all columns at once using pd.concat(axis=1) instead. To get a de-fragmented frame, use `newframe = frame.copy()`\n",
      "  df_lr[f'missing_indicator_{column}'] = df_lr[column].isna().astype(int)\n",
      "/tmp/ipykernel_765707/1622902478.py:2: PerformanceWarning: DataFrame is highly fragmented.  This is usually the result of calling `frame.insert` many times, which has poor performance.  Consider joining all columns at once using pd.concat(axis=1) instead. To get a de-fragmented frame, use `newframe = frame.copy()`\n",
      "  df_lr[f'missing_indicator_{column}'] = df_lr[column].isna().astype(int)\n",
      "/tmp/ipykernel_765707/1622902478.py:2: PerformanceWarning: DataFrame is highly fragmented.  This is usually the result of calling `frame.insert` many times, which has poor performance.  Consider joining all columns at once using pd.concat(axis=1) instead. To get a de-fragmented frame, use `newframe = frame.copy()`\n",
      "  df_lr[f'missing_indicator_{column}'] = df_lr[column].isna().astype(int)\n",
      "/tmp/ipykernel_765707/1622902478.py:2: PerformanceWarning: DataFrame is highly fragmented.  This is usually the result of calling `frame.insert` many times, which has poor performance.  Consider joining all columns at once using pd.concat(axis=1) instead. To get a de-fragmented frame, use `newframe = frame.copy()`\n",
      "  df_lr[f'missing_indicator_{column}'] = df_lr[column].isna().astype(int)\n",
      "/tmp/ipykernel_765707/1622902478.py:2: PerformanceWarning: DataFrame is highly fragmented.  This is usually the result of calling `frame.insert` many times, which has poor performance.  Consider joining all columns at once using pd.concat(axis=1) instead. To get a de-fragmented frame, use `newframe = frame.copy()`\n",
      "  df_lr[f'missing_indicator_{column}'] = df_lr[column].isna().astype(int)\n",
      "/tmp/ipykernel_765707/1622902478.py:2: PerformanceWarning: DataFrame is highly fragmented.  This is usually the result of calling `frame.insert` many times, which has poor performance.  Consider joining all columns at once using pd.concat(axis=1) instead. To get a de-fragmented frame, use `newframe = frame.copy()`\n",
      "  df_lr[f'missing_indicator_{column}'] = df_lr[column].isna().astype(int)\n",
      "/tmp/ipykernel_765707/1622902478.py:2: PerformanceWarning: DataFrame is highly fragmented.  This is usually the result of calling `frame.insert` many times, which has poor performance.  Consider joining all columns at once using pd.concat(axis=1) instead. To get a de-fragmented frame, use `newframe = frame.copy()`\n",
      "  df_lr[f'missing_indicator_{column}'] = df_lr[column].isna().astype(int)\n",
      "/tmp/ipykernel_765707/1622902478.py:2: PerformanceWarning: DataFrame is highly fragmented.  This is usually the result of calling `frame.insert` many times, which has poor performance.  Consider joining all columns at once using pd.concat(axis=1) instead. To get a de-fragmented frame, use `newframe = frame.copy()`\n",
      "  df_lr[f'missing_indicator_{column}'] = df_lr[column].isna().astype(int)\n",
      "/tmp/ipykernel_765707/1622902478.py:2: PerformanceWarning: DataFrame is highly fragmented.  This is usually the result of calling `frame.insert` many times, which has poor performance.  Consider joining all columns at once using pd.concat(axis=1) instead. To get a de-fragmented frame, use `newframe = frame.copy()`\n",
      "  df_lr[f'missing_indicator_{column}'] = df_lr[column].isna().astype(int)\n",
      "/tmp/ipykernel_765707/1622902478.py:2: PerformanceWarning: DataFrame is highly fragmented.  This is usually the result of calling `frame.insert` many times, which has poor performance.  Consider joining all columns at once using pd.concat(axis=1) instead. To get a de-fragmented frame, use `newframe = frame.copy()`\n",
      "  df_lr[f'missing_indicator_{column}'] = df_lr[column].isna().astype(int)\n",
      "/tmp/ipykernel_765707/1622902478.py:2: PerformanceWarning: DataFrame is highly fragmented.  This is usually the result of calling `frame.insert` many times, which has poor performance.  Consider joining all columns at once using pd.concat(axis=1) instead. To get a de-fragmented frame, use `newframe = frame.copy()`\n",
      "  df_lr[f'missing_indicator_{column}'] = df_lr[column].isna().astype(int)\n",
      "/tmp/ipykernel_765707/1622902478.py:2: PerformanceWarning: DataFrame is highly fragmented.  This is usually the result of calling `frame.insert` many times, which has poor performance.  Consider joining all columns at once using pd.concat(axis=1) instead. To get a de-fragmented frame, use `newframe = frame.copy()`\n",
      "  df_lr[f'missing_indicator_{column}'] = df_lr[column].isna().astype(int)\n",
      "/tmp/ipykernel_765707/1622902478.py:2: PerformanceWarning: DataFrame is highly fragmented.  This is usually the result of calling `frame.insert` many times, which has poor performance.  Consider joining all columns at once using pd.concat(axis=1) instead. To get a de-fragmented frame, use `newframe = frame.copy()`\n",
      "  df_lr[f'missing_indicator_{column}'] = df_lr[column].isna().astype(int)\n",
      "/tmp/ipykernel_765707/1622902478.py:2: PerformanceWarning: DataFrame is highly fragmented.  This is usually the result of calling `frame.insert` many times, which has poor performance.  Consider joining all columns at once using pd.concat(axis=1) instead. To get a de-fragmented frame, use `newframe = frame.copy()`\n",
      "  df_lr[f'missing_indicator_{column}'] = df_lr[column].isna().astype(int)\n",
      "/tmp/ipykernel_765707/1622902478.py:2: PerformanceWarning: DataFrame is highly fragmented.  This is usually the result of calling `frame.insert` many times, which has poor performance.  Consider joining all columns at once using pd.concat(axis=1) instead. To get a de-fragmented frame, use `newframe = frame.copy()`\n",
      "  df_lr[f'missing_indicator_{column}'] = df_lr[column].isna().astype(int)\n",
      "/tmp/ipykernel_765707/1622902478.py:2: PerformanceWarning: DataFrame is highly fragmented.  This is usually the result of calling `frame.insert` many times, which has poor performance.  Consider joining all columns at once using pd.concat(axis=1) instead. To get a de-fragmented frame, use `newframe = frame.copy()`\n",
      "  df_lr[f'missing_indicator_{column}'] = df_lr[column].isna().astype(int)\n",
      "/tmp/ipykernel_765707/1622902478.py:2: PerformanceWarning: DataFrame is highly fragmented.  This is usually the result of calling `frame.insert` many times, which has poor performance.  Consider joining all columns at once using pd.concat(axis=1) instead. To get a de-fragmented frame, use `newframe = frame.copy()`\n",
      "  df_lr[f'missing_indicator_{column}'] = df_lr[column].isna().astype(int)\n",
      "/tmp/ipykernel_765707/1622902478.py:2: PerformanceWarning: DataFrame is highly fragmented.  This is usually the result of calling `frame.insert` many times, which has poor performance.  Consider joining all columns at once using pd.concat(axis=1) instead. To get a de-fragmented frame, use `newframe = frame.copy()`\n",
      "  df_lr[f'missing_indicator_{column}'] = df_lr[column].isna().astype(int)\n",
      "/tmp/ipykernel_765707/1622902478.py:2: PerformanceWarning: DataFrame is highly fragmented.  This is usually the result of calling `frame.insert` many times, which has poor performance.  Consider joining all columns at once using pd.concat(axis=1) instead. To get a de-fragmented frame, use `newframe = frame.copy()`\n",
      "  df_lr[f'missing_indicator_{column}'] = df_lr[column].isna().astype(int)\n",
      "/tmp/ipykernel_765707/1622902478.py:2: PerformanceWarning: DataFrame is highly fragmented.  This is usually the result of calling `frame.insert` many times, which has poor performance.  Consider joining all columns at once using pd.concat(axis=1) instead. To get a de-fragmented frame, use `newframe = frame.copy()`\n",
      "  df_lr[f'missing_indicator_{column}'] = df_lr[column].isna().astype(int)\n",
      "/tmp/ipykernel_765707/1622902478.py:2: PerformanceWarning: DataFrame is highly fragmented.  This is usually the result of calling `frame.insert` many times, which has poor performance.  Consider joining all columns at once using pd.concat(axis=1) instead. To get a de-fragmented frame, use `newframe = frame.copy()`\n",
      "  df_lr[f'missing_indicator_{column}'] = df_lr[column].isna().astype(int)\n",
      "/tmp/ipykernel_765707/1622902478.py:2: PerformanceWarning: DataFrame is highly fragmented.  This is usually the result of calling `frame.insert` many times, which has poor performance.  Consider joining all columns at once using pd.concat(axis=1) instead. To get a de-fragmented frame, use `newframe = frame.copy()`\n",
      "  df_lr[f'missing_indicator_{column}'] = df_lr[column].isna().astype(int)\n",
      "/tmp/ipykernel_765707/1622902478.py:2: PerformanceWarning: DataFrame is highly fragmented.  This is usually the result of calling `frame.insert` many times, which has poor performance.  Consider joining all columns at once using pd.concat(axis=1) instead. To get a de-fragmented frame, use `newframe = frame.copy()`\n",
      "  df_lr[f'missing_indicator_{column}'] = df_lr[column].isna().astype(int)\n",
      "/tmp/ipykernel_765707/1622902478.py:2: PerformanceWarning: DataFrame is highly fragmented.  This is usually the result of calling `frame.insert` many times, which has poor performance.  Consider joining all columns at once using pd.concat(axis=1) instead. To get a de-fragmented frame, use `newframe = frame.copy()`\n",
      "  df_lr[f'missing_indicator_{column}'] = df_lr[column].isna().astype(int)\n",
      "/tmp/ipykernel_765707/1622902478.py:2: PerformanceWarning: DataFrame is highly fragmented.  This is usually the result of calling `frame.insert` many times, which has poor performance.  Consider joining all columns at once using pd.concat(axis=1) instead. To get a de-fragmented frame, use `newframe = frame.copy()`\n",
      "  df_lr[f'missing_indicator_{column}'] = df_lr[column].isna().astype(int)\n",
      "/tmp/ipykernel_765707/1622902478.py:2: PerformanceWarning: DataFrame is highly fragmented.  This is usually the result of calling `frame.insert` many times, which has poor performance.  Consider joining all columns at once using pd.concat(axis=1) instead. To get a de-fragmented frame, use `newframe = frame.copy()`\n",
      "  df_lr[f'missing_indicator_{column}'] = df_lr[column].isna().astype(int)\n",
      "/tmp/ipykernel_765707/1622902478.py:2: PerformanceWarning: DataFrame is highly fragmented.  This is usually the result of calling `frame.insert` many times, which has poor performance.  Consider joining all columns at once using pd.concat(axis=1) instead. To get a de-fragmented frame, use `newframe = frame.copy()`\n",
      "  df_lr[f'missing_indicator_{column}'] = df_lr[column].isna().astype(int)\n",
      "/tmp/ipykernel_765707/1622902478.py:2: PerformanceWarning: DataFrame is highly fragmented.  This is usually the result of calling `frame.insert` many times, which has poor performance.  Consider joining all columns at once using pd.concat(axis=1) instead. To get a de-fragmented frame, use `newframe = frame.copy()`\n",
      "  df_lr[f'missing_indicator_{column}'] = df_lr[column].isna().astype(int)\n",
      "/tmp/ipykernel_765707/1622902478.py:2: PerformanceWarning: DataFrame is highly fragmented.  This is usually the result of calling `frame.insert` many times, which has poor performance.  Consider joining all columns at once using pd.concat(axis=1) instead. To get a de-fragmented frame, use `newframe = frame.copy()`\n",
      "  df_lr[f'missing_indicator_{column}'] = df_lr[column].isna().astype(int)\n",
      "/tmp/ipykernel_765707/1622902478.py:2: PerformanceWarning: DataFrame is highly fragmented.  This is usually the result of calling `frame.insert` many times, which has poor performance.  Consider joining all columns at once using pd.concat(axis=1) instead. To get a de-fragmented frame, use `newframe = frame.copy()`\n",
      "  df_lr[f'missing_indicator_{column}'] = df_lr[column].isna().astype(int)\n",
      "/tmp/ipykernel_765707/1622902478.py:2: PerformanceWarning: DataFrame is highly fragmented.  This is usually the result of calling `frame.insert` many times, which has poor performance.  Consider joining all columns at once using pd.concat(axis=1) instead. To get a de-fragmented frame, use `newframe = frame.copy()`\n",
      "  df_lr[f'missing_indicator_{column}'] = df_lr[column].isna().astype(int)\n",
      "/tmp/ipykernel_765707/1622902478.py:2: PerformanceWarning: DataFrame is highly fragmented.  This is usually the result of calling `frame.insert` many times, which has poor performance.  Consider joining all columns at once using pd.concat(axis=1) instead. To get a de-fragmented frame, use `newframe = frame.copy()`\n",
      "  df_lr[f'missing_indicator_{column}'] = df_lr[column].isna().astype(int)\n",
      "/tmp/ipykernel_765707/1622902478.py:2: PerformanceWarning: DataFrame is highly fragmented.  This is usually the result of calling `frame.insert` many times, which has poor performance.  Consider joining all columns at once using pd.concat(axis=1) instead. To get a de-fragmented frame, use `newframe = frame.copy()`\n",
      "  df_lr[f'missing_indicator_{column}'] = df_lr[column].isna().astype(int)\n",
      "/tmp/ipykernel_765707/1622902478.py:2: PerformanceWarning: DataFrame is highly fragmented.  This is usually the result of calling `frame.insert` many times, which has poor performance.  Consider joining all columns at once using pd.concat(axis=1) instead. To get a de-fragmented frame, use `newframe = frame.copy()`\n",
      "  df_lr[f'missing_indicator_{column}'] = df_lr[column].isna().astype(int)\n",
      "/tmp/ipykernel_765707/1622902478.py:2: PerformanceWarning: DataFrame is highly fragmented.  This is usually the result of calling `frame.insert` many times, which has poor performance.  Consider joining all columns at once using pd.concat(axis=1) instead. To get a de-fragmented frame, use `newframe = frame.copy()`\n",
      "  df_lr[f'missing_indicator_{column}'] = df_lr[column].isna().astype(int)\n",
      "/tmp/ipykernel_765707/1622902478.py:2: PerformanceWarning: DataFrame is highly fragmented.  This is usually the result of calling `frame.insert` many times, which has poor performance.  Consider joining all columns at once using pd.concat(axis=1) instead. To get a de-fragmented frame, use `newframe = frame.copy()`\n",
      "  df_lr[f'missing_indicator_{column}'] = df_lr[column].isna().astype(int)\n",
      "/tmp/ipykernel_765707/1622902478.py:2: PerformanceWarning: DataFrame is highly fragmented.  This is usually the result of calling `frame.insert` many times, which has poor performance.  Consider joining all columns at once using pd.concat(axis=1) instead. To get a de-fragmented frame, use `newframe = frame.copy()`\n",
      "  df_lr[f'missing_indicator_{column}'] = df_lr[column].isna().astype(int)\n",
      "/tmp/ipykernel_765707/1622902478.py:2: PerformanceWarning: DataFrame is highly fragmented.  This is usually the result of calling `frame.insert` many times, which has poor performance.  Consider joining all columns at once using pd.concat(axis=1) instead. To get a de-fragmented frame, use `newframe = frame.copy()`\n",
      "  df_lr[f'missing_indicator_{column}'] = df_lr[column].isna().astype(int)\n",
      "/tmp/ipykernel_765707/1622902478.py:2: PerformanceWarning: DataFrame is highly fragmented.  This is usually the result of calling `frame.insert` many times, which has poor performance.  Consider joining all columns at once using pd.concat(axis=1) instead. To get a de-fragmented frame, use `newframe = frame.copy()`\n",
      "  df_lr[f'missing_indicator_{column}'] = df_lr[column].isna().astype(int)\n",
      "/tmp/ipykernel_765707/1622902478.py:2: PerformanceWarning: DataFrame is highly fragmented.  This is usually the result of calling `frame.insert` many times, which has poor performance.  Consider joining all columns at once using pd.concat(axis=1) instead. To get a de-fragmented frame, use `newframe = frame.copy()`\n",
      "  df_lr[f'missing_indicator_{column}'] = df_lr[column].isna().astype(int)\n",
      "/tmp/ipykernel_765707/1622902478.py:2: PerformanceWarning: DataFrame is highly fragmented.  This is usually the result of calling `frame.insert` many times, which has poor performance.  Consider joining all columns at once using pd.concat(axis=1) instead. To get a de-fragmented frame, use `newframe = frame.copy()`\n",
      "  df_lr[f'missing_indicator_{column}'] = df_lr[column].isna().astype(int)\n",
      "/tmp/ipykernel_765707/1622902478.py:2: PerformanceWarning: DataFrame is highly fragmented.  This is usually the result of calling `frame.insert` many times, which has poor performance.  Consider joining all columns at once using pd.concat(axis=1) instead. To get a de-fragmented frame, use `newframe = frame.copy()`\n",
      "  df_lr[f'missing_indicator_{column}'] = df_lr[column].isna().astype(int)\n",
      "/tmp/ipykernel_765707/1622902478.py:2: PerformanceWarning: DataFrame is highly fragmented.  This is usually the result of calling `frame.insert` many times, which has poor performance.  Consider joining all columns at once using pd.concat(axis=1) instead. To get a de-fragmented frame, use `newframe = frame.copy()`\n",
      "  df_lr[f'missing_indicator_{column}'] = df_lr[column].isna().astype(int)\n",
      "/tmp/ipykernel_765707/1622902478.py:2: PerformanceWarning: DataFrame is highly fragmented.  This is usually the result of calling `frame.insert` many times, which has poor performance.  Consider joining all columns at once using pd.concat(axis=1) instead. To get a de-fragmented frame, use `newframe = frame.copy()`\n",
      "  df_lr[f'missing_indicator_{column}'] = df_lr[column].isna().astype(int)\n",
      "/tmp/ipykernel_765707/1622902478.py:2: PerformanceWarning: DataFrame is highly fragmented.  This is usually the result of calling `frame.insert` many times, which has poor performance.  Consider joining all columns at once using pd.concat(axis=1) instead. To get a de-fragmented frame, use `newframe = frame.copy()`\n",
      "  df_lr[f'missing_indicator_{column}'] = df_lr[column].isna().astype(int)\n",
      "/tmp/ipykernel_765707/1622902478.py:2: PerformanceWarning: DataFrame is highly fragmented.  This is usually the result of calling `frame.insert` many times, which has poor performance.  Consider joining all columns at once using pd.concat(axis=1) instead. To get a de-fragmented frame, use `newframe = frame.copy()`\n",
      "  df_lr[f'missing_indicator_{column}'] = df_lr[column].isna().astype(int)\n",
      "/tmp/ipykernel_765707/1622902478.py:2: PerformanceWarning: DataFrame is highly fragmented.  This is usually the result of calling `frame.insert` many times, which has poor performance.  Consider joining all columns at once using pd.concat(axis=1) instead. To get a de-fragmented frame, use `newframe = frame.copy()`\n",
      "  df_lr[f'missing_indicator_{column}'] = df_lr[column].isna().astype(int)\n",
      "/tmp/ipykernel_765707/1622902478.py:2: PerformanceWarning: DataFrame is highly fragmented.  This is usually the result of calling `frame.insert` many times, which has poor performance.  Consider joining all columns at once using pd.concat(axis=1) instead. To get a de-fragmented frame, use `newframe = frame.copy()`\n",
      "  df_lr[f'missing_indicator_{column}'] = df_lr[column].isna().astype(int)\n",
      "/tmp/ipykernel_765707/1622902478.py:2: PerformanceWarning: DataFrame is highly fragmented.  This is usually the result of calling `frame.insert` many times, which has poor performance.  Consider joining all columns at once using pd.concat(axis=1) instead. To get a de-fragmented frame, use `newframe = frame.copy()`\n",
      "  df_lr[f'missing_indicator_{column}'] = df_lr[column].isna().astype(int)\n",
      "/tmp/ipykernel_765707/1622902478.py:2: PerformanceWarning: DataFrame is highly fragmented.  This is usually the result of calling `frame.insert` many times, which has poor performance.  Consider joining all columns at once using pd.concat(axis=1) instead. To get a de-fragmented frame, use `newframe = frame.copy()`\n",
      "  df_lr[f'missing_indicator_{column}'] = df_lr[column].isna().astype(int)\n",
      "/tmp/ipykernel_765707/1622902478.py:2: PerformanceWarning: DataFrame is highly fragmented.  This is usually the result of calling `frame.insert` many times, which has poor performance.  Consider joining all columns at once using pd.concat(axis=1) instead. To get a de-fragmented frame, use `newframe = frame.copy()`\n",
      "  df_lr[f'missing_indicator_{column}'] = df_lr[column].isna().astype(int)\n",
      "/tmp/ipykernel_765707/1622902478.py:2: PerformanceWarning: DataFrame is highly fragmented.  This is usually the result of calling `frame.insert` many times, which has poor performance.  Consider joining all columns at once using pd.concat(axis=1) instead. To get a de-fragmented frame, use `newframe = frame.copy()`\n",
      "  df_lr[f'missing_indicator_{column}'] = df_lr[column].isna().astype(int)\n",
      "/tmp/ipykernel_765707/1622902478.py:2: PerformanceWarning: DataFrame is highly fragmented.  This is usually the result of calling `frame.insert` many times, which has poor performance.  Consider joining all columns at once using pd.concat(axis=1) instead. To get a de-fragmented frame, use `newframe = frame.copy()`\n",
      "  df_lr[f'missing_indicator_{column}'] = df_lr[column].isna().astype(int)\n",
      "/tmp/ipykernel_765707/1622902478.py:2: PerformanceWarning: DataFrame is highly fragmented.  This is usually the result of calling `frame.insert` many times, which has poor performance.  Consider joining all columns at once using pd.concat(axis=1) instead. To get a de-fragmented frame, use `newframe = frame.copy()`\n",
      "  df_lr[f'missing_indicator_{column}'] = df_lr[column].isna().astype(int)\n",
      "/tmp/ipykernel_765707/1622902478.py:2: PerformanceWarning: DataFrame is highly fragmented.  This is usually the result of calling `frame.insert` many times, which has poor performance.  Consider joining all columns at once using pd.concat(axis=1) instead. To get a de-fragmented frame, use `newframe = frame.copy()`\n",
      "  df_lr[f'missing_indicator_{column}'] = df_lr[column].isna().astype(int)\n",
      "/tmp/ipykernel_765707/1622902478.py:2: PerformanceWarning: DataFrame is highly fragmented.  This is usually the result of calling `frame.insert` many times, which has poor performance.  Consider joining all columns at once using pd.concat(axis=1) instead. To get a de-fragmented frame, use `newframe = frame.copy()`\n",
      "  df_lr[f'missing_indicator_{column}'] = df_lr[column].isna().astype(int)\n",
      "/tmp/ipykernel_765707/1622902478.py:2: PerformanceWarning: DataFrame is highly fragmented.  This is usually the result of calling `frame.insert` many times, which has poor performance.  Consider joining all columns at once using pd.concat(axis=1) instead. To get a de-fragmented frame, use `newframe = frame.copy()`\n",
      "  df_lr[f'missing_indicator_{column}'] = df_lr[column].isna().astype(int)\n",
      "/tmp/ipykernel_765707/1622902478.py:2: PerformanceWarning: DataFrame is highly fragmented.  This is usually the result of calling `frame.insert` many times, which has poor performance.  Consider joining all columns at once using pd.concat(axis=1) instead. To get a de-fragmented frame, use `newframe = frame.copy()`\n",
      "  df_lr[f'missing_indicator_{column}'] = df_lr[column].isna().astype(int)\n",
      "/tmp/ipykernel_765707/1622902478.py:2: PerformanceWarning: DataFrame is highly fragmented.  This is usually the result of calling `frame.insert` many times, which has poor performance.  Consider joining all columns at once using pd.concat(axis=1) instead. To get a de-fragmented frame, use `newframe = frame.copy()`\n",
      "  df_lr[f'missing_indicator_{column}'] = df_lr[column].isna().astype(int)\n",
      "/tmp/ipykernel_765707/1622902478.py:2: PerformanceWarning: DataFrame is highly fragmented.  This is usually the result of calling `frame.insert` many times, which has poor performance.  Consider joining all columns at once using pd.concat(axis=1) instead. To get a de-fragmented frame, use `newframe = frame.copy()`\n",
      "  df_lr[f'missing_indicator_{column}'] = df_lr[column].isna().astype(int)\n",
      "/tmp/ipykernel_765707/1622902478.py:2: PerformanceWarning: DataFrame is highly fragmented.  This is usually the result of calling `frame.insert` many times, which has poor performance.  Consider joining all columns at once using pd.concat(axis=1) instead. To get a de-fragmented frame, use `newframe = frame.copy()`\n",
      "  df_lr[f'missing_indicator_{column}'] = df_lr[column].isna().astype(int)\n",
      "/tmp/ipykernel_765707/1622902478.py:2: PerformanceWarning: DataFrame is highly fragmented.  This is usually the result of calling `frame.insert` many times, which has poor performance.  Consider joining all columns at once using pd.concat(axis=1) instead. To get a de-fragmented frame, use `newframe = frame.copy()`\n",
      "  df_lr[f'missing_indicator_{column}'] = df_lr[column].isna().astype(int)\n",
      "/tmp/ipykernel_765707/1622902478.py:2: PerformanceWarning: DataFrame is highly fragmented.  This is usually the result of calling `frame.insert` many times, which has poor performance.  Consider joining all columns at once using pd.concat(axis=1) instead. To get a de-fragmented frame, use `newframe = frame.copy()`\n",
      "  df_lr[f'missing_indicator_{column}'] = df_lr[column].isna().astype(int)\n",
      "/tmp/ipykernel_765707/1622902478.py:2: PerformanceWarning: DataFrame is highly fragmented.  This is usually the result of calling `frame.insert` many times, which has poor performance.  Consider joining all columns at once using pd.concat(axis=1) instead. To get a de-fragmented frame, use `newframe = frame.copy()`\n",
      "  df_lr[f'missing_indicator_{column}'] = df_lr[column].isna().astype(int)\n",
      "/tmp/ipykernel_765707/1622902478.py:2: PerformanceWarning: DataFrame is highly fragmented.  This is usually the result of calling `frame.insert` many times, which has poor performance.  Consider joining all columns at once using pd.concat(axis=1) instead. To get a de-fragmented frame, use `newframe = frame.copy()`\n",
      "  df_lr[f'missing_indicator_{column}'] = df_lr[column].isna().astype(int)\n",
      "/tmp/ipykernel_765707/1622902478.py:2: PerformanceWarning: DataFrame is highly fragmented.  This is usually the result of calling `frame.insert` many times, which has poor performance.  Consider joining all columns at once using pd.concat(axis=1) instead. To get a de-fragmented frame, use `newframe = frame.copy()`\n",
      "  df_lr[f'missing_indicator_{column}'] = df_lr[column].isna().astype(int)\n",
      "/tmp/ipykernel_765707/1622902478.py:2: PerformanceWarning: DataFrame is highly fragmented.  This is usually the result of calling `frame.insert` many times, which has poor performance.  Consider joining all columns at once using pd.concat(axis=1) instead. To get a de-fragmented frame, use `newframe = frame.copy()`\n",
      "  df_lr[f'missing_indicator_{column}'] = df_lr[column].isna().astype(int)\n",
      "/tmp/ipykernel_765707/1622902478.py:2: PerformanceWarning: DataFrame is highly fragmented.  This is usually the result of calling `frame.insert` many times, which has poor performance.  Consider joining all columns at once using pd.concat(axis=1) instead. To get a de-fragmented frame, use `newframe = frame.copy()`\n",
      "  df_lr[f'missing_indicator_{column}'] = df_lr[column].isna().astype(int)\n",
      "/tmp/ipykernel_765707/1622902478.py:2: PerformanceWarning: DataFrame is highly fragmented.  This is usually the result of calling `frame.insert` many times, which has poor performance.  Consider joining all columns at once using pd.concat(axis=1) instead. To get a de-fragmented frame, use `newframe = frame.copy()`\n",
      "  df_lr[f'missing_indicator_{column}'] = df_lr[column].isna().astype(int)\n",
      "/tmp/ipykernel_765707/1622902478.py:2: PerformanceWarning: DataFrame is highly fragmented.  This is usually the result of calling `frame.insert` many times, which has poor performance.  Consider joining all columns at once using pd.concat(axis=1) instead. To get a de-fragmented frame, use `newframe = frame.copy()`\n",
      "  df_lr[f'missing_indicator_{column}'] = df_lr[column].isna().astype(int)\n",
      "/tmp/ipykernel_765707/1622902478.py:2: PerformanceWarning: DataFrame is highly fragmented.  This is usually the result of calling `frame.insert` many times, which has poor performance.  Consider joining all columns at once using pd.concat(axis=1) instead. To get a de-fragmented frame, use `newframe = frame.copy()`\n",
      "  df_lr[f'missing_indicator_{column}'] = df_lr[column].isna().astype(int)\n",
      "/tmp/ipykernel_765707/1622902478.py:2: PerformanceWarning: DataFrame is highly fragmented.  This is usually the result of calling `frame.insert` many times, which has poor performance.  Consider joining all columns at once using pd.concat(axis=1) instead. To get a de-fragmented frame, use `newframe = frame.copy()`\n",
      "  df_lr[f'missing_indicator_{column}'] = df_lr[column].isna().astype(int)\n",
      "/tmp/ipykernel_765707/1622902478.py:2: PerformanceWarning: DataFrame is highly fragmented.  This is usually the result of calling `frame.insert` many times, which has poor performance.  Consider joining all columns at once using pd.concat(axis=1) instead. To get a de-fragmented frame, use `newframe = frame.copy()`\n",
      "  df_lr[f'missing_indicator_{column}'] = df_lr[column].isna().astype(int)\n",
      "/tmp/ipykernel_765707/1622902478.py:2: PerformanceWarning: DataFrame is highly fragmented.  This is usually the result of calling `frame.insert` many times, which has poor performance.  Consider joining all columns at once using pd.concat(axis=1) instead. To get a de-fragmented frame, use `newframe = frame.copy()`\n",
      "  df_lr[f'missing_indicator_{column}'] = df_lr[column].isna().astype(int)\n",
      "/tmp/ipykernel_765707/1622902478.py:2: PerformanceWarning: DataFrame is highly fragmented.  This is usually the result of calling `frame.insert` many times, which has poor performance.  Consider joining all columns at once using pd.concat(axis=1) instead. To get a de-fragmented frame, use `newframe = frame.copy()`\n",
      "  df_lr[f'missing_indicator_{column}'] = df_lr[column].isna().astype(int)\n",
      "/tmp/ipykernel_765707/1622902478.py:2: PerformanceWarning: DataFrame is highly fragmented.  This is usually the result of calling `frame.insert` many times, which has poor performance.  Consider joining all columns at once using pd.concat(axis=1) instead. To get a de-fragmented frame, use `newframe = frame.copy()`\n",
      "  df_lr[f'missing_indicator_{column}'] = df_lr[column].isna().astype(int)\n",
      "/tmp/ipykernel_765707/1622902478.py:2: PerformanceWarning: DataFrame is highly fragmented.  This is usually the result of calling `frame.insert` many times, which has poor performance.  Consider joining all columns at once using pd.concat(axis=1) instead. To get a de-fragmented frame, use `newframe = frame.copy()`\n",
      "  df_lr[f'missing_indicator_{column}'] = df_lr[column].isna().astype(int)\n",
      "/tmp/ipykernel_765707/1622902478.py:2: PerformanceWarning: DataFrame is highly fragmented.  This is usually the result of calling `frame.insert` many times, which has poor performance.  Consider joining all columns at once using pd.concat(axis=1) instead. To get a de-fragmented frame, use `newframe = frame.copy()`\n",
      "  df_lr[f'missing_indicator_{column}'] = df_lr[column].isna().astype(int)\n",
      "/tmp/ipykernel_765707/1622902478.py:2: PerformanceWarning: DataFrame is highly fragmented.  This is usually the result of calling `frame.insert` many times, which has poor performance.  Consider joining all columns at once using pd.concat(axis=1) instead. To get a de-fragmented frame, use `newframe = frame.copy()`\n",
      "  df_lr[f'missing_indicator_{column}'] = df_lr[column].isna().astype(int)\n",
      "/tmp/ipykernel_765707/1622902478.py:2: PerformanceWarning: DataFrame is highly fragmented.  This is usually the result of calling `frame.insert` many times, which has poor performance.  Consider joining all columns at once using pd.concat(axis=1) instead. To get a de-fragmented frame, use `newframe = frame.copy()`\n",
      "  df_lr[f'missing_indicator_{column}'] = df_lr[column].isna().astype(int)\n",
      "/tmp/ipykernel_765707/1622902478.py:2: PerformanceWarning: DataFrame is highly fragmented.  This is usually the result of calling `frame.insert` many times, which has poor performance.  Consider joining all columns at once using pd.concat(axis=1) instead. To get a de-fragmented frame, use `newframe = frame.copy()`\n",
      "  df_lr[f'missing_indicator_{column}'] = df_lr[column].isna().astype(int)\n",
      "/tmp/ipykernel_765707/1622902478.py:2: PerformanceWarning: DataFrame is highly fragmented.  This is usually the result of calling `frame.insert` many times, which has poor performance.  Consider joining all columns at once using pd.concat(axis=1) instead. To get a de-fragmented frame, use `newframe = frame.copy()`\n",
      "  df_lr[f'missing_indicator_{column}'] = df_lr[column].isna().astype(int)\n",
      "/tmp/ipykernel_765707/1622902478.py:2: PerformanceWarning: DataFrame is highly fragmented.  This is usually the result of calling `frame.insert` many times, which has poor performance.  Consider joining all columns at once using pd.concat(axis=1) instead. To get a de-fragmented frame, use `newframe = frame.copy()`\n",
      "  df_lr[f'missing_indicator_{column}'] = df_lr[column].isna().astype(int)\n",
      "/tmp/ipykernel_765707/1622902478.py:2: PerformanceWarning: DataFrame is highly fragmented.  This is usually the result of calling `frame.insert` many times, which has poor performance.  Consider joining all columns at once using pd.concat(axis=1) instead. To get a de-fragmented frame, use `newframe = frame.copy()`\n",
      "  df_lr[f'missing_indicator_{column}'] = df_lr[column].isna().astype(int)\n",
      "/tmp/ipykernel_765707/1622902478.py:2: PerformanceWarning: DataFrame is highly fragmented.  This is usually the result of calling `frame.insert` many times, which has poor performance.  Consider joining all columns at once using pd.concat(axis=1) instead. To get a de-fragmented frame, use `newframe = frame.copy()`\n",
      "  df_lr[f'missing_indicator_{column}'] = df_lr[column].isna().astype(int)\n",
      "/tmp/ipykernel_765707/1622902478.py:2: PerformanceWarning: DataFrame is highly fragmented.  This is usually the result of calling `frame.insert` many times, which has poor performance.  Consider joining all columns at once using pd.concat(axis=1) instead. To get a de-fragmented frame, use `newframe = frame.copy()`\n",
      "  df_lr[f'missing_indicator_{column}'] = df_lr[column].isna().astype(int)\n",
      "/tmp/ipykernel_765707/1622902478.py:2: PerformanceWarning: DataFrame is highly fragmented.  This is usually the result of calling `frame.insert` many times, which has poor performance.  Consider joining all columns at once using pd.concat(axis=1) instead. To get a de-fragmented frame, use `newframe = frame.copy()`\n",
      "  df_lr[f'missing_indicator_{column}'] = df_lr[column].isna().astype(int)\n",
      "/tmp/ipykernel_765707/1622902478.py:2: PerformanceWarning: DataFrame is highly fragmented.  This is usually the result of calling `frame.insert` many times, which has poor performance.  Consider joining all columns at once using pd.concat(axis=1) instead. To get a de-fragmented frame, use `newframe = frame.copy()`\n",
      "  df_lr[f'missing_indicator_{column}'] = df_lr[column].isna().astype(int)\n",
      "/tmp/ipykernel_765707/1622902478.py:2: PerformanceWarning: DataFrame is highly fragmented.  This is usually the result of calling `frame.insert` many times, which has poor performance.  Consider joining all columns at once using pd.concat(axis=1) instead. To get a de-fragmented frame, use `newframe = frame.copy()`\n",
      "  df_lr[f'missing_indicator_{column}'] = df_lr[column].isna().astype(int)\n",
      "/tmp/ipykernel_765707/1622902478.py:2: PerformanceWarning: DataFrame is highly fragmented.  This is usually the result of calling `frame.insert` many times, which has poor performance.  Consider joining all columns at once using pd.concat(axis=1) instead. To get a de-fragmented frame, use `newframe = frame.copy()`\n",
      "  df_lr[f'missing_indicator_{column}'] = df_lr[column].isna().astype(int)\n",
      "/tmp/ipykernel_765707/1622902478.py:2: PerformanceWarning: DataFrame is highly fragmented.  This is usually the result of calling `frame.insert` many times, which has poor performance.  Consider joining all columns at once using pd.concat(axis=1) instead. To get a de-fragmented frame, use `newframe = frame.copy()`\n",
      "  df_lr[f'missing_indicator_{column}'] = df_lr[column].isna().astype(int)\n",
      "/tmp/ipykernel_765707/1622902478.py:2: PerformanceWarning: DataFrame is highly fragmented.  This is usually the result of calling `frame.insert` many times, which has poor performance.  Consider joining all columns at once using pd.concat(axis=1) instead. To get a de-fragmented frame, use `newframe = frame.copy()`\n",
      "  df_lr[f'missing_indicator_{column}'] = df_lr[column].isna().astype(int)\n",
      "/tmp/ipykernel_765707/1622902478.py:2: PerformanceWarning: DataFrame is highly fragmented.  This is usually the result of calling `frame.insert` many times, which has poor performance.  Consider joining all columns at once using pd.concat(axis=1) instead. To get a de-fragmented frame, use `newframe = frame.copy()`\n",
      "  df_lr[f'missing_indicator_{column}'] = df_lr[column].isna().astype(int)\n",
      "/tmp/ipykernel_765707/1622902478.py:2: PerformanceWarning: DataFrame is highly fragmented.  This is usually the result of calling `frame.insert` many times, which has poor performance.  Consider joining all columns at once using pd.concat(axis=1) instead. To get a de-fragmented frame, use `newframe = frame.copy()`\n",
      "  df_lr[f'missing_indicator_{column}'] = df_lr[column].isna().astype(int)\n",
      "/tmp/ipykernel_765707/1622902478.py:2: PerformanceWarning: DataFrame is highly fragmented.  This is usually the result of calling `frame.insert` many times, which has poor performance.  Consider joining all columns at once using pd.concat(axis=1) instead. To get a de-fragmented frame, use `newframe = frame.copy()`\n",
      "  df_lr[f'missing_indicator_{column}'] = df_lr[column].isna().astype(int)\n",
      "/tmp/ipykernel_765707/1622902478.py:2: PerformanceWarning: DataFrame is highly fragmented.  This is usually the result of calling `frame.insert` many times, which has poor performance.  Consider joining all columns at once using pd.concat(axis=1) instead. To get a de-fragmented frame, use `newframe = frame.copy()`\n",
      "  df_lr[f'missing_indicator_{column}'] = df_lr[column].isna().astype(int)\n",
      "/tmp/ipykernel_765707/1622902478.py:2: PerformanceWarning: DataFrame is highly fragmented.  This is usually the result of calling `frame.insert` many times, which has poor performance.  Consider joining all columns at once using pd.concat(axis=1) instead. To get a de-fragmented frame, use `newframe = frame.copy()`\n",
      "  df_lr[f'missing_indicator_{column}'] = df_lr[column].isna().astype(int)\n",
      "/tmp/ipykernel_765707/1622902478.py:2: PerformanceWarning: DataFrame is highly fragmented.  This is usually the result of calling `frame.insert` many times, which has poor performance.  Consider joining all columns at once using pd.concat(axis=1) instead. To get a de-fragmented frame, use `newframe = frame.copy()`\n",
      "  df_lr[f'missing_indicator_{column}'] = df_lr[column].isna().astype(int)\n",
      "/tmp/ipykernel_765707/1622902478.py:2: PerformanceWarning: DataFrame is highly fragmented.  This is usually the result of calling `frame.insert` many times, which has poor performance.  Consider joining all columns at once using pd.concat(axis=1) instead. To get a de-fragmented frame, use `newframe = frame.copy()`\n",
      "  df_lr[f'missing_indicator_{column}'] = df_lr[column].isna().astype(int)\n",
      "/tmp/ipykernel_765707/1622902478.py:2: PerformanceWarning: DataFrame is highly fragmented.  This is usually the result of calling `frame.insert` many times, which has poor performance.  Consider joining all columns at once using pd.concat(axis=1) instead. To get a de-fragmented frame, use `newframe = frame.copy()`\n",
      "  df_lr[f'missing_indicator_{column}'] = df_lr[column].isna().astype(int)\n",
      "/tmp/ipykernel_765707/1622902478.py:2: PerformanceWarning: DataFrame is highly fragmented.  This is usually the result of calling `frame.insert` many times, which has poor performance.  Consider joining all columns at once using pd.concat(axis=1) instead. To get a de-fragmented frame, use `newframe = frame.copy()`\n",
      "  df_lr[f'missing_indicator_{column}'] = df_lr[column].isna().astype(int)\n",
      "/tmp/ipykernel_765707/1622902478.py:2: PerformanceWarning: DataFrame is highly fragmented.  This is usually the result of calling `frame.insert` many times, which has poor performance.  Consider joining all columns at once using pd.concat(axis=1) instead. To get a de-fragmented frame, use `newframe = frame.copy()`\n",
      "  df_lr[f'missing_indicator_{column}'] = df_lr[column].isna().astype(int)\n",
      "/tmp/ipykernel_765707/1622902478.py:2: PerformanceWarning: DataFrame is highly fragmented.  This is usually the result of calling `frame.insert` many times, which has poor performance.  Consider joining all columns at once using pd.concat(axis=1) instead. To get a de-fragmented frame, use `newframe = frame.copy()`\n",
      "  df_lr[f'missing_indicator_{column}'] = df_lr[column].isna().astype(int)\n",
      "/tmp/ipykernel_765707/1622902478.py:2: PerformanceWarning: DataFrame is highly fragmented.  This is usually the result of calling `frame.insert` many times, which has poor performance.  Consider joining all columns at once using pd.concat(axis=1) instead. To get a de-fragmented frame, use `newframe = frame.copy()`\n",
      "  df_lr[f'missing_indicator_{column}'] = df_lr[column].isna().astype(int)\n",
      "/tmp/ipykernel_765707/1622902478.py:2: PerformanceWarning: DataFrame is highly fragmented.  This is usually the result of calling `frame.insert` many times, which has poor performance.  Consider joining all columns at once using pd.concat(axis=1) instead. To get a de-fragmented frame, use `newframe = frame.copy()`\n",
      "  df_lr[f'missing_indicator_{column}'] = df_lr[column].isna().astype(int)\n",
      "/tmp/ipykernel_765707/1622902478.py:2: PerformanceWarning: DataFrame is highly fragmented.  This is usually the result of calling `frame.insert` many times, which has poor performance.  Consider joining all columns at once using pd.concat(axis=1) instead. To get a de-fragmented frame, use `newframe = frame.copy()`\n",
      "  df_lr[f'missing_indicator_{column}'] = df_lr[column].isna().astype(int)\n",
      "/tmp/ipykernel_765707/1622902478.py:2: PerformanceWarning: DataFrame is highly fragmented.  This is usually the result of calling `frame.insert` many times, which has poor performance.  Consider joining all columns at once using pd.concat(axis=1) instead. To get a de-fragmented frame, use `newframe = frame.copy()`\n",
      "  df_lr[f'missing_indicator_{column}'] = df_lr[column].isna().astype(int)\n",
      "/tmp/ipykernel_765707/1622902478.py:2: PerformanceWarning: DataFrame is highly fragmented.  This is usually the result of calling `frame.insert` many times, which has poor performance.  Consider joining all columns at once using pd.concat(axis=1) instead. To get a de-fragmented frame, use `newframe = frame.copy()`\n",
      "  df_lr[f'missing_indicator_{column}'] = df_lr[column].isna().astype(int)\n",
      "/tmp/ipykernel_765707/1622902478.py:2: PerformanceWarning: DataFrame is highly fragmented.  This is usually the result of calling `frame.insert` many times, which has poor performance.  Consider joining all columns at once using pd.concat(axis=1) instead. To get a de-fragmented frame, use `newframe = frame.copy()`\n",
      "  df_lr[f'missing_indicator_{column}'] = df_lr[column].isna().astype(int)\n",
      "/tmp/ipykernel_765707/1622902478.py:2: PerformanceWarning: DataFrame is highly fragmented.  This is usually the result of calling `frame.insert` many times, which has poor performance.  Consider joining all columns at once using pd.concat(axis=1) instead. To get a de-fragmented frame, use `newframe = frame.copy()`\n",
      "  df_lr[f'missing_indicator_{column}'] = df_lr[column].isna().astype(int)\n",
      "/tmp/ipykernel_765707/1622902478.py:2: PerformanceWarning: DataFrame is highly fragmented.  This is usually the result of calling `frame.insert` many times, which has poor performance.  Consider joining all columns at once using pd.concat(axis=1) instead. To get a de-fragmented frame, use `newframe = frame.copy()`\n",
      "  df_lr[f'missing_indicator_{column}'] = df_lr[column].isna().astype(int)\n",
      "/tmp/ipykernel_765707/1622902478.py:2: PerformanceWarning: DataFrame is highly fragmented.  This is usually the result of calling `frame.insert` many times, which has poor performance.  Consider joining all columns at once using pd.concat(axis=1) instead. To get a de-fragmented frame, use `newframe = frame.copy()`\n",
      "  df_lr[f'missing_indicator_{column}'] = df_lr[column].isna().astype(int)\n",
      "/tmp/ipykernel_765707/1622902478.py:2: PerformanceWarning: DataFrame is highly fragmented.  This is usually the result of calling `frame.insert` many times, which has poor performance.  Consider joining all columns at once using pd.concat(axis=1) instead. To get a de-fragmented frame, use `newframe = frame.copy()`\n",
      "  df_lr[f'missing_indicator_{column}'] = df_lr[column].isna().astype(int)\n",
      "/tmp/ipykernel_765707/1622902478.py:2: PerformanceWarning: DataFrame is highly fragmented.  This is usually the result of calling `frame.insert` many times, which has poor performance.  Consider joining all columns at once using pd.concat(axis=1) instead. To get a de-fragmented frame, use `newframe = frame.copy()`\n",
      "  df_lr[f'missing_indicator_{column}'] = df_lr[column].isna().astype(int)\n",
      "/tmp/ipykernel_765707/1622902478.py:2: PerformanceWarning: DataFrame is highly fragmented.  This is usually the result of calling `frame.insert` many times, which has poor performance.  Consider joining all columns at once using pd.concat(axis=1) instead. To get a de-fragmented frame, use `newframe = frame.copy()`\n",
      "  df_lr[f'missing_indicator_{column}'] = df_lr[column].isna().astype(int)\n",
      "/tmp/ipykernel_765707/1622902478.py:2: PerformanceWarning: DataFrame is highly fragmented.  This is usually the result of calling `frame.insert` many times, which has poor performance.  Consider joining all columns at once using pd.concat(axis=1) instead. To get a de-fragmented frame, use `newframe = frame.copy()`\n",
      "  df_lr[f'missing_indicator_{column}'] = df_lr[column].isna().astype(int)\n",
      "/tmp/ipykernel_765707/1622902478.py:2: PerformanceWarning: DataFrame is highly fragmented.  This is usually the result of calling `frame.insert` many times, which has poor performance.  Consider joining all columns at once using pd.concat(axis=1) instead. To get a de-fragmented frame, use `newframe = frame.copy()`\n",
      "  df_lr[f'missing_indicator_{column}'] = df_lr[column].isna().astype(int)\n",
      "/tmp/ipykernel_765707/1622902478.py:2: PerformanceWarning: DataFrame is highly fragmented.  This is usually the result of calling `frame.insert` many times, which has poor performance.  Consider joining all columns at once using pd.concat(axis=1) instead. To get a de-fragmented frame, use `newframe = frame.copy()`\n",
      "  df_lr[f'missing_indicator_{column}'] = df_lr[column].isna().astype(int)\n",
      "/tmp/ipykernel_765707/1622902478.py:2: PerformanceWarning: DataFrame is highly fragmented.  This is usually the result of calling `frame.insert` many times, which has poor performance.  Consider joining all columns at once using pd.concat(axis=1) instead. To get a de-fragmented frame, use `newframe = frame.copy()`\n",
      "  df_lr[f'missing_indicator_{column}'] = df_lr[column].isna().astype(int)\n",
      "/tmp/ipykernel_765707/1622902478.py:2: PerformanceWarning: DataFrame is highly fragmented.  This is usually the result of calling `frame.insert` many times, which has poor performance.  Consider joining all columns at once using pd.concat(axis=1) instead. To get a de-fragmented frame, use `newframe = frame.copy()`\n",
      "  df_lr[f'missing_indicator_{column}'] = df_lr[column].isna().astype(int)\n",
      "/tmp/ipykernel_765707/1622902478.py:2: PerformanceWarning: DataFrame is highly fragmented.  This is usually the result of calling `frame.insert` many times, which has poor performance.  Consider joining all columns at once using pd.concat(axis=1) instead. To get a de-fragmented frame, use `newframe = frame.copy()`\n",
      "  df_lr[f'missing_indicator_{column}'] = df_lr[column].isna().astype(int)\n",
      "/tmp/ipykernel_765707/1622902478.py:2: PerformanceWarning: DataFrame is highly fragmented.  This is usually the result of calling `frame.insert` many times, which has poor performance.  Consider joining all columns at once using pd.concat(axis=1) instead. To get a de-fragmented frame, use `newframe = frame.copy()`\n",
      "  df_lr[f'missing_indicator_{column}'] = df_lr[column].isna().astype(int)\n",
      "/tmp/ipykernel_765707/1622902478.py:2: PerformanceWarning: DataFrame is highly fragmented.  This is usually the result of calling `frame.insert` many times, which has poor performance.  Consider joining all columns at once using pd.concat(axis=1) instead. To get a de-fragmented frame, use `newframe = frame.copy()`\n",
      "  df_lr[f'missing_indicator_{column}'] = df_lr[column].isna().astype(int)\n",
      "/tmp/ipykernel_765707/1622902478.py:2: PerformanceWarning: DataFrame is highly fragmented.  This is usually the result of calling `frame.insert` many times, which has poor performance.  Consider joining all columns at once using pd.concat(axis=1) instead. To get a de-fragmented frame, use `newframe = frame.copy()`\n",
      "  df_lr[f'missing_indicator_{column}'] = df_lr[column].isna().astype(int)\n",
      "/tmp/ipykernel_765707/1622902478.py:2: PerformanceWarning: DataFrame is highly fragmented.  This is usually the result of calling `frame.insert` many times, which has poor performance.  Consider joining all columns at once using pd.concat(axis=1) instead. To get a de-fragmented frame, use `newframe = frame.copy()`\n",
      "  df_lr[f'missing_indicator_{column}'] = df_lr[column].isna().astype(int)\n",
      "/tmp/ipykernel_765707/1622902478.py:2: PerformanceWarning: DataFrame is highly fragmented.  This is usually the result of calling `frame.insert` many times, which has poor performance.  Consider joining all columns at once using pd.concat(axis=1) instead. To get a de-fragmented frame, use `newframe = frame.copy()`\n",
      "  df_lr[f'missing_indicator_{column}'] = df_lr[column].isna().astype(int)\n",
      "/tmp/ipykernel_765707/1622902478.py:2: PerformanceWarning: DataFrame is highly fragmented.  This is usually the result of calling `frame.insert` many times, which has poor performance.  Consider joining all columns at once using pd.concat(axis=1) instead. To get a de-fragmented frame, use `newframe = frame.copy()`\n",
      "  df_lr[f'missing_indicator_{column}'] = df_lr[column].isna().astype(int)\n",
      "/tmp/ipykernel_765707/1622902478.py:2: PerformanceWarning: DataFrame is highly fragmented.  This is usually the result of calling `frame.insert` many times, which has poor performance.  Consider joining all columns at once using pd.concat(axis=1) instead. To get a de-fragmented frame, use `newframe = frame.copy()`\n",
      "  df_lr[f'missing_indicator_{column}'] = df_lr[column].isna().astype(int)\n",
      "/tmp/ipykernel_765707/1622902478.py:2: PerformanceWarning: DataFrame is highly fragmented.  This is usually the result of calling `frame.insert` many times, which has poor performance.  Consider joining all columns at once using pd.concat(axis=1) instead. To get a de-fragmented frame, use `newframe = frame.copy()`\n",
      "  df_lr[f'missing_indicator_{column}'] = df_lr[column].isna().astype(int)\n",
      "/tmp/ipykernel_765707/1622902478.py:2: PerformanceWarning: DataFrame is highly fragmented.  This is usually the result of calling `frame.insert` many times, which has poor performance.  Consider joining all columns at once using pd.concat(axis=1) instead. To get a de-fragmented frame, use `newframe = frame.copy()`\n",
      "  df_lr[f'missing_indicator_{column}'] = df_lr[column].isna().astype(int)\n",
      "/tmp/ipykernel_765707/1622902478.py:2: PerformanceWarning: DataFrame is highly fragmented.  This is usually the result of calling `frame.insert` many times, which has poor performance.  Consider joining all columns at once using pd.concat(axis=1) instead. To get a de-fragmented frame, use `newframe = frame.copy()`\n",
      "  df_lr[f'missing_indicator_{column}'] = df_lr[column].isna().astype(int)\n",
      "/tmp/ipykernel_765707/1622902478.py:2: PerformanceWarning: DataFrame is highly fragmented.  This is usually the result of calling `frame.insert` many times, which has poor performance.  Consider joining all columns at once using pd.concat(axis=1) instead. To get a de-fragmented frame, use `newframe = frame.copy()`\n",
      "  df_lr[f'missing_indicator_{column}'] = df_lr[column].isna().astype(int)\n",
      "/tmp/ipykernel_765707/1622902478.py:2: PerformanceWarning: DataFrame is highly fragmented.  This is usually the result of calling `frame.insert` many times, which has poor performance.  Consider joining all columns at once using pd.concat(axis=1) instead. To get a de-fragmented frame, use `newframe = frame.copy()`\n",
      "  df_lr[f'missing_indicator_{column}'] = df_lr[column].isna().astype(int)\n",
      "/tmp/ipykernel_765707/1622902478.py:2: PerformanceWarning: DataFrame is highly fragmented.  This is usually the result of calling `frame.insert` many times, which has poor performance.  Consider joining all columns at once using pd.concat(axis=1) instead. To get a de-fragmented frame, use `newframe = frame.copy()`\n",
      "  df_lr[f'missing_indicator_{column}'] = df_lr[column].isna().astype(int)\n",
      "/tmp/ipykernel_765707/1622902478.py:2: PerformanceWarning: DataFrame is highly fragmented.  This is usually the result of calling `frame.insert` many times, which has poor performance.  Consider joining all columns at once using pd.concat(axis=1) instead. To get a de-fragmented frame, use `newframe = frame.copy()`\n",
      "  df_lr[f'missing_indicator_{column}'] = df_lr[column].isna().astype(int)\n",
      "/tmp/ipykernel_765707/1622902478.py:2: PerformanceWarning: DataFrame is highly fragmented.  This is usually the result of calling `frame.insert` many times, which has poor performance.  Consider joining all columns at once using pd.concat(axis=1) instead. To get a de-fragmented frame, use `newframe = frame.copy()`\n",
      "  df_lr[f'missing_indicator_{column}'] = df_lr[column].isna().astype(int)\n",
      "/tmp/ipykernel_765707/1622902478.py:2: PerformanceWarning: DataFrame is highly fragmented.  This is usually the result of calling `frame.insert` many times, which has poor performance.  Consider joining all columns at once using pd.concat(axis=1) instead. To get a de-fragmented frame, use `newframe = frame.copy()`\n",
      "  df_lr[f'missing_indicator_{column}'] = df_lr[column].isna().astype(int)\n",
      "/tmp/ipykernel_765707/1622902478.py:2: PerformanceWarning: DataFrame is highly fragmented.  This is usually the result of calling `frame.insert` many times, which has poor performance.  Consider joining all columns at once using pd.concat(axis=1) instead. To get a de-fragmented frame, use `newframe = frame.copy()`\n",
      "  df_lr[f'missing_indicator_{column}'] = df_lr[column].isna().astype(int)\n",
      "/tmp/ipykernel_765707/1622902478.py:2: PerformanceWarning: DataFrame is highly fragmented.  This is usually the result of calling `frame.insert` many times, which has poor performance.  Consider joining all columns at once using pd.concat(axis=1) instead. To get a de-fragmented frame, use `newframe = frame.copy()`\n",
      "  df_lr[f'missing_indicator_{column}'] = df_lr[column].isna().astype(int)\n",
      "/tmp/ipykernel_765707/1622902478.py:2: PerformanceWarning: DataFrame is highly fragmented.  This is usually the result of calling `frame.insert` many times, which has poor performance.  Consider joining all columns at once using pd.concat(axis=1) instead. To get a de-fragmented frame, use `newframe = frame.copy()`\n",
      "  df_lr[f'missing_indicator_{column}'] = df_lr[column].isna().astype(int)\n",
      "/tmp/ipykernel_765707/1622902478.py:2: PerformanceWarning: DataFrame is highly fragmented.  This is usually the result of calling `frame.insert` many times, which has poor performance.  Consider joining all columns at once using pd.concat(axis=1) instead. To get a de-fragmented frame, use `newframe = frame.copy()`\n",
      "  df_lr[f'missing_indicator_{column}'] = df_lr[column].isna().astype(int)\n",
      "/tmp/ipykernel_765707/1622902478.py:2: PerformanceWarning: DataFrame is highly fragmented.  This is usually the result of calling `frame.insert` many times, which has poor performance.  Consider joining all columns at once using pd.concat(axis=1) instead. To get a de-fragmented frame, use `newframe = frame.copy()`\n",
      "  df_lr[f'missing_indicator_{column}'] = df_lr[column].isna().astype(int)\n",
      "/tmp/ipykernel_765707/1622902478.py:2: PerformanceWarning: DataFrame is highly fragmented.  This is usually the result of calling `frame.insert` many times, which has poor performance.  Consider joining all columns at once using pd.concat(axis=1) instead. To get a de-fragmented frame, use `newframe = frame.copy()`\n",
      "  df_lr[f'missing_indicator_{column}'] = df_lr[column].isna().astype(int)\n",
      "/tmp/ipykernel_765707/1622902478.py:2: PerformanceWarning: DataFrame is highly fragmented.  This is usually the result of calling `frame.insert` many times, which has poor performance.  Consider joining all columns at once using pd.concat(axis=1) instead. To get a de-fragmented frame, use `newframe = frame.copy()`\n",
      "  df_lr[f'missing_indicator_{column}'] = df_lr[column].isna().astype(int)\n",
      "/tmp/ipykernel_765707/1622902478.py:2: PerformanceWarning: DataFrame is highly fragmented.  This is usually the result of calling `frame.insert` many times, which has poor performance.  Consider joining all columns at once using pd.concat(axis=1) instead. To get a de-fragmented frame, use `newframe = frame.copy()`\n",
      "  df_lr[f'missing_indicator_{column}'] = df_lr[column].isna().astype(int)\n",
      "/tmp/ipykernel_765707/1622902478.py:2: PerformanceWarning: DataFrame is highly fragmented.  This is usually the result of calling `frame.insert` many times, which has poor performance.  Consider joining all columns at once using pd.concat(axis=1) instead. To get a de-fragmented frame, use `newframe = frame.copy()`\n",
      "  df_lr[f'missing_indicator_{column}'] = df_lr[column].isna().astype(int)\n",
      "/tmp/ipykernel_765707/1622902478.py:2: PerformanceWarning: DataFrame is highly fragmented.  This is usually the result of calling `frame.insert` many times, which has poor performance.  Consider joining all columns at once using pd.concat(axis=1) instead. To get a de-fragmented frame, use `newframe = frame.copy()`\n",
      "  df_lr[f'missing_indicator_{column}'] = df_lr[column].isna().astype(int)\n",
      "/tmp/ipykernel_765707/1622902478.py:2: PerformanceWarning: DataFrame is highly fragmented.  This is usually the result of calling `frame.insert` many times, which has poor performance.  Consider joining all columns at once using pd.concat(axis=1) instead. To get a de-fragmented frame, use `newframe = frame.copy()`\n",
      "  df_lr[f'missing_indicator_{column}'] = df_lr[column].isna().astype(int)\n",
      "/tmp/ipykernel_765707/1622902478.py:2: PerformanceWarning: DataFrame is highly fragmented.  This is usually the result of calling `frame.insert` many times, which has poor performance.  Consider joining all columns at once using pd.concat(axis=1) instead. To get a de-fragmented frame, use `newframe = frame.copy()`\n",
      "  df_lr[f'missing_indicator_{column}'] = df_lr[column].isna().astype(int)\n",
      "/tmp/ipykernel_765707/1622902478.py:2: PerformanceWarning: DataFrame is highly fragmented.  This is usually the result of calling `frame.insert` many times, which has poor performance.  Consider joining all columns at once using pd.concat(axis=1) instead. To get a de-fragmented frame, use `newframe = frame.copy()`\n",
      "  df_lr[f'missing_indicator_{column}'] = df_lr[column].isna().astype(int)\n",
      "/tmp/ipykernel_765707/1622902478.py:2: PerformanceWarning: DataFrame is highly fragmented.  This is usually the result of calling `frame.insert` many times, which has poor performance.  Consider joining all columns at once using pd.concat(axis=1) instead. To get a de-fragmented frame, use `newframe = frame.copy()`\n",
      "  df_lr[f'missing_indicator_{column}'] = df_lr[column].isna().astype(int)\n",
      "/tmp/ipykernel_765707/1622902478.py:2: PerformanceWarning: DataFrame is highly fragmented.  This is usually the result of calling `frame.insert` many times, which has poor performance.  Consider joining all columns at once using pd.concat(axis=1) instead. To get a de-fragmented frame, use `newframe = frame.copy()`\n",
      "  df_lr[f'missing_indicator_{column}'] = df_lr[column].isna().astype(int)\n",
      "/tmp/ipykernel_765707/1622902478.py:2: PerformanceWarning: DataFrame is highly fragmented.  This is usually the result of calling `frame.insert` many times, which has poor performance.  Consider joining all columns at once using pd.concat(axis=1) instead. To get a de-fragmented frame, use `newframe = frame.copy()`\n",
      "  df_lr[f'missing_indicator_{column}'] = df_lr[column].isna().astype(int)\n"
     ]
    }
   ],
   "source": [
    "for column in df_lr.columns:\n",
    "    df_lr[f'missing_indicator_{column}'] = df_lr[column].isna().astype(int)\n",
    "df_lr.fillna(0, inplace=True)"
   ]
  },
  {
   "cell_type": "code",
   "execution_count": 110,
   "id": "b5878c4d-a45e-4a59-b9aa-8ff51655e4f1",
   "metadata": {
    "tags": []
   },
   "outputs": [],
   "source": [
    "# Assuming df_total is prepared with necessary preprocessing\n",
    "y = df_lr['net_total'].astype(float)\n",
    "X = df_lr.drop('net_total', axis=1).astype(float)"
   ]
  },
  {
   "cell_type": "code",
   "execution_count": 111,
   "id": "57bf8620-e398-440a-a152-c259dd56f28e",
   "metadata": {
    "tags": []
   },
   "outputs": [
    {
     "name": "stdout",
     "output_type": "stream",
     "text": [
      "year                                             0\n",
      "county_fips                                      0\n",
      "AV0AA                                            0\n",
      "B78AA                                            0\n",
      "AV1AA                                            0\n",
      "                                                ..\n",
      "missing_indicator_county_name_WINCHESTER         0\n",
      "missing_indicator_county_name_WINCHESTER CITY    0\n",
      "missing_indicator_county_name_WISE               0\n",
      "missing_indicator_county_name_WYTHE              0\n",
      "missing_indicator_county_name_YORK               0\n",
      "Length: 659, dtype: int64\n",
      "0\n"
     ]
    }
   ],
   "source": [
    "print(X.isna().sum())\n",
    "print(y.isna().sum())"
   ]
  },
  {
   "cell_type": "code",
   "execution_count": 125,
   "id": "d810cc1c-a07e-4efc-a507-7f75e9ebbaaa",
   "metadata": {
    "tags": []
   },
   "outputs": [],
   "source": [
    "imputer = SimpleImputer(strategy='median')\n",
    "transformed_data = imputer.fit_transform(df_lr)\n",
    "df_lr = pd.DataFrame(transformed_data, columns=df_lr.columns)"
   ]
  },
  {
   "cell_type": "code",
   "execution_count": 128,
   "id": "4f4a17cd-f4f3-4d27-8f4e-8755696fb77b",
   "metadata": {
    "tags": []
   },
   "outputs": [
    {
     "name": "stdout",
     "output_type": "stream",
     "text": [
      "      0        1        2         3         4        5        6        7    \\\n",
      "0  2000.0  51001.0   1260.0   38305.0   38305.0  18590.0  19715.0  36680.0   \n",
      "1  2004.0  51001.0  -2208.0   38305.0   38305.0  18590.0  19715.0  36680.0   \n",
      "2  2000.0  51003.0   2036.0   79236.0   79236.0  38002.0  41234.0  73483.0   \n",
      "3  2004.0  51003.0    899.0   79236.0   79236.0  38002.0  41234.0  73483.0   \n",
      "4  2000.0  51510.0 -14590.0  128283.0  128283.0  61974.0  66309.0  95683.0   \n",
      "\n",
      "       8        9    ...  650  651  652  653  654  655  656  657  658  659  \n",
      "0   1625.0  22535.0  ...  0.0  0.0  0.0  0.0  0.0  0.0  0.0  0.0  0.0  0.0  \n",
      "1   1625.0  22535.0  ...  0.0  0.0  0.0  0.0  0.0  0.0  0.0  0.0  0.0  0.0  \n",
      "2   5753.0  39195.0  ...  0.0  0.0  0.0  0.0  0.0  0.0  0.0  0.0  0.0  0.0  \n",
      "3   5753.0  39195.0  ...  0.0  0.0  0.0  0.0  0.0  0.0  0.0  0.0  0.0  0.0  \n",
      "4  32600.0  27840.0  ...  0.0  0.0  0.0  0.0  0.0  0.0  0.0  0.0  0.0  0.0  \n",
      "\n",
      "[5 rows x 660 columns]\n"
     ]
    }
   ],
   "source": [
    "print(df_lr.head())"
   ]
  },
  {
   "cell_type": "code",
   "execution_count": 129,
   "id": "53870edd-cdb2-4e38-8473-a28245feeb35",
   "metadata": {
    "tags": []
   },
   "outputs": [],
   "source": [
    "# Assuming df_total is prepared with necessary preprocessing\n",
    "y = df_lr[2].astype(float)\n",
    "X = df_lr.drop(2, axis=1).astype(float)"
   ]
  },
  {
   "cell_type": "code",
   "execution_count": 132,
   "id": "2c1a7766-90bf-49c7-a490-f4cfbf22211d",
   "metadata": {
    "tags": []
   },
   "outputs": [
    {
     "name": "stdout",
     "output_type": "stream",
     "text": [
      "0      0\n",
      "1      0\n",
      "2      0\n",
      "3      0\n",
      "4      0\n",
      "      ..\n",
      "655    0\n",
      "656    0\n",
      "657    0\n",
      "658    0\n",
      "659    0\n",
      "Length: 660, dtype: int64\n"
     ]
    }
   ],
   "source": [
    "print(df_lr.isna().sum())"
   ]
  },
  {
   "cell_type": "code",
   "execution_count": 133,
   "id": "30fa11ae-fc68-4fdd-a479-b2e2bcbc2bf9",
   "metadata": {
    "tags": []
   },
   "outputs": [],
   "source": [
    "df_lr_cleaned = df_lr.dropna()"
   ]
  },
  {
   "cell_type": "code",
   "execution_count": 134,
   "id": "043edf02-5d10-4f6b-a308-392bd049453c",
   "metadata": {
    "tags": []
   },
   "outputs": [
    {
     "name": "stdout",
     "output_type": "stream",
     "text": [
      "0      0\n",
      "1      0\n",
      "2      0\n",
      "3      0\n",
      "4      0\n",
      "      ..\n",
      "655    0\n",
      "656    0\n",
      "657    0\n",
      "658    0\n",
      "659    0\n",
      "Length: 660, dtype: int64\n"
     ]
    }
   ],
   "source": [
    "print(df_lr.isna().sum())"
   ]
  },
  {
   "cell_type": "code",
   "execution_count": 135,
   "id": "625c47e0-359b-4311-aabf-4b330a509cf2",
   "metadata": {
    "tags": []
   },
   "outputs": [],
   "source": [
    "# training and testing sets\n",
    "X_train, X_test, y_train, y_test = train_test_split(X, y, test_size=0.2, random_state=42)"
   ]
  },
  {
   "cell_type": "code",
   "execution_count": 136,
   "id": "b5c6e95d-7781-482e-bd5a-603213c61d4f",
   "metadata": {
    "tags": []
   },
   "outputs": [],
   "source": [
    "# the lr model\n",
    "model = LinearRegression()"
   ]
  },
  {
   "cell_type": "code",
   "execution_count": 137,
   "id": "b48ce1db-083c-45d8-8c98-45e7a3d84576",
   "metadata": {
    "tags": []
   },
   "outputs": [
    {
     "data": {
      "text/html": [
       "<style>#sk-container-id-5 {color: black;background-color: white;}#sk-container-id-5 pre{padding: 0;}#sk-container-id-5 div.sk-toggleable {background-color: white;}#sk-container-id-5 label.sk-toggleable__label {cursor: pointer;display: block;width: 100%;margin-bottom: 0;padding: 0.3em;box-sizing: border-box;text-align: center;}#sk-container-id-5 label.sk-toggleable__label-arrow:before {content: \"▸\";float: left;margin-right: 0.25em;color: #696969;}#sk-container-id-5 label.sk-toggleable__label-arrow:hover:before {color: black;}#sk-container-id-5 div.sk-estimator:hover label.sk-toggleable__label-arrow:before {color: black;}#sk-container-id-5 div.sk-toggleable__content {max-height: 0;max-width: 0;overflow: hidden;text-align: left;background-color: #f0f8ff;}#sk-container-id-5 div.sk-toggleable__content pre {margin: 0.2em;color: black;border-radius: 0.25em;background-color: #f0f8ff;}#sk-container-id-5 input.sk-toggleable__control:checked~div.sk-toggleable__content {max-height: 200px;max-width: 100%;overflow: auto;}#sk-container-id-5 input.sk-toggleable__control:checked~label.sk-toggleable__label-arrow:before {content: \"▾\";}#sk-container-id-5 div.sk-estimator input.sk-toggleable__control:checked~label.sk-toggleable__label {background-color: #d4ebff;}#sk-container-id-5 div.sk-label input.sk-toggleable__control:checked~label.sk-toggleable__label {background-color: #d4ebff;}#sk-container-id-5 input.sk-hidden--visually {border: 0;clip: rect(1px 1px 1px 1px);clip: rect(1px, 1px, 1px, 1px);height: 1px;margin: -1px;overflow: hidden;padding: 0;position: absolute;width: 1px;}#sk-container-id-5 div.sk-estimator {font-family: monospace;background-color: #f0f8ff;border: 1px dotted black;border-radius: 0.25em;box-sizing: border-box;margin-bottom: 0.5em;}#sk-container-id-5 div.sk-estimator:hover {background-color: #d4ebff;}#sk-container-id-5 div.sk-parallel-item::after {content: \"\";width: 100%;border-bottom: 1px solid gray;flex-grow: 1;}#sk-container-id-5 div.sk-label:hover label.sk-toggleable__label {background-color: #d4ebff;}#sk-container-id-5 div.sk-serial::before {content: \"\";position: absolute;border-left: 1px solid gray;box-sizing: border-box;top: 0;bottom: 0;left: 50%;z-index: 0;}#sk-container-id-5 div.sk-serial {display: flex;flex-direction: column;align-items: center;background-color: white;padding-right: 0.2em;padding-left: 0.2em;position: relative;}#sk-container-id-5 div.sk-item {position: relative;z-index: 1;}#sk-container-id-5 div.sk-parallel {display: flex;align-items: stretch;justify-content: center;background-color: white;position: relative;}#sk-container-id-5 div.sk-item::before, #sk-container-id-5 div.sk-parallel-item::before {content: \"\";position: absolute;border-left: 1px solid gray;box-sizing: border-box;top: 0;bottom: 0;left: 50%;z-index: -1;}#sk-container-id-5 div.sk-parallel-item {display: flex;flex-direction: column;z-index: 1;position: relative;background-color: white;}#sk-container-id-5 div.sk-parallel-item:first-child::after {align-self: flex-end;width: 50%;}#sk-container-id-5 div.sk-parallel-item:last-child::after {align-self: flex-start;width: 50%;}#sk-container-id-5 div.sk-parallel-item:only-child::after {width: 0;}#sk-container-id-5 div.sk-dashed-wrapped {border: 1px dashed gray;margin: 0 0.4em 0.5em 0.4em;box-sizing: border-box;padding-bottom: 0.4em;background-color: white;}#sk-container-id-5 div.sk-label label {font-family: monospace;font-weight: bold;display: inline-block;line-height: 1.2em;}#sk-container-id-5 div.sk-label-container {text-align: center;}#sk-container-id-5 div.sk-container {/* jupyter's `normalize.less` sets `[hidden] { display: none; }` but bootstrap.min.css set `[hidden] { display: none !important; }` so we also need the `!important` here to be able to override the default hidden behavior on the sphinx rendered scikit-learn.org. See: https://github.com/scikit-learn/scikit-learn/issues/21755 */display: inline-block !important;position: relative;}#sk-container-id-5 div.sk-text-repr-fallback {display: none;}</style><div id=\"sk-container-id-5\" class=\"sk-top-container\"><div class=\"sk-text-repr-fallback\"><pre>LinearRegression()</pre><b>In a Jupyter environment, please rerun this cell to show the HTML representation or trust the notebook. <br />On GitHub, the HTML representation is unable to render, please try loading this page with nbviewer.org.</b></div><div class=\"sk-container\" hidden><div class=\"sk-item\"><div class=\"sk-estimator sk-toggleable\"><input class=\"sk-toggleable__control sk-hidden--visually\" id=\"sk-estimator-id-5\" type=\"checkbox\" checked><label for=\"sk-estimator-id-5\" class=\"sk-toggleable__label sk-toggleable__label-arrow\">LinearRegression</label><div class=\"sk-toggleable__content\"><pre>LinearRegression()</pre></div></div></div></div></div>"
      ],
      "text/plain": [
       "LinearRegression()"
      ]
     },
     "execution_count": 137,
     "metadata": {},
     "output_type": "execute_result"
    }
   ],
   "source": [
    "# fitting\n",
    "model.fit(X_train, y_train)"
   ]
  },
  {
   "cell_type": "code",
   "execution_count": 138,
   "id": "ebd694f9-1ae9-4231-8601-b4b96361c991",
   "metadata": {
    "tags": []
   },
   "outputs": [],
   "source": [
    "y_pred = model.predict(X_test)"
   ]
  },
  {
   "cell_type": "code",
   "execution_count": 146,
   "id": "c048f9cb-1614-44a3-a8f9-f6f0b2b48116",
   "metadata": {
    "tags": []
   },
   "outputs": [
    {
     "name": "stdout",
     "output_type": "stream",
     "text": [
      "Model Prediction:  [-9.20157753e+03 -6.63433851e+03  4.87681493e+04  1.47877278e+03\n",
      " -4.82259123e+02 -3.41526714e+03  1.40419756e+04 -2.96184245e+03\n",
      "  6.19283017e+03  8.44763486e+02 -1.43993109e+03 -3.91197806e+02\n",
      "  3.14383725e+03  1.86048053e+04 -5.72676723e+03 -2.83489050e+03\n",
      " -4.00750830e+03 -4.28221287e+03 -3.91445293e+03 -2.34343504e+03\n",
      "  4.86246774e+03 -5.81231679e+03 -7.37157753e+03  1.59726110e+03\n",
      "  3.01610532e+03  4.34847562e+02  4.74600810e+03 -1.41198517e+03\n",
      "  7.52985499e+02  5.49239991e+05  3.50695232e+03 -6.93896451e+03\n",
      "  2.71940575e+03  2.48810347e+03 -8.22031346e+02  3.25827601e+03\n",
      "  2.25258232e+03  1.25435073e+04  1.18448854e+03 -1.81987224e+03\n",
      " -1.06680133e+04 -3.45364913e+03 -7.41050705e+03 -3.59677858e+03\n",
      " -1.04549200e+04 -9.15043160e+03  3.55940953e+03 -1.05323466e+04\n",
      " -5.83900830e+03  2.91450810e+03 -2.30720539e+04 -2.66422279e+03\n",
      "  5.47415991e+05 -5.75264177e+02  5.69255509e+03  3.90181979e+03\n",
      "  4.96471144e+03  6.68486517e+02  5.11170638e+03  1.11537385e+02\n",
      "  3.00078442e+04 -5.82537167e+02  1.52846163e+03  2.81758442e+04\n",
      "  4.69361493e+04  8.05310058e+03  4.78301420e+03 -2.47703445e+03\n",
      " -1.32929356e+02 -9.90746439e+03 -5.57900705e+03  3.10987274e+02\n",
      "  3.57950446e+03 -3.48719298e+02  1.51886165e+03  3.30920496e+03\n",
      "  4.16937749e+03  2.72455428e+03  1.67473431e+03 -2.33668832e+04\n",
      "  3.64835580e+03  2.16725037e+03 -3.70987831e+03 -4.26153406e+03\n",
      " -1.81145672e+03 -8.47756040e+03  1.95808186e+03 -2.02955091e+02\n",
      "  6.49580100e+02  9.32313227e+02  1.11440243e+04 -9.02615451e+01\n",
      " -9.98503991e+04  1.11339039e+04 -3.89551723e+03  1.67545232e+03\n",
      "  8.09381851e+02  2.49059559e+03 -1.62164913e+03 -2.33895923e+03\n",
      " -7.87259785e+02  1.16082376e+04  1.12734963e+03 -1.68953346e+04\n",
      " -4.67481174e+03  1.08084952e+03  8.67413579e+03 -1.56690818e+03\n",
      "  1.77451754e+03  6.69346774e+03 -9.47761214e+03  9.91323119e+02\n",
      "  1.22099756e+04  4.36035569e+03  9.97898855e+03 -8.07596439e+03\n",
      "  2.04368053e+04  4.42795432e+01 -2.94621929e+02 -1.31137902e+03\n",
      "  4.80484003e+03 -3.96212384e+03  6.88285568e+02  1.48443544e+04\n",
      " -8.57706504e+03 -1.43867926e+03 -6.07981613e+03  4.40737362e+03\n",
      "  1.49117749e+03 -7.34359747e+03  9.31638767e+02 -1.44989009e+04\n",
      "  3.17320299e+04  2.61403724e+03]\n"
     ]
    }
   ],
   "source": [
    "print(\"Model Prediction: \" , y_pred)"
   ]
  },
  {
   "cell_type": "code",
   "execution_count": 144,
   "id": "01a96a82-7fb7-4114-929f-5a923e05384e",
   "metadata": {
    "tags": []
   },
   "outputs": [
    {
     "data": {
      "image/png": "[encoded data removed]",
      "text/plain": [
       "<Figure size 1000x600 with 1 Axes>"
      ]
     },
     "metadata": {},
     "output_type": "display_data"
    }
   ],
   "source": [
    "import matplotlib.pyplot as plt\n",
    "\n",
    "plt.figure(figsize=(10, 6))\n",
    "plt.scatter(y_test, y_pred, alpha=0.5)\n",
    "plt.plot([y.min(), y.max()], [y.min(), y.max()], 'k--', lw=4)  # Line for perfect predictions\n",
    "plt.xlabel('Actual')\n",
    "plt.ylabel('Predicted')\n",
    "plt.title('Actual vs. Predicted')\n",
    "plt.show()"
   ]
  },
  {
   "cell_type": "code",
   "execution_count": 139,
   "id": "1f60c0b1-b098-4843-91db-02d383203005",
   "metadata": {
    "tags": []
   },
   "outputs": [
    {
     "name": "stdout",
     "output_type": "stream",
     "text": [
      "Mean Squared Error: 4561411588.389202\n",
      "R^2 Score: -48.08582333834583\n"
     ]
    }
   ],
   "source": [
    "# evaluating model accuracy\n",
    "mse = mean_squared_error(y_test, y_pred)\n",
    "r2 = r2_score(y_test, y_pred)\n",
    "\n",
    "print(f\"Mean Squared Error: {mse}\")\n",
    "print(f\"R^2 Score: {r2}\")"
   ]
  },
  {
   "cell_type": "code",
   "execution_count": 145,
   "id": "e0dc3c5d-a93e-4fc6-b7a5-4b03c865bccf",
   "metadata": {
    "tags": []
   },
   "outputs": [
    {
     "data": {
      "image/png": "[encoded data removed]",
      "text/plain": [
       "<Figure size 1000x600 with 1 Axes>"
      ]
     },
     "metadata": {},
     "output_type": "display_data"
    }
   ],
   "source": [
    "residuals = y_test - y_pred\n",
    "plt.figure(figsize=(10, 6))\n",
    "plt.scatter(y_pred, residuals)\n",
    "plt.axhline(y=0, color='red', linestyle='--')\n",
    "plt.xlabel('Predicted')\n",
    "plt.ylabel('Residuals')\n",
    "plt.title('Residuals vs. Predicted')\n",
    "plt.show()"
   ]
  },
  {
   "cell_type": "code",
   "execution_count": 141,
   "id": "fa8ba13e-5db6-4a92-8029-e040303422c0",
   "metadata": {
    "tags": []
   },
   "outputs": [
    {
     "name": "stderr",
     "output_type": "stream",
     "text": [
      "/tmp/ipykernel_765707/650600978.py:5: FutureWarning: The default value of numeric_only in DataFrame.corr is deprecated. In a future version, it will default to False. Select only valid columns or specify the value of numeric_only to silence this warning.\n",
      "  corr = df.corr()\n",
      "/usr/local/lib/python3.10/dist-packages/seaborn/matrix.py:260: FutureWarning: Format strings passed to MaskedConstant are ignored, but in future may error or produce different behavior\n",
      "  annotation = (\"{:\" + self.fmt + \"}\").format(val)\n"
     ]
    },
    {
     "data": {
      "image/png": "[encoded data removed]",
      "text/plain": [
       "<Figure size 1000x800 with 2 Axes>"
      ]
     },
     "metadata": {},
     "output_type": "display_data"
    }
   ],
   "source": [
    "#correlation matrix\n",
    "import seaborn as sns\n",
    "import matplotlib.pyplot as plt\n",
    "\n",
    "corr = df.corr()\n",
    "\n",
    "# Create a heatmap\n",
    "plt.figure(figsize=(10, 8))\n",
    "sns.heatmap(corr, annot=True, fmt=\".2f\", cmap='coolwarm')\n",
    "plt.title('Correlation Matrix')\n",
    "plt.show()"
   ]
  },
  {
   "cell_type": "markdown",
   "id": "306376c6-fa9c-40fe-9b12-0fc0b3304ed5",
   "metadata": {},
   "source": [
    "Clearlt very poor results. This tells us we  have issues with data, where there are too many irrelevant or noisy features. There is also a lack of data scaling and normalization."
   ]
  }
 ],
 "metadata": {
  "kernelspec": {
   "display_name": "Tensorflow 2.13.0",
   "language": "python",
   "name": "tensorflow-2.13.0"
  },
  "language_info": {
   "codemirror_mode": {
    "name": "ipython",
    "version": 3
   },
   "file_extension": ".py",
   "mimetype": "text/x-python",
   "name": "python",
   "nbconvert_exporter": "python",
   "pygments_lexer": "ipython3",
   "version": "3.10.12"
  }
 },
 "nbformat": 4,
 "nbformat_minor": 5
}
