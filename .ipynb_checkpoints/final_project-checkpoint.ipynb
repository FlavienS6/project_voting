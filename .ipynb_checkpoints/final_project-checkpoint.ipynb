{
 "cells": [
  {
   "cell_type": "code",
   "execution_count": 1,
   "id": "7054bcfb-47c6-46ee-9a44-f1d31165bb68",
   "metadata": {
    "tags": []
   },
   "outputs": [
    {
     "name": "stdout",
     "output_type": "stream",
     "text": [
      "   Unnamed: 0  year     state state_po county_name  county_fips        office  \\\n",
      "0       11161  2000  VIRGINIA       VA    ACCOMACK        51001  US PRESIDENT   \n",
      "1       11162  2000  VIRGINIA       VA    ACCOMACK        51001  US PRESIDENT   \n",
      "2       11163  2000  VIRGINIA       VA    ACCOMACK        51001  US PRESIDENT   \n",
      "3       11164  2000  VIRGINIA       VA    ACCOMACK        51001  US PRESIDENT   \n",
      "4       11165  2000  VIRGINIA       VA   ALBEMARLE        51003  US PRESIDENT   \n",
      "\n",
      "        candidate       party  candidatevotes  totalvotes   version   mode  \n",
      "0         AL GORE    DEMOCRAT            5092       11925  20220315  TOTAL  \n",
      "1  GEORGE W. BUSH  REPUBLICAN            6352       11925  20220315  TOTAL  \n",
      "2     RALPH NADER       GREEN             220       11925  20220315  TOTAL  \n",
      "3           OTHER       OTHER             261       11925  20220315  TOTAL  \n",
      "4         AL GORE    DEMOCRAT           16255       36846  20220315  TOTAL  \n",
      "Unnamed: 0        0\n",
      "year              0\n",
      "state             0\n",
      "state_po          0\n",
      "county_name       0\n",
      "county_fips       0\n",
      "office            0\n",
      "candidate         0\n",
      "party             0\n",
      "candidatevotes    0\n",
      "totalvotes        0\n",
      "version           0\n",
      "mode              0\n",
      "dtype: int64\n"
     ]
    }
   ],
   "source": [
    "import numpy as np\n",
    "import pandas as pd\n",
    "\n",
    "df = pd.read_csv(\"data/voting_VA.csv\")\n",
    "\n",
    "print(df.head())\n",
    "print(df.isnull().sum())"
   ]
  },
  {
   "cell_type": "code",
   "execution_count": 2,
   "id": "a20499d6-3341-4658-a7b7-ff49bc3dfc47",
   "metadata": {
    "tags": []
   },
   "outputs": [
    {
     "name": "stdout",
     "output_type": "stream",
     "text": [
      "['VIRGINIA']\n",
      "['VA']\n",
      "['US PRESIDENT']\n",
      "['TOTAL' 'ABSENTEE' 'ELECTION DAY' 'PROVISIONAL']\n"
     ]
    }
   ],
   "source": [
    "# Remove the 'Unnamed: 0' column\n",
    "df.drop('Unnamed: 0', axis=1, inplace=True)\n",
    "\n",
    "# Check unique values for certain columns to ensure consistency\n",
    "print(df['state'].unique())  # Should only contain \"VIRGINIA\"\n",
    "print(df['state_po'].unique())  # Should only contain \"VA\"\n",
    "print(df['office'].unique())  # Should only contain \"US PRESIDENT\"\n",
    "print(df['mode'].unique())  # Check if any action is needed"
   ]
  },
  {
   "cell_type": "code",
   "execution_count": 3,
   "id": "874afb6e-c5ee-43a6-b1ee-6e93e0283868",
   "metadata": {
    "tags": []
   },
   "outputs": [
    {
     "data": {
      "text/plain": [
       "0    TOTAL\n",
       "1    TOTAL\n",
       "2    TOTAL\n",
       "3    TOTAL\n",
       "4    TOTAL\n",
       "Name: mode, dtype: object"
      ]
     },
     "execution_count": 3,
     "metadata": {},
     "output_type": "execute_result"
    }
   ],
   "source": [
    "df['mode'].head()"
   ]
  },
  {
   "cell_type": "code",
   "execution_count": 4,
   "id": "e1d67170-3ebd-4533-aac7-da775ef97aa0",
   "metadata": {
    "tags": []
   },
   "outputs": [
    {
     "data": {
      "text/plain": [
       "0    TOTAL\n",
       "1    TOTAL\n",
       "2    TOTAL\n",
       "3    TOTAL\n",
       "4    TOTAL\n",
       "Name: mode, dtype: category\n",
       "Categories (4, object): ['ABSENTEE', 'ELECTION DAY', 'PROVISIONAL', 'TOTAL']"
      ]
     },
     "execution_count": 4,
     "metadata": {},
     "output_type": "execute_result"
    }
   ],
   "source": [
    "# If we're interested in overall voting results without differentiating between the modes:\n",
    "# df_total = df[df['mode'] == 'TOTAL']\n",
    "# df_total.to_csv(\"data/clean_total_voting_VA.csv\", index=False) \n",
    "\n",
    "# Otherwise, we can keep all of the modes of voting and use them as features\n",
    "# in our models\n",
    "df['mode'] = df['mode'].astype('category')\n",
    "df['mode'].head()"
   ]
  },
  {
   "cell_type": "code",
   "execution_count": 5,
   "id": "99ff999a-78c2-45d6-91ed-41206bb48c30",
   "metadata": {
    "tags": []
   },
   "outputs": [
    {
     "data": {
      "text/html": [
       "<div>\n",
       "<style scoped>\n",
       "    .dataframe tbody tr th:only-of-type {\n",
       "        vertical-align: middle;\n",
       "    }\n",
       "\n",
       "    .dataframe tbody tr th {\n",
       "        vertical-align: top;\n",
       "    }\n",
       "\n",
       "    .dataframe thead th {\n",
       "        text-align: right;\n",
       "    }\n",
       "</style>\n",
       "<table border=\"1\" class=\"dataframe\">\n",
       "  <thead>\n",
       "    <tr style=\"text-align: right;\">\n",
       "      <th></th>\n",
       "      <th>year</th>\n",
       "      <th>county_name</th>\n",
       "      <th>county_fips</th>\n",
       "      <th>candidate</th>\n",
       "      <th>party</th>\n",
       "      <th>candidatevotes</th>\n",
       "      <th>totalvotes</th>\n",
       "    </tr>\n",
       "  </thead>\n",
       "  <tbody>\n",
       "    <tr>\n",
       "      <th>0</th>\n",
       "      <td>2000</td>\n",
       "      <td>ACCOMACK</td>\n",
       "      <td>51001</td>\n",
       "      <td>AL GORE</td>\n",
       "      <td>DEMOCRAT</td>\n",
       "      <td>5092</td>\n",
       "      <td>11925</td>\n",
       "    </tr>\n",
       "    <tr>\n",
       "      <th>1</th>\n",
       "      <td>2000</td>\n",
       "      <td>ACCOMACK</td>\n",
       "      <td>51001</td>\n",
       "      <td>GEORGE W. BUSH</td>\n",
       "      <td>REPUBLICAN</td>\n",
       "      <td>6352</td>\n",
       "      <td>11925</td>\n",
       "    </tr>\n",
       "    <tr>\n",
       "      <th>2</th>\n",
       "      <td>2000</td>\n",
       "      <td>ACCOMACK</td>\n",
       "      <td>51001</td>\n",
       "      <td>OTHER</td>\n",
       "      <td>OTHER</td>\n",
       "      <td>261</td>\n",
       "      <td>11925</td>\n",
       "    </tr>\n",
       "    <tr>\n",
       "      <th>3</th>\n",
       "      <td>2000</td>\n",
       "      <td>ACCOMACK</td>\n",
       "      <td>51001</td>\n",
       "      <td>RALPH NADER</td>\n",
       "      <td>GREEN</td>\n",
       "      <td>220</td>\n",
       "      <td>11925</td>\n",
       "    </tr>\n",
       "    <tr>\n",
       "      <th>4</th>\n",
       "      <td>2000</td>\n",
       "      <td>ALBEMARLE</td>\n",
       "      <td>51003</td>\n",
       "      <td>AL GORE</td>\n",
       "      <td>DEMOCRAT</td>\n",
       "      <td>16255</td>\n",
       "      <td>36846</td>\n",
       "    </tr>\n",
       "  </tbody>\n",
       "</table>\n",
       "</div>"
      ],
      "text/plain": [
       "   year county_name  county_fips       candidate       party  candidatevotes  \\\n",
       "0  2000    ACCOMACK        51001         AL GORE    DEMOCRAT            5092   \n",
       "1  2000    ACCOMACK        51001  GEORGE W. BUSH  REPUBLICAN            6352   \n",
       "2  2000    ACCOMACK        51001           OTHER       OTHER             261   \n",
       "3  2000    ACCOMACK        51001     RALPH NADER       GREEN             220   \n",
       "4  2000   ALBEMARLE        51003         AL GORE    DEMOCRAT           16255   \n",
       "\n",
       "   totalvotes  \n",
       "0       11925  \n",
       "1       11925  \n",
       "2       11925  \n",
       "3       11925  \n",
       "4       36846  "
      ]
     },
     "execution_count": 5,
     "metadata": {},
     "output_type": "execute_result"
    }
   ],
   "source": [
    "# Provides a dataframe where the modes aggregates all individual records across different voting modes \n",
    "# into a single record per candidate per county per election year. \n",
    "\n",
    "df_aggregated = df.groupby(['year', 'county_name', 'county_fips', 'candidate', 'party']).agg({\n",
    "    'candidatevotes': 'sum',\n",
    "    'totalvotes': 'max'  # Assuming totalvotes is the same across all modes, otherwise sum might be needed\n",
    "}).reset_index()\n",
    "\n",
    "df_aggregated.head()"
   ]
  },
  {
   "cell_type": "code",
   "execution_count": 6,
   "id": "df1ee438-4ca1-4831-9bb3-9c4534dd87bc",
   "metadata": {
    "tags": []
   },
   "outputs": [
    {
     "name": "stdout",
     "output_type": "stream",
     "text": [
      "           County  Population2022   FIPS  District                   N1  \\\n",
      "0        Accomack           33191  51001         2       Northumberland   \n",
      "1       Albemarle          114534  51003         5  CharlottesvilleCity   \n",
      "2  AlexandriaCity          155525  51510         8              Fairfax   \n",
      "3       Alleghany           14835  51005         6                Craig   \n",
      "4          Amelia           13455  51007         5         PrinceEdward   \n",
      "\n",
      "           N2         N3             N4           N5        N6      N7  \\\n",
      "0   Lancaster  Middlesex        Mathews  Northampton       NaN     NaN   \n",
      "1      Nelson    Augusta     Rockingham       Greene    Orange  Louisa   \n",
      "2   Arlington        NaN            NaN          NaN       NaN     NaN   \n",
      "3        Bath  Botetourt  CovingtonCity   Rockbridge       NaN     NaN   \n",
      "4  Cumberland   Powhatan   Chesterfield    Dinwiddie  Nottoway     NaN   \n",
      "\n",
      "         N8          N9     N10  N11  N12  \n",
      "0       NaN         NaN     NaN  NaN  NaN  \n",
      "1  Fluvanna  Buckingham  Nelson  NaN  NaN  \n",
      "2       NaN         NaN     NaN  NaN  NaN  \n",
      "3       NaN         NaN     NaN  NaN  NaN  \n",
      "4       NaN         NaN     NaN  NaN  NaN  \n",
      "County              0\n",
      "Population2022      0\n",
      "FIPS                0\n",
      "District            0\n",
      "N1                  0\n",
      "N2                 14\n",
      "N3                 29\n",
      "N4                 34\n",
      "N5                 50\n",
      "N6                 74\n",
      "N7                100\n",
      "N8                116\n",
      "N9                123\n",
      "N10               129\n",
      "N11               132\n",
      "N12               132\n",
      "dtype: int64\n"
     ]
    }
   ],
   "source": [
    "# county_adjacencies.csv cleaning\n",
    "\n",
    "df2 = pd.read_csv(\"data/county_adjacencies.csv\")\n",
    "\n",
    "print(df2.head())\n",
    "print(df2.isnull().sum())"
   ]
  },
  {
   "cell_type": "code",
   "execution_count": 7,
   "id": "12b0d102-734c-4102-af95-9d5e4dffc1b9",
   "metadata": {
    "tags": []
   },
   "outputs": [
    {
     "name": "stdout",
     "output_type": "stream",
     "text": [
      "County            0\n",
      "Population2022    0\n",
      "FIPS              0\n",
      "District          0\n",
      "N1                0\n",
      "N2                0\n",
      "N3                0\n",
      "N4                0\n",
      "N5                0\n",
      "N6                0\n",
      "N7                0\n",
      "N8                0\n",
      "N9                0\n",
      "N10               0\n",
      "N11               0\n",
      "N12               0\n",
      "dtype: int64\n"
     ]
    }
   ],
   "source": [
    "# Lots of NaNs for the adjacent neighborhoods\n",
    "\n",
    "# Fill missing neighbor columns with \"None\"\n",
    "neighbor_columns = ['N2', 'N3', 'N4', 'N5', 'N6', 'N7', 'N8', 'N9', 'N10', 'N11', 'N12']\n",
    "df2[neighbor_columns] = df2[neighbor_columns].fillna(\"None\")\n",
    "\n",
    "print(df2.isnull().sum())"
   ]
  },
  {
   "cell_type": "code",
   "execution_count": 8,
   "id": "1e53c0fe-e081-48a7-b7ed-cc2bc7a0a7a9",
   "metadata": {
    "tags": []
   },
   "outputs": [],
   "source": [
    "# save this dataset as a csv\n",
    "# df2.to_csv(\"data/clean_county_adjacencies.csv\", index=False)"
   ]
  },
  {
   "cell_type": "code",
   "execution_count": 18,
   "id": "ed355f65-0893-44b9-923e-cf9093aca8df",
   "metadata": {
    "tags": []
   },
   "outputs": [
    {
     "name": "stderr",
     "output_type": "stream",
     "text": [
      "/tmp/ipykernel_283018/3592115686.py:4: DtypeWarning: Columns (3,4,6,7,8,9,10,11,12,13,14,15,16,17,18,19,20,21,22,23,24,25,26,27,28,29,30,31,32,33,34,35,36,37,38,39,40,41,42,43,44,45,46,47,48,49,50,51,52,53,54,55,56,57,58,59,60,61,62,63,64,65,66,67,68,69,70,71,72,73,74,75,76,77,78,79,80,81,82,83,84,85,86,87,88,89,90,91,92,93,94,95,96,97,98,99,100,101,102,103,104,105,106,107,108,109,110,111,112,113,114,115,116,117,118,119,120,121,122,123,124,125,126,127,128,129,130,131,132,133,134,135,136,137,138,139,140,141,142,143,144,145,146,147,148,149,150,151,152,153,154,155,156,157,158,159,160,161,162,163,164,165,166,167,168,169,170,171,172,173,174,175,176,177,178,179,180,181,182,183,184,185,186,187,188,189,190,191,192,193,194,195,196,197,198,199,200,201,202,203,204,205,206,207,208,209,210,211,212,213,214,215,216,217,218,219,220,221,222,223,224,225,226,227,228,229,230,231,232,233,234,235,236,237,238,239,240,241,242,243,244,245,246,247,248,249,250,251,252,253,254,255,256,257,258,259,260,261,262,263,264,265,266,267,268,269,270,271,272,273,274,275,276,277,278,279,280,281,282,283,284,285,286,287,288,289,290,291,292,293,294,295,296,297,298,299,300,301,302,303,304,305,306,307,308,309,310,311,312,313,314,315,316,317,318,319,320,321,322,323,324,325,326,327,328,329,330,331,332,333,334,335,336,337,338,339,340,341,342,343,344,345,346,347,348,349,350,351,352,353,354,355,356,357,358,359,360,361,362,363,364,365,366,367,368,369,370,371,372,373,374,375,376,377,378,379,380,381,382,383,384,385,386,387,388,389,390,391,392,393,394,395,396,397,398,399,400,401,402,403,404,405,406,407,408,409,410,411,412,413,414,415,416,417,418,419,420,421,422,423,424,425,426,427,428,429,430,431,432,433,434,435,436,437,438,439,440,441,442,443,444,445,446,447,448,449,450,451,452,453,454,455,456,457,458,459,460,461,462,463,464,465,466,467,468,469,470,471,472,473,474,475,476,477,478,479,480,481,482,483,484,485,486,487,488,489,490,491,492,493,494,495,496,497,498,499,500,501,502,503,504,505,506,507,508,509,510,511,512,513,514,515,516,517,518,519,520,521,522,523,524,525,526,527,528,529,530,531,532,533,534,535,536,537,538,539,540,541,542,543,544,545,546,547,548,549,550,551,552,553,554,555,556,557,558,559,560,561,562,563,564,565,566,567,568,569,570,571,572,573,574,575,576,577,578,579,580,581,582,583,584,585,586,587,588,589,590,591,592,593,594,595,596,597,598,599,600,601,602,603,604,605,606,607,608,609,610,611,612,613,614,615,616,617,618,619,620,621,622,623,624,625,626,627,628,629,630,631,632,633,634,635,636,637,638,639,640,641,642,643,644,645,646,647,648,649,650,651,652,653,654,655,656,657,658,659,660,661,662,663,664,665,666,667,668,669,670,671,672,673,674,675,676,677,678,679,680,681,682,683,684,685,686,687,688,689,690,691,692,693,694,695,696,697,698,699,700,701,702,703,704,705,706,707,708,709,710,711,712,713,714,715,716,717,718,719,720,721,722,723,724,725,726,727,728,729,730,731,732,733,734,735,736,737,738,739,740,741,742,743,744,745,746,747,748,749,750,751,752,753,754,755,756,757,758,759,760,761,762,763,764,765,766,767,768,769,770,771,772,773,774,775,776,777,778,779,780,781,782,783,784,785,786,787,788,789,790,791,792,793,794,795,796,797,798,799,800,801,802,803,804,805,806,807,808,809,810,811,812,813,814,815,816,817,818,819,820,821,822,823,824,825,826,827,828,829,830,831,832,833,834,835,836,837,838,839,840,841,842,843,844,845,846,847,848,849,850,851,852,853,854,855,856,857,858,859,860,861,862,863,864,865,866,867,868,869,870,871,872,873,874,875,876,877,878,879,880,881,882,883,884,885,886,887,888,889,890,891,892,893,894,895,896,897,898,899,900,901,902,903,904,905,906,907,908,909,910,911,912,913,914,915,916,917,918,919,920,921,922,923,924,925,926,927,928,929,930,931,932,933,934,935,936,937,938,939,940,941,942,943,944,945,946,947,948,949,950,951,952,953,954,955,956,957,958,959,960,961,962,963,964,965,966,967,968,969,970,971,972,973,974,975,976,977,978,979,980,981,982,983,984,985,986,987,988,989,990,991,992,993,994,995,996,997,998,999,1000,1001,1002,1003,1004,1005,1006,1007,1008,1009,1010,1011,1012,1013,1014,1015,1016,1017,1018,1019,1020,1021,1022,1023,1024,1025,1026,1027,1028,1029,1030,1031,1032,1033,1034,1035,1036,1037,1038,1039,1040,1041,1042,1043,1044,1045,1046,1047,1048,1049,1050,1051,1052,1053,1054,1055,1056,1057,1058,1059,1060,1061,1062,1063,1064,1065,1066,1067,1068,1069,1070,1071,1072,1073,1074,1075,1076,1077,1078,1079,1080,1081,1082,1083,1084,1085,1086,1087,1088,1089,1090,1091,1092,1093,1094,1095,1096,1097,1098,1099,1100,1101,1102,1103,1104,1105,1106,1107,1108,1109,1110,1111,1112,1113,1114,1115,1116,1117,1118,1119,1120,1121,1122,1123,1124,1125,1126,1127,1128,1129,1130,1131,1132,1133,1134,1135,1136,1137,1138,1139,1140,1141,1142,1143,1144,1145,1146,1147,1148,1149,1150,1151,1152,1153,1154,1155,1156,1157,1158,1159,1160,1161,1162,1163,1164,1165,1166,1167,1168,1169,1170,1171,1172,1173,1174,1175,1176,1177,1178,1179) have mixed types. Specify dtype option on import or set low_memory=False.\n",
      "  df_concatenated = pd.read_csv('data/county_data/0002_ts_nominal_county.csv')\n"
     ]
    },
    {
     "ename": "ValueError",
     "evalue": "invalid literal for int() with base 10: 'A125'",
     "output_type": "error",
     "traceback": [
      "\u001b[0;31m---------------------------------------------------------------------------\u001b[0m",
      "\u001b[0;31mValueError\u001b[0m                                Traceback (most recent call last)",
      "Cell \u001b[0;32mIn[18], line 10\u001b[0m\n\u001b[1;32m      7\u001b[0m year_columns \u001b[38;5;241m=\u001b[39m [col \u001b[38;5;28;01mfor\u001b[39;00m col \u001b[38;5;129;01min\u001b[39;00m df_concatenated\u001b[38;5;241m.\u001b[39mcolumns \u001b[38;5;28;01mif\u001b[39;00m col\u001b[38;5;241m.\u001b[39mstartswith((\u001b[38;5;124m'\u001b[39m\u001b[38;5;124mAV\u001b[39m\u001b[38;5;124m'\u001b[39m, \u001b[38;5;124m'\u001b[39m\u001b[38;5;124mB7\u001b[39m\u001b[38;5;124m'\u001b[39m, \u001b[38;5;124m'\u001b[39m\u001b[38;5;124mAT\u001b[39m\u001b[38;5;124m'\u001b[39m, \u001b[38;5;124m'\u001b[39m\u001b[38;5;124mAL\u001b[39m\u001b[38;5;124m'\u001b[39m, \u001b[38;5;124m'\u001b[39m\u001b[38;5;124mAK\u001b[39m\u001b[38;5;124m'\u001b[39m, \u001b[38;5;124m'\u001b[39m\u001b[38;5;124mAB\u001b[39m\u001b[38;5;124m'\u001b[39m, \u001b[38;5;124m'\u001b[39m\u001b[38;5;124mAJ\u001b[39m\u001b[38;5;124m'\u001b[39m, \u001b[38;5;124m'\u001b[39m\u001b[38;5;124mB6\u001b[39m\u001b[38;5;124m'\u001b[39m, \u001b[38;5;124m'\u001b[39m\u001b[38;5;124mB8\u001b[39m\u001b[38;5;124m'\u001b[39m, \u001b[38;5;124m'\u001b[39m\u001b[38;5;124mA6\u001b[39m\u001b[38;5;124m'\u001b[39m, \u001b[38;5;124m'\u001b[39m\u001b[38;5;124mBS\u001b[39m\u001b[38;5;124m'\u001b[39m))]\n\u001b[1;32m      9\u001b[0m \u001b[38;5;66;03m# Find the most recent year available in the year columns\u001b[39;00m\n\u001b[0;32m---> 10\u001b[0m most_recent_year \u001b[38;5;241m=\u001b[39m \u001b[38;5;28;43mmax\u001b[39;49m\u001b[43m(\u001b[49m\u001b[38;5;28;43mint\u001b[39;49m\u001b[43m(\u001b[49m\u001b[43mcol\u001b[49m\u001b[43m[\u001b[49m\u001b[38;5;241;43m-\u001b[39;49m\u001b[38;5;241;43m4\u001b[39;49m\u001b[43m:\u001b[49m\u001b[43m]\u001b[49m\u001b[43m)\u001b[49m\u001b[43m \u001b[49m\u001b[38;5;28;43;01mfor\u001b[39;49;00m\u001b[43m \u001b[49m\u001b[43mcol\u001b[49m\u001b[43m \u001b[49m\u001b[38;5;129;43;01min\u001b[39;49;00m\u001b[43m \u001b[49m\u001b[43myear_columns\u001b[49m\u001b[43m)\u001b[49m\n\u001b[1;32m     12\u001b[0m \u001b[38;5;66;03m# Initialize a list to store the updated rows\u001b[39;00m\n\u001b[1;32m     13\u001b[0m updated_rows \u001b[38;5;241m=\u001b[39m []\n",
      "Cell \u001b[0;32mIn[18], line 10\u001b[0m, in \u001b[0;36m<genexpr>\u001b[0;34m(.0)\u001b[0m\n\u001b[1;32m      7\u001b[0m year_columns \u001b[38;5;241m=\u001b[39m [col \u001b[38;5;28;01mfor\u001b[39;00m col \u001b[38;5;129;01min\u001b[39;00m df_concatenated\u001b[38;5;241m.\u001b[39mcolumns \u001b[38;5;28;01mif\u001b[39;00m col\u001b[38;5;241m.\u001b[39mstartswith((\u001b[38;5;124m'\u001b[39m\u001b[38;5;124mAV\u001b[39m\u001b[38;5;124m'\u001b[39m, \u001b[38;5;124m'\u001b[39m\u001b[38;5;124mB7\u001b[39m\u001b[38;5;124m'\u001b[39m, \u001b[38;5;124m'\u001b[39m\u001b[38;5;124mAT\u001b[39m\u001b[38;5;124m'\u001b[39m, \u001b[38;5;124m'\u001b[39m\u001b[38;5;124mAL\u001b[39m\u001b[38;5;124m'\u001b[39m, \u001b[38;5;124m'\u001b[39m\u001b[38;5;124mAK\u001b[39m\u001b[38;5;124m'\u001b[39m, \u001b[38;5;124m'\u001b[39m\u001b[38;5;124mAB\u001b[39m\u001b[38;5;124m'\u001b[39m, \u001b[38;5;124m'\u001b[39m\u001b[38;5;124mAJ\u001b[39m\u001b[38;5;124m'\u001b[39m, \u001b[38;5;124m'\u001b[39m\u001b[38;5;124mB6\u001b[39m\u001b[38;5;124m'\u001b[39m, \u001b[38;5;124m'\u001b[39m\u001b[38;5;124mB8\u001b[39m\u001b[38;5;124m'\u001b[39m, \u001b[38;5;124m'\u001b[39m\u001b[38;5;124mA6\u001b[39m\u001b[38;5;124m'\u001b[39m, \u001b[38;5;124m'\u001b[39m\u001b[38;5;124mBS\u001b[39m\u001b[38;5;124m'\u001b[39m))]\n\u001b[1;32m      9\u001b[0m \u001b[38;5;66;03m# Find the most recent year available in the year columns\u001b[39;00m\n\u001b[0;32m---> 10\u001b[0m most_recent_year \u001b[38;5;241m=\u001b[39m \u001b[38;5;28mmax\u001b[39m(\u001b[38;5;28;43mint\u001b[39;49m\u001b[43m(\u001b[49m\u001b[43mcol\u001b[49m\u001b[43m[\u001b[49m\u001b[38;5;241;43m-\u001b[39;49m\u001b[38;5;241;43m4\u001b[39;49m\u001b[43m:\u001b[49m\u001b[43m]\u001b[49m\u001b[43m)\u001b[49m \u001b[38;5;28;01mfor\u001b[39;00m col \u001b[38;5;129;01min\u001b[39;00m year_columns)\n\u001b[1;32m     12\u001b[0m \u001b[38;5;66;03m# Initialize a list to store the updated rows\u001b[39;00m\n\u001b[1;32m     13\u001b[0m updated_rows \u001b[38;5;241m=\u001b[39m []\n",
      "\u001b[0;31mValueError\u001b[0m: invalid literal for int() with base 10: 'A125'"
     ]
    }
   ],
   "source": [
    "import pandas as pd\n",
    "#This is attempt to use county data from the nominal csv file imported into the dataframe. Note that this is dependent on year and county, and is actually pretty hard to do. \n",
    "df_concatenated = pd.read_csv('data/county_data/0002_ts_nominal_county.csv')\n",
    "\n",
    "updated_rows = []\n",
    "\n",
    "for _, row in df_aggregated.iterrows():\n",
    "    county_name = row['county_name']\n",
    "    \n",
    "    county_row = df_concatenated.loc[df_concatenated['COUNTY'].contains(county_name)]\n",
    "    \n",
    "    if not county_row.empty:\n",
    "        recent_year_columns = [col for col in year_columns if str(most_recent_year) in col]\n",
    "        \n",
    "        county_data = county_row[recent_year_columns].iloc[0]\n",
    "        \n",
    "        updated_row = pd.concat([row, county_data])\n",
    "        updated_rows.append(updated_row)\n",
    "    else:\n",
    "        print(\"Not found\")\n",
    "        updated_rows.append(row)\n",
    "\n",
    "df_updated = pd.DataFrame(updated_rows)\n",
    "\n",
    "print(df_updated)"
   ]
  },
  {
   "cell_type": "code",
   "execution_count": 11,
   "id": "cfa372fe-8fd6-4372-8df3-755e316175c0",
   "metadata": {
    "tags": []
   },
   "outputs": [
    {
     "name": "stdout",
     "output_type": "stream",
     "text": [
      "year\n",
      "county_name\n",
      "county_fips\n",
      "candidate\n",
      "party\n",
      "candidatevotes\n",
      "totalvotes\n"
     ]
    }
   ],
   "source": [
    "#This is another attempt at getting info from csv files into the dataframe. \n",
    "csv_files = [\"project_voting/data/county_data/0002_ds176_20105_county_E.csv\", \"project_voting/data/county_data/0002_ds191_20125_county_E.csv\", \"project_voting/data/county_data/0002_ds191_20125_county_E.csv\", \"project_voting/data/county_data/0002_ds191_20125_county_E.csv\", \"project_voting/data/county_data/0002_ds239_20185_county_E.csv\", \"project_voting/data/county_data/0002_ds249_20205_county_E.csv \"]\n",
    "\n",
    "updated_rows = []\n",
    "\n",
    "for _, row in df_aggregated.iterrows():\n",
    "    year = row['year']\n",
    "    county_name = row['county_name']\n",
    "    if(year<\n",
    "    csv_file = next((file for file in csv_files if int(file.split('-')[0]) <= year <= int(file.split('-')[1])), None)\n",
    "    \n",
    "    if csv_file:\n",
    "        df_temp = pd.read_csv(csv_file)\n",
    "        \n",
    "        county_row = df_temp.loc[df_temp['county_name'] == county_name]\n",
    "        \n",
    "        if not county_row.empty:\n",
    "            updated_row = pd.concat([row, county_row.iloc[0]])\n",
    "            updated_rows.append(updated_row)\n",
    "        else:\n",
    "            updated_rows.append(row)\n",
    "    else:\n",
    "        updated_rows.append(row)\n",
    "\n",
    "df_updated = pd.DataFrame(updated_rows)\n",
    "\n",
    "print(df_updated)"
   ]
  },
  {
   "cell_type": "code",
   "execution_count": 10,
   "id": "d6e89535-d2ca-4c94-bbcf-99ae9629f8b3",
   "metadata": {
    "tags": []
   },
   "outputs": [],
   "source": []
  },
  {
   "cell_type": "code",
   "execution_count": null,
   "id": "d6a01bde-ca0b-43f2-83eb-c4387a9fe9c1",
   "metadata": {},
   "outputs": [],
   "source": []
  }
 ],
 "metadata": {
  "kernelspec": {
   "display_name": "Python 3 (ipykernel)",
   "language": "python",
   "name": "python3"
  },
  "language_info": {
   "codemirror_mode": {
    "name": "ipython",
    "version": 3
   },
   "file_extension": ".py",
   "mimetype": "text/x-python",
   "name": "python",
   "nbconvert_exporter": "python",
   "pygments_lexer": "ipython3",
   "version": "3.11.4"
  }
 },
 "nbformat": 4,
 "nbformat_minor": 5
}
